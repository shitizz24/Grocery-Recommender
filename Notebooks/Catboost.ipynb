{
 "cells": [
  {
   "cell_type": "code",
   "execution_count": null,
   "metadata": {
    "id": "DxW_aGrdu8So"
   },
   "outputs": [],
   "source": [
    "import numpy as np\n",
    "import pandas as pd\n",
    "import zipfile\n",
    "import gc\n",
    "import seaborn as sns\n",
    "import matplotlib.pyplot as plt\n",
    "gc.enable()"
   ]
  },
  {
   "cell_type": "code",
   "execution_count": null,
   "metadata": {
    "id": "k9c4J7XUu8_3"
   },
   "outputs": [],
   "source": [
    "from google.colab import drive\n",
    "drive.mount('/content/drive')"
   ]
  },
  {
   "cell_type": "code",
   "execution_count": null,
   "metadata": {
    "id": "YbFWDGKGu-hV"
   },
   "outputs": [],
   "source": [
    "path=\"/content/drive/MyDrive/Data_btp2/\"\n",
    "train=zipfile.ZipFile(path+\"data_train\"+\".zip\",\"r\")\n",
    "test=zipfile.ZipFile(path+\"data_test\"+\".zip\",\"r\")"
   ]
  },
  {
   "cell_type": "code",
   "execution_count": null,
   "metadata": {
    "id": "zpaRNnyGvAog"
   },
   "outputs": [],
   "source": [
    "data_train = pd.read_csv(train.open('data_train.csv'))\n",
    "data_test = pd.read_csv(test.open('data_test.csv'))"
   ]
  },
  {
   "cell_type": "code",
   "execution_count": null,
   "metadata": {
    "id": "Hfxwy8ZrvJPm"
   },
   "outputs": [],
   "source": [
    "X = data_train.drop(['reordered', 'uxp_ratio_last_five'], axis=1)\n",
    "y = data_train.reordered"
   ]
  },
  {
   "cell_type": "code",
   "execution_count": null,
   "metadata": {
    "colab": {
     "base_uri": "https://localhost:8080/"
    },
    "id": "Yz9Jbb-tvOuf",
    "outputId": "58b9dea5-edbd-4914-9ce4-031921b8af61"
   },
   "outputs": [
    {
     "name": "stdout",
     "output_type": "stream",
     "text": [
      "Collecting scikit-plot\n",
      "  Downloading https://files.pythonhosted.org/packages/7c/47/32520e259340c140a4ad27c1b97050dd3254fdc517b1d59974d47037510e/scikit_plot-0.3.7-py3-none-any.whl\n",
      "Requirement already satisfied: matplotlib>=1.4.0 in /usr/local/lib/python3.7/dist-packages (from scikit-plot) (3.2.2)\n",
      "Requirement already satisfied: scipy>=0.9 in /usr/local/lib/python3.7/dist-packages (from scikit-plot) (1.4.1)\n",
      "Requirement already satisfied: joblib>=0.10 in /usr/local/lib/python3.7/dist-packages (from scikit-plot) (1.0.1)\n",
      "Requirement already satisfied: scikit-learn>=0.18 in /usr/local/lib/python3.7/dist-packages (from scikit-plot) (0.22.2.post1)\n",
      "Requirement already satisfied: cycler>=0.10 in /usr/local/lib/python3.7/dist-packages (from matplotlib>=1.4.0->scikit-plot) (0.10.0)\n",
      "Requirement already satisfied: kiwisolver>=1.0.1 in /usr/local/lib/python3.7/dist-packages (from matplotlib>=1.4.0->scikit-plot) (1.3.1)\n",
      "Requirement already satisfied: python-dateutil>=2.1 in /usr/local/lib/python3.7/dist-packages (from matplotlib>=1.4.0->scikit-plot) (2.8.1)\n",
      "Requirement already satisfied: numpy>=1.11 in /usr/local/lib/python3.7/dist-packages (from matplotlib>=1.4.0->scikit-plot) (1.19.5)\n",
      "Requirement already satisfied: pyparsing!=2.0.4,!=2.1.2,!=2.1.6,>=2.0.1 in /usr/local/lib/python3.7/dist-packages (from matplotlib>=1.4.0->scikit-plot) (2.4.7)\n",
      "Requirement already satisfied: six in /usr/local/lib/python3.7/dist-packages (from cycler>=0.10->matplotlib>=1.4.0->scikit-plot) (1.15.0)\n",
      "Installing collected packages: scikit-plot\n",
      "Successfully installed scikit-plot-0.3.7\n"
     ]
    }
   ],
   "source": [
    "pip install scikit-plot"
   ]
  },
  {
   "cell_type": "code",
   "execution_count": null,
   "metadata": {
    "id": "pEqhuSuEvXvM"
   },
   "outputs": [],
   "source": [
    "from sklearn.model_selection import train_test_split, GridSearchCV, KFold,RandomizedSearchCV\n",
    "from sklearn.metrics import f1_score, classification_report\n",
    "from scikitplot.metrics import plot_confusion_matrix\n",
    "from scikitplot.classifiers import plot_feature_importances\n",
    "from sklearn import metrics\n",
    "from tqdm import tqdm"
   ]
  },
  {
   "cell_type": "code",
   "execution_count": null,
   "metadata": {
    "id": "7JiYFjX_vZkj"
   },
   "outputs": [],
   "source": [
    "X_train, X_test, y_train, y_test = train_test_split(X, y, test_size=0.3, random_state=10)"
   ]
  },
  {
   "cell_type": "code",
   "execution_count": null,
   "metadata": {
    "colab": {
     "base_uri": "https://localhost:8080/"
    },
    "id": "CKJ7DtZ3vbQ4",
    "outputId": "6be5cc90-56a7-445b-8d51-57d32b9098eb"
   },
   "outputs": [
    {
     "name": "stdout",
     "output_type": "stream",
     "text": [
      "Collecting catboost\n",
      "\u001b[?25l  Downloading https://files.pythonhosted.org/packages/96/3b/bb419654adcf7efff42ed8a3f84e50c8f236424b7ed1cc8ccd290852e003/catboost-0.24.4-cp37-none-manylinux1_x86_64.whl (65.7MB)\n",
      "\u001b[K     |████████████████████████████████| 65.7MB 97kB/s \n",
      "\u001b[?25hRequirement already satisfied: scipy in /usr/local/lib/python3.7/dist-packages (from catboost) (1.4.1)\n",
      "Requirement already satisfied: pandas>=0.24.0 in /usr/local/lib/python3.7/dist-packages (from catboost) (1.1.5)\n",
      "Requirement already satisfied: plotly in /usr/local/lib/python3.7/dist-packages (from catboost) (4.4.1)\n",
      "Requirement already satisfied: six in /usr/local/lib/python3.7/dist-packages (from catboost) (1.15.0)\n",
      "Requirement already satisfied: graphviz in /usr/local/lib/python3.7/dist-packages (from catboost) (0.10.1)\n",
      "Requirement already satisfied: matplotlib in /usr/local/lib/python3.7/dist-packages (from catboost) (3.2.2)\n",
      "Requirement already satisfied: numpy>=1.16.0 in /usr/local/lib/python3.7/dist-packages (from catboost) (1.19.5)\n",
      "Requirement already satisfied: python-dateutil>=2.7.3 in /usr/local/lib/python3.7/dist-packages (from pandas>=0.24.0->catboost) (2.8.1)\n",
      "Requirement already satisfied: pytz>=2017.2 in /usr/local/lib/python3.7/dist-packages (from pandas>=0.24.0->catboost) (2018.9)\n",
      "Requirement already satisfied: retrying>=1.3.3 in /usr/local/lib/python3.7/dist-packages (from plotly->catboost) (1.3.3)\n",
      "Requirement already satisfied: pyparsing!=2.0.4,!=2.1.2,!=2.1.6,>=2.0.1 in /usr/local/lib/python3.7/dist-packages (from matplotlib->catboost) (2.4.7)\n",
      "Requirement already satisfied: cycler>=0.10 in /usr/local/lib/python3.7/dist-packages (from matplotlib->catboost) (0.10.0)\n",
      "Requirement already satisfied: kiwisolver>=1.0.1 in /usr/local/lib/python3.7/dist-packages (from matplotlib->catboost) (1.3.1)\n",
      "Installing collected packages: catboost\n",
      "Successfully installed catboost-0.24.4\n"
     ]
    }
   ],
   "source": [
    "pip install catboost"
   ]
  },
  {
   "cell_type": "code",
   "execution_count": null,
   "metadata": {
    "colab": {
     "base_uri": "https://localhost:8080/"
    },
    "id": "NQqD6-ghvd9i",
    "outputId": "0f7a5185-3386-496b-ec96-892bf3cf2ad5"
   },
   "outputs": [
    {
     "name": "stdout",
     "output_type": "stream",
     "text": [
      "[0, 1, 2, 3, 4, 5, 6, 7, 8, 9, 10, 11, 12, 13, 14, 15, 16]\n"
     ]
    }
   ],
   "source": [
    "from catboost import CatBoostClassifier\n",
    "cat_features = list(range(0, X.shape[1]))\n",
    "print(cat_features)"
   ]
  },
  {
   "cell_type": "code",
   "execution_count": null,
   "metadata": {
    "id": "7TMDL1p-vhZP"
   },
   "outputs": [],
   "source": [
    "#For learning Rate and iterations\n",
    "learning_rate = [0.0001, 0.001, 0.01, 0.1, 1.0]\n",
    "iterations = [100 , 300 , 600 , 1000]\n",
    "prec_recall_area = []\n",
    "dict_of_values = {}\n",
    "\n",
    "#Loop for the Tuning\n",
    "for lr in learning_rate:\n",
    "    for ite in iterations:\n",
    "        clf = CatBoostClassifier(\n",
    "        iterations = ite,\n",
    "        learning_rate=lr,\n",
    "        verbose=False,\n",
    "        )\n",
    "\n",
    "        clf.fit(X_train, list(map(int , y_train)))\n",
    "\n",
    "        y_pred = (clf.predict_proba(X_test)[:, 1] >= 0.21).astype('int')\n",
    "        precision, recall, _ = metrics.precision_recall_curve(y_test, y_pred)\n",
    "        prec_recall_area.append(np.trapz(recall,precision))\n",
    "        print(\"With lr:\",lr,\",with iter:\",ite , \",area is:\" ,np.trapz(recall,precision))\n"
   ]
  },
  {
   "cell_type": "code",
   "execution_count": null,
   "metadata": {
    "id": "B-XrAY9IvlaA"
   },
   "outputs": [],
   "source": [
    "#for bagging temperature\n",
    "temperature = [0.1,0.2,0.3,0.4,0.5,0.6,0.7,0.8,0.9]\n",
    "\n",
    "#Loop for the tuning\n",
    "for temp in temperature:\n",
    "    clf = CatBoostClassifier(\n",
    "        iterations = 500, \n",
    "        depth = 14, #From above and did some iterations\n",
    "        learning_rate=0.01,\n",
    "        bagging_temperature = temp,\n",
    "        verbose = False)\n",
    "\n",
    "    clf.fit(X_train, list(map(int , y_train)))\n",
    "\n",
    "    y_pred = (clf.predict_proba(X_test)[:, 1] >= 0.21).astype('int')\n",
    "    precision, recall, _ = metrics.precision_recall_curve(y_test, y_pred)\n",
    "    prec_recall_area.append(np.trapz(recall,precision))\n",
    "    print(\"With temp:\",temp , \",area is:\" ,np.trapz(recall,precision))"
   ]
  },
  {
   "cell_type": "code",
   "execution_count": null,
   "metadata": {
    "colab": {
     "base_uri": "https://localhost:8080/"
    },
    "id": "Iw59BBcAwNFe",
    "outputId": "ed938422-c201-454c-9953-f20db8b847c8"
   },
   "outputs": [
    {
     "name": "stdout",
     "output_type": "stream",
     "text": [
      "0:\tlearn: 0.6805229\ttotal: 295ms\tremaining: 4m 54s\n",
      "3:\tlearn: 0.6448553\ttotal: 1.15s\tremaining: 4m 47s\n",
      "6:\tlearn: 0.6124325\ttotal: 2.02s\tremaining: 4m 46s\n",
      "9:\tlearn: 0.5826793\ttotal: 2.8s\tremaining: 4m 36s\n",
      "12:\tlearn: 0.5553683\ttotal: 3.67s\tremaining: 4m 38s\n",
      "15:\tlearn: 0.5302699\ttotal: 4.54s\tremaining: 4m 39s\n",
      "18:\tlearn: 0.5075020\ttotal: 5.42s\tremaining: 4m 39s\n",
      "21:\tlearn: 0.4868043\ttotal: 6.3s\tremaining: 4m 40s\n",
      "24:\tlearn: 0.4680041\ttotal: 7.19s\tremaining: 4m 40s\n",
      "27:\tlearn: 0.4506042\ttotal: 8.08s\tremaining: 4m 40s\n",
      "30:\tlearn: 0.4347533\ttotal: 8.87s\tremaining: 4m 37s\n",
      "33:\tlearn: 0.4202386\ttotal: 9.75s\tremaining: 4m 37s\n",
      "36:\tlearn: 0.4070259\ttotal: 10.4s\tremaining: 4m 31s\n",
      "39:\tlearn: 0.3949060\ttotal: 11.3s\tremaining: 4m 31s\n",
      "42:\tlearn: 0.3836915\ttotal: 12.2s\tremaining: 4m 31s\n",
      "45:\tlearn: 0.3735918\ttotal: 13.1s\tremaining: 4m 31s\n",
      "48:\tlearn: 0.3642758\ttotal: 14s\tremaining: 4m 30s\n",
      "51:\tlearn: 0.3556447\ttotal: 14.8s\tremaining: 4m 30s\n",
      "54:\tlearn: 0.3477902\ttotal: 15.7s\tremaining: 4m 29s\n",
      "57:\tlearn: 0.3405294\ttotal: 16.6s\tremaining: 4m 28s\n",
      "60:\tlearn: 0.3338041\ttotal: 17.4s\tremaining: 4m 28s\n",
      "63:\tlearn: 0.3276875\ttotal: 18.3s\tremaining: 4m 27s\n",
      "66:\tlearn: 0.3220865\ttotal: 19s\tremaining: 4m 24s\n",
      "69:\tlearn: 0.3168854\ttotal: 19.9s\tremaining: 4m 23s\n",
      "72:\tlearn: 0.3121575\ttotal: 20.7s\tremaining: 4m 23s\n",
      "75:\tlearn: 0.3077471\ttotal: 21.6s\tremaining: 4m 22s\n",
      "78:\tlearn: 0.3036948\ttotal: 22.5s\tremaining: 4m 21s\n",
      "81:\tlearn: 0.2999124\ttotal: 23.3s\tremaining: 4m 21s\n",
      "84:\tlearn: 0.2964037\ttotal: 24.2s\tremaining: 4m 20s\n",
      "87:\tlearn: 0.2932503\ttotal: 24.8s\tremaining: 4m 17s\n",
      "90:\tlearn: 0.2902615\ttotal: 25.7s\tremaining: 4m 16s\n",
      "93:\tlearn: 0.2875010\ttotal: 26.6s\tremaining: 4m 16s\n",
      "96:\tlearn: 0.2849770\ttotal: 27.4s\tremaining: 4m 15s\n",
      "99:\tlearn: 0.2826159\ttotal: 28.3s\tremaining: 4m 14s\n",
      "102:\tlearn: 0.2804008\ttotal: 29.2s\tremaining: 4m 13s\n",
      "105:\tlearn: 0.2784111\ttotal: 30s\tremaining: 4m 13s\n",
      "108:\tlearn: 0.2765445\ttotal: 30.9s\tremaining: 4m 12s\n",
      "111:\tlearn: 0.2747795\ttotal: 31.8s\tremaining: 4m 11s\n",
      "114:\tlearn: 0.2731467\ttotal: 32.6s\tremaining: 4m 11s\n",
      "117:\tlearn: 0.2716286\ttotal: 33.5s\tremaining: 4m 10s\n",
      "120:\tlearn: 0.2702185\ttotal: 34.4s\tremaining: 4m 9s\n",
      "123:\tlearn: 0.2689279\ttotal: 35.3s\tremaining: 4m 9s\n",
      "126:\tlearn: 0.2677040\ttotal: 36.1s\tremaining: 4m 8s\n",
      "129:\tlearn: 0.2665492\ttotal: 37s\tremaining: 4m 7s\n",
      "132:\tlearn: 0.2654575\ttotal: 37.9s\tremaining: 4m 6s\n",
      "135:\tlearn: 0.2644891\ttotal: 38.7s\tremaining: 4m 6s\n",
      "138:\tlearn: 0.2635536\ttotal: 39.6s\tremaining: 4m 5s\n",
      "141:\tlearn: 0.2627053\ttotal: 40.5s\tremaining: 4m 4s\n",
      "144:\tlearn: 0.2618874\ttotal: 41.4s\tremaining: 4m 3s\n",
      "147:\tlearn: 0.2611151\ttotal: 42.2s\tremaining: 4m 3s\n",
      "150:\tlearn: 0.2603735\ttotal: 43.1s\tremaining: 4m 2s\n",
      "153:\tlearn: 0.2597164\ttotal: 44s\tremaining: 4m 1s\n",
      "156:\tlearn: 0.2590909\ttotal: 44.8s\tremaining: 4m\n",
      "159:\tlearn: 0.2584899\ttotal: 45.7s\tremaining: 3m 59s\n",
      "162:\tlearn: 0.2579357\ttotal: 46.6s\tremaining: 3m 59s\n",
      "165:\tlearn: 0.2574210\ttotal: 47.4s\tremaining: 3m 58s\n",
      "168:\tlearn: 0.2569177\ttotal: 48.3s\tremaining: 3m 57s\n",
      "171:\tlearn: 0.2564726\ttotal: 49.2s\tremaining: 3m 56s\n",
      "174:\tlearn: 0.2560146\ttotal: 50s\tremaining: 3m 55s\n",
      "177:\tlearn: 0.2555995\ttotal: 50.9s\tremaining: 3m 55s\n",
      "180:\tlearn: 0.2552162\ttotal: 51.8s\tremaining: 3m 54s\n",
      "183:\tlearn: 0.2548712\ttotal: 52.6s\tremaining: 3m 53s\n",
      "186:\tlearn: 0.2545136\ttotal: 53.5s\tremaining: 3m 52s\n",
      "189:\tlearn: 0.2541910\ttotal: 54.4s\tremaining: 3m 51s\n",
      "192:\tlearn: 0.2538726\ttotal: 55.3s\tremaining: 3m 51s\n",
      "195:\tlearn: 0.2535741\ttotal: 56.1s\tremaining: 3m 50s\n",
      "198:\tlearn: 0.2532970\ttotal: 57s\tremaining: 3m 49s\n",
      "201:\tlearn: 0.2530391\ttotal: 57.9s\tremaining: 3m 48s\n",
      "204:\tlearn: 0.2528027\ttotal: 58.7s\tremaining: 3m 47s\n",
      "207:\tlearn: 0.2525609\ttotal: 59.6s\tremaining: 3m 46s\n",
      "210:\tlearn: 0.2523282\ttotal: 1m\tremaining: 3m 46s\n",
      "213:\tlearn: 0.2521081\ttotal: 1m 1s\tremaining: 3m 45s\n",
      "216:\tlearn: 0.2519014\ttotal: 1m 2s\tremaining: 3m 44s\n",
      "219:\tlearn: 0.2517096\ttotal: 1m 3s\tremaining: 3m 43s\n",
      "222:\tlearn: 0.2515181\ttotal: 1m 3s\tremaining: 3m 42s\n",
      "225:\tlearn: 0.2513512\ttotal: 1m 4s\tremaining: 3m 41s\n",
      "228:\tlearn: 0.2511883\ttotal: 1m 5s\tremaining: 3m 41s\n",
      "231:\tlearn: 0.2510400\ttotal: 1m 6s\tremaining: 3m 40s\n",
      "234:\tlearn: 0.2508901\ttotal: 1m 7s\tremaining: 3m 39s\n",
      "237:\tlearn: 0.2507530\ttotal: 1m 8s\tremaining: 3m 38s\n",
      "240:\tlearn: 0.2506210\ttotal: 1m 9s\tremaining: 3m 37s\n",
      "243:\tlearn: 0.2504930\ttotal: 1m 10s\tremaining: 3m 36s\n",
      "246:\tlearn: 0.2503697\ttotal: 1m 10s\tremaining: 3m 36s\n",
      "249:\tlearn: 0.2502536\ttotal: 1m 11s\tremaining: 3m 35s\n",
      "252:\tlearn: 0.2501345\ttotal: 1m 12s\tremaining: 3m 34s\n",
      "255:\tlearn: 0.2500283\ttotal: 1m 13s\tremaining: 3m 33s\n",
      "258:\tlearn: 0.2499260\ttotal: 1m 14s\tremaining: 3m 32s\n",
      "261:\tlearn: 0.2498333\ttotal: 1m 15s\tremaining: 3m 32s\n",
      "264:\tlearn: 0.2497396\ttotal: 1m 16s\tremaining: 3m 31s\n",
      "267:\tlearn: 0.2496519\ttotal: 1m 17s\tremaining: 3m 30s\n",
      "270:\tlearn: 0.2495718\ttotal: 1m 17s\tremaining: 3m 29s\n",
      "273:\tlearn: 0.2494836\ttotal: 1m 18s\tremaining: 3m 28s\n",
      "276:\tlearn: 0.2494077\ttotal: 1m 19s\tremaining: 3m 28s\n",
      "279:\tlearn: 0.2493375\ttotal: 1m 20s\tremaining: 3m 27s\n",
      "282:\tlearn: 0.2492724\ttotal: 1m 21s\tremaining: 3m 26s\n",
      "285:\tlearn: 0.2492012\ttotal: 1m 22s\tremaining: 3m 25s\n",
      "288:\tlearn: 0.2491372\ttotal: 1m 23s\tremaining: 3m 24s\n",
      "291:\tlearn: 0.2490755\ttotal: 1m 24s\tremaining: 3m 23s\n",
      "294:\tlearn: 0.2490124\ttotal: 1m 24s\tremaining: 3m 23s\n",
      "297:\tlearn: 0.2489582\ttotal: 1m 25s\tremaining: 3m 22s\n",
      "300:\tlearn: 0.2489063\ttotal: 1m 26s\tremaining: 3m 21s\n",
      "303:\tlearn: 0.2488446\ttotal: 1m 27s\tremaining: 3m 20s\n",
      "306:\tlearn: 0.2487925\ttotal: 1m 28s\tremaining: 3m 19s\n",
      "309:\tlearn: 0.2487407\ttotal: 1m 29s\tremaining: 3m 18s\n",
      "312:\tlearn: 0.2486906\ttotal: 1m 30s\tremaining: 3m 18s\n",
      "315:\tlearn: 0.2486434\ttotal: 1m 31s\tremaining: 3m 17s\n",
      "318:\tlearn: 0.2485927\ttotal: 1m 32s\tremaining: 3m 16s\n",
      "321:\tlearn: 0.2485469\ttotal: 1m 32s\tremaining: 3m 15s\n",
      "324:\tlearn: 0.2485012\ttotal: 1m 33s\tremaining: 3m 14s\n",
      "327:\tlearn: 0.2484484\ttotal: 1m 34s\tremaining: 3m 13s\n",
      "330:\tlearn: 0.2483969\ttotal: 1m 35s\tremaining: 3m 13s\n",
      "333:\tlearn: 0.2483517\ttotal: 1m 36s\tremaining: 3m 12s\n",
      "336:\tlearn: 0.2483138\ttotal: 1m 37s\tremaining: 3m 11s\n",
      "339:\tlearn: 0.2482668\ttotal: 1m 38s\tremaining: 3m 10s\n",
      "342:\tlearn: 0.2482316\ttotal: 1m 39s\tremaining: 3m 9s\n",
      "345:\tlearn: 0.2481911\ttotal: 1m 40s\tremaining: 3m 9s\n",
      "348:\tlearn: 0.2481425\ttotal: 1m 40s\tremaining: 3m 8s\n",
      "351:\tlearn: 0.2480960\ttotal: 1m 41s\tremaining: 3m 7s\n",
      "354:\tlearn: 0.2480579\ttotal: 1m 42s\tremaining: 3m 6s\n",
      "357:\tlearn: 0.2480050\ttotal: 1m 43s\tremaining: 3m 5s\n",
      "360:\tlearn: 0.2479592\ttotal: 1m 44s\tremaining: 3m 5s\n",
      "363:\tlearn: 0.2479158\ttotal: 1m 45s\tremaining: 3m 4s\n",
      "366:\tlearn: 0.2478708\ttotal: 1m 46s\tremaining: 3m 3s\n",
      "369:\tlearn: 0.2478315\ttotal: 1m 47s\tremaining: 3m 2s\n",
      "372:\tlearn: 0.2477904\ttotal: 1m 48s\tremaining: 3m 1s\n",
      "375:\tlearn: 0.2477534\ttotal: 1m 48s\tremaining: 3m\n",
      "378:\tlearn: 0.2477178\ttotal: 1m 49s\tremaining: 3m\n",
      "381:\tlearn: 0.2476801\ttotal: 1m 50s\tremaining: 2m 59s\n",
      "384:\tlearn: 0.2476443\ttotal: 1m 51s\tremaining: 2m 58s\n",
      "387:\tlearn: 0.2476103\ttotal: 1m 52s\tremaining: 2m 57s\n",
      "390:\tlearn: 0.2475758\ttotal: 1m 53s\tremaining: 2m 56s\n",
      "393:\tlearn: 0.2475418\ttotal: 1m 54s\tremaining: 2m 55s\n",
      "396:\tlearn: 0.2475002\ttotal: 1m 55s\tremaining: 2m 55s\n",
      "399:\tlearn: 0.2474555\ttotal: 1m 56s\tremaining: 2m 54s\n",
      "402:\tlearn: 0.2474218\ttotal: 1m 57s\tremaining: 2m 53s\n",
      "405:\tlearn: 0.2473884\ttotal: 1m 57s\tremaining: 2m 52s\n",
      "408:\tlearn: 0.2473578\ttotal: 1m 58s\tremaining: 2m 51s\n",
      "411:\tlearn: 0.2473218\ttotal: 1m 59s\tremaining: 2m 50s\n",
      "414:\tlearn: 0.2472812\ttotal: 2m\tremaining: 2m 49s\n",
      "417:\tlearn: 0.2472434\ttotal: 2m 1s\tremaining: 2m 49s\n",
      "420:\tlearn: 0.2471873\ttotal: 2m 2s\tremaining: 2m 48s\n",
      "423:\tlearn: 0.2471471\ttotal: 2m 3s\tremaining: 2m 47s\n",
      "426:\tlearn: 0.2471131\ttotal: 2m 4s\tremaining: 2m 46s\n",
      "429:\tlearn: 0.2470841\ttotal: 2m 5s\tremaining: 2m 45s\n",
      "432:\tlearn: 0.2470501\ttotal: 2m 5s\tremaining: 2m 44s\n",
      "435:\tlearn: 0.2470159\ttotal: 2m 6s\tremaining: 2m 44s\n",
      "438:\tlearn: 0.2469856\ttotal: 2m 7s\tremaining: 2m 43s\n",
      "441:\tlearn: 0.2469500\ttotal: 2m 8s\tremaining: 2m 42s\n",
      "444:\tlearn: 0.2469188\ttotal: 2m 9s\tremaining: 2m 41s\n",
      "447:\tlearn: 0.2468840\ttotal: 2m 10s\tremaining: 2m 40s\n",
      "450:\tlearn: 0.2468556\ttotal: 2m 11s\tremaining: 2m 39s\n",
      "453:\tlearn: 0.2468188\ttotal: 2m 12s\tremaining: 2m 38s\n",
      "456:\tlearn: 0.2467783\ttotal: 2m 13s\tremaining: 2m 38s\n",
      "459:\tlearn: 0.2467524\ttotal: 2m 13s\tremaining: 2m 37s\n",
      "462:\tlearn: 0.2467181\ttotal: 2m 14s\tremaining: 2m 36s\n",
      "465:\tlearn: 0.2466739\ttotal: 2m 15s\tremaining: 2m 35s\n",
      "468:\tlearn: 0.2466388\ttotal: 2m 16s\tremaining: 2m 34s\n",
      "471:\tlearn: 0.2465993\ttotal: 2m 17s\tremaining: 2m 33s\n",
      "474:\tlearn: 0.2465652\ttotal: 2m 18s\tremaining: 2m 33s\n",
      "477:\tlearn: 0.2465302\ttotal: 2m 19s\tremaining: 2m 32s\n",
      "480:\tlearn: 0.2464973\ttotal: 2m 20s\tremaining: 2m 31s\n",
      "483:\tlearn: 0.2464649\ttotal: 2m 21s\tremaining: 2m 30s\n",
      "486:\tlearn: 0.2464275\ttotal: 2m 22s\tremaining: 2m 29s\n",
      "489:\tlearn: 0.2463935\ttotal: 2m 22s\tremaining: 2m 28s\n",
      "492:\tlearn: 0.2463649\ttotal: 2m 23s\tremaining: 2m 27s\n",
      "495:\tlearn: 0.2463338\ttotal: 2m 24s\tremaining: 2m 27s\n",
      "498:\tlearn: 0.2463037\ttotal: 2m 25s\tremaining: 2m 26s\n",
      "501:\tlearn: 0.2462667\ttotal: 2m 26s\tremaining: 2m 25s\n",
      "504:\tlearn: 0.2462332\ttotal: 2m 27s\tremaining: 2m 24s\n",
      "507:\tlearn: 0.2461982\ttotal: 2m 28s\tremaining: 2m 23s\n",
      "510:\tlearn: 0.2461691\ttotal: 2m 29s\tremaining: 2m 22s\n",
      "513:\tlearn: 0.2461479\ttotal: 2m 30s\tremaining: 2m 21s\n",
      "516:\tlearn: 0.2461155\ttotal: 2m 31s\tremaining: 2m 21s\n",
      "519:\tlearn: 0.2460806\ttotal: 2m 31s\tremaining: 2m 20s\n",
      "522:\tlearn: 0.2460416\ttotal: 2m 32s\tremaining: 2m 19s\n",
      "525:\tlearn: 0.2460091\ttotal: 2m 33s\tremaining: 2m 18s\n",
      "528:\tlearn: 0.2459821\ttotal: 2m 34s\tremaining: 2m 17s\n",
      "531:\tlearn: 0.2459515\ttotal: 2m 35s\tremaining: 2m 16s\n",
      "534:\tlearn: 0.2459238\ttotal: 2m 36s\tremaining: 2m 15s\n",
      "537:\tlearn: 0.2458977\ttotal: 2m 37s\tremaining: 2m 15s\n",
      "540:\tlearn: 0.2458673\ttotal: 2m 38s\tremaining: 2m 14s\n",
      "543:\tlearn: 0.2458363\ttotal: 2m 39s\tremaining: 2m 13s\n",
      "546:\tlearn: 0.2457977\ttotal: 2m 40s\tremaining: 2m 12s\n",
      "549:\tlearn: 0.2457631\ttotal: 2m 40s\tremaining: 2m 11s\n",
      "552:\tlearn: 0.2457334\ttotal: 2m 41s\tremaining: 2m 10s\n",
      "555:\tlearn: 0.2457118\ttotal: 2m 42s\tremaining: 2m 9s\n",
      "558:\tlearn: 0.2456739\ttotal: 2m 43s\tremaining: 2m 9s\n",
      "561:\tlearn: 0.2456526\ttotal: 2m 44s\tremaining: 2m 8s\n",
      "564:\tlearn: 0.2456262\ttotal: 2m 45s\tremaining: 2m 7s\n",
      "567:\tlearn: 0.2455947\ttotal: 2m 46s\tremaining: 2m 6s\n",
      "570:\tlearn: 0.2455680\ttotal: 2m 47s\tremaining: 2m 5s\n",
      "573:\tlearn: 0.2455369\ttotal: 2m 48s\tremaining: 2m 4s\n",
      "576:\tlearn: 0.2455064\ttotal: 2m 48s\tremaining: 2m 3s\n",
      "579:\tlearn: 0.2454722\ttotal: 2m 49s\tremaining: 2m 3s\n",
      "582:\tlearn: 0.2454417\ttotal: 2m 50s\tremaining: 2m 2s\n",
      "585:\tlearn: 0.2454032\ttotal: 2m 51s\tremaining: 2m 1s\n",
      "588:\tlearn: 0.2453669\ttotal: 2m 52s\tremaining: 2m\n",
      "591:\tlearn: 0.2453299\ttotal: 2m 53s\tremaining: 1m 59s\n",
      "594:\tlearn: 0.2453064\ttotal: 2m 54s\tremaining: 1m 58s\n",
      "597:\tlearn: 0.2452753\ttotal: 2m 55s\tremaining: 1m 57s\n",
      "600:\tlearn: 0.2452395\ttotal: 2m 56s\tremaining: 1m 56s\n",
      "603:\tlearn: 0.2452151\ttotal: 2m 57s\tremaining: 1m 56s\n",
      "606:\tlearn: 0.2451887\ttotal: 2m 57s\tremaining: 1m 55s\n",
      "609:\tlearn: 0.2451621\ttotal: 2m 58s\tremaining: 1m 54s\n",
      "612:\tlearn: 0.2451338\ttotal: 2m 59s\tremaining: 1m 53s\n",
      "615:\tlearn: 0.2450974\ttotal: 3m\tremaining: 1m 52s\n",
      "618:\tlearn: 0.2450731\ttotal: 3m 1s\tremaining: 1m 51s\n",
      "621:\tlearn: 0.2450354\ttotal: 3m 2s\tremaining: 1m 50s\n",
      "624:\tlearn: 0.2449968\ttotal: 3m 3s\tremaining: 1m 50s\n",
      "627:\tlearn: 0.2449599\ttotal: 3m 4s\tremaining: 1m 49s\n",
      "630:\tlearn: 0.2449308\ttotal: 3m 5s\tremaining: 1m 48s\n",
      "633:\tlearn: 0.2449001\ttotal: 3m 6s\tremaining: 1m 47s\n",
      "636:\tlearn: 0.2448674\ttotal: 3m 6s\tremaining: 1m 46s\n",
      "639:\tlearn: 0.2448278\ttotal: 3m 7s\tremaining: 1m 45s\n",
      "642:\tlearn: 0.2447990\ttotal: 3m 8s\tremaining: 1m 44s\n",
      "645:\tlearn: 0.2447745\ttotal: 3m 9s\tremaining: 1m 43s\n",
      "648:\tlearn: 0.2447527\ttotal: 3m 10s\tremaining: 1m 43s\n",
      "651:\tlearn: 0.2447158\ttotal: 3m 11s\tremaining: 1m 42s\n",
      "654:\tlearn: 0.2446719\ttotal: 3m 12s\tremaining: 1m 41s\n",
      "657:\tlearn: 0.2446353\ttotal: 3m 13s\tremaining: 1m 40s\n",
      "660:\tlearn: 0.2446050\ttotal: 3m 14s\tremaining: 1m 39s\n",
      "663:\tlearn: 0.2445647\ttotal: 3m 15s\tremaining: 1m 38s\n",
      "666:\tlearn: 0.2445288\ttotal: 3m 15s\tremaining: 1m 37s\n",
      "669:\tlearn: 0.2445022\ttotal: 3m 16s\tremaining: 1m 36s\n",
      "672:\tlearn: 0.2444770\ttotal: 3m 17s\tremaining: 1m 36s\n",
      "675:\tlearn: 0.2444423\ttotal: 3m 18s\tremaining: 1m 35s\n",
      "678:\tlearn: 0.2444012\ttotal: 3m 19s\tremaining: 1m 34s\n",
      "681:\tlearn: 0.2443614\ttotal: 3m 20s\tremaining: 1m 33s\n",
      "684:\tlearn: 0.2443359\ttotal: 3m 21s\tremaining: 1m 32s\n",
      "687:\tlearn: 0.2442902\ttotal: 3m 22s\tremaining: 1m 31s\n",
      "690:\tlearn: 0.2442579\ttotal: 3m 23s\tremaining: 1m 30s\n",
      "693:\tlearn: 0.2442276\ttotal: 3m 24s\tremaining: 1m 29s\n",
      "696:\tlearn: 0.2441899\ttotal: 3m 24s\tremaining: 1m 29s\n",
      "699:\tlearn: 0.2441675\ttotal: 3m 25s\tremaining: 1m 28s\n",
      "702:\tlearn: 0.2441358\ttotal: 3m 26s\tremaining: 1m 27s\n",
      "705:\tlearn: 0.2440940\ttotal: 3m 27s\tremaining: 1m 26s\n",
      "708:\tlearn: 0.2440673\ttotal: 3m 28s\tremaining: 1m 25s\n",
      "711:\tlearn: 0.2440385\ttotal: 3m 29s\tremaining: 1m 24s\n",
      "714:\tlearn: 0.2440083\ttotal: 3m 30s\tremaining: 1m 23s\n",
      "717:\tlearn: 0.2439717\ttotal: 3m 31s\tremaining: 1m 22s\n",
      "720:\tlearn: 0.2439411\ttotal: 3m 32s\tremaining: 1m 22s\n",
      "723:\tlearn: 0.2439083\ttotal: 3m 33s\tremaining: 1m 21s\n",
      "726:\tlearn: 0.2438640\ttotal: 3m 33s\tremaining: 1m 20s\n",
      "729:\tlearn: 0.2438262\ttotal: 3m 34s\tremaining: 1m 19s\n",
      "732:\tlearn: 0.2437983\ttotal: 3m 35s\tremaining: 1m 18s\n",
      "735:\tlearn: 0.2437728\ttotal: 3m 36s\tremaining: 1m 17s\n",
      "738:\tlearn: 0.2437424\ttotal: 3m 37s\tremaining: 1m 16s\n",
      "741:\tlearn: 0.2437133\ttotal: 3m 38s\tremaining: 1m 15s\n",
      "744:\tlearn: 0.2436875\ttotal: 3m 39s\tremaining: 1m 15s\n",
      "747:\tlearn: 0.2436511\ttotal: 3m 40s\tremaining: 1m 14s\n",
      "750:\tlearn: 0.2436253\ttotal: 3m 41s\tremaining: 1m 13s\n",
      "753:\tlearn: 0.2435903\ttotal: 3m 41s\tremaining: 1m 12s\n",
      "756:\tlearn: 0.2435527\ttotal: 3m 42s\tremaining: 1m 11s\n",
      "759:\tlearn: 0.2435291\ttotal: 3m 43s\tremaining: 1m 10s\n",
      "762:\tlearn: 0.2434860\ttotal: 3m 44s\tremaining: 1m 9s\n",
      "765:\tlearn: 0.2434606\ttotal: 3m 45s\tremaining: 1m 8s\n",
      "768:\tlearn: 0.2434304\ttotal: 3m 46s\tremaining: 1m 8s\n",
      "771:\tlearn: 0.2434047\ttotal: 3m 47s\tremaining: 1m 7s\n",
      "774:\tlearn: 0.2433691\ttotal: 3m 48s\tremaining: 1m 6s\n",
      "777:\tlearn: 0.2433345\ttotal: 3m 49s\tremaining: 1m 5s\n",
      "780:\tlearn: 0.2432991\ttotal: 3m 50s\tremaining: 1m 4s\n",
      "783:\tlearn: 0.2432651\ttotal: 3m 51s\tremaining: 1m 3s\n",
      "786:\tlearn: 0.2432316\ttotal: 3m 51s\tremaining: 1m 2s\n",
      "789:\tlearn: 0.2432043\ttotal: 3m 52s\tremaining: 1m 1s\n",
      "792:\tlearn: 0.2431797\ttotal: 3m 53s\tremaining: 1m 1s\n",
      "795:\tlearn: 0.2431575\ttotal: 3m 54s\tremaining: 1m\n",
      "798:\tlearn: 0.2431276\ttotal: 3m 55s\tremaining: 59.3s\n",
      "801:\tlearn: 0.2430977\ttotal: 3m 56s\tremaining: 58.4s\n",
      "804:\tlearn: 0.2430661\ttotal: 3m 57s\tremaining: 57.5s\n",
      "807:\tlearn: 0.2430309\ttotal: 3m 58s\tremaining: 56.6s\n",
      "810:\tlearn: 0.2430066\ttotal: 3m 59s\tremaining: 55.7s\n",
      "813:\tlearn: 0.2429679\ttotal: 4m\tremaining: 54.8s\n",
      "816:\tlearn: 0.2429404\ttotal: 4m\tremaining: 54s\n",
      "819:\tlearn: 0.2429056\ttotal: 4m 1s\tremaining: 53.1s\n",
      "822:\tlearn: 0.2428723\ttotal: 4m 2s\tremaining: 52.2s\n",
      "825:\tlearn: 0.2428313\ttotal: 4m 3s\tremaining: 51.3s\n",
      "828:\tlearn: 0.2427992\ttotal: 4m 4s\tremaining: 50.4s\n",
      "831:\tlearn: 0.2427683\ttotal: 4m 5s\tremaining: 49.6s\n",
      "834:\tlearn: 0.2427400\ttotal: 4m 6s\tremaining: 48.7s\n",
      "837:\tlearn: 0.2427117\ttotal: 4m 7s\tremaining: 47.8s\n",
      "840:\tlearn: 0.2426745\ttotal: 4m 8s\tremaining: 46.9s\n",
      "843:\tlearn: 0.2426320\ttotal: 4m 9s\tremaining: 46s\n",
      "846:\tlearn: 0.2426066\ttotal: 4m 9s\tremaining: 45.1s\n",
      "849:\tlearn: 0.2425728\ttotal: 4m 10s\tremaining: 44.3s\n",
      "852:\tlearn: 0.2425366\ttotal: 4m 11s\tremaining: 43.4s\n",
      "855:\tlearn: 0.2424981\ttotal: 4m 12s\tremaining: 42.5s\n",
      "858:\tlearn: 0.2424670\ttotal: 4m 13s\tremaining: 41.6s\n",
      "861:\tlearn: 0.2424287\ttotal: 4m 14s\tremaining: 40.7s\n",
      "864:\tlearn: 0.2424027\ttotal: 4m 15s\tremaining: 39.8s\n",
      "867:\tlearn: 0.2423633\ttotal: 4m 16s\tremaining: 39s\n",
      "870:\tlearn: 0.2423402\ttotal: 4m 17s\tremaining: 38.1s\n",
      "873:\tlearn: 0.2423146\ttotal: 4m 18s\tremaining: 37.2s\n",
      "876:\tlearn: 0.2422748\ttotal: 4m 18s\tremaining: 36.3s\n",
      "879:\tlearn: 0.2422442\ttotal: 4m 19s\tremaining: 35.4s\n",
      "882:\tlearn: 0.2422202\ttotal: 4m 20s\tremaining: 34.5s\n",
      "885:\tlearn: 0.2421798\ttotal: 4m 21s\tremaining: 33.7s\n",
      "888:\tlearn: 0.2421501\ttotal: 4m 22s\tremaining: 32.8s\n",
      "891:\tlearn: 0.2421233\ttotal: 4m 23s\tremaining: 31.9s\n",
      "894:\tlearn: 0.2420958\ttotal: 4m 24s\tremaining: 31s\n",
      "897:\tlearn: 0.2420575\ttotal: 4m 25s\tremaining: 30.1s\n",
      "900:\tlearn: 0.2420271\ttotal: 4m 26s\tremaining: 29.2s\n",
      "903:\tlearn: 0.2420020\ttotal: 4m 27s\tremaining: 28.4s\n",
      "906:\tlearn: 0.2419830\ttotal: 4m 27s\tremaining: 27.5s\n",
      "909:\tlearn: 0.2419530\ttotal: 4m 28s\tremaining: 26.6s\n",
      "912:\tlearn: 0.2419247\ttotal: 4m 29s\tremaining: 25.7s\n",
      "915:\tlearn: 0.2418971\ttotal: 4m 30s\tremaining: 24.8s\n",
      "918:\tlearn: 0.2418664\ttotal: 4m 31s\tremaining: 23.9s\n",
      "921:\tlearn: 0.2418327\ttotal: 4m 32s\tremaining: 23s\n",
      "924:\tlearn: 0.2418022\ttotal: 4m 33s\tremaining: 22.2s\n",
      "927:\tlearn: 0.2417759\ttotal: 4m 34s\tremaining: 21.3s\n",
      "930:\tlearn: 0.2417450\ttotal: 4m 35s\tremaining: 20.4s\n",
      "933:\tlearn: 0.2417127\ttotal: 4m 36s\tremaining: 19.5s\n",
      "936:\tlearn: 0.2416796\ttotal: 4m 36s\tremaining: 18.6s\n",
      "939:\tlearn: 0.2416506\ttotal: 4m 37s\tremaining: 17.7s\n",
      "942:\tlearn: 0.2416170\ttotal: 4m 38s\tremaining: 16.8s\n",
      "945:\tlearn: 0.2415890\ttotal: 4m 39s\tremaining: 16s\n",
      "948:\tlearn: 0.2415535\ttotal: 4m 40s\tremaining: 15.1s\n",
      "951:\tlearn: 0.2415203\ttotal: 4m 41s\tremaining: 14.2s\n",
      "954:\tlearn: 0.2414941\ttotal: 4m 42s\tremaining: 13.3s\n",
      "957:\tlearn: 0.2414642\ttotal: 4m 43s\tremaining: 12.4s\n",
      "960:\tlearn: 0.2414338\ttotal: 4m 44s\tremaining: 11.5s\n",
      "963:\tlearn: 0.2414008\ttotal: 4m 45s\tremaining: 10.6s\n",
      "966:\tlearn: 0.2413775\ttotal: 4m 45s\tremaining: 9.76s\n",
      "969:\tlearn: 0.2413485\ttotal: 4m 46s\tremaining: 8.87s\n",
      "972:\tlearn: 0.2413171\ttotal: 4m 47s\tremaining: 7.98s\n",
      "975:\tlearn: 0.2412904\ttotal: 4m 48s\tremaining: 7.1s\n",
      "978:\tlearn: 0.2412554\ttotal: 4m 49s\tremaining: 6.21s\n",
      "981:\tlearn: 0.2412277\ttotal: 4m 50s\tremaining: 5.32s\n",
      "984:\tlearn: 0.2411901\ttotal: 4m 51s\tremaining: 4.44s\n",
      "987:\tlearn: 0.2411595\ttotal: 4m 52s\tremaining: 3.55s\n",
      "990:\tlearn: 0.2411248\ttotal: 4m 53s\tremaining: 2.66s\n",
      "993:\tlearn: 0.2410845\ttotal: 4m 54s\tremaining: 1.77s\n",
      "996:\tlearn: 0.2410506\ttotal: 4m 54s\tremaining: 888ms\n",
      "999:\tlearn: 0.2410202\ttotal: 4m 55s\tremaining: 0us\n"
     ]
    },
    {
     "data": {
      "text/plain": [
       "<catboost.core.CatBoostClassifier at 0x7f856b622550>"
      ]
     },
     "execution_count": 10,
     "metadata": {
      "tags": []
     },
     "output_type": "execute_result"
    }
   ],
   "source": [
    "#Taking the best one.\n",
    "#lr = 0.01,iter : 500 , depth: 14 , bagging_temperature : 0.1\n",
    "clf = CatBoostClassifier(\n",
    "    iterations = 1000, \n",
    "    random_strength = 0.5,\n",
    "    depth = 14,\n",
    "    learning_rate=0.01,\n",
    "    bagging_temperature = 0.1,\n",
    "    verbose = 3,\n",
    "    task_type = \"GPU\",\n",
    ")\n",
    "\n",
    "#Mapping y into int format---- [0.0 , 1.0]---> [0,1] (Essential for catboost classifier)\n",
    "clf.fit(X_train, list(map(int , y_train)))\n"
   ]
  },
  {
   "cell_type": "code",
   "execution_count": null,
   "metadata": {
    "colab": {
     "base_uri": "https://localhost:8080/"
    },
    "id": "K3g7y5q_wSoc",
    "outputId": "86782ae6-0f37-4cf3-81e9-972935c1d613"
   },
   "outputs": [
    {
     "name": "stderr",
     "output_type": "stream",
     "text": [
      "100%|██████████| 27/27 [07:12<00:00, 16.00s/it]\n"
     ]
    }
   ],
   "source": [
    "thresholds = clf.predict_proba(X_test)[:, 1]\n",
    "f1_scores = []\n",
    "values = np.arange(np.mean(thresholds)-(2*np.std(thresholds)) , np.mean(thresholds) +(2*np.std(thresholds))  , 0.02)\n",
    "for value in tqdm(values):\n",
    "    y_pred = (clf.predict_proba(X_test)[:, 1] >= value).astype('int')\n",
    "    f1_scores.append(metrics.f1_score(y_test , y_pred))"
   ]
  },
  {
   "cell_type": "code",
   "execution_count": null,
   "metadata": {
    "colab": {
     "base_uri": "https://localhost:8080/",
     "height": 787
    },
    "id": "SwocXkGblIo6",
    "outputId": "d1fb1dfc-b932-4c0a-a734-dd88c96210a9"
   },
   "outputs": [
    {
     "name": "stderr",
     "output_type": "stream",
     "text": [
      "/usr/local/lib/python3.7/dist-packages/seaborn/_decorators.py:43: FutureWarning: Pass the following variables as keyword args: x, y. From version 0.12, the only valid positional argument will be `data`, and passing other arguments without an explicit keyword will result in an error or misinterpretation.\n",
      "  FutureWarning\n"
     ]
    },
    {
     "data": {
      "image/png": "[encoded data removed]",
      "text/plain": [
       "<Figure size 720x720 with 1 Axes>"
      ]
     },
     "metadata": {
      "needs_background": "light",
      "tags": []
     },
     "output_type": "display_data"
    }
   ],
   "source": [
    "plt.figure(figsize=(10,10))\n",
    "sns.barplot(values , f1_scores , color = \"red\")\n",
    "plt.xlabel(\"thresholds\")\n",
    "plt.ylabel(\"F1-score\")\n",
    "plt.title(\"Thresholds vs F1-score\")\n",
    "plt.grid(True)\n",
    "plt.xticks(rotation = 90)\n",
    "\n",
    "plt.show()"
   ]
  },
  {
   "cell_type": "code",
   "execution_count": null,
   "metadata": {
    "colab": {
     "base_uri": "https://localhost:8080/",
     "height": 330
    },
    "id": "6-QnlNyAwUVp",
    "outputId": "a0025755-deb5-4bdd-c141-a04474542ac7"
   },
   "outputs": [
    {
     "name": "stdout",
     "output_type": "stream",
     "text": [
      "Confusion Matrix for Test-\n"
     ]
    },
    {
     "data": {
      "text/plain": [
       "<matplotlib.axes._subplots.AxesSubplot at 0x7f85607f1c50>"
      ]
     },
     "execution_count": 13,
     "metadata": {
      "tags": []
     },
     "output_type": "execute_result"
    },
    {
     "data": {
      "image/png": "[encoded data removed]",
      "text/plain": [
       "<Figure size 432x288 with 2 Axes>"
      ]
     },
     "metadata": {
      "needs_background": "light",
      "tags": []
     },
     "output_type": "display_data"
    }
   ],
   "source": [
    "y_pred = (clf.predict_proba(X_test)[:, 1] >= 0.21).astype('int')\n",
    "#y_pred\n",
    "print(\"Confusion Matrix for Test-\")\n",
    "plot_confusion_matrix(y_test,y_pred)"
   ]
  },
  {
   "cell_type": "code",
   "execution_count": null,
   "metadata": {
    "colab": {
     "base_uri": "https://localhost:8080/"
    },
    "id": "CT_Gw-YCwkcY",
    "outputId": "f467c3b9-ad7f-422b-bc0e-b54912667036"
   },
   "outputs": [
    {
     "name": "stdout",
     "output_type": "stream",
     "text": [
      "Training F1 Score: 0.4511014708373535\n",
      "Test F1 Score: 0.4347217781994562\n"
     ]
    }
   ],
   "source": [
    "y_train_pred =(clf.predict_proba(X_train)[:, 1] >= 0.21).astype('int')\n",
    "print(\"Training F1 Score:\", metrics.f1_score(y_train , y_train_pred))\n",
    "print(\"Test F1 Score:\",metrics.f1_score(y_test , y_pred))"
   ]
  },
  {
   "cell_type": "code",
   "execution_count": null,
   "metadata": {
    "colab": {
     "base_uri": "https://localhost:8080/",
     "height": 628
    },
    "id": "ZGnQ2COAw9oQ",
    "outputId": "9700ab14-1d40-476d-b390-03cf4f08546f"
   },
   "outputs": [
    {
     "data": {
      "image/png": "[encoded data removed]",
      "text/plain": [
       "<Figure size 720x864 with 1 Axes>"
      ]
     },
     "metadata": {
      "needs_background": "light",
      "tags": []
     },
     "output_type": "display_data"
    }
   ],
   "source": [
    "features = X_train.columns\n",
    "importances = clf.feature_importances_\n",
    "indices = (np.argsort(importances))\n",
    "plt.figure(figsize=(10,12))\n",
    "plt.title('Feature Importances')\n",
    "plt.barh(range(len(indices)), importances[indices], color='r', align='center')\n",
    "plt.yticks(range(len(indices)), [features[i] for i in indices])\n",
    "plt.xlabel('Relative Importance')\n",
    "plt.show()"
   ]
  },
  {
   "cell_type": "code",
   "execution_count": null,
   "metadata": {
    "colab": {
     "base_uri": "https://localhost:8080/"
    },
    "id": "5KfEXJyNxBMd",
    "outputId": "08f387fa-9898-4338-b71b-060a0cf9bbcb"
   },
   "outputs": [
    {
     "name": "stdout",
     "output_type": "stream",
     "text": [
      "0:\tlearn: 0.6805344\ttotal: 341ms\tremaining: 5m 40s\n",
      "3:\tlearn: 0.6448192\ttotal: 1.27s\tremaining: 5m 16s\n",
      "6:\tlearn: 0.6123061\ttotal: 2.2s\tremaining: 5m 11s\n",
      "9:\tlearn: 0.5825188\ttotal: 3.04s\tremaining: 5m 1s\n",
      "12:\tlearn: 0.5552107\ttotal: 3.98s\tremaining: 5m 2s\n",
      "15:\tlearn: 0.5302147\ttotal: 4.94s\tremaining: 5m 3s\n",
      "18:\tlearn: 0.5073579\ttotal: 5.91s\tremaining: 5m 5s\n",
      "21:\tlearn: 0.4865786\ttotal: 6.87s\tremaining: 5m 5s\n",
      "24:\tlearn: 0.4677570\ttotal: 7.83s\tremaining: 5m 5s\n",
      "27:\tlearn: 0.4503520\ttotal: 8.79s\tremaining: 5m 5s\n",
      "30:\tlearn: 0.4344998\ttotal: 9.65s\tremaining: 5m 1s\n",
      "33:\tlearn: 0.4198920\ttotal: 10.6s\tremaining: 5m 1s\n",
      "36:\tlearn: 0.4067062\ttotal: 11.4s\tremaining: 4m 56s\n",
      "39:\tlearn: 0.3946271\ttotal: 12.3s\tremaining: 4m 56s\n",
      "42:\tlearn: 0.3834986\ttotal: 13.3s\tremaining: 4m 56s\n",
      "45:\tlearn: 0.3733513\ttotal: 14.3s\tremaining: 4m 55s\n",
      "48:\tlearn: 0.3640588\ttotal: 15.2s\tremaining: 4m 54s\n",
      "51:\tlearn: 0.3554690\ttotal: 16.1s\tremaining: 4m 53s\n",
      "54:\tlearn: 0.3475949\ttotal: 17.1s\tremaining: 4m 52s\n",
      "57:\tlearn: 0.3403903\ttotal: 18s\tremaining: 4m 52s\n",
      "60:\tlearn: 0.3337614\ttotal: 18.9s\tremaining: 4m 51s\n",
      "63:\tlearn: 0.3276030\ttotal: 19.8s\tremaining: 4m 50s\n",
      "66:\tlearn: 0.3219619\ttotal: 20.8s\tremaining: 4m 49s\n",
      "69:\tlearn: 0.3167607\ttotal: 21.7s\tremaining: 4m 48s\n",
      "72:\tlearn: 0.3119220\ttotal: 22.6s\tremaining: 4m 47s\n",
      "75:\tlearn: 0.3075610\ttotal: 23.4s\tremaining: 4m 44s\n",
      "78:\tlearn: 0.3035126\ttotal: 24.3s\tremaining: 4m 43s\n",
      "81:\tlearn: 0.2997215\ttotal: 25.3s\tremaining: 4m 42s\n",
      "84:\tlearn: 0.2962699\ttotal: 26.2s\tremaining: 4m 42s\n",
      "87:\tlearn: 0.2930918\ttotal: 27.2s\tremaining: 4m 41s\n",
      "90:\tlearn: 0.2901007\ttotal: 28.1s\tremaining: 4m 40s\n",
      "93:\tlearn: 0.2873589\ttotal: 29s\tremaining: 4m 39s\n",
      "96:\tlearn: 0.2847753\ttotal: 29.9s\tremaining: 4m 38s\n",
      "99:\tlearn: 0.2824175\ttotal: 30.9s\tremaining: 4m 37s\n",
      "102:\tlearn: 0.2802293\ttotal: 31.8s\tremaining: 4m 37s\n",
      "105:\tlearn: 0.2782165\ttotal: 32.7s\tremaining: 4m 36s\n",
      "108:\tlearn: 0.2763496\ttotal: 33.7s\tremaining: 4m 35s\n",
      "111:\tlearn: 0.2746416\ttotal: 34.6s\tremaining: 4m 34s\n",
      "114:\tlearn: 0.2729917\ttotal: 35.5s\tremaining: 4m 33s\n",
      "117:\tlearn: 0.2714700\ttotal: 36.5s\tremaining: 4m 32s\n",
      "120:\tlearn: 0.2700709\ttotal: 37.4s\tremaining: 4m 31s\n",
      "123:\tlearn: 0.2687773\ttotal: 38.3s\tremaining: 4m 30s\n",
      "126:\tlearn: 0.2675808\ttotal: 39.3s\tremaining: 4m 29s\n",
      "129:\tlearn: 0.2664348\ttotal: 40.2s\tremaining: 4m 29s\n",
      "132:\tlearn: 0.2653698\ttotal: 41.1s\tremaining: 4m 28s\n",
      "135:\tlearn: 0.2643766\ttotal: 42.1s\tremaining: 4m 27s\n",
      "138:\tlearn: 0.2634475\ttotal: 43s\tremaining: 4m 26s\n",
      "141:\tlearn: 0.2625774\ttotal: 43.9s\tremaining: 4m 25s\n",
      "144:\tlearn: 0.2617954\ttotal: 44.9s\tremaining: 4m 24s\n",
      "147:\tlearn: 0.2610493\ttotal: 45.8s\tremaining: 4m 23s\n",
      "150:\tlearn: 0.2603326\ttotal: 46.7s\tremaining: 4m 22s\n",
      "153:\tlearn: 0.2596655\ttotal: 47.7s\tremaining: 4m 21s\n",
      "156:\tlearn: 0.2590443\ttotal: 48.6s\tremaining: 4m 20s\n",
      "159:\tlearn: 0.2584611\ttotal: 49.5s\tremaining: 4m 20s\n",
      "162:\tlearn: 0.2579315\ttotal: 50.5s\tremaining: 4m 19s\n",
      "165:\tlearn: 0.2573900\ttotal: 51.4s\tremaining: 4m 18s\n",
      "168:\tlearn: 0.2568874\ttotal: 52.3s\tremaining: 4m 17s\n",
      "171:\tlearn: 0.2564011\ttotal: 53.3s\tremaining: 4m 16s\n",
      "174:\tlearn: 0.2559634\ttotal: 54.2s\tremaining: 4m 15s\n",
      "177:\tlearn: 0.2555703\ttotal: 55.1s\tremaining: 4m 14s\n",
      "180:\tlearn: 0.2551786\ttotal: 56.1s\tremaining: 4m 13s\n",
      "183:\tlearn: 0.2548133\ttotal: 57s\tremaining: 4m 12s\n",
      "186:\tlearn: 0.2544680\ttotal: 57.9s\tremaining: 4m 11s\n",
      "189:\tlearn: 0.2541387\ttotal: 58.8s\tremaining: 4m 10s\n",
      "192:\tlearn: 0.2538173\ttotal: 59.8s\tremaining: 4m 9s\n",
      "195:\tlearn: 0.2535374\ttotal: 1m\tremaining: 4m 8s\n",
      "198:\tlearn: 0.2532674\ttotal: 1m 1s\tremaining: 4m 8s\n",
      "201:\tlearn: 0.2530001\ttotal: 1m 2s\tremaining: 4m 7s\n",
      "204:\tlearn: 0.2527648\ttotal: 1m 3s\tremaining: 4m 6s\n",
      "207:\tlearn: 0.2525411\ttotal: 1m 4s\tremaining: 4m 5s\n",
      "210:\tlearn: 0.2523252\ttotal: 1m 5s\tremaining: 4m 4s\n",
      "213:\tlearn: 0.2521191\ttotal: 1m 6s\tremaining: 4m 3s\n",
      "216:\tlearn: 0.2519143\ttotal: 1m 7s\tremaining: 4m 2s\n",
      "219:\tlearn: 0.2517295\ttotal: 1m 8s\tremaining: 4m 1s\n",
      "222:\tlearn: 0.2515557\ttotal: 1m 9s\tremaining: 4m\n",
      "225:\tlearn: 0.2513919\ttotal: 1m 10s\tremaining: 3m 59s\n",
      "228:\tlearn: 0.2512203\ttotal: 1m 10s\tremaining: 3m 58s\n",
      "231:\tlearn: 0.2510623\ttotal: 1m 11s\tremaining: 3m 57s\n",
      "234:\tlearn: 0.2509286\ttotal: 1m 12s\tremaining: 3m 56s\n",
      "237:\tlearn: 0.2507856\ttotal: 1m 13s\tremaining: 3m 56s\n",
      "240:\tlearn: 0.2506486\ttotal: 1m 14s\tremaining: 3m 55s\n",
      "243:\tlearn: 0.2505275\ttotal: 1m 15s\tremaining: 3m 54s\n",
      "246:\tlearn: 0.2504035\ttotal: 1m 16s\tremaining: 3m 53s\n",
      "249:\tlearn: 0.2502889\ttotal: 1m 17s\tremaining: 3m 52s\n",
      "252:\tlearn: 0.2501819\ttotal: 1m 18s\tremaining: 3m 51s\n",
      "255:\tlearn: 0.2500781\ttotal: 1m 19s\tremaining: 3m 50s\n",
      "258:\tlearn: 0.2499806\ttotal: 1m 20s\tremaining: 3m 49s\n",
      "261:\tlearn: 0.2498891\ttotal: 1m 21s\tremaining: 3m 48s\n",
      "264:\tlearn: 0.2497916\ttotal: 1m 22s\tremaining: 3m 47s\n",
      "267:\tlearn: 0.2497049\ttotal: 1m 23s\tremaining: 3m 46s\n",
      "270:\tlearn: 0.2496284\ttotal: 1m 24s\tremaining: 3m 46s\n",
      "273:\tlearn: 0.2495444\ttotal: 1m 24s\tremaining: 3m 45s\n",
      "276:\tlearn: 0.2494718\ttotal: 1m 25s\tremaining: 3m 44s\n",
      "279:\tlearn: 0.2493974\ttotal: 1m 26s\tremaining: 3m 43s\n",
      "282:\tlearn: 0.2493226\ttotal: 1m 27s\tremaining: 3m 42s\n",
      "285:\tlearn: 0.2492555\ttotal: 1m 28s\tremaining: 3m 41s\n",
      "288:\tlearn: 0.2491870\ttotal: 1m 29s\tremaining: 3m 40s\n",
      "291:\tlearn: 0.2491316\ttotal: 1m 30s\tremaining: 3m 39s\n",
      "294:\tlearn: 0.2490774\ttotal: 1m 31s\tremaining: 3m 38s\n",
      "297:\tlearn: 0.2490240\ttotal: 1m 32s\tremaining: 3m 37s\n",
      "300:\tlearn: 0.2489686\ttotal: 1m 33s\tremaining: 3m 36s\n",
      "303:\tlearn: 0.2489136\ttotal: 1m 34s\tremaining: 3m 35s\n",
      "306:\tlearn: 0.2488684\ttotal: 1m 35s\tremaining: 3m 35s\n",
      "309:\tlearn: 0.2488243\ttotal: 1m 36s\tremaining: 3m 34s\n",
      "312:\tlearn: 0.2487758\ttotal: 1m 37s\tremaining: 3m 33s\n",
      "315:\tlearn: 0.2487316\ttotal: 1m 38s\tremaining: 3m 32s\n",
      "318:\tlearn: 0.2486773\ttotal: 1m 39s\tremaining: 3m 31s\n",
      "321:\tlearn: 0.2486337\ttotal: 1m 39s\tremaining: 3m 30s\n",
      "324:\tlearn: 0.2485923\ttotal: 1m 40s\tremaining: 3m 29s\n",
      "327:\tlearn: 0.2485471\ttotal: 1m 41s\tremaining: 3m 28s\n",
      "330:\tlearn: 0.2485087\ttotal: 1m 42s\tremaining: 3m 27s\n",
      "333:\tlearn: 0.2484642\ttotal: 1m 43s\tremaining: 3m 26s\n",
      "336:\tlearn: 0.2484163\ttotal: 1m 44s\tremaining: 3m 26s\n",
      "339:\tlearn: 0.2483812\ttotal: 1m 45s\tremaining: 3m 25s\n",
      "342:\tlearn: 0.2483426\ttotal: 1m 46s\tremaining: 3m 24s\n",
      "345:\tlearn: 0.2482982\ttotal: 1m 47s\tremaining: 3m 23s\n",
      "348:\tlearn: 0.2482557\ttotal: 1m 48s\tremaining: 3m 22s\n",
      "351:\tlearn: 0.2482198\ttotal: 1m 49s\tremaining: 3m 21s\n",
      "354:\tlearn: 0.2481815\ttotal: 1m 50s\tremaining: 3m 20s\n",
      "357:\tlearn: 0.2481488\ttotal: 1m 51s\tremaining: 3m 19s\n",
      "360:\tlearn: 0.2481143\ttotal: 1m 52s\tremaining: 3m 18s\n",
      "363:\tlearn: 0.2480744\ttotal: 1m 53s\tremaining: 3m 17s\n",
      "366:\tlearn: 0.2480383\ttotal: 1m 54s\tremaining: 3m 16s\n",
      "369:\tlearn: 0.2480008\ttotal: 1m 55s\tremaining: 3m 16s\n",
      "372:\tlearn: 0.2479625\ttotal: 1m 56s\tremaining: 3m 15s\n",
      "375:\tlearn: 0.2479289\ttotal: 1m 57s\tremaining: 3m 14s\n",
      "378:\tlearn: 0.2478958\ttotal: 1m 57s\tremaining: 3m 13s\n",
      "381:\tlearn: 0.2478622\ttotal: 1m 58s\tremaining: 3m 12s\n",
      "384:\tlearn: 0.2478300\ttotal: 1m 59s\tremaining: 3m 11s\n",
      "387:\tlearn: 0.2478020\ttotal: 2m\tremaining: 3m 10s\n",
      "390:\tlearn: 0.2477709\ttotal: 2m 1s\tremaining: 3m 9s\n",
      "393:\tlearn: 0.2477417\ttotal: 2m 2s\tremaining: 3m 8s\n",
      "396:\tlearn: 0.2477115\ttotal: 2m 3s\tremaining: 3m 7s\n",
      "399:\tlearn: 0.2476815\ttotal: 2m 4s\tremaining: 3m 6s\n",
      "402:\tlearn: 0.2476475\ttotal: 2m 5s\tremaining: 3m 5s\n",
      "405:\tlearn: 0.2476199\ttotal: 2m 6s\tremaining: 3m 4s\n",
      "408:\tlearn: 0.2475911\ttotal: 2m 7s\tremaining: 3m 4s\n",
      "411:\tlearn: 0.2475633\ttotal: 2m 8s\tremaining: 3m 3s\n",
      "414:\tlearn: 0.2475313\ttotal: 2m 9s\tremaining: 3m 2s\n",
      "417:\tlearn: 0.2475023\ttotal: 2m 10s\tremaining: 3m 1s\n",
      "420:\tlearn: 0.2474754\ttotal: 2m 11s\tremaining: 3m\n",
      "423:\tlearn: 0.2474424\ttotal: 2m 12s\tremaining: 2m 59s\n",
      "426:\tlearn: 0.2474175\ttotal: 2m 12s\tremaining: 2m 58s\n",
      "429:\tlearn: 0.2473871\ttotal: 2m 13s\tremaining: 2m 57s\n",
      "432:\tlearn: 0.2473572\ttotal: 2m 14s\tremaining: 2m 56s\n",
      "435:\tlearn: 0.2473293\ttotal: 2m 15s\tremaining: 2m 55s\n",
      "438:\tlearn: 0.2473031\ttotal: 2m 16s\tremaining: 2m 54s\n",
      "441:\tlearn: 0.2472735\ttotal: 2m 17s\tremaining: 2m 53s\n",
      "444:\tlearn: 0.2472458\ttotal: 2m 18s\tremaining: 2m 52s\n",
      "447:\tlearn: 0.2472131\ttotal: 2m 19s\tremaining: 2m 51s\n",
      "450:\tlearn: 0.2471866\ttotal: 2m 20s\tremaining: 2m 50s\n",
      "453:\tlearn: 0.2471649\ttotal: 2m 21s\tremaining: 2m 50s\n",
      "456:\tlearn: 0.2471391\ttotal: 2m 22s\tremaining: 2m 49s\n",
      "459:\tlearn: 0.2471054\ttotal: 2m 23s\tremaining: 2m 48s\n",
      "462:\tlearn: 0.2470802\ttotal: 2m 24s\tremaining: 2m 47s\n",
      "465:\tlearn: 0.2470553\ttotal: 2m 25s\tremaining: 2m 46s\n",
      "468:\tlearn: 0.2470273\ttotal: 2m 26s\tremaining: 2m 45s\n",
      "471:\tlearn: 0.2469986\ttotal: 2m 27s\tremaining: 2m 44s\n",
      "474:\tlearn: 0.2469721\ttotal: 2m 27s\tremaining: 2m 43s\n",
      "477:\tlearn: 0.2469484\ttotal: 2m 28s\tremaining: 2m 42s\n",
      "480:\tlearn: 0.2469191\ttotal: 2m 29s\tremaining: 2m 41s\n",
      "483:\tlearn: 0.2468954\ttotal: 2m 30s\tremaining: 2m 40s\n",
      "486:\tlearn: 0.2468640\ttotal: 2m 31s\tremaining: 2m 39s\n",
      "489:\tlearn: 0.2468354\ttotal: 2m 32s\tremaining: 2m 38s\n",
      "492:\tlearn: 0.2468138\ttotal: 2m 33s\tremaining: 2m 37s\n",
      "495:\tlearn: 0.2467916\ttotal: 2m 34s\tremaining: 2m 37s\n",
      "498:\tlearn: 0.2467658\ttotal: 2m 35s\tremaining: 2m 36s\n",
      "501:\tlearn: 0.2467475\ttotal: 2m 36s\tremaining: 2m 35s\n",
      "504:\tlearn: 0.2467239\ttotal: 2m 37s\tremaining: 2m 34s\n",
      "507:\tlearn: 0.2466979\ttotal: 2m 38s\tremaining: 2m 33s\n",
      "510:\tlearn: 0.2466760\ttotal: 2m 39s\tremaining: 2m 32s\n",
      "513:\tlearn: 0.2466554\ttotal: 2m 40s\tremaining: 2m 31s\n",
      "516:\tlearn: 0.2466308\ttotal: 2m 41s\tremaining: 2m 30s\n",
      "519:\tlearn: 0.2466028\ttotal: 2m 42s\tremaining: 2m 29s\n",
      "522:\tlearn: 0.2465774\ttotal: 2m 43s\tremaining: 2m 28s\n",
      "525:\tlearn: 0.2465550\ttotal: 2m 44s\tremaining: 2m 27s\n",
      "528:\tlearn: 0.2465336\ttotal: 2m 44s\tremaining: 2m 26s\n",
      "531:\tlearn: 0.2465134\ttotal: 2m 45s\tremaining: 2m 25s\n",
      "534:\tlearn: 0.2464924\ttotal: 2m 46s\tremaining: 2m 24s\n",
      "537:\tlearn: 0.2464673\ttotal: 2m 47s\tremaining: 2m 24s\n",
      "540:\tlearn: 0.2464414\ttotal: 2m 48s\tremaining: 2m 23s\n",
      "543:\tlearn: 0.2464190\ttotal: 2m 49s\tremaining: 2m 22s\n",
      "546:\tlearn: 0.2463933\ttotal: 2m 50s\tremaining: 2m 21s\n",
      "549:\tlearn: 0.2463722\ttotal: 2m 51s\tremaining: 2m 20s\n",
      "552:\tlearn: 0.2463465\ttotal: 2m 52s\tremaining: 2m 19s\n",
      "555:\tlearn: 0.2463235\ttotal: 2m 53s\tremaining: 2m 18s\n",
      "558:\tlearn: 0.2462987\ttotal: 2m 54s\tremaining: 2m 17s\n",
      "561:\tlearn: 0.2462748\ttotal: 2m 55s\tremaining: 2m 16s\n",
      "564:\tlearn: 0.2462475\ttotal: 2m 56s\tremaining: 2m 15s\n",
      "567:\tlearn: 0.2462252\ttotal: 2m 57s\tremaining: 2m 14s\n",
      "570:\tlearn: 0.2461951\ttotal: 2m 58s\tremaining: 2m 13s\n",
      "573:\tlearn: 0.2461731\ttotal: 2m 59s\tremaining: 2m 12s\n",
      "576:\tlearn: 0.2461447\ttotal: 3m\tremaining: 2m 12s\n",
      "579:\tlearn: 0.2461262\ttotal: 3m\tremaining: 2m 11s\n",
      "582:\tlearn: 0.2461027\ttotal: 3m 1s\tremaining: 2m 10s\n",
      "585:\tlearn: 0.2460795\ttotal: 3m 2s\tremaining: 2m 9s\n",
      "588:\tlearn: 0.2460551\ttotal: 3m 3s\tremaining: 2m 8s\n",
      "591:\tlearn: 0.2460290\ttotal: 3m 4s\tremaining: 2m 7s\n",
      "594:\tlearn: 0.2460067\ttotal: 3m 5s\tremaining: 2m 6s\n",
      "597:\tlearn: 0.2459850\ttotal: 3m 6s\tremaining: 2m 5s\n",
      "600:\tlearn: 0.2459645\ttotal: 3m 7s\tremaining: 2m 4s\n",
      "603:\tlearn: 0.2459405\ttotal: 3m 8s\tremaining: 2m 3s\n",
      "606:\tlearn: 0.2459170\ttotal: 3m 9s\tremaining: 2m 2s\n",
      "609:\tlearn: 0.2458925\ttotal: 3m 10s\tremaining: 2m 1s\n",
      "612:\tlearn: 0.2458711\ttotal: 3m 11s\tremaining: 2m\n",
      "615:\tlearn: 0.2458472\ttotal: 3m 12s\tremaining: 1m 59s\n",
      "618:\tlearn: 0.2458218\ttotal: 3m 13s\tremaining: 1m 58s\n",
      "621:\tlearn: 0.2457956\ttotal: 3m 14s\tremaining: 1m 58s\n",
      "624:\tlearn: 0.2457676\ttotal: 3m 15s\tremaining: 1m 57s\n",
      "627:\tlearn: 0.2457389\ttotal: 3m 16s\tremaining: 1m 56s\n",
      "630:\tlearn: 0.2457115\ttotal: 3m 17s\tremaining: 1m 55s\n",
      "633:\tlearn: 0.2456854\ttotal: 3m 18s\tremaining: 1m 54s\n",
      "636:\tlearn: 0.2456633\ttotal: 3m 19s\tremaining: 1m 53s\n",
      "639:\tlearn: 0.2456419\ttotal: 3m 19s\tremaining: 1m 52s\n",
      "642:\tlearn: 0.2456192\ttotal: 3m 20s\tremaining: 1m 51s\n",
      "645:\tlearn: 0.2455906\ttotal: 3m 21s\tremaining: 1m 50s\n",
      "648:\tlearn: 0.2455663\ttotal: 3m 22s\tremaining: 1m 49s\n",
      "651:\tlearn: 0.2455441\ttotal: 3m 23s\tremaining: 1m 48s\n",
      "654:\tlearn: 0.2455168\ttotal: 3m 24s\tremaining: 1m 47s\n",
      "657:\tlearn: 0.2454887\ttotal: 3m 25s\tremaining: 1m 46s\n",
      "660:\tlearn: 0.2454697\ttotal: 3m 26s\tremaining: 1m 45s\n",
      "663:\tlearn: 0.2454547\ttotal: 3m 27s\tremaining: 1m 45s\n",
      "666:\tlearn: 0.2454274\ttotal: 3m 28s\tremaining: 1m 44s\n",
      "669:\tlearn: 0.2454057\ttotal: 3m 29s\tremaining: 1m 43s\n",
      "672:\tlearn: 0.2453826\ttotal: 3m 30s\tremaining: 1m 42s\n",
      "675:\tlearn: 0.2453540\ttotal: 3m 31s\tremaining: 1m 41s\n",
      "678:\tlearn: 0.2453293\ttotal: 3m 32s\tremaining: 1m 40s\n",
      "681:\tlearn: 0.2453073\ttotal: 3m 33s\tremaining: 1m 39s\n",
      "684:\tlearn: 0.2452834\ttotal: 3m 34s\tremaining: 1m 38s\n",
      "687:\tlearn: 0.2452630\ttotal: 3m 35s\tremaining: 1m 37s\n",
      "690:\tlearn: 0.2452350\ttotal: 3m 36s\tremaining: 1m 36s\n",
      "693:\tlearn: 0.2452109\ttotal: 3m 36s\tremaining: 1m 35s\n",
      "696:\tlearn: 0.2451913\ttotal: 3m 37s\tremaining: 1m 34s\n",
      "699:\tlearn: 0.2451651\ttotal: 3m 38s\tremaining: 1m 33s\n",
      "702:\tlearn: 0.2451428\ttotal: 3m 39s\tremaining: 1m 32s\n",
      "705:\tlearn: 0.2451192\ttotal: 3m 40s\tremaining: 1m 31s\n",
      "708:\tlearn: 0.2450921\ttotal: 3m 41s\tremaining: 1m 30s\n",
      "711:\tlearn: 0.2450762\ttotal: 3m 42s\tremaining: 1m 30s\n",
      "714:\tlearn: 0.2450481\ttotal: 3m 43s\tremaining: 1m 29s\n",
      "717:\tlearn: 0.2450204\ttotal: 3m 44s\tremaining: 1m 28s\n",
      "720:\tlearn: 0.2449981\ttotal: 3m 45s\tremaining: 1m 27s\n",
      "723:\tlearn: 0.2449721\ttotal: 3m 46s\tremaining: 1m 26s\n",
      "726:\tlearn: 0.2449458\ttotal: 3m 47s\tremaining: 1m 25s\n",
      "729:\tlearn: 0.2449236\ttotal: 3m 48s\tremaining: 1m 24s\n",
      "732:\tlearn: 0.2449036\ttotal: 3m 49s\tremaining: 1m 23s\n",
      "735:\tlearn: 0.2448813\ttotal: 3m 50s\tremaining: 1m 22s\n",
      "738:\tlearn: 0.2448605\ttotal: 3m 51s\tremaining: 1m 21s\n",
      "741:\tlearn: 0.2448398\ttotal: 3m 52s\tremaining: 1m 20s\n",
      "744:\tlearn: 0.2448169\ttotal: 3m 53s\tremaining: 1m 19s\n",
      "747:\tlearn: 0.2447859\ttotal: 3m 53s\tremaining: 1m 18s\n",
      "750:\tlearn: 0.2447516\ttotal: 3m 54s\tremaining: 1m 17s\n",
      "753:\tlearn: 0.2447349\ttotal: 3m 55s\tremaining: 1m 16s\n",
      "756:\tlearn: 0.2447119\ttotal: 3m 56s\tremaining: 1m 16s\n",
      "759:\tlearn: 0.2446857\ttotal: 3m 57s\tremaining: 1m 15s\n",
      "762:\tlearn: 0.2446617\ttotal: 3m 58s\tremaining: 1m 14s\n",
      "765:\tlearn: 0.2446417\ttotal: 3m 59s\tremaining: 1m 13s\n",
      "768:\tlearn: 0.2446232\ttotal: 4m\tremaining: 1m 12s\n",
      "771:\tlearn: 0.2446038\ttotal: 4m 1s\tremaining: 1m 11s\n",
      "774:\tlearn: 0.2445859\ttotal: 4m 2s\tremaining: 1m 10s\n",
      "777:\tlearn: 0.2445614\ttotal: 4m 3s\tremaining: 1m 9s\n",
      "780:\tlearn: 0.2445420\ttotal: 4m 4s\tremaining: 1m 8s\n",
      "783:\tlearn: 0.2445212\ttotal: 4m 5s\tremaining: 1m 7s\n",
      "786:\tlearn: 0.2444996\ttotal: 4m 6s\tremaining: 1m 6s\n",
      "789:\tlearn: 0.2444861\ttotal: 4m 7s\tremaining: 1m 5s\n",
      "792:\tlearn: 0.2444661\ttotal: 4m 8s\tremaining: 1m 4s\n",
      "795:\tlearn: 0.2444392\ttotal: 4m 9s\tremaining: 1m 3s\n",
      "798:\tlearn: 0.2444208\ttotal: 4m 10s\tremaining: 1m 2s\n",
      "801:\tlearn: 0.2443925\ttotal: 4m 10s\tremaining: 1m 1s\n",
      "804:\tlearn: 0.2443667\ttotal: 4m 11s\tremaining: 1m 1s\n",
      "807:\tlearn: 0.2443381\ttotal: 4m 12s\tremaining: 1m\n",
      "810:\tlearn: 0.2443124\ttotal: 4m 13s\tremaining: 59.2s\n",
      "813:\tlearn: 0.2442890\ttotal: 4m 14s\tremaining: 58.2s\n",
      "816:\tlearn: 0.2442687\ttotal: 4m 15s\tremaining: 57.3s\n",
      "819:\tlearn: 0.2442498\ttotal: 4m 16s\tremaining: 56.3s\n",
      "822:\tlearn: 0.2442301\ttotal: 4m 17s\tremaining: 55.4s\n",
      "825:\tlearn: 0.2442108\ttotal: 4m 18s\tremaining: 54.5s\n",
      "828:\tlearn: 0.2441877\ttotal: 4m 19s\tremaining: 53.5s\n",
      "831:\tlearn: 0.2441704\ttotal: 4m 20s\tremaining: 52.6s\n",
      "834:\tlearn: 0.2441420\ttotal: 4m 21s\tremaining: 51.7s\n",
      "837:\tlearn: 0.2441211\ttotal: 4m 22s\tremaining: 50.7s\n",
      "840:\tlearn: 0.2441017\ttotal: 4m 23s\tremaining: 49.8s\n",
      "843:\tlearn: 0.2440845\ttotal: 4m 24s\tremaining: 48.8s\n",
      "846:\tlearn: 0.2440608\ttotal: 4m 25s\tremaining: 47.9s\n",
      "849:\tlearn: 0.2440454\ttotal: 4m 26s\tremaining: 47s\n",
      "852:\tlearn: 0.2440174\ttotal: 4m 27s\tremaining: 46s\n",
      "855:\tlearn: 0.2439976\ttotal: 4m 28s\tremaining: 45.1s\n",
      "858:\tlearn: 0.2439778\ttotal: 4m 29s\tremaining: 44.2s\n",
      "861:\tlearn: 0.2439506\ttotal: 4m 29s\tremaining: 43.2s\n",
      "864:\tlearn: 0.2439310\ttotal: 4m 30s\tremaining: 42.3s\n",
      "867:\tlearn: 0.2439130\ttotal: 4m 31s\tremaining: 41.3s\n",
      "870:\tlearn: 0.2438877\ttotal: 4m 32s\tremaining: 40.4s\n",
      "873:\tlearn: 0.2438638\ttotal: 4m 33s\tremaining: 39.5s\n",
      "876:\tlearn: 0.2438438\ttotal: 4m 34s\tremaining: 38.5s\n",
      "879:\tlearn: 0.2438206\ttotal: 4m 35s\tremaining: 37.6s\n",
      "882:\tlearn: 0.2437956\ttotal: 4m 36s\tremaining: 36.6s\n",
      "885:\tlearn: 0.2437731\ttotal: 4m 37s\tremaining: 35.7s\n",
      "888:\tlearn: 0.2437453\ttotal: 4m 38s\tremaining: 34.8s\n",
      "891:\tlearn: 0.2437245\ttotal: 4m 39s\tremaining: 33.8s\n",
      "894:\tlearn: 0.2437002\ttotal: 4m 40s\tremaining: 32.9s\n",
      "897:\tlearn: 0.2436773\ttotal: 4m 41s\tremaining: 31.9s\n",
      "900:\tlearn: 0.2436590\ttotal: 4m 42s\tremaining: 31s\n",
      "903:\tlearn: 0.2436321\ttotal: 4m 43s\tremaining: 30.1s\n",
      "906:\tlearn: 0.2436131\ttotal: 4m 44s\tremaining: 29.1s\n",
      "909:\tlearn: 0.2435915\ttotal: 4m 45s\tremaining: 28.2s\n",
      "912:\tlearn: 0.2435672\ttotal: 4m 45s\tremaining: 27.2s\n",
      "915:\tlearn: 0.2435462\ttotal: 4m 46s\tremaining: 26.3s\n",
      "918:\tlearn: 0.2435267\ttotal: 4m 47s\tremaining: 25.4s\n",
      "921:\tlearn: 0.2435003\ttotal: 4m 48s\tremaining: 24.4s\n",
      "924:\tlearn: 0.2434755\ttotal: 4m 49s\tremaining: 23.5s\n",
      "927:\tlearn: 0.2434535\ttotal: 4m 50s\tremaining: 22.6s\n",
      "930:\tlearn: 0.2434284\ttotal: 4m 51s\tremaining: 21.6s\n",
      "933:\tlearn: 0.2433993\ttotal: 4m 52s\tremaining: 20.7s\n",
      "936:\tlearn: 0.2433791\ttotal: 4m 53s\tremaining: 19.7s\n",
      "939:\tlearn: 0.2433609\ttotal: 4m 54s\tremaining: 18.8s\n",
      "942:\tlearn: 0.2433415\ttotal: 4m 55s\tremaining: 17.9s\n",
      "945:\tlearn: 0.2433144\ttotal: 4m 56s\tremaining: 16.9s\n",
      "948:\tlearn: 0.2432932\ttotal: 4m 57s\tremaining: 16s\n",
      "951:\tlearn: 0.2432730\ttotal: 4m 58s\tremaining: 15s\n",
      "954:\tlearn: 0.2432500\ttotal: 4m 59s\tremaining: 14.1s\n",
      "957:\tlearn: 0.2432286\ttotal: 5m\tremaining: 13.2s\n",
      "960:\tlearn: 0.2432038\ttotal: 5m 1s\tremaining: 12.2s\n",
      "963:\tlearn: 0.2431787\ttotal: 5m 2s\tremaining: 11.3s\n",
      "966:\tlearn: 0.2431596\ttotal: 5m 3s\tremaining: 10.3s\n",
      "969:\tlearn: 0.2431336\ttotal: 5m 3s\tremaining: 9.4s\n",
      "972:\tlearn: 0.2431134\ttotal: 5m 4s\tremaining: 8.46s\n",
      "975:\tlearn: 0.2430920\ttotal: 5m 5s\tremaining: 7.52s\n",
      "978:\tlearn: 0.2430717\ttotal: 5m 6s\tremaining: 6.58s\n",
      "981:\tlearn: 0.2430523\ttotal: 5m 7s\tremaining: 5.64s\n",
      "984:\tlearn: 0.2430334\ttotal: 5m 8s\tremaining: 4.7s\n",
      "987:\tlearn: 0.2430139\ttotal: 5m 9s\tremaining: 3.76s\n",
      "990:\tlearn: 0.2429908\ttotal: 5m 10s\tremaining: 2.82s\n",
      "993:\tlearn: 0.2429678\ttotal: 5m 11s\tremaining: 1.88s\n",
      "996:\tlearn: 0.2429463\ttotal: 5m 12s\tremaining: 940ms\n",
      "999:\tlearn: 0.2429198\ttotal: 5m 13s\tremaining: 0us\n"
     ]
    },
    {
     "data": {
      "text/plain": [
       "<catboost.core.CatBoostClassifier at 0x7f856b622550>"
      ]
     },
     "execution_count": 16,
     "metadata": {
      "tags": []
     },
     "output_type": "execute_result"
    }
   ],
   "source": [
    "# Entire Data\n",
    "clf.fit(data_train.drop(['reordered', 'uxp_ratio_last_five'], axis=1), data_train.reordered)"
   ]
  },
  {
   "cell_type": "code",
   "execution_count": null,
   "metadata": {
    "id": "g8ygyOE07nhF"
   },
   "outputs": [],
   "source": [
    "import pickle\n",
    "filename = 'Catboost_model.sav'\n",
    "pickle.dump(clf, open(filename, 'wb'))"
   ]
  },
  {
   "cell_type": "code",
   "execution_count": null,
   "metadata": {
    "id": "vi0JE3JK9iJV"
   },
   "outputs": [],
   "source": [
    "y_pred_test = (clf.predict_proba(data_test.drop('uxp_ratio_last_five', axis=1))[:, 1] >= 0.21).astype('int')"
   ]
  },
  {
   "cell_type": "code",
   "execution_count": null,
   "metadata": {
    "colab": {
     "base_uri": "https://localhost:8080/",
     "height": 226
    },
    "id": "oMPcXm3k9o1D",
    "outputId": "a6f72055-1b18-458e-b349-4b959cd7c4dc"
   },
   "outputs": [
    {
     "data": {
      "text/html": [
       "<div>\n",
       "<style scoped>\n",
       "    .dataframe tbody tr th:only-of-type {\n",
       "        vertical-align: middle;\n",
       "    }\n",
       "\n",
       "    .dataframe tbody tr th {\n",
       "        vertical-align: top;\n",
       "    }\n",
       "\n",
       "    .dataframe thead th {\n",
       "        text-align: right;\n",
       "    }\n",
       "</style>\n",
       "<table border=\"1\" class=\"dataframe\">\n",
       "  <thead>\n",
       "    <tr style=\"text-align: right;\">\n",
       "      <th></th>\n",
       "      <th>user_id</th>\n",
       "      <th>product_id</th>\n",
       "      <th>uxp_times_bought</th>\n",
       "      <th>uxp_reorder_ratio</th>\n",
       "      <th>uxp_last_five</th>\n",
       "      <th>uxp_ratio_last_five</th>\n",
       "      <th>u_num_of_orders</th>\n",
       "      <th>u_avg_prd</th>\n",
       "      <th>dow_u_most_orders</th>\n",
       "      <th>hod_u_most_orders</th>\n",
       "      <th>u_reorder_ratio</th>\n",
       "      <th>average_days_between_orders</th>\n",
       "      <th>u_total_items_bought</th>\n",
       "      <th>p_num_of_times</th>\n",
       "      <th>p_reorder_ratio</th>\n",
       "      <th>p_avg_cart_position</th>\n",
       "      <th>aisle_id</th>\n",
       "      <th>department_id</th>\n",
       "      <th>prediction</th>\n",
       "    </tr>\n",
       "  </thead>\n",
       "  <tbody>\n",
       "    <tr>\n",
       "      <th>0</th>\n",
       "      <td>3</td>\n",
       "      <td>248</td>\n",
       "      <td>1</td>\n",
       "      <td>0.090909</td>\n",
       "      <td>0.0</td>\n",
       "      <td>0.0</td>\n",
       "      <td>12</td>\n",
       "      <td>7.333333</td>\n",
       "      <td>0</td>\n",
       "      <td>16</td>\n",
       "      <td>0.625</td>\n",
       "      <td>13.590909</td>\n",
       "      <td>88</td>\n",
       "      <td>6371</td>\n",
       "      <td>0.400251</td>\n",
       "      <td>10.620782</td>\n",
       "      <td>0.070016</td>\n",
       "      <td>0.088504</td>\n",
       "      <td>0</td>\n",
       "    </tr>\n",
       "    <tr>\n",
       "      <th>1</th>\n",
       "      <td>3</td>\n",
       "      <td>1005</td>\n",
       "      <td>1</td>\n",
       "      <td>0.333333</td>\n",
       "      <td>1.0</td>\n",
       "      <td>0.2</td>\n",
       "      <td>12</td>\n",
       "      <td>7.333333</td>\n",
       "      <td>0</td>\n",
       "      <td>16</td>\n",
       "      <td>0.625</td>\n",
       "      <td>13.590909</td>\n",
       "      <td>88</td>\n",
       "      <td>463</td>\n",
       "      <td>0.440605</td>\n",
       "      <td>9.498920</td>\n",
       "      <td>0.066098</td>\n",
       "      <td>0.126562</td>\n",
       "      <td>0</td>\n",
       "    </tr>\n",
       "    <tr>\n",
       "      <th>2</th>\n",
       "      <td>3</td>\n",
       "      <td>1819</td>\n",
       "      <td>3</td>\n",
       "      <td>0.333333</td>\n",
       "      <td>0.0</td>\n",
       "      <td>0.0</td>\n",
       "      <td>12</td>\n",
       "      <td>7.333333</td>\n",
       "      <td>0</td>\n",
       "      <td>16</td>\n",
       "      <td>0.625</td>\n",
       "      <td>13.590909</td>\n",
       "      <td>88</td>\n",
       "      <td>2424</td>\n",
       "      <td>0.492162</td>\n",
       "      <td>9.287541</td>\n",
       "      <td>0.063782</td>\n",
       "      <td>0.037791</td>\n",
       "      <td>0</td>\n",
       "    </tr>\n",
       "    <tr>\n",
       "      <th>3</th>\n",
       "      <td>3</td>\n",
       "      <td>7503</td>\n",
       "      <td>1</td>\n",
       "      <td>0.100000</td>\n",
       "      <td>0.0</td>\n",
       "      <td>0.0</td>\n",
       "      <td>12</td>\n",
       "      <td>7.333333</td>\n",
       "      <td>0</td>\n",
       "      <td>16</td>\n",
       "      <td>0.625</td>\n",
       "      <td>13.590909</td>\n",
       "      <td>88</td>\n",
       "      <td>12474</td>\n",
       "      <td>0.553551</td>\n",
       "      <td>9.547379</td>\n",
       "      <td>0.070016</td>\n",
       "      <td>0.088504</td>\n",
       "      <td>0</td>\n",
       "    </tr>\n",
       "    <tr>\n",
       "      <th>4</th>\n",
       "      <td>3</td>\n",
       "      <td>8021</td>\n",
       "      <td>1</td>\n",
       "      <td>0.090909</td>\n",
       "      <td>0.0</td>\n",
       "      <td>0.0</td>\n",
       "      <td>12</td>\n",
       "      <td>7.333333</td>\n",
       "      <td>0</td>\n",
       "      <td>16</td>\n",
       "      <td>0.625</td>\n",
       "      <td>13.590909</td>\n",
       "      <td>88</td>\n",
       "      <td>27864</td>\n",
       "      <td>0.591157</td>\n",
       "      <td>8.822854</td>\n",
       "      <td>0.095193</td>\n",
       "      <td>0.054678</td>\n",
       "      <td>0</td>\n",
       "    </tr>\n",
       "  </tbody>\n",
       "</table>\n",
       "</div>"
      ],
      "text/plain": [
       "   user_id  product_id  uxp_times_bought  ...  aisle_id  department_id  prediction\n",
       "0        3         248                 1  ...  0.070016       0.088504           0\n",
       "1        3        1005                 1  ...  0.066098       0.126562           0\n",
       "2        3        1819                 3  ...  0.063782       0.037791           0\n",
       "3        3        7503                 1  ...  0.070016       0.088504           0\n",
       "4        3        8021                 1  ...  0.095193       0.054678           0\n",
       "\n",
       "[5 rows x 19 columns]"
      ]
     },
     "execution_count": 21,
     "metadata": {
      "tags": []
     },
     "output_type": "execute_result"
    }
   ],
   "source": [
    "data_test['prediction'] = y_pred_test\n",
    "data_test.head()"
   ]
  },
  {
   "cell_type": "code",
   "execution_count": null,
   "metadata": {
    "colab": {
     "base_uri": "https://localhost:8080/",
     "height": 206
    },
    "id": "lm5Is26D9uz1",
    "outputId": "917c0b85-24ee-4e29-c3a2-d1da03c6d725"
   },
   "outputs": [
    {
     "data": {
      "text/html": [
       "<div>\n",
       "<style scoped>\n",
       "    .dataframe tbody tr th:only-of-type {\n",
       "        vertical-align: middle;\n",
       "    }\n",
       "\n",
       "    .dataframe tbody tr th {\n",
       "        vertical-align: top;\n",
       "    }\n",
       "\n",
       "    .dataframe thead th {\n",
       "        text-align: right;\n",
       "    }\n",
       "</style>\n",
       "<table border=\"1\" class=\"dataframe\">\n",
       "  <thead>\n",
       "    <tr style=\"text-align: right;\">\n",
       "      <th></th>\n",
       "      <th>product_id</th>\n",
       "      <th>user_id</th>\n",
       "      <th>prediction</th>\n",
       "    </tr>\n",
       "  </thead>\n",
       "  <tbody>\n",
       "    <tr>\n",
       "      <th>0</th>\n",
       "      <td>248</td>\n",
       "      <td>3</td>\n",
       "      <td>0</td>\n",
       "    </tr>\n",
       "    <tr>\n",
       "      <th>1</th>\n",
       "      <td>1005</td>\n",
       "      <td>3</td>\n",
       "      <td>0</td>\n",
       "    </tr>\n",
       "    <tr>\n",
       "      <th>2</th>\n",
       "      <td>1819</td>\n",
       "      <td>3</td>\n",
       "      <td>0</td>\n",
       "    </tr>\n",
       "    <tr>\n",
       "      <th>3</th>\n",
       "      <td>7503</td>\n",
       "      <td>3</td>\n",
       "      <td>0</td>\n",
       "    </tr>\n",
       "    <tr>\n",
       "      <th>4</th>\n",
       "      <td>8021</td>\n",
       "      <td>3</td>\n",
       "      <td>0</td>\n",
       "    </tr>\n",
       "  </tbody>\n",
       "</table>\n",
       "</div>"
      ],
      "text/plain": [
       "   product_id  user_id  prediction\n",
       "0         248        3           0\n",
       "1        1005        3           0\n",
       "2        1819        3           0\n",
       "3        7503        3           0\n",
       "4        8021        3           0"
      ]
     },
     "execution_count": 22,
     "metadata": {
      "tags": []
     },
     "output_type": "execute_result"
    }
   ],
   "source": [
    "final = data_test.reset_index()\n",
    "final = final[['product_id', 'user_id', 'prediction']]\n",
    "\n",
    "gc.collect()\n",
    "final.head()"
   ]
  },
  {
   "cell_type": "code",
   "execution_count": null,
   "metadata": {
    "id": "SxTFIF5O93Nn"
   },
   "outputs": [],
   "source": [
    "final.to_csv(\"final.csv\",index=False)"
   ]
  },
  {
   "cell_type": "code",
   "execution_count": null,
   "metadata": {
    "colab": {
     "base_uri": "https://localhost:8080/"
    },
    "id": "Bj_wSmFw-eJI",
    "outputId": "86e8879f-104f-4817-e145-c7fb181dfe2e"
   },
   "outputs": [
    {
     "name": "stdout",
     "output_type": "stream",
     "text": [
      "<class 'pandas.core.frame.DataFrame'>\n",
      "RangeIndex: 4833292 entries, 0 to 4833291\n",
      "Data columns (total 3 columns):\n",
      " #   Column      Dtype\n",
      "---  ------      -----\n",
      " 0   product_id  int64\n",
      " 1   user_id     int64\n",
      " 2   prediction  int64\n",
      "dtypes: int64(3)\n",
      "memory usage: 110.6 MB\n"
     ]
    }
   ],
   "source": [
    "final.info()"
   ]
  },
  {
   "cell_type": "code",
   "execution_count": null,
   "metadata": {
    "id": "OjkXL4Ya-iyp"
   },
   "outputs": [],
   "source": [
    "orders=zipfile.ZipFile(path+\"orders\"+\".zip\",\"r\")\n",
    "orders = pd.read_csv(orders.open('orders.csv'))"
   ]
  },
  {
   "cell_type": "code",
   "execution_count": null,
   "metadata": {
    "colab": {
     "base_uri": "https://localhost:8080/",
     "height": 206
    },
    "id": "o4OPUWPa_foY",
    "outputId": "ea409cf3-ad78-4bd1-cf99-d0deb1767e0d"
   },
   "outputs": [
    {
     "data": {
      "text/html": [
       "<div>\n",
       "<style scoped>\n",
       "    .dataframe tbody tr th:only-of-type {\n",
       "        vertical-align: middle;\n",
       "    }\n",
       "\n",
       "    .dataframe tbody tr th {\n",
       "        vertical-align: top;\n",
       "    }\n",
       "\n",
       "    .dataframe thead th {\n",
       "        text-align: right;\n",
       "    }\n",
       "</style>\n",
       "<table border=\"1\" class=\"dataframe\">\n",
       "  <thead>\n",
       "    <tr style=\"text-align: right;\">\n",
       "      <th></th>\n",
       "      <th>user_id</th>\n",
       "      <th>order_id</th>\n",
       "    </tr>\n",
       "  </thead>\n",
       "  <tbody>\n",
       "    <tr>\n",
       "      <th>38</th>\n",
       "      <td>3</td>\n",
       "      <td>2774568</td>\n",
       "    </tr>\n",
       "    <tr>\n",
       "      <th>44</th>\n",
       "      <td>4</td>\n",
       "      <td>329954</td>\n",
       "    </tr>\n",
       "    <tr>\n",
       "      <th>53</th>\n",
       "      <td>6</td>\n",
       "      <td>1528013</td>\n",
       "    </tr>\n",
       "    <tr>\n",
       "      <th>96</th>\n",
       "      <td>11</td>\n",
       "      <td>1376945</td>\n",
       "    </tr>\n",
       "    <tr>\n",
       "      <th>102</th>\n",
       "      <td>12</td>\n",
       "      <td>1356845</td>\n",
       "    </tr>\n",
       "  </tbody>\n",
       "</table>\n",
       "</div>"
      ],
      "text/plain": [
       "     user_id  order_id\n",
       "38         3   2774568\n",
       "44         4    329954\n",
       "53         6   1528013\n",
       "96        11   1376945\n",
       "102       12   1356845"
      ]
     },
     "execution_count": 26,
     "metadata": {
      "tags": []
     },
     "output_type": "execute_result"
    }
   ],
   "source": [
    "orders_test = orders.loc[orders.eval_set == 'test', ['user_id', 'order_id']]\n",
    "orders_test.head()"
   ]
  },
  {
   "cell_type": "code",
   "execution_count": null,
   "metadata": {
    "colab": {
     "base_uri": "https://localhost:8080/",
     "height": 206
    },
    "id": "B_RobPjj_ioN",
    "outputId": "dab8ef48-9de0-4ad3-d081-c71fd19320f4"
   },
   "outputs": [
    {
     "data": {
      "text/html": [
       "<div>\n",
       "<style scoped>\n",
       "    .dataframe tbody tr th:only-of-type {\n",
       "        vertical-align: middle;\n",
       "    }\n",
       "\n",
       "    .dataframe tbody tr th {\n",
       "        vertical-align: top;\n",
       "    }\n",
       "\n",
       "    .dataframe thead th {\n",
       "        text-align: right;\n",
       "    }\n",
       "</style>\n",
       "<table border=\"1\" class=\"dataframe\">\n",
       "  <thead>\n",
       "    <tr style=\"text-align: right;\">\n",
       "      <th></th>\n",
       "      <th>product_id</th>\n",
       "      <th>user_id</th>\n",
       "      <th>prediction</th>\n",
       "      <th>order_id</th>\n",
       "    </tr>\n",
       "  </thead>\n",
       "  <tbody>\n",
       "    <tr>\n",
       "      <th>0</th>\n",
       "      <td>248</td>\n",
       "      <td>3</td>\n",
       "      <td>0</td>\n",
       "      <td>2774568</td>\n",
       "    </tr>\n",
       "    <tr>\n",
       "      <th>1</th>\n",
       "      <td>1005</td>\n",
       "      <td>3</td>\n",
       "      <td>0</td>\n",
       "      <td>2774568</td>\n",
       "    </tr>\n",
       "    <tr>\n",
       "      <th>2</th>\n",
       "      <td>1819</td>\n",
       "      <td>3</td>\n",
       "      <td>0</td>\n",
       "      <td>2774568</td>\n",
       "    </tr>\n",
       "    <tr>\n",
       "      <th>3</th>\n",
       "      <td>7503</td>\n",
       "      <td>3</td>\n",
       "      <td>0</td>\n",
       "      <td>2774568</td>\n",
       "    </tr>\n",
       "    <tr>\n",
       "      <th>4</th>\n",
       "      <td>8021</td>\n",
       "      <td>3</td>\n",
       "      <td>0</td>\n",
       "      <td>2774568</td>\n",
       "    </tr>\n",
       "  </tbody>\n",
       "</table>\n",
       "</div>"
      ],
      "text/plain": [
       "   product_id  user_id  prediction  order_id\n",
       "0         248        3           0   2774568\n",
       "1        1005        3           0   2774568\n",
       "2        1819        3           0   2774568\n",
       "3        7503        3           0   2774568\n",
       "4        8021        3           0   2774568"
      ]
     },
     "execution_count": 27,
     "metadata": {
      "tags": []
     },
     "output_type": "execute_result"
    }
   ],
   "source": [
    "final = final.merge(orders_test, on='user_id', how='left')\n",
    "final.head()"
   ]
  },
  {
   "cell_type": "code",
   "execution_count": null,
   "metadata": {
    "id": "WstL2_V7_s5b"
   },
   "outputs": [],
   "source": [
    "final = final.drop('user_id', axis=1)"
   ]
  },
  {
   "cell_type": "code",
   "execution_count": null,
   "metadata": {
    "colab": {
     "base_uri": "https://localhost:8080/",
     "height": 206
    },
    "id": "sFtwVcDV_v-c",
    "outputId": "a843a8fd-f7c0-403e-9a7d-d241beab20de"
   },
   "outputs": [
    {
     "data": {
      "text/html": [
       "<div>\n",
       "<style scoped>\n",
       "    .dataframe tbody tr th:only-of-type {\n",
       "        vertical-align: middle;\n",
       "    }\n",
       "\n",
       "    .dataframe tbody tr th {\n",
       "        vertical-align: top;\n",
       "    }\n",
       "\n",
       "    .dataframe thead th {\n",
       "        text-align: right;\n",
       "    }\n",
       "</style>\n",
       "<table border=\"1\" class=\"dataframe\">\n",
       "  <thead>\n",
       "    <tr style=\"text-align: right;\">\n",
       "      <th></th>\n",
       "      <th>product_id</th>\n",
       "      <th>prediction</th>\n",
       "      <th>order_id</th>\n",
       "    </tr>\n",
       "  </thead>\n",
       "  <tbody>\n",
       "    <tr>\n",
       "      <th>0</th>\n",
       "      <td>248</td>\n",
       "      <td>0</td>\n",
       "      <td>2774568</td>\n",
       "    </tr>\n",
       "    <tr>\n",
       "      <th>1</th>\n",
       "      <td>1005</td>\n",
       "      <td>0</td>\n",
       "      <td>2774568</td>\n",
       "    </tr>\n",
       "    <tr>\n",
       "      <th>2</th>\n",
       "      <td>1819</td>\n",
       "      <td>0</td>\n",
       "      <td>2774568</td>\n",
       "    </tr>\n",
       "    <tr>\n",
       "      <th>3</th>\n",
       "      <td>7503</td>\n",
       "      <td>0</td>\n",
       "      <td>2774568</td>\n",
       "    </tr>\n",
       "    <tr>\n",
       "      <th>4</th>\n",
       "      <td>8021</td>\n",
       "      <td>0</td>\n",
       "      <td>2774568</td>\n",
       "    </tr>\n",
       "  </tbody>\n",
       "</table>\n",
       "</div>"
      ],
      "text/plain": [
       "   product_id  prediction  order_id\n",
       "0         248           0   2774568\n",
       "1        1005           0   2774568\n",
       "2        1819           0   2774568\n",
       "3        7503           0   2774568\n",
       "4        8021           0   2774568"
      ]
     },
     "execution_count": 29,
     "metadata": {
      "tags": []
     },
     "output_type": "execute_result"
    }
   ],
   "source": [
    "final['product_id'] = final.product_id.astype(int)\n",
    "\n",
    "del orders\n",
    "del orders_test\n",
    "gc.collect()\n",
    "\n",
    "final.head()"
   ]
  },
  {
   "cell_type": "code",
   "execution_count": null,
   "metadata": {
    "colab": {
     "base_uri": "https://localhost:8080/"
    },
    "id": "MtVP0Pli_zSK",
    "outputId": "09e1ec6c-b5de-4d07-9229-c2afdbeecbc0"
   },
   "outputs": [
    {
     "data": {
      "text/plain": [
       "100"
      ]
     },
     "execution_count": 30,
     "metadata": {
      "tags": []
     },
     "output_type": "execute_result"
    }
   ],
   "source": [
    "d = dict()\n",
    "for row in final.itertuples():\n",
    "    if row.prediction== 1:\n",
    "        try:\n",
    "            d[row.order_id] += ' ' + str(row.product_id)\n",
    "        except:\n",
    "            d[row.order_id] = str(row.product_id)\n",
    "\n",
    "for order in final.order_id:\n",
    "    if order not in d:\n",
    "        d[order] = 'None'\n",
    "        \n",
    "gc.collect()"
   ]
  },
  {
   "cell_type": "code",
   "execution_count": null,
   "metadata": {
    "colab": {
     "base_uri": "https://localhost:8080/",
     "height": 206
    },
    "id": "zpVB6JPB_3PF",
    "outputId": "619ef416-b778-4fad-8054-3c43caa3acd5"
   },
   "outputs": [
    {
     "data": {
      "text/html": [
       "<div>\n",
       "<style scoped>\n",
       "    .dataframe tbody tr th:only-of-type {\n",
       "        vertical-align: middle;\n",
       "    }\n",
       "\n",
       "    .dataframe tbody tr th {\n",
       "        vertical-align: top;\n",
       "    }\n",
       "\n",
       "    .dataframe thead th {\n",
       "        text-align: right;\n",
       "    }\n",
       "</style>\n",
       "<table border=\"1\" class=\"dataframe\">\n",
       "  <thead>\n",
       "    <tr style=\"text-align: right;\">\n",
       "      <th></th>\n",
       "      <th>order_id</th>\n",
       "      <th>products</th>\n",
       "    </tr>\n",
       "  </thead>\n",
       "  <tbody>\n",
       "    <tr>\n",
       "      <th>0</th>\n",
       "      <td>2774568</td>\n",
       "      <td>17668 18599 21903 39190 43961 47766</td>\n",
       "    </tr>\n",
       "    <tr>\n",
       "      <th>1</th>\n",
       "      <td>1528013</td>\n",
       "      <td>21903 38293</td>\n",
       "    </tr>\n",
       "    <tr>\n",
       "      <th>2</th>\n",
       "      <td>1376945</td>\n",
       "      <td>8309 13176 14947 27959 28465 33572 34658 35948...</td>\n",
       "    </tr>\n",
       "    <tr>\n",
       "      <th>3</th>\n",
       "      <td>1356845</td>\n",
       "      <td>7076 10863 11520 13176 14992 22959</td>\n",
       "    </tr>\n",
       "    <tr>\n",
       "      <th>4</th>\n",
       "      <td>2161313</td>\n",
       "      <td>196 10441 11266 12427 14715 27839 37710</td>\n",
       "    </tr>\n",
       "  </tbody>\n",
       "</table>\n",
       "</div>"
      ],
      "text/plain": [
       "   order_id                                           products\n",
       "0   2774568                17668 18599 21903 39190 43961 47766\n",
       "1   1528013                                        21903 38293\n",
       "2   1376945  8309 13176 14947 27959 28465 33572 34658 35948...\n",
       "3   1356845                 7076 10863 11520 13176 14992 22959\n",
       "4   2161313            196 10441 11266 12427 14715 27839 37710"
      ]
     },
     "execution_count": 31,
     "metadata": {
      "tags": []
     },
     "output_type": "execute_result"
    }
   ],
   "source": [
    "sub = pd.DataFrame.from_dict(d, orient='index')\n",
    "\n",
    "#Reset index\n",
    "sub.reset_index(inplace=True)\n",
    "#Set column names\n",
    "sub.columns = ['order_id', 'products']\n",
    "\n",
    "sub.head()"
   ]
  },
  {
   "cell_type": "code",
   "execution_count": null,
   "metadata": {
    "id": "hQRSfjsF_6eq"
   },
   "outputs": [],
   "source": [
    "sub.to_csv('sub.csv', index=False, header=True)"
   ]
  },
  {
   "cell_type": "code",
   "execution_count": 2,
   "metadata": {
    "id": "oLYqU1Fl__AD"
   },
   "outputs": [],
   "source": [
    "from PIL import Image"
   ]
  },
  {
   "cell_type": "code",
   "execution_count": 5,
   "metadata": {},
   "outputs": [
    {
     "data": {
      "image/png": "[encoded data removed]",
      "text/plain": [
       "<PIL.PngImagePlugin.PngImageFile image mode=RGBA size=927x131 at 0x7F439D4D8070>"
      ]
     },
     "execution_count": 5,
     "metadata": {},
     "output_type": "execute_result"
    }
   ],
   "source": [
    "img=Image.open(\"../Submissions/catboost.png\")\n",
    "img"
   ]
  },
  {
   "cell_type": "code",
   "execution_count": null,
   "metadata": {},
   "outputs": [],
   "source": []
  }
 ],
 "metadata": {
  "accelerator": "GPU",
  "colab": {
   "collapsed_sections": [],
   "name": "Catboost.ipynb",
   "provenance": []
  },
  "kernelspec": {
   "display_name": "Python 3",
   "language": "python",
   "name": "python3"
  },
  "language_info": {
   "codemirror_mode": {
    "name": "ipython",
    "version": 3
   },
   "file_extension": ".py",
   "mimetype": "text/x-python",
   "name": "python",
   "nbconvert_exporter": "python",
   "pygments_lexer": "ipython3",
   "version": "3.8.5"
  }
 },
 "nbformat": 4,
 "nbformat_minor": 1
}
