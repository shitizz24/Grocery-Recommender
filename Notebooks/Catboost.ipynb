{
  "nbformat": 4,
  "nbformat_minor": 0,
  "metadata": {
    "colab": {
      "name": "Catboost.ipynb",
      "provenance": [],
      "collapsed_sections": []
    },
    "kernelspec": {
      "name": "python3",
      "display_name": "Python 3"
    }
  },
  "cells": [
    {
      "cell_type": "code",
      "metadata": {
        "id": "DxW_aGrdu8So"
      },
      "source": [
        "import numpy as np\n",
        "import pandas as pd\n",
        "import zipfile\n",
        "import gc\n",
        "import seaborn as sns\n",
        "import matplotlib.pyplot as plt\n",
        "gc.enable()"
      ],
      "execution_count": null,
      "outputs": []
    },
    {
      "cell_type": "code",
      "metadata": {
        "colab": {
          "base_uri": "https://localhost:8080/"
        },
        "id": "k9c4J7XUu8_3",
        "outputId": "7042ab93-e915-4f22-bb9e-f0d9604e42c8"
      },
      "source": [
        "from google.colab import drive\n",
        "drive.mount('/content/drive')"
      ],
      "execution_count": null,
      "outputs": [
        {
          "output_type": "stream",
          "text": [
            "Mounted at /content/drive\n"
          ],
          "name": "stdout"
        }
      ]
    },
    {
      "cell_type": "code",
      "metadata": {
        "id": "YbFWDGKGu-hV"
      },
      "source": [
        "path=\"/content/drive/MyDrive/Data_btp2/\"\n",
        "train=zipfile.ZipFile(path+\"data_train\"+\".zip\",\"r\")\n",
        "test=zipfile.ZipFile(path+\"data_test\"+\".zip\",\"r\")"
      ],
      "execution_count": null,
      "outputs": []
    },
    {
      "cell_type": "code",
      "metadata": {
        "id": "zpaRNnyGvAog"
      },
      "source": [
        "data_train = pd.read_csv(train.open('data_train.csv'))\n",
        "data_test = pd.read_csv(test.open('data_test.csv'))"
      ],
      "execution_count": null,
      "outputs": []
    },
    {
      "cell_type": "code",
      "metadata": {
        "id": "Hfxwy8ZrvJPm"
      },
      "source": [
        "X = data_train.drop(['reordered', 'uxp_ratio_last_five'], axis=1)\n",
        "y = data_train.reordered"
      ],
      "execution_count": null,
      "outputs": []
    },
    {
      "cell_type": "code",
      "metadata": {
        "colab": {
          "base_uri": "https://localhost:8080/"
        },
        "id": "Yz9Jbb-tvOuf",
        "outputId": "e58703fb-da20-4a0c-e1b6-f4111ed53b4b"
      },
      "source": [
        "pip install scikit-plot"
      ],
      "execution_count": null,
      "outputs": [
        {
          "output_type": "stream",
          "text": [
            "Collecting scikit-plot\n",
            "  Downloading https://files.pythonhosted.org/packages/7c/47/32520e259340c140a4ad27c1b97050dd3254fdc517b1d59974d47037510e/scikit_plot-0.3.7-py3-none-any.whl\n",
            "Requirement already satisfied: matplotlib>=1.4.0 in /usr/local/lib/python3.6/dist-packages (from scikit-plot) (3.2.2)\n",
            "Requirement already satisfied: scikit-learn>=0.18 in /usr/local/lib/python3.6/dist-packages (from scikit-plot) (0.22.2.post1)\n",
            "Requirement already satisfied: joblib>=0.10 in /usr/local/lib/python3.6/dist-packages (from scikit-plot) (1.0.0)\n",
            "Requirement already satisfied: scipy>=0.9 in /usr/local/lib/python3.6/dist-packages (from scikit-plot) (1.4.1)\n",
            "Requirement already satisfied: python-dateutil>=2.1 in /usr/local/lib/python3.6/dist-packages (from matplotlib>=1.4.0->scikit-plot) (2.8.1)\n",
            "Requirement already satisfied: numpy>=1.11 in /usr/local/lib/python3.6/dist-packages (from matplotlib>=1.4.0->scikit-plot) (1.19.5)\n",
            "Requirement already satisfied: cycler>=0.10 in /usr/local/lib/python3.6/dist-packages (from matplotlib>=1.4.0->scikit-plot) (0.10.0)\n",
            "Requirement already satisfied: kiwisolver>=1.0.1 in /usr/local/lib/python3.6/dist-packages (from matplotlib>=1.4.0->scikit-plot) (1.3.1)\n",
            "Requirement already satisfied: pyparsing!=2.0.4,!=2.1.2,!=2.1.6,>=2.0.1 in /usr/local/lib/python3.6/dist-packages (from matplotlib>=1.4.0->scikit-plot) (2.4.7)\n",
            "Requirement already satisfied: six>=1.5 in /usr/local/lib/python3.6/dist-packages (from python-dateutil>=2.1->matplotlib>=1.4.0->scikit-plot) (1.15.0)\n",
            "Installing collected packages: scikit-plot\n",
            "Successfully installed scikit-plot-0.3.7\n"
          ],
          "name": "stdout"
        }
      ]
    },
    {
      "cell_type": "code",
      "metadata": {
        "id": "pEqhuSuEvXvM"
      },
      "source": [
        "from sklearn.model_selection import train_test_split, GridSearchCV, KFold,RandomizedSearchCV\n",
        "from sklearn.metrics import f1_score, classification_report\n",
        "from scikitplot.metrics import plot_confusion_matrix\n",
        "from scikitplot.classifiers import plot_feature_importances\n",
        "from sklearn import metrics\n",
        "from tqdm import tqdm"
      ],
      "execution_count": null,
      "outputs": []
    },
    {
      "cell_type": "code",
      "metadata": {
        "id": "7JiYFjX_vZkj"
      },
      "source": [
        "X_train, X_test, y_train, y_test = train_test_split(X, y, test_size=0.3, random_state=10)"
      ],
      "execution_count": null,
      "outputs": []
    },
    {
      "cell_type": "code",
      "metadata": {
        "colab": {
          "base_uri": "https://localhost:8080/"
        },
        "id": "CKJ7DtZ3vbQ4",
        "outputId": "30f810e4-d1d9-4bbe-cc0b-f516d9f56557"
      },
      "source": [
        "pip install catboost"
      ],
      "execution_count": null,
      "outputs": [
        {
          "output_type": "stream",
          "text": [
            "Collecting catboost\n",
            "\u001b[?25l  Downloading https://files.pythonhosted.org/packages/20/37/bc4e0ddc30c07a96482abf1de7ed1ca54e59bba2026a33bca6d2ef286e5b/catboost-0.24.4-cp36-none-manylinux1_x86_64.whl (65.7MB)\n",
            "\u001b[K     |████████████████████████████████| 65.8MB 107kB/s \n",
            "\u001b[?25hRequirement already satisfied: numpy>=1.16.0 in /usr/local/lib/python3.6/dist-packages (from catboost) (1.19.5)\n",
            "Requirement already satisfied: six in /usr/local/lib/python3.6/dist-packages (from catboost) (1.15.0)\n",
            "Requirement already satisfied: plotly in /usr/local/lib/python3.6/dist-packages (from catboost) (4.4.1)\n",
            "Requirement already satisfied: graphviz in /usr/local/lib/python3.6/dist-packages (from catboost) (0.10.1)\n",
            "Requirement already satisfied: matplotlib in /usr/local/lib/python3.6/dist-packages (from catboost) (3.2.2)\n",
            "Requirement already satisfied: scipy in /usr/local/lib/python3.6/dist-packages (from catboost) (1.4.1)\n",
            "Requirement already satisfied: pandas>=0.24.0 in /usr/local/lib/python3.6/dist-packages (from catboost) (1.1.5)\n",
            "Requirement already satisfied: retrying>=1.3.3 in /usr/local/lib/python3.6/dist-packages (from plotly->catboost) (1.3.3)\n",
            "Requirement already satisfied: kiwisolver>=1.0.1 in /usr/local/lib/python3.6/dist-packages (from matplotlib->catboost) (1.3.1)\n",
            "Requirement already satisfied: python-dateutil>=2.1 in /usr/local/lib/python3.6/dist-packages (from matplotlib->catboost) (2.8.1)\n",
            "Requirement already satisfied: cycler>=0.10 in /usr/local/lib/python3.6/dist-packages (from matplotlib->catboost) (0.10.0)\n",
            "Requirement already satisfied: pyparsing!=2.0.4,!=2.1.2,!=2.1.6,>=2.0.1 in /usr/local/lib/python3.6/dist-packages (from matplotlib->catboost) (2.4.7)\n",
            "Requirement already satisfied: pytz>=2017.2 in /usr/local/lib/python3.6/dist-packages (from pandas>=0.24.0->catboost) (2018.9)\n",
            "Installing collected packages: catboost\n",
            "Successfully installed catboost-0.24.4\n"
          ],
          "name": "stdout"
        }
      ]
    },
    {
      "cell_type": "code",
      "metadata": {
        "colab": {
          "base_uri": "https://localhost:8080/"
        },
        "id": "NQqD6-ghvd9i",
        "outputId": "bf3b2d18-45a1-4988-8b5d-7d33ad0ac00f"
      },
      "source": [
        "from catboost import CatBoostClassifier\n",
        "cat_features = list(range(0, X.shape[1]))\n",
        "print(cat_features)"
      ],
      "execution_count": null,
      "outputs": [
        {
          "output_type": "stream",
          "text": [
            "[0, 1, 2, 3, 4, 5, 6, 7, 8, 9, 10, 11, 12, 13, 14, 15, 16]\n"
          ],
          "name": "stdout"
        }
      ]
    },
    {
      "cell_type": "code",
      "metadata": {
        "id": "7TMDL1p-vhZP"
      },
      "source": [
        "#For learning Rate and iterations\n",
        "learning_rate = [0.0001, 0.001, 0.01, 0.1, 1.0]\n",
        "iterations = [100 , 300 , 600 , 1000]\n",
        "prec_recall_area = []\n",
        "dict_of_values = {}\n",
        "\n",
        "#Loop for the Tuning\n",
        "for lr in learning_rate:\n",
        "    for ite in iterations:\n",
        "        clf = CatBoostClassifier(\n",
        "        iterations = ite,\n",
        "        learning_rate=lr,\n",
        "        verbose=False,\n",
        "        )\n",
        "\n",
        "        clf.fit(X_train, list(map(int , y_train)))\n",
        "\n",
        "        y_pred = (clf.predict_proba(X_test)[:, 1] >= 0.21).astype('int')\n",
        "        precision, recall, _ = metrics.precision_recall_curve(y_test, y_pred)\n",
        "        prec_recall_area.append(np.trapz(recall,precision))\n",
        "        print(\"With lr:\",lr,\",with iter:\",ite , \",area is:\" ,np.trapz(recall,precision))\n"
      ],
      "execution_count": null,
      "outputs": []
    },
    {
      "cell_type": "code",
      "metadata": {
        "id": "B-XrAY9IvlaA"
      },
      "source": [
        "#for bagging temperature\n",
        "temperature = [0.1,0.2,0.3,0.4,0.5,0.6,0.7,0.8,0.9]\n",
        "\n",
        "#Loop for the tuning\n",
        "for temp in temperature:\n",
        "    clf = CatBoostClassifier(\n",
        "        iterations = 500, \n",
        "        depth = 14, #From above and did some iterations\n",
        "        learning_rate=0.01,\n",
        "        bagging_temperature = temp,\n",
        "        verbose = False)\n",
        "\n",
        "    clf.fit(X_train, list(map(int , y_train)))\n",
        "\n",
        "    y_pred = (clf.predict_proba(X_test)[:, 1] >= 0.21).astype('int')\n",
        "    precision, recall, _ = metrics.precision_recall_curve(y_test, y_pred)\n",
        "    prec_recall_area.append(np.trapz(recall,precision))\n",
        "    print(\"With temp:\",temp , \",area is:\" ,np.trapz(recall,precision))"
      ],
      "execution_count": null,
      "outputs": []
    },
    {
      "cell_type": "code",
      "metadata": {
        "colab": {
          "base_uri": "https://localhost:8080/"
        },
        "id": "Iw59BBcAwNFe",
        "outputId": "2a0e30f3-b294-4b0a-bc5f-b4dc74f8f406"
      },
      "source": [
        "#Taking the best one.\n",
        "#lr = 0.01,iter : 500 , depth: 14 , bagging_temperature : 0.1\n",
        "clf = CatBoostClassifier(\n",
        "    iterations = 1000, \n",
        "    random_strength = 0.5,\n",
        "    depth = 14,\n",
        "    learning_rate=0.01,\n",
        "    bagging_temperature = 0.1,\n",
        "    verbose = 3\n",
        ")\n",
        "\n",
        "#Mapping y into int format---- [0.0 , 1.0]---> [0,1] (Essential for catboost classifier)\n",
        "clf.fit(X_train, list(map(int , y_train)))\n"
      ],
      "execution_count": null,
      "outputs": [
        {
          "output_type": "stream",
          "text": [
            "0:\tlearn: 0.6806391\ttotal: 6.24s\tremaining: 1h 43m 57s\n",
            "3:\tlearn: 0.6452749\ttotal: 27.1s\tremaining: 1h 52m 39s\n",
            "6:\tlearn: 0.6128517\ttotal: 46.8s\tremaining: 1h 50m 41s\n",
            "9:\tlearn: 0.5833187\ttotal: 1m 7s\tremaining: 1h 51m 18s\n",
            "12:\tlearn: 0.5559786\ttotal: 1m 28s\tremaining: 1h 51m 35s\n",
            "15:\tlearn: 0.5311387\ttotal: 1m 49s\tremaining: 1h 52m 3s\n",
            "18:\tlearn: 0.5083476\ttotal: 2m 9s\tremaining: 1h 51m 37s\n",
            "21:\tlearn: 0.4874776\ttotal: 2m 31s\tremaining: 1h 52m 34s\n",
            "24:\tlearn: 0.4689642\ttotal: 2m 47s\tremaining: 1h 49m 8s\n",
            "27:\tlearn: 0.4517461\ttotal: 3m 10s\tremaining: 1h 50m 5s\n",
            "30:\tlearn: 0.4358349\ttotal: 3m 31s\tremaining: 1h 49m 59s\n",
            "33:\tlearn: 0.4212567\ttotal: 3m 51s\tremaining: 1h 49m 40s\n",
            "36:\tlearn: 0.4080380\ttotal: 4m 12s\tremaining: 1h 49m 23s\n",
            "39:\tlearn: 0.3958228\ttotal: 4m 32s\tremaining: 1h 49m 8s\n",
            "42:\tlearn: 0.3846366\ttotal: 4m 53s\tremaining: 1h 49m 2s\n",
            "45:\tlearn: 0.3743235\ttotal: 5m 14s\tremaining: 1h 48m 49s\n",
            "48:\tlearn: 0.3649292\ttotal: 5m 35s\tremaining: 1h 48m 24s\n",
            "51:\tlearn: 0.3562609\ttotal: 5m 55s\tremaining: 1h 47m 53s\n",
            "54:\tlearn: 0.3482862\ttotal: 6m 14s\tremaining: 1h 47m 19s\n",
            "57:\tlearn: 0.3409228\ttotal: 6m 34s\tremaining: 1h 46m 42s\n",
            "60:\tlearn: 0.3340773\ttotal: 6m 53s\tremaining: 1h 46m 8s\n",
            "63:\tlearn: 0.3279721\ttotal: 7m 13s\tremaining: 1h 45m 38s\n",
            "66:\tlearn: 0.3223085\ttotal: 7m 34s\tremaining: 1h 45m 24s\n",
            "69:\tlearn: 0.3170433\ttotal: 7m 55s\tremaining: 1h 45m 11s\n",
            "72:\tlearn: 0.3121961\ttotal: 8m 15s\tremaining: 1h 44m 48s\n",
            "75:\tlearn: 0.3077372\ttotal: 8m 34s\tremaining: 1h 44m 21s\n",
            "78:\tlearn: 0.3036645\ttotal: 8m 56s\tremaining: 1h 44m 9s\n",
            "81:\tlearn: 0.2998911\ttotal: 9m 17s\tremaining: 1h 43m 57s\n",
            "84:\tlearn: 0.2964333\ttotal: 9m 37s\tremaining: 1h 43m 40s\n",
            "87:\tlearn: 0.2932437\ttotal: 9m 57s\tremaining: 1h 43m 15s\n",
            "90:\tlearn: 0.2902839\ttotal: 10m 18s\tremaining: 1h 42m 55s\n",
            "93:\tlearn: 0.2875422\ttotal: 10m 38s\tremaining: 1h 42m 30s\n",
            "96:\tlearn: 0.2849863\ttotal: 10m 58s\tremaining: 1h 42m 7s\n",
            "99:\tlearn: 0.2826432\ttotal: 11m 18s\tremaining: 1h 41m 46s\n",
            "102:\tlearn: 0.2804723\ttotal: 11m 38s\tremaining: 1h 41m 23s\n",
            "105:\tlearn: 0.2784288\ttotal: 11m 58s\tremaining: 1h 40m 59s\n",
            "108:\tlearn: 0.2765104\ttotal: 12m 18s\tremaining: 1h 40m 37s\n",
            "111:\tlearn: 0.2747945\ttotal: 12m 39s\tremaining: 1h 40m 19s\n",
            "114:\tlearn: 0.2731508\ttotal: 12m 59s\tremaining: 1h 39m 55s\n",
            "117:\tlearn: 0.2716483\ttotal: 13m 19s\tremaining: 1h 39m 33s\n",
            "120:\tlearn: 0.2702459\ttotal: 13m 39s\tremaining: 1h 39m 9s\n",
            "123:\tlearn: 0.2689238\ttotal: 13m 59s\tremaining: 1h 38m 49s\n",
            "126:\tlearn: 0.2676978\ttotal: 14m 18s\tremaining: 1h 38m 24s\n",
            "129:\tlearn: 0.2665386\ttotal: 14m 38s\tremaining: 1h 37m 57s\n",
            "132:\tlearn: 0.2654467\ttotal: 14m 58s\tremaining: 1h 37m 36s\n",
            "135:\tlearn: 0.2644480\ttotal: 15m 19s\tremaining: 1h 37m 19s\n",
            "138:\tlearn: 0.2634861\ttotal: 15m 39s\tremaining: 1h 37m 2s\n",
            "141:\tlearn: 0.2626267\ttotal: 15m 59s\tremaining: 1h 36m 40s\n",
            "144:\tlearn: 0.2618111\ttotal: 16m 19s\tremaining: 1h 36m 15s\n",
            "147:\tlearn: 0.2610308\ttotal: 16m 40s\tremaining: 1h 35m 59s\n",
            "150:\tlearn: 0.2603361\ttotal: 17m 1s\tremaining: 1h 35m 40s\n",
            "153:\tlearn: 0.2596346\ttotal: 17m 21s\tremaining: 1h 35m 20s\n",
            "156:\tlearn: 0.2590165\ttotal: 17m 40s\tremaining: 1h 34m 54s\n",
            "159:\tlearn: 0.2584345\ttotal: 18m\tremaining: 1h 34m 33s\n",
            "162:\tlearn: 0.2578858\ttotal: 18m 20s\tremaining: 1h 34m 10s\n",
            "165:\tlearn: 0.2573906\ttotal: 18m 39s\tremaining: 1h 33m 43s\n",
            "168:\tlearn: 0.2568827\ttotal: 19m 1s\tremaining: 1h 33m 31s\n",
            "171:\tlearn: 0.2564102\ttotal: 19m 20s\tremaining: 1h 33m 6s\n",
            "174:\tlearn: 0.2559669\ttotal: 19m 40s\tremaining: 1h 32m 43s\n",
            "177:\tlearn: 0.2555488\ttotal: 20m\tremaining: 1h 32m 25s\n",
            "180:\tlearn: 0.2551725\ttotal: 20m 21s\tremaining: 1h 32m 5s\n",
            "183:\tlearn: 0.2547999\ttotal: 20m 41s\tremaining: 1h 31m 45s\n",
            "186:\tlearn: 0.2544437\ttotal: 21m 1s\tremaining: 1h 31m 23s\n",
            "189:\tlearn: 0.2541135\ttotal: 21m 21s\tremaining: 1h 31m 1s\n",
            "192:\tlearn: 0.2537946\ttotal: 21m 40s\tremaining: 1h 30m 39s\n",
            "195:\tlearn: 0.2535046\ttotal: 22m\tremaining: 1h 30m 17s\n",
            "198:\tlearn: 0.2532221\ttotal: 22m 22s\tremaining: 1h 30m 2s\n",
            "201:\tlearn: 0.2529709\ttotal: 22m 41s\tremaining: 1h 29m 40s\n",
            "204:\tlearn: 0.2527319\ttotal: 23m 3s\tremaining: 1h 29m 25s\n",
            "207:\tlearn: 0.2525044\ttotal: 23m 23s\tremaining: 1h 29m 5s\n",
            "210:\tlearn: 0.2522796\ttotal: 23m 45s\tremaining: 1h 28m 50s\n",
            "213:\tlearn: 0.2520804\ttotal: 24m 5s\tremaining: 1h 28m 30s\n",
            "216:\tlearn: 0.2518671\ttotal: 24m 26s\tremaining: 1h 28m 10s\n",
            "219:\tlearn: 0.2516725\ttotal: 24m 46s\tremaining: 1h 27m 48s\n",
            "222:\tlearn: 0.2514790\ttotal: 25m 7s\tremaining: 1h 27m 33s\n",
            "225:\tlearn: 0.2513075\ttotal: 25m 27s\tremaining: 1h 27m 12s\n",
            "228:\tlearn: 0.2511513\ttotal: 25m 47s\tremaining: 1h 26m 49s\n",
            "231:\tlearn: 0.2509946\ttotal: 26m 7s\tremaining: 1h 26m 27s\n",
            "234:\tlearn: 0.2508392\ttotal: 26m 26s\tremaining: 1h 26m 4s\n",
            "237:\tlearn: 0.2507029\ttotal: 26m 46s\tremaining: 1h 25m 44s\n",
            "240:\tlearn: 0.2505731\ttotal: 27m 6s\tremaining: 1h 25m 22s\n",
            "243:\tlearn: 0.2504480\ttotal: 27m 25s\tremaining: 1h 24m 59s\n",
            "246:\tlearn: 0.2503288\ttotal: 27m 45s\tremaining: 1h 24m 37s\n",
            "249:\tlearn: 0.2502155\ttotal: 28m 5s\tremaining: 1h 24m 16s\n",
            "252:\tlearn: 0.2501061\ttotal: 28m 25s\tremaining: 1h 23m 54s\n",
            "255:\tlearn: 0.2500016\ttotal: 28m 45s\tremaining: 1h 23m 34s\n",
            "258:\tlearn: 0.2499056\ttotal: 29m 4s\tremaining: 1h 23m 10s\n",
            "261:\tlearn: 0.2498188\ttotal: 29m 23s\tremaining: 1h 22m 46s\n",
            "264:\tlearn: 0.2497224\ttotal: 29m 42s\tremaining: 1h 22m 23s\n",
            "267:\tlearn: 0.2496265\ttotal: 30m 2s\tremaining: 1h 22m 4s\n",
            "270:\tlearn: 0.2495481\ttotal: 30m 22s\tremaining: 1h 21m 41s\n",
            "273:\tlearn: 0.2494713\ttotal: 30m 42s\tremaining: 1h 21m 22s\n",
            "276:\tlearn: 0.2493966\ttotal: 31m 2s\tremaining: 1h 21m 1s\n",
            "279:\tlearn: 0.2493216\ttotal: 31m 22s\tremaining: 1h 20m 40s\n",
            "282:\tlearn: 0.2492468\ttotal: 31m 44s\tremaining: 1h 20m 24s\n",
            "285:\tlearn: 0.2491799\ttotal: 32m 4s\tremaining: 1h 20m 5s\n",
            "288:\tlearn: 0.2491151\ttotal: 32m 25s\tremaining: 1h 19m 47s\n",
            "291:\tlearn: 0.2490422\ttotal: 32m 46s\tremaining: 1h 19m 27s\n",
            "294:\tlearn: 0.2489807\ttotal: 33m 7s\tremaining: 1h 19m 9s\n",
            "297:\tlearn: 0.2489252\ttotal: 33m 26s\tremaining: 1h 18m 47s\n",
            "300:\tlearn: 0.2488652\ttotal: 33m 47s\tremaining: 1h 18m 29s\n",
            "303:\tlearn: 0.2488141\ttotal: 34m 7s\tremaining: 1h 18m 7s\n",
            "306:\tlearn: 0.2487555\ttotal: 34m 26s\tremaining: 1h 17m 45s\n",
            "309:\tlearn: 0.2486986\ttotal: 34m 47s\tremaining: 1h 17m 27s\n",
            "312:\tlearn: 0.2486502\ttotal: 35m 8s\tremaining: 1h 17m 7s\n",
            "315:\tlearn: 0.2485982\ttotal: 35m 27s\tremaining: 1h 16m 45s\n",
            "318:\tlearn: 0.2485505\ttotal: 35m 48s\tremaining: 1h 16m 27s\n",
            "321:\tlearn: 0.2485089\ttotal: 36m 9s\tremaining: 1h 16m 7s\n",
            "324:\tlearn: 0.2484589\ttotal: 36m 31s\tremaining: 1h 15m 50s\n",
            "327:\tlearn: 0.2484030\ttotal: 36m 52s\tremaining: 1h 15m 32s\n",
            "330:\tlearn: 0.2483572\ttotal: 37m 12s\tremaining: 1h 15m 12s\n",
            "333:\tlearn: 0.2483115\ttotal: 37m 32s\tremaining: 1h 14m 52s\n",
            "336:\tlearn: 0.2482689\ttotal: 37m 53s\tremaining: 1h 14m 33s\n",
            "339:\tlearn: 0.2482169\ttotal: 38m 15s\tremaining: 1h 14m 15s\n",
            "342:\tlearn: 0.2481638\ttotal: 38m 37s\tremaining: 1h 13m 58s\n",
            "345:\tlearn: 0.2481219\ttotal: 38m 58s\tremaining: 1h 13m 40s\n",
            "348:\tlearn: 0.2480765\ttotal: 39m 19s\tremaining: 1h 13m 21s\n",
            "351:\tlearn: 0.2480356\ttotal: 39m 40s\tremaining: 1h 13m 2s\n",
            "354:\tlearn: 0.2479962\ttotal: 40m 1s\tremaining: 1h 12m 43s\n",
            "357:\tlearn: 0.2479524\ttotal: 40m 22s\tremaining: 1h 12m 24s\n",
            "360:\tlearn: 0.2479166\ttotal: 40m 43s\tremaining: 1h 12m 4s\n",
            "363:\tlearn: 0.2478816\ttotal: 41m 3s\tremaining: 1h 11m 45s\n",
            "366:\tlearn: 0.2478417\ttotal: 41m 25s\tremaining: 1h 11m 26s\n",
            "369:\tlearn: 0.2477994\ttotal: 41m 47s\tremaining: 1h 11m 10s\n",
            "372:\tlearn: 0.2477587\ttotal: 42m 8s\tremaining: 1h 10m 51s\n",
            "375:\tlearn: 0.2477233\ttotal: 42m 29s\tremaining: 1h 10m 31s\n",
            "378:\tlearn: 0.2476871\ttotal: 42m 51s\tremaining: 1h 10m 13s\n",
            "381:\tlearn: 0.2476497\ttotal: 43m 12s\tremaining: 1h 9m 54s\n",
            "384:\tlearn: 0.2476134\ttotal: 43m 33s\tremaining: 1h 9m 34s\n",
            "387:\tlearn: 0.2475744\ttotal: 43m 54s\tremaining: 1h 9m 15s\n",
            "390:\tlearn: 0.2475411\ttotal: 44m 14s\tremaining: 1h 8m 55s\n",
            "393:\tlearn: 0.2475086\ttotal: 44m 36s\tremaining: 1h 8m 36s\n",
            "396:\tlearn: 0.2474793\ttotal: 44m 56s\tremaining: 1h 8m 15s\n",
            "399:\tlearn: 0.2474384\ttotal: 45m 18s\tremaining: 1h 7m 58s\n",
            "402:\tlearn: 0.2474034\ttotal: 45m 40s\tremaining: 1h 7m 40s\n",
            "405:\tlearn: 0.2473599\ttotal: 46m 3s\tremaining: 1h 7m 22s\n",
            "408:\tlearn: 0.2473283\ttotal: 46m 24s\tremaining: 1h 7m 2s\n",
            "411:\tlearn: 0.2472855\ttotal: 46m 46s\tremaining: 1h 6m 46s\n",
            "414:\tlearn: 0.2472500\ttotal: 47m 8s\tremaining: 1h 6m 27s\n",
            "417:\tlearn: 0.2472149\ttotal: 47m 29s\tremaining: 1h 6m 7s\n",
            "420:\tlearn: 0.2471775\ttotal: 47m 51s\tremaining: 1h 5m 49s\n",
            "423:\tlearn: 0.2471413\ttotal: 48m 14s\tremaining: 1h 5m 31s\n",
            "426:\tlearn: 0.2471113\ttotal: 48m 34s\tremaining: 1h 5m 11s\n",
            "429:\tlearn: 0.2470761\ttotal: 48m 56s\tremaining: 1h 4m 52s\n",
            "432:\tlearn: 0.2470418\ttotal: 49m 18s\tremaining: 1h 4m 34s\n",
            "435:\tlearn: 0.2470094\ttotal: 49m 39s\tremaining: 1h 4m 14s\n",
            "438:\tlearn: 0.2469657\ttotal: 50m 1s\tremaining: 1h 3m 55s\n",
            "441:\tlearn: 0.2469348\ttotal: 50m 23s\tremaining: 1h 3m 37s\n",
            "444:\tlearn: 0.2469058\ttotal: 50m 44s\tremaining: 1h 3m 17s\n",
            "447:\tlearn: 0.2468668\ttotal: 51m 6s\tremaining: 1h 2m 58s\n",
            "450:\tlearn: 0.2468345\ttotal: 51m 28s\tremaining: 1h 2m 39s\n",
            "453:\tlearn: 0.2468000\ttotal: 51m 50s\tremaining: 1h 2m 21s\n",
            "456:\tlearn: 0.2467762\ttotal: 52m 11s\tremaining: 1h 2m\n",
            "459:\tlearn: 0.2467475\ttotal: 52m 32s\tremaining: 1h 1m 40s\n",
            "462:\tlearn: 0.2467167\ttotal: 52m 53s\tremaining: 1h 1m 21s\n",
            "465:\tlearn: 0.2466805\ttotal: 53m 16s\tremaining: 1h 1m 3s\n",
            "468:\tlearn: 0.2466447\ttotal: 53m 40s\tremaining: 1h 45s\n",
            "471:\tlearn: 0.2466139\ttotal: 54m 1s\tremaining: 1h 26s\n",
            "474:\tlearn: 0.2465854\ttotal: 54m 24s\tremaining: 1h 7s\n",
            "477:\tlearn: 0.2465570\ttotal: 54m 45s\tremaining: 59m 47s\n",
            "480:\tlearn: 0.2465277\ttotal: 55m 6s\tremaining: 59m 28s\n",
            "483:\tlearn: 0.2464959\ttotal: 55m 29s\tremaining: 59m 9s\n",
            "486:\tlearn: 0.2464678\ttotal: 55m 50s\tremaining: 58m 49s\n",
            "489:\tlearn: 0.2464308\ttotal: 56m 13s\tremaining: 58m 30s\n",
            "492:\tlearn: 0.2464075\ttotal: 56m 33s\tremaining: 58m 10s\n",
            "495:\tlearn: 0.2463710\ttotal: 56m 56s\tremaining: 57m 51s\n",
            "498:\tlearn: 0.2463415\ttotal: 57m 18s\tremaining: 57m 32s\n",
            "501:\tlearn: 0.2463095\ttotal: 57m 40s\tremaining: 57m 12s\n",
            "504:\tlearn: 0.2462725\ttotal: 58m 2s\tremaining: 56m 53s\n",
            "507:\tlearn: 0.2462443\ttotal: 58m 24s\tremaining: 56m 34s\n",
            "510:\tlearn: 0.2462111\ttotal: 58m 47s\tremaining: 56m 15s\n",
            "513:\tlearn: 0.2461771\ttotal: 59m 9s\tremaining: 55m 55s\n",
            "516:\tlearn: 0.2461416\ttotal: 59m 30s\tremaining: 55m 35s\n",
            "519:\tlearn: 0.2461033\ttotal: 59m 52s\tremaining: 55m 15s\n",
            "522:\tlearn: 0.2460759\ttotal: 1h 14s\tremaining: 54m 56s\n",
            "525:\tlearn: 0.2460437\ttotal: 1h 36s\tremaining: 54m 37s\n",
            "528:\tlearn: 0.2460116\ttotal: 1h 58s\tremaining: 54m 17s\n",
            "531:\tlearn: 0.2459761\ttotal: 1h 1m 21s\tremaining: 53m 58s\n",
            "534:\tlearn: 0.2459527\ttotal: 1h 1m 42s\tremaining: 53m 38s\n",
            "537:\tlearn: 0.2459277\ttotal: 1h 2m 3s\tremaining: 53m 17s\n",
            "540:\tlearn: 0.2459029\ttotal: 1h 2m 25s\tremaining: 52m 57s\n",
            "543:\tlearn: 0.2458701\ttotal: 1h 2m 47s\tremaining: 52m 38s\n",
            "546:\tlearn: 0.2458390\ttotal: 1h 3m 9s\tremaining: 52m 18s\n",
            "549:\tlearn: 0.2458098\ttotal: 1h 3m 31s\tremaining: 51m 58s\n",
            "552:\tlearn: 0.2457811\ttotal: 1h 3m 53s\tremaining: 51m 39s\n",
            "555:\tlearn: 0.2457445\ttotal: 1h 4m 16s\tremaining: 51m 19s\n",
            "558:\tlearn: 0.2457127\ttotal: 1h 4m 38s\tremaining: 51m\n",
            "561:\tlearn: 0.2456774\ttotal: 1h 5m 1s\tremaining: 50m 40s\n",
            "564:\tlearn: 0.2456490\ttotal: 1h 5m 22s\tremaining: 50m 20s\n",
            "567:\tlearn: 0.2456192\ttotal: 1h 5m 45s\tremaining: 50m\n",
            "570:\tlearn: 0.2455772\ttotal: 1h 6m 9s\tremaining: 49m 41s\n",
            "573:\tlearn: 0.2455473\ttotal: 1h 6m 31s\tremaining: 49m 22s\n",
            "576:\tlearn: 0.2455236\ttotal: 1h 6m 53s\tremaining: 49m 2s\n",
            "579:\tlearn: 0.2454947\ttotal: 1h 7m 15s\tremaining: 48m 42s\n",
            "582:\tlearn: 0.2454623\ttotal: 1h 7m 38s\tremaining: 48m 22s\n",
            "585:\tlearn: 0.2454286\ttotal: 1h 8m\tremaining: 48m 2s\n",
            "588:\tlearn: 0.2453955\ttotal: 1h 8m 24s\tremaining: 47m 43s\n",
            "591:\tlearn: 0.2453713\ttotal: 1h 8m 45s\tremaining: 47m 23s\n",
            "594:\tlearn: 0.2453407\ttotal: 1h 9m 7s\tremaining: 47m 3s\n",
            "597:\tlearn: 0.2453115\ttotal: 1h 9m 30s\tremaining: 46m 43s\n",
            "600:\tlearn: 0.2452810\ttotal: 1h 9m 51s\tremaining: 46m 22s\n",
            "603:\tlearn: 0.2452524\ttotal: 1h 10m 12s\tremaining: 46m 1s\n",
            "606:\tlearn: 0.2452261\ttotal: 1h 10m 32s\tremaining: 45m 40s\n",
            "609:\tlearn: 0.2451928\ttotal: 1h 10m 54s\tremaining: 45m 19s\n",
            "612:\tlearn: 0.2451620\ttotal: 1h 11m 17s\tremaining: 45m\n",
            "615:\tlearn: 0.2451364\ttotal: 1h 11m 39s\tremaining: 44m 40s\n",
            "618:\tlearn: 0.2451081\ttotal: 1h 12m 2s\tremaining: 44m 20s\n",
            "621:\tlearn: 0.2450790\ttotal: 1h 12m 24s\tremaining: 44m\n",
            "624:\tlearn: 0.2450456\ttotal: 1h 12m 48s\tremaining: 43m 41s\n",
            "627:\tlearn: 0.2450188\ttotal: 1h 13m 10s\tremaining: 43m 20s\n",
            "630:\tlearn: 0.2449878\ttotal: 1h 13m 32s\tremaining: 43m\n",
            "633:\tlearn: 0.2449638\ttotal: 1h 13m 54s\tremaining: 42m 39s\n",
            "636:\tlearn: 0.2449405\ttotal: 1h 14m 14s\tremaining: 42m 18s\n",
            "639:\tlearn: 0.2449165\ttotal: 1h 14m 36s\tremaining: 41m 57s\n",
            "642:\tlearn: 0.2448868\ttotal: 1h 14m 58s\tremaining: 41m 37s\n",
            "645:\tlearn: 0.2448408\ttotal: 1h 15m 21s\tremaining: 41m 17s\n",
            "648:\tlearn: 0.2448084\ttotal: 1h 15m 44s\tremaining: 40m 57s\n",
            "651:\tlearn: 0.2447675\ttotal: 1h 16m 8s\tremaining: 40m 38s\n",
            "654:\tlearn: 0.2447322\ttotal: 1h 16m 31s\tremaining: 40m 18s\n",
            "657:\tlearn: 0.2447056\ttotal: 1h 16m 52s\tremaining: 39m 57s\n",
            "660:\tlearn: 0.2446714\ttotal: 1h 17m 14s\tremaining: 39m 37s\n",
            "663:\tlearn: 0.2446415\ttotal: 1h 17m 38s\tremaining: 39m 17s\n",
            "666:\tlearn: 0.2446063\ttotal: 1h 18m\tremaining: 38m 56s\n",
            "669:\tlearn: 0.2445816\ttotal: 1h 18m 21s\tremaining: 38m 35s\n",
            "672:\tlearn: 0.2445479\ttotal: 1h 18m 44s\tremaining: 38m 15s\n",
            "675:\tlearn: 0.2445182\ttotal: 1h 19m 6s\tremaining: 37m 54s\n",
            "678:\tlearn: 0.2444950\ttotal: 1h 19m 28s\tremaining: 37m 34s\n",
            "681:\tlearn: 0.2444713\ttotal: 1h 19m 48s\tremaining: 37m 12s\n",
            "684:\tlearn: 0.2444317\ttotal: 1h 20m 11s\tremaining: 36m 52s\n",
            "687:\tlearn: 0.2444003\ttotal: 1h 20m 33s\tremaining: 36m 32s\n",
            "690:\tlearn: 0.2443752\ttotal: 1h 20m 55s\tremaining: 36m 11s\n",
            "693:\tlearn: 0.2443462\ttotal: 1h 21m 17s\tremaining: 35m 50s\n",
            "696:\tlearn: 0.2443194\ttotal: 1h 21m 39s\tremaining: 35m 30s\n",
            "699:\tlearn: 0.2442939\ttotal: 1h 22m 1s\tremaining: 35m 9s\n",
            "702:\tlearn: 0.2442682\ttotal: 1h 22m 23s\tremaining: 34m 48s\n",
            "705:\tlearn: 0.2442392\ttotal: 1h 22m 45s\tremaining: 34m 27s\n",
            "708:\tlearn: 0.2442077\ttotal: 1h 23m 8s\tremaining: 34m 7s\n",
            "711:\tlearn: 0.2441763\ttotal: 1h 23m 30s\tremaining: 33m 46s\n",
            "714:\tlearn: 0.2441392\ttotal: 1h 23m 53s\tremaining: 33m 26s\n",
            "717:\tlearn: 0.2441102\ttotal: 1h 24m 15s\tremaining: 33m 5s\n",
            "720:\tlearn: 0.2440850\ttotal: 1h 24m 36s\tremaining: 32m 44s\n",
            "723:\tlearn: 0.2440576\ttotal: 1h 24m 59s\tremaining: 32m 23s\n",
            "726:\tlearn: 0.2440208\ttotal: 1h 25m 21s\tremaining: 32m 3s\n",
            "729:\tlearn: 0.2439850\ttotal: 1h 25m 45s\tremaining: 31m 43s\n",
            "732:\tlearn: 0.2439479\ttotal: 1h 26m 8s\tremaining: 31m 22s\n",
            "735:\tlearn: 0.2439208\ttotal: 1h 26m 30s\tremaining: 31m 1s\n",
            "738:\tlearn: 0.2438938\ttotal: 1h 26m 50s\tremaining: 30m 40s\n",
            "741:\tlearn: 0.2438649\ttotal: 1h 27m 12s\tremaining: 30m 19s\n",
            "744:\tlearn: 0.2438434\ttotal: 1h 27m 34s\tremaining: 29m 58s\n",
            "747:\tlearn: 0.2438175\ttotal: 1h 27m 55s\tremaining: 29m 37s\n",
            "750:\tlearn: 0.2437741\ttotal: 1h 28m 19s\tremaining: 29m 17s\n",
            "753:\tlearn: 0.2437380\ttotal: 1h 28m 42s\tremaining: 28m 56s\n",
            "756:\tlearn: 0.2437096\ttotal: 1h 29m 4s\tremaining: 28m 35s\n",
            "759:\tlearn: 0.2436830\ttotal: 1h 29m 26s\tremaining: 28m 14s\n",
            "762:\tlearn: 0.2436569\ttotal: 1h 29m 48s\tremaining: 27m 53s\n",
            "765:\tlearn: 0.2436252\ttotal: 1h 30m 10s\tremaining: 27m 32s\n",
            "768:\tlearn: 0.2435985\ttotal: 1h 30m 32s\tremaining: 27m 11s\n",
            "771:\tlearn: 0.2435641\ttotal: 1h 30m 55s\tremaining: 26m 51s\n",
            "774:\tlearn: 0.2435330\ttotal: 1h 31m 19s\tremaining: 26m 30s\n",
            "777:\tlearn: 0.2435113\ttotal: 1h 31m 40s\tremaining: 26m 9s\n",
            "780:\tlearn: 0.2434876\ttotal: 1h 32m 1s\tremaining: 25m 48s\n",
            "783:\tlearn: 0.2434509\ttotal: 1h 32m 24s\tremaining: 25m 27s\n",
            "786:\tlearn: 0.2434195\ttotal: 1h 32m 46s\tremaining: 25m 6s\n",
            "789:\tlearn: 0.2433981\ttotal: 1h 33m 7s\tremaining: 24m 45s\n",
            "792:\tlearn: 0.2433766\ttotal: 1h 33m 30s\tremaining: 24m 24s\n",
            "795:\tlearn: 0.2433511\ttotal: 1h 33m 51s\tremaining: 24m 3s\n",
            "798:\tlearn: 0.2433193\ttotal: 1h 34m 15s\tremaining: 23m 42s\n",
            "801:\tlearn: 0.2432945\ttotal: 1h 34m 36s\tremaining: 23m 21s\n",
            "804:\tlearn: 0.2432691\ttotal: 1h 34m 59s\tremaining: 23m\n",
            "807:\tlearn: 0.2432375\ttotal: 1h 35m 21s\tremaining: 22m 39s\n",
            "810:\tlearn: 0.2432032\ttotal: 1h 35m 44s\tremaining: 22m 18s\n",
            "813:\tlearn: 0.2431748\ttotal: 1h 36m 5s\tremaining: 21m 57s\n",
            "816:\tlearn: 0.2431378\ttotal: 1h 36m 30s\tremaining: 21m 36s\n",
            "819:\tlearn: 0.2431060\ttotal: 1h 36m 53s\tremaining: 21m 16s\n",
            "822:\tlearn: 0.2430742\ttotal: 1h 37m 15s\tremaining: 20m 55s\n",
            "825:\tlearn: 0.2430368\ttotal: 1h 37m 38s\tremaining: 20m 34s\n",
            "828:\tlearn: 0.2430058\ttotal: 1h 38m 1s\tremaining: 20m 13s\n",
            "831:\tlearn: 0.2429713\ttotal: 1h 38m 24s\tremaining: 19m 52s\n",
            "834:\tlearn: 0.2429381\ttotal: 1h 38m 48s\tremaining: 19m 31s\n",
            "837:\tlearn: 0.2429133\ttotal: 1h 39m 9s\tremaining: 19m 10s\n",
            "840:\tlearn: 0.2428939\ttotal: 1h 39m 30s\tremaining: 18m 48s\n",
            "843:\tlearn: 0.2428641\ttotal: 1h 39m 54s\tremaining: 18m 27s\n",
            "846:\tlearn: 0.2428269\ttotal: 1h 40m 18s\tremaining: 18m 7s\n",
            "849:\tlearn: 0.2428035\ttotal: 1h 40m 40s\tremaining: 17m 45s\n",
            "852:\tlearn: 0.2427711\ttotal: 1h 41m 2s\tremaining: 17m 24s\n",
            "855:\tlearn: 0.2427457\ttotal: 1h 41m 25s\tremaining: 17m 3s\n",
            "858:\tlearn: 0.2427158\ttotal: 1h 41m 48s\tremaining: 16m 42s\n",
            "861:\tlearn: 0.2426861\ttotal: 1h 42m 10s\tremaining: 16m 21s\n",
            "864:\tlearn: 0.2426569\ttotal: 1h 42m 32s\tremaining: 16m\n",
            "867:\tlearn: 0.2426312\ttotal: 1h 42m 54s\tremaining: 15m 38s\n",
            "870:\tlearn: 0.2426040\ttotal: 1h 43m 16s\tremaining: 15m 17s\n",
            "873:\tlearn: 0.2425720\ttotal: 1h 43m 39s\tremaining: 14m 56s\n",
            "876:\tlearn: 0.2425478\ttotal: 1h 44m 1s\tremaining: 14m 35s\n",
            "879:\tlearn: 0.2425195\ttotal: 1h 44m 24s\tremaining: 14m 14s\n",
            "882:\tlearn: 0.2424986\ttotal: 1h 44m 46s\tremaining: 13m 52s\n",
            "885:\tlearn: 0.2424657\ttotal: 1h 45m 8s\tremaining: 13m 31s\n",
            "888:\tlearn: 0.2424344\ttotal: 1h 45m 31s\tremaining: 13m 10s\n",
            "891:\tlearn: 0.2424009\ttotal: 1h 45m 54s\tremaining: 12m 49s\n",
            "894:\tlearn: 0.2423667\ttotal: 1h 46m 16s\tremaining: 12m 28s\n",
            "897:\tlearn: 0.2423377\ttotal: 1h 46m 39s\tremaining: 12m 6s\n",
            "900:\tlearn: 0.2423055\ttotal: 1h 47m 3s\tremaining: 11m 45s\n",
            "903:\tlearn: 0.2422738\ttotal: 1h 47m 25s\tremaining: 11m 24s\n",
            "906:\tlearn: 0.2422392\ttotal: 1h 47m 48s\tremaining: 11m 3s\n",
            "909:\tlearn: 0.2422118\ttotal: 1h 48m 10s\tremaining: 10m 41s\n",
            "912:\tlearn: 0.2421739\ttotal: 1h 48m 33s\tremaining: 10m 20s\n",
            "915:\tlearn: 0.2421380\ttotal: 1h 48m 57s\tremaining: 9m 59s\n",
            "918:\tlearn: 0.2421088\ttotal: 1h 49m 20s\tremaining: 9m 38s\n",
            "921:\tlearn: 0.2420801\ttotal: 1h 49m 43s\tremaining: 9m 16s\n",
            "924:\tlearn: 0.2420457\ttotal: 1h 50m 6s\tremaining: 8m 55s\n",
            "927:\tlearn: 0.2420231\ttotal: 1h 50m 29s\tremaining: 8m 34s\n",
            "930:\tlearn: 0.2419925\ttotal: 1h 50m 51s\tremaining: 8m 12s\n",
            "933:\tlearn: 0.2419665\ttotal: 1h 51m 14s\tremaining: 7m 51s\n",
            "936:\tlearn: 0.2419302\ttotal: 1h 51m 38s\tremaining: 7m 30s\n",
            "939:\tlearn: 0.2419023\ttotal: 1h 52m\tremaining: 7m 8s\n",
            "942:\tlearn: 0.2418728\ttotal: 1h 52m 24s\tremaining: 6m 47s\n",
            "945:\tlearn: 0.2418443\ttotal: 1h 52m 46s\tremaining: 6m 26s\n",
            "948:\tlearn: 0.2418112\ttotal: 1h 53m 8s\tremaining: 6m 4s\n",
            "951:\tlearn: 0.2417790\ttotal: 1h 53m 31s\tremaining: 5m 43s\n",
            "954:\tlearn: 0.2417456\ttotal: 1h 53m 54s\tremaining: 5m 22s\n",
            "957:\tlearn: 0.2417196\ttotal: 1h 54m 16s\tremaining: 5m\n",
            "960:\tlearn: 0.2416866\ttotal: 1h 54m 39s\tremaining: 4m 39s\n",
            "963:\tlearn: 0.2416507\ttotal: 1h 55m 2s\tremaining: 4m 17s\n",
            "966:\tlearn: 0.2416222\ttotal: 1h 55m 26s\tremaining: 3m 56s\n",
            "969:\tlearn: 0.2416021\ttotal: 1h 55m 48s\tremaining: 3m 34s\n",
            "972:\tlearn: 0.2415699\ttotal: 1h 56m 11s\tremaining: 3m 13s\n",
            "975:\tlearn: 0.2415429\ttotal: 1h 56m 33s\tremaining: 2m 51s\n",
            "978:\tlearn: 0.2415103\ttotal: 1h 56m 57s\tremaining: 2m 30s\n",
            "981:\tlearn: 0.2414823\ttotal: 1h 57m 20s\tremaining: 2m 9s\n",
            "984:\tlearn: 0.2414591\ttotal: 1h 57m 41s\tremaining: 1m 47s\n",
            "987:\tlearn: 0.2414320\ttotal: 1h 58m 3s\tremaining: 1m 26s\n",
            "990:\tlearn: 0.2414074\ttotal: 1h 58m 25s\tremaining: 1m 4s\n",
            "993:\tlearn: 0.2413792\ttotal: 1h 58m 48s\tremaining: 43s\n",
            "996:\tlearn: 0.2413575\ttotal: 1h 59m 9s\tremaining: 21.5s\n",
            "999:\tlearn: 0.2413300\ttotal: 1h 59m 32s\tremaining: 0us\n"
          ],
          "name": "stdout"
        },
        {
          "output_type": "execute_result",
          "data": {
            "text/plain": [
              "<catboost.core.CatBoostClassifier at 0x7f254faf44e0>"
            ]
          },
          "metadata": {
            "tags": []
          },
          "execution_count": 19
        }
      ]
    },
    {
      "cell_type": "code",
      "metadata": {
        "colab": {
          "base_uri": "https://localhost:8080/",
          "height": 248
        },
        "id": "K3g7y5q_wSoc",
        "outputId": "61ce7dad-6b57-4cfd-c5e4-887035daea94"
      },
      "source": [
        "thresholds = clf.predict_proba(X_test)[:, 1]\n",
        "f1_scores = []\n",
        "values = np.arange(np.mean(thresholds)-(2*np.std(thresholds)) , np.mean(thresholds) +(2*np.std(thresholds))  , 0.02)\n",
        "for value in tqdm(values):\n",
        "    y_pred = (clf.predict_proba(X_test)[:, 1] >= value).astype('int')\n",
        "    f1_scores.append(metrics.f1_score(y_test , y_pred))"
      ],
      "execution_count": null,
      "outputs": [
        {
          "output_type": "stream",
          "text": [
            "100%|██████████| 27/27 [11:17<00:00, 25.10s/it]\n"
          ],
          "name": "stderr"
        },
        {
          "output_type": "error",
          "ename": "NameError",
          "evalue": "ignored",
          "traceback": [
            "\u001b[0;31m---------------------------------------------------------------------------\u001b[0m",
            "\u001b[0;31mNameError\u001b[0m                                 Traceback (most recent call last)",
            "\u001b[0;32m<ipython-input-22-01b3d66fa3c3>\u001b[0m in \u001b[0;36m<module>\u001b[0;34m()\u001b[0m\n\u001b[1;32m      6\u001b[0m     \u001b[0mf1_scores\u001b[0m\u001b[0;34m.\u001b[0m\u001b[0mappend\u001b[0m\u001b[0;34m(\u001b[0m\u001b[0mmetrics\u001b[0m\u001b[0;34m.\u001b[0m\u001b[0mf1_score\u001b[0m\u001b[0;34m(\u001b[0m\u001b[0my_test\u001b[0m \u001b[0;34m,\u001b[0m \u001b[0my_pred\u001b[0m\u001b[0;34m)\u001b[0m\u001b[0;34m)\u001b[0m\u001b[0;34m\u001b[0m\u001b[0;34m\u001b[0m\u001b[0m\n\u001b[1;32m      7\u001b[0m \u001b[0;34m\u001b[0m\u001b[0m\n\u001b[0;32m----> 8\u001b[0;31m \u001b[0mplt\u001b[0m\u001b[0;34m.\u001b[0m\u001b[0mfigure\u001b[0m\u001b[0;34m(\u001b[0m\u001b[0mfigsize\u001b[0m\u001b[0;34m=\u001b[0m\u001b[0;34m(\u001b[0m\u001b[0;36m10\u001b[0m\u001b[0;34m,\u001b[0m\u001b[0;36m10\u001b[0m\u001b[0;34m)\u001b[0m\u001b[0;34m)\u001b[0m\u001b[0;34m\u001b[0m\u001b[0;34m\u001b[0m\u001b[0m\n\u001b[0m\u001b[1;32m      9\u001b[0m \u001b[0msns\u001b[0m\u001b[0;34m.\u001b[0m\u001b[0mbarplot\u001b[0m\u001b[0;34m(\u001b[0m\u001b[0mvalues\u001b[0m \u001b[0;34m,\u001b[0m \u001b[0mf1_scores\u001b[0m \u001b[0;34m,\u001b[0m \u001b[0mcolor\u001b[0m \u001b[0;34m=\u001b[0m \u001b[0;34m\"red\"\u001b[0m\u001b[0;34m)\u001b[0m\u001b[0;34m\u001b[0m\u001b[0;34m\u001b[0m\u001b[0m\n\u001b[1;32m     10\u001b[0m \u001b[0mplt\u001b[0m\u001b[0;34m.\u001b[0m\u001b[0mxlabel\u001b[0m\u001b[0;34m(\u001b[0m\u001b[0;34m\"thresholds\"\u001b[0m\u001b[0;34m)\u001b[0m\u001b[0;34m\u001b[0m\u001b[0;34m\u001b[0m\u001b[0m\n",
            "\u001b[0;31mNameError\u001b[0m: name 'plt' is not defined"
          ]
        }
      ]
    },
    {
      "cell_type": "code",
      "metadata": {
        "colab": {
          "base_uri": "https://localhost:8080/",
          "height": 792
        },
        "id": "SwocXkGblIo6",
        "outputId": "ace03776-4c53-4500-e2f7-b967b48cf1e3"
      },
      "source": [
        "plt.figure(figsize=(10,10))\n",
        "sns.barplot(values , f1_scores , color = \"red\")\n",
        "plt.xlabel(\"thresholds\")\n",
        "plt.ylabel(\"F1-score\")\n",
        "plt.title(\"Thresholds vs F1-score\")\n",
        "plt.grid(True)\n",
        "plt.xticks(rotation = 90)\n",
        "\n",
        "plt.show()"
      ],
      "execution_count": null,
      "outputs": [
        {
          "output_type": "stream",
          "text": [
            "/usr/local/lib/python3.6/dist-packages/seaborn/_decorators.py:43: FutureWarning: Pass the following variables as keyword args: x, y. From version 0.12, the only valid positional argument will be `data`, and passing other arguments without an explicit keyword will result in an error or misinterpretation.\n",
            "  FutureWarning\n"
          ],
          "name": "stderr"
        },
        {
          "output_type": "display_data",
          "data": {
            "image/png": "[encoded data removed]",
            "text/plain": [
              "<Figure size 720x720 with 1 Axes>"
            ]
          },
          "metadata": {
            "tags": [],
            "needs_background": "light"
          }
        }
      ]
    },
    {
      "cell_type": "code",
      "metadata": {
        "id": "6-QnlNyAwUVp",
        "colab": {
          "base_uri": "https://localhost:8080/",
          "height": 329
        },
        "outputId": "07f1dd5b-8a9e-4369-9713-db062b610c1f"
      },
      "source": [
        "y_pred = (clf.predict_proba(X_test)[:, 1] >= 0.21).astype('int')\n",
        "#y_pred\n",
        "print(\"Confusion Matrix for Test-\")\n",
        "plot_confusion_matrix(y_test,y_pred)"
      ],
      "execution_count": 28,
      "outputs": [
        {
          "output_type": "stream",
          "text": [
            "Confusion Matrix for Test-\n"
          ],
          "name": "stdout"
        },
        {
          "output_type": "execute_result",
          "data": {
            "text/plain": [
              "<matplotlib.axes._subplots.AxesSubplot at 0x7f254ea0eba8>"
            ]
          },
          "metadata": {
            "tags": []
          },
          "execution_count": 28
        },
        {
          "output_type": "display_data",
          "data": {
            "image/png": "[encoded data removed]",
            "text/plain": [
              "<Figure size 432x288 with 2 Axes>"
            ]
          },
          "metadata": {
            "tags": [],
            "needs_background": "light"
          }
        }
      ]
    },
    {
      "cell_type": "code",
      "metadata": {
        "id": "CT_Gw-YCwkcY",
        "colab": {
          "base_uri": "https://localhost:8080/"
        },
        "outputId": "772b55ec-e1ba-44dc-cb14-a42291103c4b"
      },
      "source": [
        "y_train_pred =(clf.predict_proba(X_train)[:, 1] >= 0.21).astype('int')\n",
        "print(\"Training F1 Score:\", metrics.f1_score(y_train , y_train_pred))\n",
        "print(\"Test F1 Score:\",metrics.f1_score(y_test , y_pred))"
      ],
      "execution_count": 29,
      "outputs": [
        {
          "output_type": "stream",
          "text": [
            "Training F1 Score: 0.45002683147844025\n",
            "Test F1 Score: 0.434682398605422\n"
          ],
          "name": "stdout"
        }
      ]
    },
    {
      "cell_type": "code",
      "metadata": {
        "id": "ZGnQ2COAw9oQ",
        "colab": {
          "base_uri": "https://localhost:8080/",
          "height": 730
        },
        "outputId": "5696632e-63cf-49ee-c4a4-43324708216e"
      },
      "source": [
        "features = X_train.columns\n",
        "importances = clf.feature_importances_\n",
        "indices = (np.argsort(importances))\n",
        "plt.figure(figsize=(10,12))\n",
        "plt.title('Feature Importances')\n",
        "plt.barh(range(len(indices)), importances[indices], color='r', align='center')\n",
        "plt.yticks(range(len(indices)), [features[i] for i in indices])\n",
        "plt.xlabel('Relative Importance')\n",
        "plt.show()"
      ],
      "execution_count": 30,
      "outputs": [
        {
          "output_type": "display_data",
          "data": {
            "image/png": "[encoded data removed]",
            "text/plain": [
              "<Figure size 720x864 with 1 Axes>"
            ]
          },
          "metadata": {
            "tags": [],
            "needs_background": "light"
          }
        }
      ]
    },
    {
      "cell_type": "code",
      "metadata": {
        "id": "5KfEXJyNxBMd"
      },
      "source": [
        ""
      ],
      "execution_count": null,
      "outputs": []
    }
  ]
}