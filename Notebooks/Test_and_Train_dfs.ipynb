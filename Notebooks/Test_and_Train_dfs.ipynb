{
  "nbformat": 4,
  "nbformat_minor": 0,
  "metadata": {
    "colab": {
      "name": "Test and Train dfs.ipynb",
      "provenance": [],
      "collapsed_sections": []
    },
    "kernelspec": {
      "name": "python3",
      "display_name": "Python 3"
    }
  },
  "cells": [
    {
      "cell_type": "code",
      "metadata": {
        "id": "kXEOxP_F1iE1"
      },
      "source": [
        "import numpy as np\n",
        "import pandas as pd\n",
        "import zipfile\n",
        "import gc\n",
        "gc.enable()"
      ],
      "execution_count": 1,
      "outputs": []
    },
    {
      "cell_type": "code",
      "metadata": {
        "colab": {
          "base_uri": "https://localhost:8080/"
        },
        "id": "YmJW9kiKV-rZ",
        "outputId": "054533f8-8d3b-491e-81c8-f578913108b7"
      },
      "source": [
        "from google.colab import drive\n",
        "drive.mount('/content/drive')"
      ],
      "execution_count": 3,
      "outputs": [
        {
          "output_type": "stream",
          "text": [
            "Drive already mounted at /content/drive; to attempt to forcibly remount, call drive.mount(\"/content/drive\", force_remount=True).\n"
          ],
          "name": "stdout"
        }
      ]
    },
    {
      "cell_type": "code",
      "metadata": {
        "id": "zrWTobgD1vnr"
      },
      "source": [
        "train = \"order_products__train\"\n",
        "products = 'products'\n",
        "departments = 'departments'\n",
        "aisles = 'aisles'\n",
        "prior= \"order_products__prior\"\n",
        "orders='orders'\n",
        "path=\"/content/drive/MyDrive/Data_btp2/\"\n",
        "orders = zipfile.ZipFile(path+orders+\".zip\",\"r\")\n",
        "products = zipfile.ZipFile(path+products+\".zip\",\"r\")\n",
        "departments = zipfile.ZipFile(path+departments+\".zip\",\"r\")\n",
        "aisles = zipfile.ZipFile(path+aisles+\".zip\",\"r\")\n",
        "train = zipfile.ZipFile(path+train+\".zip\",\"r\")\n",
        "prior=zipfile.ZipFile(path+prior+\".zip\",\"r\")"
      ],
      "execution_count": 4,
      "outputs": []
    },
    {
      "cell_type": "code",
      "metadata": {
        "id": "sRXIbEWW19Yb"
      },
      "source": [
        "train = pd.read_csv(train.open('order_products__train.csv'))\n",
        "prior =pd.read_csv(prior.open('order_products__prior.csv'))\n",
        "products = pd.read_csv(products.open('products.csv'), usecols=['product_id', 'aisle_id', 'department_id'])\n",
        "departments = pd.read_csv(departments.open('departments.csv'))\n",
        "aisles = pd.read_csv(aisles.open('aisles.csv'))\n",
        "orders = pd.read_csv(orders.open('orders.csv'))"
      ],
      "execution_count": 5,
      "outputs": []
    },
    {
      "cell_type": "code",
      "metadata": {
        "colab": {
          "base_uri": "https://localhost:8080/"
        },
        "id": "JOcaKfGMbC3x",
        "outputId": "00043b6f-0269-4b8f-c396-fc80e6a19051"
      },
      "source": [
        "orders.info()"
      ],
      "execution_count": 6,
      "outputs": [
        {
          "output_type": "stream",
          "text": [
            "<class 'pandas.core.frame.DataFrame'>\n",
            "RangeIndex: 3421083 entries, 0 to 3421082\n",
            "Data columns (total 7 columns):\n",
            " #   Column                  Dtype  \n",
            "---  ------                  -----  \n",
            " 0   order_id                int64  \n",
            " 1   user_id                 int64  \n",
            " 2   eval_set                object \n",
            " 3   order_number            int64  \n",
            " 4   order_dow               int64  \n",
            " 5   order_hour_of_day       int64  \n",
            " 6   days_since_prior_order  float64\n",
            "dtypes: float64(1), int64(5), object(1)\n",
            "memory usage: 182.7+ MB\n"
          ],
          "name": "stdout"
        }
      ]
    },
    {
      "cell_type": "code",
      "metadata": {
        "id": "q2fZo8162FPm"
      },
      "source": [
        "orders.eval_set = orders.eval_set.replace({'prior': 0, 'train': 1, 'test':2})\n",
        "orders.days_since_prior_order = orders.days_since_prior_order.fillna(30)"
      ],
      "execution_count": 7,
      "outputs": []
    },
    {
      "cell_type": "code",
      "metadata": {
        "colab": {
          "base_uri": "https://localhost:8080/",
          "height": 204
        },
        "id": "iQAAYXVa2o30",
        "outputId": "6232f454-e334-4f2f-c1c8-4c542b6aafed"
      },
      "source": [
        "prior_orders = pd.merge(orders,prior, on='order_id', how='inner')\n",
        "prior_orders.head()"
      ],
      "execution_count": 7,
      "outputs": [
        {
          "output_type": "execute_result",
          "data": {
            "text/html": [
              "<div>\n",
              "<style scoped>\n",
              "    .dataframe tbody tr th:only-of-type {\n",
              "        vertical-align: middle;\n",
              "    }\n",
              "\n",
              "    .dataframe tbody tr th {\n",
              "        vertical-align: top;\n",
              "    }\n",
              "\n",
              "    .dataframe thead th {\n",
              "        text-align: right;\n",
              "    }\n",
              "</style>\n",
              "<table border=\"1\" class=\"dataframe\">\n",
              "  <thead>\n",
              "    <tr style=\"text-align: right;\">\n",
              "      <th></th>\n",
              "      <th>order_id</th>\n",
              "      <th>user_id</th>\n",
              "      <th>eval_set</th>\n",
              "      <th>order_number</th>\n",
              "      <th>order_dow</th>\n",
              "      <th>order_hour_of_day</th>\n",
              "      <th>days_since_prior_order</th>\n",
              "      <th>product_id</th>\n",
              "      <th>add_to_cart_order</th>\n",
              "      <th>reordered</th>\n",
              "    </tr>\n",
              "  </thead>\n",
              "  <tbody>\n",
              "    <tr>\n",
              "      <th>0</th>\n",
              "      <td>2539329</td>\n",
              "      <td>1</td>\n",
              "      <td>0</td>\n",
              "      <td>1</td>\n",
              "      <td>2</td>\n",
              "      <td>8</td>\n",
              "      <td>30.0</td>\n",
              "      <td>196</td>\n",
              "      <td>1</td>\n",
              "      <td>0</td>\n",
              "    </tr>\n",
              "    <tr>\n",
              "      <th>1</th>\n",
              "      <td>2539329</td>\n",
              "      <td>1</td>\n",
              "      <td>0</td>\n",
              "      <td>1</td>\n",
              "      <td>2</td>\n",
              "      <td>8</td>\n",
              "      <td>30.0</td>\n",
              "      <td>14084</td>\n",
              "      <td>2</td>\n",
              "      <td>0</td>\n",
              "    </tr>\n",
              "    <tr>\n",
              "      <th>2</th>\n",
              "      <td>2539329</td>\n",
              "      <td>1</td>\n",
              "      <td>0</td>\n",
              "      <td>1</td>\n",
              "      <td>2</td>\n",
              "      <td>8</td>\n",
              "      <td>30.0</td>\n",
              "      <td>12427</td>\n",
              "      <td>3</td>\n",
              "      <td>0</td>\n",
              "    </tr>\n",
              "    <tr>\n",
              "      <th>3</th>\n",
              "      <td>2539329</td>\n",
              "      <td>1</td>\n",
              "      <td>0</td>\n",
              "      <td>1</td>\n",
              "      <td>2</td>\n",
              "      <td>8</td>\n",
              "      <td>30.0</td>\n",
              "      <td>26088</td>\n",
              "      <td>4</td>\n",
              "      <td>0</td>\n",
              "    </tr>\n",
              "    <tr>\n",
              "      <th>4</th>\n",
              "      <td>2539329</td>\n",
              "      <td>1</td>\n",
              "      <td>0</td>\n",
              "      <td>1</td>\n",
              "      <td>2</td>\n",
              "      <td>8</td>\n",
              "      <td>30.0</td>\n",
              "      <td>26405</td>\n",
              "      <td>5</td>\n",
              "      <td>0</td>\n",
              "    </tr>\n",
              "  </tbody>\n",
              "</table>\n",
              "</div>"
            ],
            "text/plain": [
              "   order_id  user_id  eval_set  ...  product_id  add_to_cart_order  reordered\n",
              "0   2539329        1         0  ...         196                  1          0\n",
              "1   2539329        1         0  ...       14084                  2          0\n",
              "2   2539329        1         0  ...       12427                  3          0\n",
              "3   2539329        1         0  ...       26088                  4          0\n",
              "4   2539329        1         0  ...       26405                  5          0\n",
              "\n",
              "[5 rows x 10 columns]"
            ]
          },
          "metadata": {
            "tags": []
          },
          "execution_count": 7
        }
      ]
    },
    {
      "cell_type": "code",
      "metadata": {
        "colab": {
          "base_uri": "https://localhost:8080/"
        },
        "id": "odUN8xbc21Nm",
        "outputId": "e7a19af6-f066-445e-a01f-ac350bd2ec26"
      },
      "source": [
        "del prior\n",
        "gc.collect()\n"
      ],
      "execution_count": 8,
      "outputs": [
        {
          "output_type": "execute_result",
          "data": {
            "text/plain": [
              "23"
            ]
          },
          "metadata": {
            "tags": []
          },
          "execution_count": 8
        }
      ]
    },
    {
      "cell_type": "code",
      "metadata": {
        "colab": {
          "base_uri": "https://localhost:8080/",
          "height": 204
        },
        "id": "2-Pr1vY_28mV",
        "outputId": "072158f8-0226-4590-c5ee-93959dfec9c9"
      },
      "source": [
        "users = prior_orders.groupby(by='user_id')['order_number'].aggregate('max').to_frame('u_num_of_orders').reset_index()\n",
        "users.head()"
      ],
      "execution_count": 9,
      "outputs": [
        {
          "output_type": "execute_result",
          "data": {
            "text/html": [
              "<div>\n",
              "<style scoped>\n",
              "    .dataframe tbody tr th:only-of-type {\n",
              "        vertical-align: middle;\n",
              "    }\n",
              "\n",
              "    .dataframe tbody tr th {\n",
              "        vertical-align: top;\n",
              "    }\n",
              "\n",
              "    .dataframe thead th {\n",
              "        text-align: right;\n",
              "    }\n",
              "</style>\n",
              "<table border=\"1\" class=\"dataframe\">\n",
              "  <thead>\n",
              "    <tr style=\"text-align: right;\">\n",
              "      <th></th>\n",
              "      <th>user_id</th>\n",
              "      <th>u_num_of_orders</th>\n",
              "    </tr>\n",
              "  </thead>\n",
              "  <tbody>\n",
              "    <tr>\n",
              "      <th>0</th>\n",
              "      <td>1</td>\n",
              "      <td>10</td>\n",
              "    </tr>\n",
              "    <tr>\n",
              "      <th>1</th>\n",
              "      <td>2</td>\n",
              "      <td>14</td>\n",
              "    </tr>\n",
              "    <tr>\n",
              "      <th>2</th>\n",
              "      <td>3</td>\n",
              "      <td>12</td>\n",
              "    </tr>\n",
              "    <tr>\n",
              "      <th>3</th>\n",
              "      <td>4</td>\n",
              "      <td>5</td>\n",
              "    </tr>\n",
              "    <tr>\n",
              "      <th>4</th>\n",
              "      <td>5</td>\n",
              "      <td>4</td>\n",
              "    </tr>\n",
              "  </tbody>\n",
              "</table>\n",
              "</div>"
            ],
            "text/plain": [
              "   user_id  u_num_of_orders\n",
              "0        1               10\n",
              "1        2               14\n",
              "2        3               12\n",
              "3        4                5\n",
              "4        5                4"
            ]
          },
          "metadata": {
            "tags": []
          },
          "execution_count": 9
        }
      ]
    },
    {
      "cell_type": "code",
      "metadata": {
        "id": "JUbEJC_R3Y3G"
      },
      "source": [
        "total_prd_per_order = prior_orders.groupby(by=['user_id', 'order_id'])['product_id'].aggregate('count').to_frame('total_products_per_order').reset_index()"
      ],
      "execution_count": 10,
      "outputs": []
    },
    {
      "cell_type": "code",
      "metadata": {
        "colab": {
          "base_uri": "https://localhost:8080/",
          "height": 204
        },
        "id": "UsTeotwm4UJ-",
        "outputId": "d78fc112-3304-437d-e6f9-3a68d042a9ba"
      },
      "source": [
        "avg_products = total_prd_per_order.groupby(by=['user_id'])['total_products_per_order'].mean().to_frame('u_avg_prd').reset_index()\n",
        "avg_products.head()"
      ],
      "execution_count": 11,
      "outputs": [
        {
          "output_type": "execute_result",
          "data": {
            "text/html": [
              "<div>\n",
              "<style scoped>\n",
              "    .dataframe tbody tr th:only-of-type {\n",
              "        vertical-align: middle;\n",
              "    }\n",
              "\n",
              "    .dataframe tbody tr th {\n",
              "        vertical-align: top;\n",
              "    }\n",
              "\n",
              "    .dataframe thead th {\n",
              "        text-align: right;\n",
              "    }\n",
              "</style>\n",
              "<table border=\"1\" class=\"dataframe\">\n",
              "  <thead>\n",
              "    <tr style=\"text-align: right;\">\n",
              "      <th></th>\n",
              "      <th>user_id</th>\n",
              "      <th>u_avg_prd</th>\n",
              "    </tr>\n",
              "  </thead>\n",
              "  <tbody>\n",
              "    <tr>\n",
              "      <th>0</th>\n",
              "      <td>1</td>\n",
              "      <td>5.900000</td>\n",
              "    </tr>\n",
              "    <tr>\n",
              "      <th>1</th>\n",
              "      <td>2</td>\n",
              "      <td>13.928571</td>\n",
              "    </tr>\n",
              "    <tr>\n",
              "      <th>2</th>\n",
              "      <td>3</td>\n",
              "      <td>7.333333</td>\n",
              "    </tr>\n",
              "    <tr>\n",
              "      <th>3</th>\n",
              "      <td>4</td>\n",
              "      <td>3.600000</td>\n",
              "    </tr>\n",
              "    <tr>\n",
              "      <th>4</th>\n",
              "      <td>5</td>\n",
              "      <td>9.250000</td>\n",
              "    </tr>\n",
              "  </tbody>\n",
              "</table>\n",
              "</div>"
            ],
            "text/plain": [
              "   user_id  u_avg_prd\n",
              "0        1   5.900000\n",
              "1        2  13.928571\n",
              "2        3   7.333333\n",
              "3        4   3.600000\n",
              "4        5   9.250000"
            ]
          },
          "metadata": {
            "tags": []
          },
          "execution_count": 11
        }
      ]
    },
    {
      "cell_type": "code",
      "metadata": {
        "colab": {
          "base_uri": "https://localhost:8080/",
          "height": 204
        },
        "id": "Xds174774zz6",
        "outputId": "54f92c98-cc8a-436f-d4f3-d34da0341ff5"
      },
      "source": [
        "del [total_prd_per_order]\n",
        "gc.collect()\n",
        "\n",
        "avg_products.head()"
      ],
      "execution_count": 12,
      "outputs": [
        {
          "output_type": "execute_result",
          "data": {
            "text/html": [
              "<div>\n",
              "<style scoped>\n",
              "    .dataframe tbody tr th:only-of-type {\n",
              "        vertical-align: middle;\n",
              "    }\n",
              "\n",
              "    .dataframe tbody tr th {\n",
              "        vertical-align: top;\n",
              "    }\n",
              "\n",
              "    .dataframe thead th {\n",
              "        text-align: right;\n",
              "    }\n",
              "</style>\n",
              "<table border=\"1\" class=\"dataframe\">\n",
              "  <thead>\n",
              "    <tr style=\"text-align: right;\">\n",
              "      <th></th>\n",
              "      <th>user_id</th>\n",
              "      <th>u_avg_prd</th>\n",
              "    </tr>\n",
              "  </thead>\n",
              "  <tbody>\n",
              "    <tr>\n",
              "      <th>0</th>\n",
              "      <td>1</td>\n",
              "      <td>5.900000</td>\n",
              "    </tr>\n",
              "    <tr>\n",
              "      <th>1</th>\n",
              "      <td>2</td>\n",
              "      <td>13.928571</td>\n",
              "    </tr>\n",
              "    <tr>\n",
              "      <th>2</th>\n",
              "      <td>3</td>\n",
              "      <td>7.333333</td>\n",
              "    </tr>\n",
              "    <tr>\n",
              "      <th>3</th>\n",
              "      <td>4</td>\n",
              "      <td>3.600000</td>\n",
              "    </tr>\n",
              "    <tr>\n",
              "      <th>4</th>\n",
              "      <td>5</td>\n",
              "      <td>9.250000</td>\n",
              "    </tr>\n",
              "  </tbody>\n",
              "</table>\n",
              "</div>"
            ],
            "text/plain": [
              "   user_id  u_avg_prd\n",
              "0        1   5.900000\n",
              "1        2  13.928571\n",
              "2        3   7.333333\n",
              "3        4   3.600000\n",
              "4        5   9.250000"
            ]
          },
          "metadata": {
            "tags": []
          },
          "execution_count": 12
        }
      ]
    },
    {
      "cell_type": "code",
      "metadata": {
        "colab": {
          "base_uri": "https://localhost:8080/",
          "height": 204
        },
        "id": "REMfPwWD5BmT",
        "outputId": "947275c0-2c68-4cc9-9a9a-893cf5a4a9df"
      },
      "source": [
        "avg_products.head()"
      ],
      "execution_count": 13,
      "outputs": [
        {
          "output_type": "execute_result",
          "data": {
            "text/html": [
              "<div>\n",
              "<style scoped>\n",
              "    .dataframe tbody tr th:only-of-type {\n",
              "        vertical-align: middle;\n",
              "    }\n",
              "\n",
              "    .dataframe tbody tr th {\n",
              "        vertical-align: top;\n",
              "    }\n",
              "\n",
              "    .dataframe thead th {\n",
              "        text-align: right;\n",
              "    }\n",
              "</style>\n",
              "<table border=\"1\" class=\"dataframe\">\n",
              "  <thead>\n",
              "    <tr style=\"text-align: right;\">\n",
              "      <th></th>\n",
              "      <th>user_id</th>\n",
              "      <th>u_avg_prd</th>\n",
              "    </tr>\n",
              "  </thead>\n",
              "  <tbody>\n",
              "    <tr>\n",
              "      <th>0</th>\n",
              "      <td>1</td>\n",
              "      <td>5.900000</td>\n",
              "    </tr>\n",
              "    <tr>\n",
              "      <th>1</th>\n",
              "      <td>2</td>\n",
              "      <td>13.928571</td>\n",
              "    </tr>\n",
              "    <tr>\n",
              "      <th>2</th>\n",
              "      <td>3</td>\n",
              "      <td>7.333333</td>\n",
              "    </tr>\n",
              "    <tr>\n",
              "      <th>3</th>\n",
              "      <td>4</td>\n",
              "      <td>3.600000</td>\n",
              "    </tr>\n",
              "    <tr>\n",
              "      <th>4</th>\n",
              "      <td>5</td>\n",
              "      <td>9.250000</td>\n",
              "    </tr>\n",
              "  </tbody>\n",
              "</table>\n",
              "</div>"
            ],
            "text/plain": [
              "   user_id  u_avg_prd\n",
              "0        1   5.900000\n",
              "1        2  13.928571\n",
              "2        3   7.333333\n",
              "3        4   3.600000\n",
              "4        5   9.250000"
            ]
          },
          "metadata": {
            "tags": []
          },
          "execution_count": 13
        }
      ]
    },
    {
      "cell_type": "code",
      "metadata": {
        "colab": {
          "base_uri": "https://localhost:8080/",
          "height": 204
        },
        "id": "JfkXGjB55EC-",
        "outputId": "1fba683b-4dff-4d4f-bcba-de129012caa8"
      },
      "source": [
        "from scipy import stats\n",
        "\n",
        "dow = prior_orders.groupby(by=['user_id'])['order_dow'].aggregate(lambda x : stats.mode(x)[0]).to_frame('dow_u_most_orders')\n",
        "\n",
        "dow = dow.reset_index()\n",
        "dow.head()"
      ],
      "execution_count": 14,
      "outputs": [
        {
          "output_type": "execute_result",
          "data": {
            "text/html": [
              "<div>\n",
              "<style scoped>\n",
              "    .dataframe tbody tr th:only-of-type {\n",
              "        vertical-align: middle;\n",
              "    }\n",
              "\n",
              "    .dataframe tbody tr th {\n",
              "        vertical-align: top;\n",
              "    }\n",
              "\n",
              "    .dataframe thead th {\n",
              "        text-align: right;\n",
              "    }\n",
              "</style>\n",
              "<table border=\"1\" class=\"dataframe\">\n",
              "  <thead>\n",
              "    <tr style=\"text-align: right;\">\n",
              "      <th></th>\n",
              "      <th>user_id</th>\n",
              "      <th>dow_u_most_orders</th>\n",
              "    </tr>\n",
              "  </thead>\n",
              "  <tbody>\n",
              "    <tr>\n",
              "      <th>0</th>\n",
              "      <td>1</td>\n",
              "      <td>4</td>\n",
              "    </tr>\n",
              "    <tr>\n",
              "      <th>1</th>\n",
              "      <td>2</td>\n",
              "      <td>2</td>\n",
              "    </tr>\n",
              "    <tr>\n",
              "      <th>2</th>\n",
              "      <td>3</td>\n",
              "      <td>0</td>\n",
              "    </tr>\n",
              "    <tr>\n",
              "      <th>3</th>\n",
              "      <td>4</td>\n",
              "      <td>4</td>\n",
              "    </tr>\n",
              "    <tr>\n",
              "      <th>4</th>\n",
              "      <td>5</td>\n",
              "      <td>3</td>\n",
              "    </tr>\n",
              "  </tbody>\n",
              "</table>\n",
              "</div>"
            ],
            "text/plain": [
              "   user_id  dow_u_most_orders\n",
              "0        1                  4\n",
              "1        2                  2\n",
              "2        3                  0\n",
              "3        4                  4\n",
              "4        5                  3"
            ]
          },
          "metadata": {
            "tags": []
          },
          "execution_count": 14
        }
      ]
    },
    {
      "cell_type": "code",
      "metadata": {
        "colab": {
          "base_uri": "https://localhost:8080/",
          "height": 204
        },
        "id": "LKjFYH225uHS",
        "outputId": "ae5659e5-fa8a-4daa-d50a-2ad8ae5e29a8"
      },
      "source": [
        "hod = prior_orders.groupby(by=['user_id'])['order_hour_of_day'].aggregate(lambda x : stats.mode(x)[0]).to_frame('hod_u_most_orders')\n",
        "#resetting the index\n",
        "hod = hod.reset_index()\n",
        "hod.head()"
      ],
      "execution_count": 15,
      "outputs": [
        {
          "output_type": "execute_result",
          "data": {
            "text/html": [
              "<div>\n",
              "<style scoped>\n",
              "    .dataframe tbody tr th:only-of-type {\n",
              "        vertical-align: middle;\n",
              "    }\n",
              "\n",
              "    .dataframe tbody tr th {\n",
              "        vertical-align: top;\n",
              "    }\n",
              "\n",
              "    .dataframe thead th {\n",
              "        text-align: right;\n",
              "    }\n",
              "</style>\n",
              "<table border=\"1\" class=\"dataframe\">\n",
              "  <thead>\n",
              "    <tr style=\"text-align: right;\">\n",
              "      <th></th>\n",
              "      <th>user_id</th>\n",
              "      <th>hod_u_most_orders</th>\n",
              "    </tr>\n",
              "  </thead>\n",
              "  <tbody>\n",
              "    <tr>\n",
              "      <th>0</th>\n",
              "      <td>1</td>\n",
              "      <td>7</td>\n",
              "    </tr>\n",
              "    <tr>\n",
              "      <th>1</th>\n",
              "      <td>2</td>\n",
              "      <td>9</td>\n",
              "    </tr>\n",
              "    <tr>\n",
              "      <th>2</th>\n",
              "      <td>3</td>\n",
              "      <td>16</td>\n",
              "    </tr>\n",
              "    <tr>\n",
              "      <th>3</th>\n",
              "      <td>4</td>\n",
              "      <td>15</td>\n",
              "    </tr>\n",
              "    <tr>\n",
              "      <th>4</th>\n",
              "      <td>5</td>\n",
              "      <td>18</td>\n",
              "    </tr>\n",
              "  </tbody>\n",
              "</table>\n",
              "</div>"
            ],
            "text/plain": [
              "   user_id  hod_u_most_orders\n",
              "0        1                  7\n",
              "1        2                  9\n",
              "2        3                 16\n",
              "3        4                 15\n",
              "4        5                 18"
            ]
          },
          "metadata": {
            "tags": []
          },
          "execution_count": 15
        }
      ]
    },
    {
      "cell_type": "code",
      "metadata": {
        "colab": {
          "base_uri": "https://localhost:8080/",
          "height": 204
        },
        "id": "NRPUVxfQ6HNh",
        "outputId": "4d160ac0-20a7-46ca-ba01-78b9aa8ebacf"
      },
      "source": [
        "reorder_u = prior_orders.groupby(by='user_id')['reordered'].aggregate('mean').to_frame('u_reorder_ratio').reset_index()\n",
        "#changing the dtype.\n",
        "reorder_u['u_reorder_ratio'] = reorder_u['u_reorder_ratio'].astype(np.float16)\n",
        "reorder_u.head()"
      ],
      "execution_count": 16,
      "outputs": [
        {
          "output_type": "execute_result",
          "data": {
            "text/html": [
              "<div>\n",
              "<style scoped>\n",
              "    .dataframe tbody tr th:only-of-type {\n",
              "        vertical-align: middle;\n",
              "    }\n",
              "\n",
              "    .dataframe tbody tr th {\n",
              "        vertical-align: top;\n",
              "    }\n",
              "\n",
              "    .dataframe thead th {\n",
              "        text-align: right;\n",
              "    }\n",
              "</style>\n",
              "<table border=\"1\" class=\"dataframe\">\n",
              "  <thead>\n",
              "    <tr style=\"text-align: right;\">\n",
              "      <th></th>\n",
              "      <th>user_id</th>\n",
              "      <th>u_reorder_ratio</th>\n",
              "    </tr>\n",
              "  </thead>\n",
              "  <tbody>\n",
              "    <tr>\n",
              "      <th>0</th>\n",
              "      <td>1</td>\n",
              "      <td>0.694824</td>\n",
              "    </tr>\n",
              "    <tr>\n",
              "      <th>1</th>\n",
              "      <td>2</td>\n",
              "      <td>0.476807</td>\n",
              "    </tr>\n",
              "    <tr>\n",
              "      <th>2</th>\n",
              "      <td>3</td>\n",
              "      <td>0.625000</td>\n",
              "    </tr>\n",
              "    <tr>\n",
              "      <th>3</th>\n",
              "      <td>4</td>\n",
              "      <td>0.055542</td>\n",
              "    </tr>\n",
              "    <tr>\n",
              "      <th>4</th>\n",
              "      <td>5</td>\n",
              "      <td>0.378418</td>\n",
              "    </tr>\n",
              "  </tbody>\n",
              "</table>\n",
              "</div>"
            ],
            "text/plain": [
              "   user_id  u_reorder_ratio\n",
              "0        1         0.694824\n",
              "1        2         0.476807\n",
              "2        3         0.625000\n",
              "3        4         0.055542\n",
              "4        5         0.378418"
            ]
          },
          "metadata": {
            "tags": []
          },
          "execution_count": 16
        }
      ]
    },
    {
      "cell_type": "code",
      "metadata": {
        "id": "XcdZs4oV7Bjn"
      },
      "source": [
        "prior_orders.days_since_prior_order.fillna(0, inplace=True)"
      ],
      "execution_count": 17,
      "outputs": []
    },
    {
      "cell_type": "code",
      "metadata": {
        "colab": {
          "base_uri": "https://localhost:8080/",
          "height": 204
        },
        "id": "_7cIfZIf_BzK",
        "outputId": "b5a19f21-aeef-471c-fe8b-fcff88868f46"
      },
      "source": [
        "avg_days = prior_orders.groupby(by='user_id')['days_since_prior_order'].aggregate('mean').to_frame('average_days_between_orders')\n",
        "#resetting index\n",
        "avg_days = avg_days.reset_index()\n",
        "avg_days.head()"
      ],
      "execution_count": 18,
      "outputs": [
        {
          "output_type": "execute_result",
          "data": {
            "text/html": [
              "<div>\n",
              "<style scoped>\n",
              "    .dataframe tbody tr th:only-of-type {\n",
              "        vertical-align: middle;\n",
              "    }\n",
              "\n",
              "    .dataframe tbody tr th {\n",
              "        vertical-align: top;\n",
              "    }\n",
              "\n",
              "    .dataframe thead th {\n",
              "        text-align: right;\n",
              "    }\n",
              "</style>\n",
              "<table border=\"1\" class=\"dataframe\">\n",
              "  <thead>\n",
              "    <tr style=\"text-align: right;\">\n",
              "      <th></th>\n",
              "      <th>user_id</th>\n",
              "      <th>average_days_between_orders</th>\n",
              "    </tr>\n",
              "  </thead>\n",
              "  <tbody>\n",
              "    <tr>\n",
              "      <th>0</th>\n",
              "      <td>1</td>\n",
              "      <td>21.084746</td>\n",
              "    </tr>\n",
              "    <tr>\n",
              "      <th>1</th>\n",
              "      <td>2</td>\n",
              "      <td>16.902564</td>\n",
              "    </tr>\n",
              "    <tr>\n",
              "      <th>2</th>\n",
              "      <td>3</td>\n",
              "      <td>13.590909</td>\n",
              "    </tr>\n",
              "    <tr>\n",
              "      <th>3</th>\n",
              "      <td>4</td>\n",
              "      <td>18.611111</td>\n",
              "    </tr>\n",
              "    <tr>\n",
              "      <th>4</th>\n",
              "      <td>5</td>\n",
              "      <td>19.108108</td>\n",
              "    </tr>\n",
              "  </tbody>\n",
              "</table>\n",
              "</div>"
            ],
            "text/plain": [
              "   user_id  average_days_between_orders\n",
              "0        1                    21.084746\n",
              "1        2                    16.902564\n",
              "2        3                    13.590909\n",
              "3        4                    18.611111\n",
              "4        5                    19.108108"
            ]
          },
          "metadata": {
            "tags": []
          },
          "execution_count": 18
        }
      ]
    },
    {
      "cell_type": "code",
      "metadata": {
        "colab": {
          "base_uri": "https://localhost:8080/",
          "height": 235
        },
        "id": "lRMTyW2n_e7y",
        "outputId": "104b2b89-fa9f-4d86-e4ed-80d32b89464d"
      },
      "source": [
        "total_item = prior_orders.groupby(by='user_id').size().to_frame('u_total_items_bought').astype(np.int16)\n",
        "total_item.head()"
      ],
      "execution_count": 19,
      "outputs": [
        {
          "output_type": "execute_result",
          "data": {
            "text/html": [
              "<div>\n",
              "<style scoped>\n",
              "    .dataframe tbody tr th:only-of-type {\n",
              "        vertical-align: middle;\n",
              "    }\n",
              "\n",
              "    .dataframe tbody tr th {\n",
              "        vertical-align: top;\n",
              "    }\n",
              "\n",
              "    .dataframe thead th {\n",
              "        text-align: right;\n",
              "    }\n",
              "</style>\n",
              "<table border=\"1\" class=\"dataframe\">\n",
              "  <thead>\n",
              "    <tr style=\"text-align: right;\">\n",
              "      <th></th>\n",
              "      <th>u_total_items_bought</th>\n",
              "    </tr>\n",
              "    <tr>\n",
              "      <th>user_id</th>\n",
              "      <th></th>\n",
              "    </tr>\n",
              "  </thead>\n",
              "  <tbody>\n",
              "    <tr>\n",
              "      <th>1</th>\n",
              "      <td>59</td>\n",
              "    </tr>\n",
              "    <tr>\n",
              "      <th>2</th>\n",
              "      <td>195</td>\n",
              "    </tr>\n",
              "    <tr>\n",
              "      <th>3</th>\n",
              "      <td>88</td>\n",
              "    </tr>\n",
              "    <tr>\n",
              "      <th>4</th>\n",
              "      <td>18</td>\n",
              "    </tr>\n",
              "    <tr>\n",
              "      <th>5</th>\n",
              "      <td>37</td>\n",
              "    </tr>\n",
              "  </tbody>\n",
              "</table>\n",
              "</div>"
            ],
            "text/plain": [
              "         u_total_items_bought\n",
              "user_id                      \n",
              "1                          59\n",
              "2                         195\n",
              "3                          88\n",
              "4                          18\n",
              "5                          37"
            ]
          },
          "metadata": {
            "tags": []
          },
          "execution_count": 19
        }
      ]
    },
    {
      "cell_type": "code",
      "metadata": {
        "colab": {
          "base_uri": "https://localhost:8080/",
          "height": 204
        },
        "id": "58tsONbP_u96",
        "outputId": "e27a5013-8346-48d3-9af5-c4215f66eacd"
      },
      "source": [
        "users = users.merge(avg_products, on='user_id', how='left')\n",
        "#merging users df with dow\n",
        "users = users.merge(dow, on='user_id', how='left')\n",
        "#merging users df with hod\n",
        "users = users.merge(hod, on='user_id', how='left')\n",
        "#merging users df with reorder_u\n",
        "users = users.merge(reorder_u, on='user_id', how='left')\n",
        "#merging users df with avg_days\n",
        "users = users.merge(avg_days, on='user_id', how='left')\n",
        "#merging total_item df with reorder_u\n",
        "users = users.merge(total_item, on='user_id', how='left')\n",
        "\n",
        "users.head()"
      ],
      "execution_count": 20,
      "outputs": [
        {
          "output_type": "execute_result",
          "data": {
            "text/html": [
              "<div>\n",
              "<style scoped>\n",
              "    .dataframe tbody tr th:only-of-type {\n",
              "        vertical-align: middle;\n",
              "    }\n",
              "\n",
              "    .dataframe tbody tr th {\n",
              "        vertical-align: top;\n",
              "    }\n",
              "\n",
              "    .dataframe thead th {\n",
              "        text-align: right;\n",
              "    }\n",
              "</style>\n",
              "<table border=\"1\" class=\"dataframe\">\n",
              "  <thead>\n",
              "    <tr style=\"text-align: right;\">\n",
              "      <th></th>\n",
              "      <th>user_id</th>\n",
              "      <th>u_num_of_orders</th>\n",
              "      <th>u_avg_prd</th>\n",
              "      <th>dow_u_most_orders</th>\n",
              "      <th>hod_u_most_orders</th>\n",
              "      <th>u_reorder_ratio</th>\n",
              "      <th>average_days_between_orders</th>\n",
              "      <th>u_total_items_bought</th>\n",
              "    </tr>\n",
              "  </thead>\n",
              "  <tbody>\n",
              "    <tr>\n",
              "      <th>0</th>\n",
              "      <td>1</td>\n",
              "      <td>10</td>\n",
              "      <td>5.900000</td>\n",
              "      <td>4</td>\n",
              "      <td>7</td>\n",
              "      <td>0.694824</td>\n",
              "      <td>21.084746</td>\n",
              "      <td>59</td>\n",
              "    </tr>\n",
              "    <tr>\n",
              "      <th>1</th>\n",
              "      <td>2</td>\n",
              "      <td>14</td>\n",
              "      <td>13.928571</td>\n",
              "      <td>2</td>\n",
              "      <td>9</td>\n",
              "      <td>0.476807</td>\n",
              "      <td>16.902564</td>\n",
              "      <td>195</td>\n",
              "    </tr>\n",
              "    <tr>\n",
              "      <th>2</th>\n",
              "      <td>3</td>\n",
              "      <td>12</td>\n",
              "      <td>7.333333</td>\n",
              "      <td>0</td>\n",
              "      <td>16</td>\n",
              "      <td>0.625000</td>\n",
              "      <td>13.590909</td>\n",
              "      <td>88</td>\n",
              "    </tr>\n",
              "    <tr>\n",
              "      <th>3</th>\n",
              "      <td>4</td>\n",
              "      <td>5</td>\n",
              "      <td>3.600000</td>\n",
              "      <td>4</td>\n",
              "      <td>15</td>\n",
              "      <td>0.055542</td>\n",
              "      <td>18.611111</td>\n",
              "      <td>18</td>\n",
              "    </tr>\n",
              "    <tr>\n",
              "      <th>4</th>\n",
              "      <td>5</td>\n",
              "      <td>4</td>\n",
              "      <td>9.250000</td>\n",
              "      <td>3</td>\n",
              "      <td>18</td>\n",
              "      <td>0.378418</td>\n",
              "      <td>19.108108</td>\n",
              "      <td>37</td>\n",
              "    </tr>\n",
              "  </tbody>\n",
              "</table>\n",
              "</div>"
            ],
            "text/plain": [
              "   user_id  u_num_of_orders  ...  average_days_between_orders  u_total_items_bought\n",
              "0        1               10  ...                    21.084746                    59\n",
              "1        2               14  ...                    16.902564                   195\n",
              "2        3               12  ...                    13.590909                    88\n",
              "3        4                5  ...                    18.611111                    18\n",
              "4        5                4  ...                    19.108108                    37\n",
              "\n",
              "[5 rows x 8 columns]"
            ]
          },
          "metadata": {
            "tags": []
          },
          "execution_count": 20
        }
      ]
    },
    {
      "cell_type": "code",
      "metadata": {
        "colab": {
          "base_uri": "https://localhost:8080/"
        },
        "id": "A-t4HRsaAYFX",
        "outputId": "d285efef-2caa-4614-cccc-0edc74b9cab7"
      },
      "source": [
        "del [reorder_u, dow, hod, avg_products, avg_days, total_item]\n",
        "gc.collect()"
      ],
      "execution_count": 21,
      "outputs": [
        {
          "output_type": "execute_result",
          "data": {
            "text/plain": [
              "12"
            ]
          },
          "metadata": {
            "tags": []
          },
          "execution_count": 21
        }
      ]
    },
    {
      "cell_type": "code",
      "metadata": {
        "colab": {
          "base_uri": "https://localhost:8080/",
          "height": 204
        },
        "id": "UYK7J6WyAiJj",
        "outputId": "f907876a-9519-40e8-9ebe-958679fc45b0"
      },
      "source": [
        "prd = prior_orders.groupby(by='product_id')['order_id'].aggregate('count').to_frame('p_num_of_times').reset_index()\n",
        "# prd['p_num_of_times'] = prd['p_num_of_times'].astype(np.uint16)\n",
        "prd.head()"
      ],
      "execution_count": 22,
      "outputs": [
        {
          "output_type": "execute_result",
          "data": {
            "text/html": [
              "<div>\n",
              "<style scoped>\n",
              "    .dataframe tbody tr th:only-of-type {\n",
              "        vertical-align: middle;\n",
              "    }\n",
              "\n",
              "    .dataframe tbody tr th {\n",
              "        vertical-align: top;\n",
              "    }\n",
              "\n",
              "    .dataframe thead th {\n",
              "        text-align: right;\n",
              "    }\n",
              "</style>\n",
              "<table border=\"1\" class=\"dataframe\">\n",
              "  <thead>\n",
              "    <tr style=\"text-align: right;\">\n",
              "      <th></th>\n",
              "      <th>product_id</th>\n",
              "      <th>p_num_of_times</th>\n",
              "    </tr>\n",
              "  </thead>\n",
              "  <tbody>\n",
              "    <tr>\n",
              "      <th>0</th>\n",
              "      <td>1</td>\n",
              "      <td>1852</td>\n",
              "    </tr>\n",
              "    <tr>\n",
              "      <th>1</th>\n",
              "      <td>2</td>\n",
              "      <td>90</td>\n",
              "    </tr>\n",
              "    <tr>\n",
              "      <th>2</th>\n",
              "      <td>3</td>\n",
              "      <td>277</td>\n",
              "    </tr>\n",
              "    <tr>\n",
              "      <th>3</th>\n",
              "      <td>4</td>\n",
              "      <td>329</td>\n",
              "    </tr>\n",
              "    <tr>\n",
              "      <th>4</th>\n",
              "      <td>5</td>\n",
              "      <td>15</td>\n",
              "    </tr>\n",
              "  </tbody>\n",
              "</table>\n",
              "</div>"
            ],
            "text/plain": [
              "   product_id  p_num_of_times\n",
              "0           1            1852\n",
              "1           2              90\n",
              "2           3             277\n",
              "3           4             329\n",
              "4           5              15"
            ]
          },
          "metadata": {
            "tags": []
          },
          "execution_count": 22
        }
      ]
    },
    {
      "cell_type": "code",
      "metadata": {
        "colab": {
          "base_uri": "https://localhost:8080/",
          "height": 204
        },
        "id": "59_EsoR4BabC",
        "outputId": "fe00fe1d-1a96-4012-a943-87a10f39d6ed"
      },
      "source": [
        "reorder_p = prior_orders.groupby(by='product_id')['reordered'].aggregate('mean').to_frame('p_reorder_ratio').reset_index()\n",
        "# #changing dtype\n",
        "# reorder_p['p_reorder_ratio'] = reorder_p['p_reorder_ratio'].astype(np.float16)\n",
        "reorder_p.head()"
      ],
      "execution_count": 23,
      "outputs": [
        {
          "output_type": "execute_result",
          "data": {
            "text/html": [
              "<div>\n",
              "<style scoped>\n",
              "    .dataframe tbody tr th:only-of-type {\n",
              "        vertical-align: middle;\n",
              "    }\n",
              "\n",
              "    .dataframe tbody tr th {\n",
              "        vertical-align: top;\n",
              "    }\n",
              "\n",
              "    .dataframe thead th {\n",
              "        text-align: right;\n",
              "    }\n",
              "</style>\n",
              "<table border=\"1\" class=\"dataframe\">\n",
              "  <thead>\n",
              "    <tr style=\"text-align: right;\">\n",
              "      <th></th>\n",
              "      <th>product_id</th>\n",
              "      <th>p_reorder_ratio</th>\n",
              "    </tr>\n",
              "  </thead>\n",
              "  <tbody>\n",
              "    <tr>\n",
              "      <th>0</th>\n",
              "      <td>1</td>\n",
              "      <td>0.613391</td>\n",
              "    </tr>\n",
              "    <tr>\n",
              "      <th>1</th>\n",
              "      <td>2</td>\n",
              "      <td>0.133333</td>\n",
              "    </tr>\n",
              "    <tr>\n",
              "      <th>2</th>\n",
              "      <td>3</td>\n",
              "      <td>0.732852</td>\n",
              "    </tr>\n",
              "    <tr>\n",
              "      <th>3</th>\n",
              "      <td>4</td>\n",
              "      <td>0.446809</td>\n",
              "    </tr>\n",
              "    <tr>\n",
              "      <th>4</th>\n",
              "      <td>5</td>\n",
              "      <td>0.600000</td>\n",
              "    </tr>\n",
              "  </tbody>\n",
              "</table>\n",
              "</div>"
            ],
            "text/plain": [
              "   product_id  p_reorder_ratio\n",
              "0           1         0.613391\n",
              "1           2         0.133333\n",
              "2           3         0.732852\n",
              "3           4         0.446809\n",
              "4           5         0.600000"
            ]
          },
          "metadata": {
            "tags": []
          },
          "execution_count": 23
        }
      ]
    },
    {
      "cell_type": "code",
      "metadata": {
        "colab": {
          "base_uri": "https://localhost:8080/",
          "height": 204
        },
        "id": "-SICFm6uB9ai",
        "outputId": "403ee67e-ca0c-4171-ffe2-8f29262e5232"
      },
      "source": [
        "add_to_cart = prior_orders.groupby(by='product_id')['add_to_cart_order'].aggregate('mean').to_frame('p_avg_cart_position').reset_index()\n",
        "# #changing the dtype\n",
        "# add_to_cart['p_avg_cart_position'] = add_to_cart['p_avg_cart_position'].astype(np.float16)\n",
        "add_to_cart.head()"
      ],
      "execution_count": 24,
      "outputs": [
        {
          "output_type": "execute_result",
          "data": {
            "text/html": [
              "<div>\n",
              "<style scoped>\n",
              "    .dataframe tbody tr th:only-of-type {\n",
              "        vertical-align: middle;\n",
              "    }\n",
              "\n",
              "    .dataframe tbody tr th {\n",
              "        vertical-align: top;\n",
              "    }\n",
              "\n",
              "    .dataframe thead th {\n",
              "        text-align: right;\n",
              "    }\n",
              "</style>\n",
              "<table border=\"1\" class=\"dataframe\">\n",
              "  <thead>\n",
              "    <tr style=\"text-align: right;\">\n",
              "      <th></th>\n",
              "      <th>product_id</th>\n",
              "      <th>p_avg_cart_position</th>\n",
              "    </tr>\n",
              "  </thead>\n",
              "  <tbody>\n",
              "    <tr>\n",
              "      <th>0</th>\n",
              "      <td>1</td>\n",
              "      <td>5.801836</td>\n",
              "    </tr>\n",
              "    <tr>\n",
              "      <th>1</th>\n",
              "      <td>2</td>\n",
              "      <td>9.888889</td>\n",
              "    </tr>\n",
              "    <tr>\n",
              "      <th>2</th>\n",
              "      <td>3</td>\n",
              "      <td>6.415162</td>\n",
              "    </tr>\n",
              "    <tr>\n",
              "      <th>3</th>\n",
              "      <td>4</td>\n",
              "      <td>9.507599</td>\n",
              "    </tr>\n",
              "    <tr>\n",
              "      <th>4</th>\n",
              "      <td>5</td>\n",
              "      <td>6.466667</td>\n",
              "    </tr>\n",
              "  </tbody>\n",
              "</table>\n",
              "</div>"
            ],
            "text/plain": [
              "   product_id  p_avg_cart_position\n",
              "0           1             5.801836\n",
              "1           2             9.888889\n",
              "2           3             6.415162\n",
              "3           4             9.507599\n",
              "4           5             6.466667"
            ]
          },
          "metadata": {
            "tags": []
          },
          "execution_count": 24
        }
      ]
    },
    {
      "cell_type": "code",
      "metadata": {
        "id": "v5WWi3rDCbux",
        "colab": {
          "base_uri": "https://localhost:8080/"
        },
        "outputId": "81c1ecb7-ef77-4058-8a17-f5cd9ab98fd8"
      },
      "source": [
        "prd = prd.merge(reorder_p, on='product_id', how='left')\n",
        "\n",
        "#merging add_to_cart with prd.\n",
        "prd = prd.merge(add_to_cart, on='product_id', how='left')\n",
        "\n",
        "#deleting unwanted df.\n",
        "del [reorder_p, add_to_cart]\n",
        "gc.collect()"
      ],
      "execution_count": 25,
      "outputs": [
        {
          "output_type": "execute_result",
          "data": {
            "text/plain": [
              "36"
            ]
          },
          "metadata": {
            "tags": []
          },
          "execution_count": 25
        }
      ]
    },
    {
      "cell_type": "code",
      "metadata": {
        "colab": {
          "base_uri": "https://localhost:8080/",
          "height": 204
        },
        "id": "1BW7zlzWCvxi",
        "outputId": "bd767034-8e1f-4cfa-87bd-7571d7b8bc5c"
      },
      "source": [
        "prd.head()"
      ],
      "execution_count": 26,
      "outputs": [
        {
          "output_type": "execute_result",
          "data": {
            "text/html": [
              "<div>\n",
              "<style scoped>\n",
              "    .dataframe tbody tr th:only-of-type {\n",
              "        vertical-align: middle;\n",
              "    }\n",
              "\n",
              "    .dataframe tbody tr th {\n",
              "        vertical-align: top;\n",
              "    }\n",
              "\n",
              "    .dataframe thead th {\n",
              "        text-align: right;\n",
              "    }\n",
              "</style>\n",
              "<table border=\"1\" class=\"dataframe\">\n",
              "  <thead>\n",
              "    <tr style=\"text-align: right;\">\n",
              "      <th></th>\n",
              "      <th>product_id</th>\n",
              "      <th>p_num_of_times</th>\n",
              "      <th>p_reorder_ratio</th>\n",
              "      <th>p_avg_cart_position</th>\n",
              "    </tr>\n",
              "  </thead>\n",
              "  <tbody>\n",
              "    <tr>\n",
              "      <th>0</th>\n",
              "      <td>1</td>\n",
              "      <td>1852</td>\n",
              "      <td>0.613391</td>\n",
              "      <td>5.801836</td>\n",
              "    </tr>\n",
              "    <tr>\n",
              "      <th>1</th>\n",
              "      <td>2</td>\n",
              "      <td>90</td>\n",
              "      <td>0.133333</td>\n",
              "      <td>9.888889</td>\n",
              "    </tr>\n",
              "    <tr>\n",
              "      <th>2</th>\n",
              "      <td>3</td>\n",
              "      <td>277</td>\n",
              "      <td>0.732852</td>\n",
              "      <td>6.415162</td>\n",
              "    </tr>\n",
              "    <tr>\n",
              "      <th>3</th>\n",
              "      <td>4</td>\n",
              "      <td>329</td>\n",
              "      <td>0.446809</td>\n",
              "      <td>9.507599</td>\n",
              "    </tr>\n",
              "    <tr>\n",
              "      <th>4</th>\n",
              "      <td>5</td>\n",
              "      <td>15</td>\n",
              "      <td>0.600000</td>\n",
              "      <td>6.466667</td>\n",
              "    </tr>\n",
              "  </tbody>\n",
              "</table>\n",
              "</div>"
            ],
            "text/plain": [
              "   product_id  p_num_of_times  p_reorder_ratio  p_avg_cart_position\n",
              "0           1            1852         0.613391             5.801836\n",
              "1           2              90         0.133333             9.888889\n",
              "2           3             277         0.732852             6.415162\n",
              "3           4             329         0.446809             9.507599\n",
              "4           5              15         0.600000             6.466667"
            ]
          },
          "metadata": {
            "tags": []
          },
          "execution_count": 26
        }
      ]
    },
    {
      "cell_type": "code",
      "metadata": {
        "id": "45MoC-MTCxkA",
        "colab": {
          "base_uri": "https://localhost:8080/",
          "height": 204
        },
        "outputId": "b70e9584-1741-4106-f97f-9e2a84c9dd3f"
      },
      "source": [
        "uxp = prior_orders.groupby(by=['user_id', 'product_id'])['order_id'].aggregate('count').to_frame('uxp_times_bought')\n",
        "uxp=uxp.reset_index()\n",
        "uxp.head()"
      ],
      "execution_count": 27,
      "outputs": [
        {
          "output_type": "execute_result",
          "data": {
            "text/html": [
              "<div>\n",
              "<style scoped>\n",
              "    .dataframe tbody tr th:only-of-type {\n",
              "        vertical-align: middle;\n",
              "    }\n",
              "\n",
              "    .dataframe tbody tr th {\n",
              "        vertical-align: top;\n",
              "    }\n",
              "\n",
              "    .dataframe thead th {\n",
              "        text-align: right;\n",
              "    }\n",
              "</style>\n",
              "<table border=\"1\" class=\"dataframe\">\n",
              "  <thead>\n",
              "    <tr style=\"text-align: right;\">\n",
              "      <th></th>\n",
              "      <th>user_id</th>\n",
              "      <th>product_id</th>\n",
              "      <th>uxp_times_bought</th>\n",
              "    </tr>\n",
              "  </thead>\n",
              "  <tbody>\n",
              "    <tr>\n",
              "      <th>0</th>\n",
              "      <td>1</td>\n",
              "      <td>196</td>\n",
              "      <td>10</td>\n",
              "    </tr>\n",
              "    <tr>\n",
              "      <th>1</th>\n",
              "      <td>1</td>\n",
              "      <td>10258</td>\n",
              "      <td>9</td>\n",
              "    </tr>\n",
              "    <tr>\n",
              "      <th>2</th>\n",
              "      <td>1</td>\n",
              "      <td>10326</td>\n",
              "      <td>1</td>\n",
              "    </tr>\n",
              "    <tr>\n",
              "      <th>3</th>\n",
              "      <td>1</td>\n",
              "      <td>12427</td>\n",
              "      <td>10</td>\n",
              "    </tr>\n",
              "    <tr>\n",
              "      <th>4</th>\n",
              "      <td>1</td>\n",
              "      <td>13032</td>\n",
              "      <td>3</td>\n",
              "    </tr>\n",
              "  </tbody>\n",
              "</table>\n",
              "</div>"
            ],
            "text/plain": [
              "   user_id  product_id  uxp_times_bought\n",
              "0        1         196                10\n",
              "1        1       10258                 9\n",
              "2        1       10326                 1\n",
              "3        1       12427                10\n",
              "4        1       13032                 3"
            ]
          },
          "metadata": {
            "tags": []
          },
          "execution_count": 27
        }
      ]
    },
    {
      "cell_type": "code",
      "metadata": {
        "colab": {
          "base_uri": "https://localhost:8080/",
          "height": 204
        },
        "id": "rEVswtRUDJ5A",
        "outputId": "7299a1d1-cd75-40ba-e227-e3d93725351b"
      },
      "source": [
        "times=prior_orders.groupby(by=['user_id','product_id'])['order_id'].aggregate('count').to_frame('times_bought')\n",
        "times=times.reset_index()\n",
        "times.head()"
      ],
      "execution_count": 28,
      "outputs": [
        {
          "output_type": "execute_result",
          "data": {
            "text/html": [
              "<div>\n",
              "<style scoped>\n",
              "    .dataframe tbody tr th:only-of-type {\n",
              "        vertical-align: middle;\n",
              "    }\n",
              "\n",
              "    .dataframe tbody tr th {\n",
              "        vertical-align: top;\n",
              "    }\n",
              "\n",
              "    .dataframe thead th {\n",
              "        text-align: right;\n",
              "    }\n",
              "</style>\n",
              "<table border=\"1\" class=\"dataframe\">\n",
              "  <thead>\n",
              "    <tr style=\"text-align: right;\">\n",
              "      <th></th>\n",
              "      <th>user_id</th>\n",
              "      <th>product_id</th>\n",
              "      <th>times_bought</th>\n",
              "    </tr>\n",
              "  </thead>\n",
              "  <tbody>\n",
              "    <tr>\n",
              "      <th>0</th>\n",
              "      <td>1</td>\n",
              "      <td>196</td>\n",
              "      <td>10</td>\n",
              "    </tr>\n",
              "    <tr>\n",
              "      <th>1</th>\n",
              "      <td>1</td>\n",
              "      <td>10258</td>\n",
              "      <td>9</td>\n",
              "    </tr>\n",
              "    <tr>\n",
              "      <th>2</th>\n",
              "      <td>1</td>\n",
              "      <td>10326</td>\n",
              "      <td>1</td>\n",
              "    </tr>\n",
              "    <tr>\n",
              "      <th>3</th>\n",
              "      <td>1</td>\n",
              "      <td>12427</td>\n",
              "      <td>10</td>\n",
              "    </tr>\n",
              "    <tr>\n",
              "      <th>4</th>\n",
              "      <td>1</td>\n",
              "      <td>13032</td>\n",
              "      <td>3</td>\n",
              "    </tr>\n",
              "  </tbody>\n",
              "</table>\n",
              "</div>"
            ],
            "text/plain": [
              "   user_id  product_id  times_bought\n",
              "0        1         196            10\n",
              "1        1       10258             9\n",
              "2        1       10326             1\n",
              "3        1       12427            10\n",
              "4        1       13032             3"
            ]
          },
          "metadata": {
            "tags": []
          },
          "execution_count": 28
        }
      ]
    },
    {
      "cell_type": "code",
      "metadata": {
        "id": "TJ_wwj5tDlRc",
        "colab": {
          "base_uri": "https://localhost:8080/",
          "height": 204
        },
        "outputId": "50f6bc21-3173-4842-c9d0-11eb95c7521f"
      },
      "source": [
        "total_orders=prior_orders.groupby('user_id')['order_number'].max().to_frame('total_orders').reset_index()\n",
        "total_orders.head()"
      ],
      "execution_count": 29,
      "outputs": [
        {
          "output_type": "execute_result",
          "data": {
            "text/html": [
              "<div>\n",
              "<style scoped>\n",
              "    .dataframe tbody tr th:only-of-type {\n",
              "        vertical-align: middle;\n",
              "    }\n",
              "\n",
              "    .dataframe tbody tr th {\n",
              "        vertical-align: top;\n",
              "    }\n",
              "\n",
              "    .dataframe thead th {\n",
              "        text-align: right;\n",
              "    }\n",
              "</style>\n",
              "<table border=\"1\" class=\"dataframe\">\n",
              "  <thead>\n",
              "    <tr style=\"text-align: right;\">\n",
              "      <th></th>\n",
              "      <th>user_id</th>\n",
              "      <th>total_orders</th>\n",
              "    </tr>\n",
              "  </thead>\n",
              "  <tbody>\n",
              "    <tr>\n",
              "      <th>0</th>\n",
              "      <td>1</td>\n",
              "      <td>10</td>\n",
              "    </tr>\n",
              "    <tr>\n",
              "      <th>1</th>\n",
              "      <td>2</td>\n",
              "      <td>14</td>\n",
              "    </tr>\n",
              "    <tr>\n",
              "      <th>2</th>\n",
              "      <td>3</td>\n",
              "      <td>12</td>\n",
              "    </tr>\n",
              "    <tr>\n",
              "      <th>3</th>\n",
              "      <td>4</td>\n",
              "      <td>5</td>\n",
              "    </tr>\n",
              "    <tr>\n",
              "      <th>4</th>\n",
              "      <td>5</td>\n",
              "      <td>4</td>\n",
              "    </tr>\n",
              "  </tbody>\n",
              "</table>\n",
              "</div>"
            ],
            "text/plain": [
              "   user_id  total_orders\n",
              "0        1            10\n",
              "1        2            14\n",
              "2        3            12\n",
              "3        4             5\n",
              "4        5             4"
            ]
          },
          "metadata": {
            "tags": []
          },
          "execution_count": 29
        }
      ]
    },
    {
      "cell_type": "code",
      "metadata": {
        "colab": {
          "base_uri": "https://localhost:8080/",
          "height": 204
        },
        "id": "Cza11pz9WkKv",
        "outputId": "cfcff842-6a6f-40f7-8b01-227fdcc1739e"
      },
      "source": [
        "first_order_num=prior_orders.groupby(by=['user_id','product_id'])['order_number'].aggregate('min').to_frame('first_order_num')\n",
        "first_order_num=first_order_num.reset_index()\n",
        "first_order_num.head()"
      ],
      "execution_count": 30,
      "outputs": [
        {
          "output_type": "execute_result",
          "data": {
            "text/html": [
              "<div>\n",
              "<style scoped>\n",
              "    .dataframe tbody tr th:only-of-type {\n",
              "        vertical-align: middle;\n",
              "    }\n",
              "\n",
              "    .dataframe tbody tr th {\n",
              "        vertical-align: top;\n",
              "    }\n",
              "\n",
              "    .dataframe thead th {\n",
              "        text-align: right;\n",
              "    }\n",
              "</style>\n",
              "<table border=\"1\" class=\"dataframe\">\n",
              "  <thead>\n",
              "    <tr style=\"text-align: right;\">\n",
              "      <th></th>\n",
              "      <th>user_id</th>\n",
              "      <th>product_id</th>\n",
              "      <th>first_order_num</th>\n",
              "    </tr>\n",
              "  </thead>\n",
              "  <tbody>\n",
              "    <tr>\n",
              "      <th>0</th>\n",
              "      <td>1</td>\n",
              "      <td>196</td>\n",
              "      <td>1</td>\n",
              "    </tr>\n",
              "    <tr>\n",
              "      <th>1</th>\n",
              "      <td>1</td>\n",
              "      <td>10258</td>\n",
              "      <td>2</td>\n",
              "    </tr>\n",
              "    <tr>\n",
              "      <th>2</th>\n",
              "      <td>1</td>\n",
              "      <td>10326</td>\n",
              "      <td>5</td>\n",
              "    </tr>\n",
              "    <tr>\n",
              "      <th>3</th>\n",
              "      <td>1</td>\n",
              "      <td>12427</td>\n",
              "      <td>1</td>\n",
              "    </tr>\n",
              "    <tr>\n",
              "      <th>4</th>\n",
              "      <td>1</td>\n",
              "      <td>13032</td>\n",
              "      <td>2</td>\n",
              "    </tr>\n",
              "  </tbody>\n",
              "</table>\n",
              "</div>"
            ],
            "text/plain": [
              "   user_id  product_id  first_order_num\n",
              "0        1         196                1\n",
              "1        1       10258                2\n",
              "2        1       10326                5\n",
              "3        1       12427                1\n",
              "4        1       13032                2"
            ]
          },
          "metadata": {
            "tags": []
          },
          "execution_count": 30
        }
      ]
    },
    {
      "cell_type": "code",
      "metadata": {
        "colab": {
          "base_uri": "https://localhost:8080/",
          "height": 204
        },
        "id": "sKobTxDoW9dR",
        "outputId": "19f2ae82-83a3-4f79-fb11-45fe8fb1bbfd"
      },
      "source": [
        "span = pd.merge(total_orders, first_order_num, on='user_id', how='right')\n",
        "span.head()"
      ],
      "execution_count": 31,
      "outputs": [
        {
          "output_type": "execute_result",
          "data": {
            "text/html": [
              "<div>\n",
              "<style scoped>\n",
              "    .dataframe tbody tr th:only-of-type {\n",
              "        vertical-align: middle;\n",
              "    }\n",
              "\n",
              "    .dataframe tbody tr th {\n",
              "        vertical-align: top;\n",
              "    }\n",
              "\n",
              "    .dataframe thead th {\n",
              "        text-align: right;\n",
              "    }\n",
              "</style>\n",
              "<table border=\"1\" class=\"dataframe\">\n",
              "  <thead>\n",
              "    <tr style=\"text-align: right;\">\n",
              "      <th></th>\n",
              "      <th>user_id</th>\n",
              "      <th>total_orders</th>\n",
              "      <th>product_id</th>\n",
              "      <th>first_order_num</th>\n",
              "    </tr>\n",
              "  </thead>\n",
              "  <tbody>\n",
              "    <tr>\n",
              "      <th>0</th>\n",
              "      <td>1</td>\n",
              "      <td>10</td>\n",
              "      <td>196</td>\n",
              "      <td>1</td>\n",
              "    </tr>\n",
              "    <tr>\n",
              "      <th>1</th>\n",
              "      <td>1</td>\n",
              "      <td>10</td>\n",
              "      <td>10258</td>\n",
              "      <td>2</td>\n",
              "    </tr>\n",
              "    <tr>\n",
              "      <th>2</th>\n",
              "      <td>1</td>\n",
              "      <td>10</td>\n",
              "      <td>10326</td>\n",
              "      <td>5</td>\n",
              "    </tr>\n",
              "    <tr>\n",
              "      <th>3</th>\n",
              "      <td>1</td>\n",
              "      <td>10</td>\n",
              "      <td>12427</td>\n",
              "      <td>1</td>\n",
              "    </tr>\n",
              "    <tr>\n",
              "      <th>4</th>\n",
              "      <td>1</td>\n",
              "      <td>10</td>\n",
              "      <td>13032</td>\n",
              "      <td>2</td>\n",
              "    </tr>\n",
              "  </tbody>\n",
              "</table>\n",
              "</div>"
            ],
            "text/plain": [
              "   user_id  total_orders  product_id  first_order_num\n",
              "0        1            10         196                1\n",
              "1        1            10       10258                2\n",
              "2        1            10       10326                5\n",
              "3        1            10       12427                1\n",
              "4        1            10       13032                2"
            ]
          },
          "metadata": {
            "tags": []
          },
          "execution_count": 31
        }
      ]
    },
    {
      "cell_type": "code",
      "metadata": {
        "colab": {
          "base_uri": "https://localhost:8080/",
          "height": 204
        },
        "id": "PPHSSEG2XGuu",
        "outputId": "7343c160-583d-4793-d69f-78b5e5b70a0b"
      },
      "source": [
        "span['Order_Range_D'] = span.total_orders - span.first_order_num + 1\n",
        "span.head()"
      ],
      "execution_count": 32,
      "outputs": [
        {
          "output_type": "execute_result",
          "data": {
            "text/html": [
              "<div>\n",
              "<style scoped>\n",
              "    .dataframe tbody tr th:only-of-type {\n",
              "        vertical-align: middle;\n",
              "    }\n",
              "\n",
              "    .dataframe tbody tr th {\n",
              "        vertical-align: top;\n",
              "    }\n",
              "\n",
              "    .dataframe thead th {\n",
              "        text-align: right;\n",
              "    }\n",
              "</style>\n",
              "<table border=\"1\" class=\"dataframe\">\n",
              "  <thead>\n",
              "    <tr style=\"text-align: right;\">\n",
              "      <th></th>\n",
              "      <th>user_id</th>\n",
              "      <th>total_orders</th>\n",
              "      <th>product_id</th>\n",
              "      <th>first_order_num</th>\n",
              "      <th>Order_Range_D</th>\n",
              "    </tr>\n",
              "  </thead>\n",
              "  <tbody>\n",
              "    <tr>\n",
              "      <th>0</th>\n",
              "      <td>1</td>\n",
              "      <td>10</td>\n",
              "      <td>196</td>\n",
              "      <td>1</td>\n",
              "      <td>10</td>\n",
              "    </tr>\n",
              "    <tr>\n",
              "      <th>1</th>\n",
              "      <td>1</td>\n",
              "      <td>10</td>\n",
              "      <td>10258</td>\n",
              "      <td>2</td>\n",
              "      <td>9</td>\n",
              "    </tr>\n",
              "    <tr>\n",
              "      <th>2</th>\n",
              "      <td>1</td>\n",
              "      <td>10</td>\n",
              "      <td>10326</td>\n",
              "      <td>5</td>\n",
              "      <td>6</td>\n",
              "    </tr>\n",
              "    <tr>\n",
              "      <th>3</th>\n",
              "      <td>1</td>\n",
              "      <td>10</td>\n",
              "      <td>12427</td>\n",
              "      <td>1</td>\n",
              "      <td>10</td>\n",
              "    </tr>\n",
              "    <tr>\n",
              "      <th>4</th>\n",
              "      <td>1</td>\n",
              "      <td>10</td>\n",
              "      <td>13032</td>\n",
              "      <td>2</td>\n",
              "      <td>9</td>\n",
              "    </tr>\n",
              "  </tbody>\n",
              "</table>\n",
              "</div>"
            ],
            "text/plain": [
              "   user_id  total_orders  product_id  first_order_num  Order_Range_D\n",
              "0        1            10         196                1             10\n",
              "1        1            10       10258                2              9\n",
              "2        1            10       10326                5              6\n",
              "3        1            10       12427                1             10\n",
              "4        1            10       13032                2              9"
            ]
          },
          "metadata": {
            "tags": []
          },
          "execution_count": 32
        }
      ]
    },
    {
      "cell_type": "code",
      "metadata": {
        "colab": {
          "base_uri": "https://localhost:8080/",
          "height": 204
        },
        "id": "ZU9NXbLaXJF8",
        "outputId": "16e80529-2348-4d45-aed6-2bcdb26923be"
      },
      "source": [
        "uxp_ratio = pd.merge(times, span, on=['user_id', 'product_id'], how='left')\n",
        "uxp_ratio.head()"
      ],
      "execution_count": 33,
      "outputs": [
        {
          "output_type": "execute_result",
          "data": {
            "text/html": [
              "<div>\n",
              "<style scoped>\n",
              "    .dataframe tbody tr th:only-of-type {\n",
              "        vertical-align: middle;\n",
              "    }\n",
              "\n",
              "    .dataframe tbody tr th {\n",
              "        vertical-align: top;\n",
              "    }\n",
              "\n",
              "    .dataframe thead th {\n",
              "        text-align: right;\n",
              "    }\n",
              "</style>\n",
              "<table border=\"1\" class=\"dataframe\">\n",
              "  <thead>\n",
              "    <tr style=\"text-align: right;\">\n",
              "      <th></th>\n",
              "      <th>user_id</th>\n",
              "      <th>product_id</th>\n",
              "      <th>times_bought</th>\n",
              "      <th>total_orders</th>\n",
              "      <th>first_order_num</th>\n",
              "      <th>Order_Range_D</th>\n",
              "    </tr>\n",
              "  </thead>\n",
              "  <tbody>\n",
              "    <tr>\n",
              "      <th>0</th>\n",
              "      <td>1</td>\n",
              "      <td>196</td>\n",
              "      <td>10</td>\n",
              "      <td>10</td>\n",
              "      <td>1</td>\n",
              "      <td>10</td>\n",
              "    </tr>\n",
              "    <tr>\n",
              "      <th>1</th>\n",
              "      <td>1</td>\n",
              "      <td>10258</td>\n",
              "      <td>9</td>\n",
              "      <td>10</td>\n",
              "      <td>2</td>\n",
              "      <td>9</td>\n",
              "    </tr>\n",
              "    <tr>\n",
              "      <th>2</th>\n",
              "      <td>1</td>\n",
              "      <td>10326</td>\n",
              "      <td>1</td>\n",
              "      <td>10</td>\n",
              "      <td>5</td>\n",
              "      <td>6</td>\n",
              "    </tr>\n",
              "    <tr>\n",
              "      <th>3</th>\n",
              "      <td>1</td>\n",
              "      <td>12427</td>\n",
              "      <td>10</td>\n",
              "      <td>10</td>\n",
              "      <td>1</td>\n",
              "      <td>10</td>\n",
              "    </tr>\n",
              "    <tr>\n",
              "      <th>4</th>\n",
              "      <td>1</td>\n",
              "      <td>13032</td>\n",
              "      <td>3</td>\n",
              "      <td>10</td>\n",
              "      <td>2</td>\n",
              "      <td>9</td>\n",
              "    </tr>\n",
              "  </tbody>\n",
              "</table>\n",
              "</div>"
            ],
            "text/plain": [
              "   user_id  product_id  ...  first_order_num  Order_Range_D\n",
              "0        1         196  ...                1             10\n",
              "1        1       10258  ...                2              9\n",
              "2        1       10326  ...                5              6\n",
              "3        1       12427  ...                1             10\n",
              "4        1       13032  ...                2              9\n",
              "\n",
              "[5 rows x 6 columns]"
            ]
          },
          "metadata": {
            "tags": []
          },
          "execution_count": 33
        }
      ]
    },
    {
      "cell_type": "code",
      "metadata": {
        "colab": {
          "base_uri": "https://localhost:8080/",
          "height": 204
        },
        "id": "ubO1zv9oXK6E",
        "outputId": "bc52605b-0fb7-4d99-f1ad-c7150e10b449"
      },
      "source": [
        "uxp_ratio['uxp_reorder_ratio'] = uxp_ratio.times_bought / uxp_ratio.Order_Range_D\n",
        "uxp_ratio.head()"
      ],
      "execution_count": 34,
      "outputs": [
        {
          "output_type": "execute_result",
          "data": {
            "text/html": [
              "<div>\n",
              "<style scoped>\n",
              "    .dataframe tbody tr th:only-of-type {\n",
              "        vertical-align: middle;\n",
              "    }\n",
              "\n",
              "    .dataframe tbody tr th {\n",
              "        vertical-align: top;\n",
              "    }\n",
              "\n",
              "    .dataframe thead th {\n",
              "        text-align: right;\n",
              "    }\n",
              "</style>\n",
              "<table border=\"1\" class=\"dataframe\">\n",
              "  <thead>\n",
              "    <tr style=\"text-align: right;\">\n",
              "      <th></th>\n",
              "      <th>user_id</th>\n",
              "      <th>product_id</th>\n",
              "      <th>times_bought</th>\n",
              "      <th>total_orders</th>\n",
              "      <th>first_order_num</th>\n",
              "      <th>Order_Range_D</th>\n",
              "      <th>uxp_reorder_ratio</th>\n",
              "    </tr>\n",
              "  </thead>\n",
              "  <tbody>\n",
              "    <tr>\n",
              "      <th>0</th>\n",
              "      <td>1</td>\n",
              "      <td>196</td>\n",
              "      <td>10</td>\n",
              "      <td>10</td>\n",
              "      <td>1</td>\n",
              "      <td>10</td>\n",
              "      <td>1.000000</td>\n",
              "    </tr>\n",
              "    <tr>\n",
              "      <th>1</th>\n",
              "      <td>1</td>\n",
              "      <td>10258</td>\n",
              "      <td>9</td>\n",
              "      <td>10</td>\n",
              "      <td>2</td>\n",
              "      <td>9</td>\n",
              "      <td>1.000000</td>\n",
              "    </tr>\n",
              "    <tr>\n",
              "      <th>2</th>\n",
              "      <td>1</td>\n",
              "      <td>10326</td>\n",
              "      <td>1</td>\n",
              "      <td>10</td>\n",
              "      <td>5</td>\n",
              "      <td>6</td>\n",
              "      <td>0.166667</td>\n",
              "    </tr>\n",
              "    <tr>\n",
              "      <th>3</th>\n",
              "      <td>1</td>\n",
              "      <td>12427</td>\n",
              "      <td>10</td>\n",
              "      <td>10</td>\n",
              "      <td>1</td>\n",
              "      <td>10</td>\n",
              "      <td>1.000000</td>\n",
              "    </tr>\n",
              "    <tr>\n",
              "      <th>4</th>\n",
              "      <td>1</td>\n",
              "      <td>13032</td>\n",
              "      <td>3</td>\n",
              "      <td>10</td>\n",
              "      <td>2</td>\n",
              "      <td>9</td>\n",
              "      <td>0.333333</td>\n",
              "    </tr>\n",
              "  </tbody>\n",
              "</table>\n",
              "</div>"
            ],
            "text/plain": [
              "   user_id  product_id  ...  Order_Range_D  uxp_reorder_ratio\n",
              "0        1         196  ...             10           1.000000\n",
              "1        1       10258  ...              9           1.000000\n",
              "2        1       10326  ...              6           0.166667\n",
              "3        1       12427  ...             10           1.000000\n",
              "4        1       13032  ...              9           0.333333\n",
              "\n",
              "[5 rows x 7 columns]"
            ]
          },
          "metadata": {
            "tags": []
          },
          "execution_count": 34
        }
      ]
    },
    {
      "cell_type": "code",
      "metadata": {
        "colab": {
          "base_uri": "https://localhost:8080/",
          "height": 204
        },
        "id": "Xodut2NlXMls",
        "outputId": "0fb62f86-9ae3-475d-a717-6816aabcdf6a"
      },
      "source": [
        "uxp_ratio.drop(['times_bought', 'total_orders', 'first_order_num', 'Order_Range_D'], axis=1, inplace=True)\n",
        "uxp_ratio.head()"
      ],
      "execution_count": 35,
      "outputs": [
        {
          "output_type": "execute_result",
          "data": {
            "text/html": [
              "<div>\n",
              "<style scoped>\n",
              "    .dataframe tbody tr th:only-of-type {\n",
              "        vertical-align: middle;\n",
              "    }\n",
              "\n",
              "    .dataframe tbody tr th {\n",
              "        vertical-align: top;\n",
              "    }\n",
              "\n",
              "    .dataframe thead th {\n",
              "        text-align: right;\n",
              "    }\n",
              "</style>\n",
              "<table border=\"1\" class=\"dataframe\">\n",
              "  <thead>\n",
              "    <tr style=\"text-align: right;\">\n",
              "      <th></th>\n",
              "      <th>user_id</th>\n",
              "      <th>product_id</th>\n",
              "      <th>uxp_reorder_ratio</th>\n",
              "    </tr>\n",
              "  </thead>\n",
              "  <tbody>\n",
              "    <tr>\n",
              "      <th>0</th>\n",
              "      <td>1</td>\n",
              "      <td>196</td>\n",
              "      <td>1.000000</td>\n",
              "    </tr>\n",
              "    <tr>\n",
              "      <th>1</th>\n",
              "      <td>1</td>\n",
              "      <td>10258</td>\n",
              "      <td>1.000000</td>\n",
              "    </tr>\n",
              "    <tr>\n",
              "      <th>2</th>\n",
              "      <td>1</td>\n",
              "      <td>10326</td>\n",
              "      <td>0.166667</td>\n",
              "    </tr>\n",
              "    <tr>\n",
              "      <th>3</th>\n",
              "      <td>1</td>\n",
              "      <td>12427</td>\n",
              "      <td>1.000000</td>\n",
              "    </tr>\n",
              "    <tr>\n",
              "      <th>4</th>\n",
              "      <td>1</td>\n",
              "      <td>13032</td>\n",
              "      <td>0.333333</td>\n",
              "    </tr>\n",
              "  </tbody>\n",
              "</table>\n",
              "</div>"
            ],
            "text/plain": [
              "   user_id  product_id  uxp_reorder_ratio\n",
              "0        1         196           1.000000\n",
              "1        1       10258           1.000000\n",
              "2        1       10326           0.166667\n",
              "3        1       12427           1.000000\n",
              "4        1       13032           0.333333"
            ]
          },
          "metadata": {
            "tags": []
          },
          "execution_count": 35
        }
      ]
    },
    {
      "cell_type": "code",
      "metadata": {
        "colab": {
          "base_uri": "https://localhost:8080/"
        },
        "id": "1tjmjHV8XO_i",
        "outputId": "43617281-db08-4b94-da88-eb3276d081f0"
      },
      "source": [
        "del [times, span, first_order_num, total_orders]\n",
        "gc.collect()"
      ],
      "execution_count": 36,
      "outputs": [
        {
          "output_type": "execute_result",
          "data": {
            "text/plain": [
              "92"
            ]
          },
          "metadata": {
            "tags": []
          },
          "execution_count": 36
        }
      ]
    },
    {
      "cell_type": "code",
      "metadata": {
        "colab": {
          "base_uri": "https://localhost:8080/"
        },
        "id": "19LqGiUcXQex",
        "outputId": "04fd4f9f-52f3-4374-f889-910588a684b3"
      },
      "source": [
        "uxp = uxp.merge(uxp_ratio, on=['user_id', 'product_id'], how='left')\n",
        "del uxp_ratio\n",
        "gc.collect()"
      ],
      "execution_count": 37,
      "outputs": [
        {
          "output_type": "execute_result",
          "data": {
            "text/plain": [
              "0"
            ]
          },
          "metadata": {
            "tags": []
          },
          "execution_count": 37
        }
      ]
    },
    {
      "cell_type": "code",
      "metadata": {
        "colab": {
          "base_uri": "https://localhost:8080/",
          "height": 204
        },
        "id": "dPP4RuxEXUMp",
        "outputId": "94d23206-1f1c-403a-c47b-6bc569ae9464"
      },
      "source": [
        "uxp.head()"
      ],
      "execution_count": 38,
      "outputs": [
        {
          "output_type": "execute_result",
          "data": {
            "text/html": [
              "<div>\n",
              "<style scoped>\n",
              "    .dataframe tbody tr th:only-of-type {\n",
              "        vertical-align: middle;\n",
              "    }\n",
              "\n",
              "    .dataframe tbody tr th {\n",
              "        vertical-align: top;\n",
              "    }\n",
              "\n",
              "    .dataframe thead th {\n",
              "        text-align: right;\n",
              "    }\n",
              "</style>\n",
              "<table border=\"1\" class=\"dataframe\">\n",
              "  <thead>\n",
              "    <tr style=\"text-align: right;\">\n",
              "      <th></th>\n",
              "      <th>user_id</th>\n",
              "      <th>product_id</th>\n",
              "      <th>uxp_times_bought</th>\n",
              "      <th>uxp_reorder_ratio</th>\n",
              "    </tr>\n",
              "  </thead>\n",
              "  <tbody>\n",
              "    <tr>\n",
              "      <th>0</th>\n",
              "      <td>1</td>\n",
              "      <td>196</td>\n",
              "      <td>10</td>\n",
              "      <td>1.000000</td>\n",
              "    </tr>\n",
              "    <tr>\n",
              "      <th>1</th>\n",
              "      <td>1</td>\n",
              "      <td>10258</td>\n",
              "      <td>9</td>\n",
              "      <td>1.000000</td>\n",
              "    </tr>\n",
              "    <tr>\n",
              "      <th>2</th>\n",
              "      <td>1</td>\n",
              "      <td>10326</td>\n",
              "      <td>1</td>\n",
              "      <td>0.166667</td>\n",
              "    </tr>\n",
              "    <tr>\n",
              "      <th>3</th>\n",
              "      <td>1</td>\n",
              "      <td>12427</td>\n",
              "      <td>10</td>\n",
              "      <td>1.000000</td>\n",
              "    </tr>\n",
              "    <tr>\n",
              "      <th>4</th>\n",
              "      <td>1</td>\n",
              "      <td>13032</td>\n",
              "      <td>3</td>\n",
              "      <td>0.333333</td>\n",
              "    </tr>\n",
              "  </tbody>\n",
              "</table>\n",
              "</div>"
            ],
            "text/plain": [
              "   user_id  product_id  uxp_times_bought  uxp_reorder_ratio\n",
              "0        1         196                10           1.000000\n",
              "1        1       10258                 9           1.000000\n",
              "2        1       10326                 1           0.166667\n",
              "3        1       12427                10           1.000000\n",
              "4        1       13032                 3           0.333333"
            ]
          },
          "metadata": {
            "tags": []
          },
          "execution_count": 38
        }
      ]
    },
    {
      "cell_type": "code",
      "metadata": {
        "colab": {
          "base_uri": "https://localhost:8080/",
          "height": 224
        },
        "id": "ejjVQ-QuXXNM",
        "outputId": "4c4edda5-47bd-429f-aeb7-fe6204c1f65a"
      },
      "source": [
        "prior_orders['order_number_back'] = prior_orders.groupby(by=['user_id'])['order_number'].transform(max) - prior_orders.order_number + 1\n",
        "prior_orders.head()"
      ],
      "execution_count": 39,
      "outputs": [
        {
          "output_type": "execute_result",
          "data": {
            "text/html": [
              "<div>\n",
              "<style scoped>\n",
              "    .dataframe tbody tr th:only-of-type {\n",
              "        vertical-align: middle;\n",
              "    }\n",
              "\n",
              "    .dataframe tbody tr th {\n",
              "        vertical-align: top;\n",
              "    }\n",
              "\n",
              "    .dataframe thead th {\n",
              "        text-align: right;\n",
              "    }\n",
              "</style>\n",
              "<table border=\"1\" class=\"dataframe\">\n",
              "  <thead>\n",
              "    <tr style=\"text-align: right;\">\n",
              "      <th></th>\n",
              "      <th>order_id</th>\n",
              "      <th>user_id</th>\n",
              "      <th>eval_set</th>\n",
              "      <th>order_number</th>\n",
              "      <th>order_dow</th>\n",
              "      <th>order_hour_of_day</th>\n",
              "      <th>days_since_prior_order</th>\n",
              "      <th>product_id</th>\n",
              "      <th>add_to_cart_order</th>\n",
              "      <th>reordered</th>\n",
              "      <th>order_number_back</th>\n",
              "    </tr>\n",
              "  </thead>\n",
              "  <tbody>\n",
              "    <tr>\n",
              "      <th>0</th>\n",
              "      <td>2539329</td>\n",
              "      <td>1</td>\n",
              "      <td>0</td>\n",
              "      <td>1</td>\n",
              "      <td>2</td>\n",
              "      <td>8</td>\n",
              "      <td>30.0</td>\n",
              "      <td>196</td>\n",
              "      <td>1</td>\n",
              "      <td>0</td>\n",
              "      <td>10</td>\n",
              "    </tr>\n",
              "    <tr>\n",
              "      <th>1</th>\n",
              "      <td>2539329</td>\n",
              "      <td>1</td>\n",
              "      <td>0</td>\n",
              "      <td>1</td>\n",
              "      <td>2</td>\n",
              "      <td>8</td>\n",
              "      <td>30.0</td>\n",
              "      <td>14084</td>\n",
              "      <td>2</td>\n",
              "      <td>0</td>\n",
              "      <td>10</td>\n",
              "    </tr>\n",
              "    <tr>\n",
              "      <th>2</th>\n",
              "      <td>2539329</td>\n",
              "      <td>1</td>\n",
              "      <td>0</td>\n",
              "      <td>1</td>\n",
              "      <td>2</td>\n",
              "      <td>8</td>\n",
              "      <td>30.0</td>\n",
              "      <td>12427</td>\n",
              "      <td>3</td>\n",
              "      <td>0</td>\n",
              "      <td>10</td>\n",
              "    </tr>\n",
              "    <tr>\n",
              "      <th>3</th>\n",
              "      <td>2539329</td>\n",
              "      <td>1</td>\n",
              "      <td>0</td>\n",
              "      <td>1</td>\n",
              "      <td>2</td>\n",
              "      <td>8</td>\n",
              "      <td>30.0</td>\n",
              "      <td>26088</td>\n",
              "      <td>4</td>\n",
              "      <td>0</td>\n",
              "      <td>10</td>\n",
              "    </tr>\n",
              "    <tr>\n",
              "      <th>4</th>\n",
              "      <td>2539329</td>\n",
              "      <td>1</td>\n",
              "      <td>0</td>\n",
              "      <td>1</td>\n",
              "      <td>2</td>\n",
              "      <td>8</td>\n",
              "      <td>30.0</td>\n",
              "      <td>26405</td>\n",
              "      <td>5</td>\n",
              "      <td>0</td>\n",
              "      <td>10</td>\n",
              "    </tr>\n",
              "  </tbody>\n",
              "</table>\n",
              "</div>"
            ],
            "text/plain": [
              "   order_id  user_id  eval_set  ...  add_to_cart_order  reordered  order_number_back\n",
              "0   2539329        1         0  ...                  1          0                 10\n",
              "1   2539329        1         0  ...                  2          0                 10\n",
              "2   2539329        1         0  ...                  3          0                 10\n",
              "3   2539329        1         0  ...                  4          0                 10\n",
              "4   2539329        1         0  ...                  5          0                 10\n",
              "\n",
              "[5 rows x 11 columns]"
            ]
          },
          "metadata": {
            "tags": []
          },
          "execution_count": 39
        }
      ]
    },
    {
      "cell_type": "code",
      "metadata": {
        "colab": {
          "base_uri": "https://localhost:8080/",
          "height": 224
        },
        "id": "ikERlGZVXbZl",
        "outputId": "59e4642e-3531-447a-eb3c-ab37b69843eb"
      },
      "source": [
        "temp = prior_orders.loc[prior_orders.order_number_back <= 5]\n",
        "temp.head()"
      ],
      "execution_count": 40,
      "outputs": [
        {
          "output_type": "execute_result",
          "data": {
            "text/html": [
              "<div>\n",
              "<style scoped>\n",
              "    .dataframe tbody tr th:only-of-type {\n",
              "        vertical-align: middle;\n",
              "    }\n",
              "\n",
              "    .dataframe tbody tr th {\n",
              "        vertical-align: top;\n",
              "    }\n",
              "\n",
              "    .dataframe thead th {\n",
              "        text-align: right;\n",
              "    }\n",
              "</style>\n",
              "<table border=\"1\" class=\"dataframe\">\n",
              "  <thead>\n",
              "    <tr style=\"text-align: right;\">\n",
              "      <th></th>\n",
              "      <th>order_id</th>\n",
              "      <th>user_id</th>\n",
              "      <th>eval_set</th>\n",
              "      <th>order_number</th>\n",
              "      <th>order_dow</th>\n",
              "      <th>order_hour_of_day</th>\n",
              "      <th>days_since_prior_order</th>\n",
              "      <th>product_id</th>\n",
              "      <th>add_to_cart_order</th>\n",
              "      <th>reordered</th>\n",
              "      <th>order_number_back</th>\n",
              "    </tr>\n",
              "  </thead>\n",
              "  <tbody>\n",
              "    <tr>\n",
              "      <th>29</th>\n",
              "      <td>3367565</td>\n",
              "      <td>1</td>\n",
              "      <td>0</td>\n",
              "      <td>6</td>\n",
              "      <td>2</td>\n",
              "      <td>7</td>\n",
              "      <td>19.0</td>\n",
              "      <td>196</td>\n",
              "      <td>1</td>\n",
              "      <td>1</td>\n",
              "      <td>5</td>\n",
              "    </tr>\n",
              "    <tr>\n",
              "      <th>30</th>\n",
              "      <td>3367565</td>\n",
              "      <td>1</td>\n",
              "      <td>0</td>\n",
              "      <td>6</td>\n",
              "      <td>2</td>\n",
              "      <td>7</td>\n",
              "      <td>19.0</td>\n",
              "      <td>12427</td>\n",
              "      <td>2</td>\n",
              "      <td>1</td>\n",
              "      <td>5</td>\n",
              "    </tr>\n",
              "    <tr>\n",
              "      <th>31</th>\n",
              "      <td>3367565</td>\n",
              "      <td>1</td>\n",
              "      <td>0</td>\n",
              "      <td>6</td>\n",
              "      <td>2</td>\n",
              "      <td>7</td>\n",
              "      <td>19.0</td>\n",
              "      <td>10258</td>\n",
              "      <td>3</td>\n",
              "      <td>1</td>\n",
              "      <td>5</td>\n",
              "    </tr>\n",
              "    <tr>\n",
              "      <th>32</th>\n",
              "      <td>3367565</td>\n",
              "      <td>1</td>\n",
              "      <td>0</td>\n",
              "      <td>6</td>\n",
              "      <td>2</td>\n",
              "      <td>7</td>\n",
              "      <td>19.0</td>\n",
              "      <td>25133</td>\n",
              "      <td>4</td>\n",
              "      <td>1</td>\n",
              "      <td>5</td>\n",
              "    </tr>\n",
              "    <tr>\n",
              "      <th>33</th>\n",
              "      <td>550135</td>\n",
              "      <td>1</td>\n",
              "      <td>0</td>\n",
              "      <td>7</td>\n",
              "      <td>1</td>\n",
              "      <td>9</td>\n",
              "      <td>20.0</td>\n",
              "      <td>196</td>\n",
              "      <td>1</td>\n",
              "      <td>1</td>\n",
              "      <td>4</td>\n",
              "    </tr>\n",
              "  </tbody>\n",
              "</table>\n",
              "</div>"
            ],
            "text/plain": [
              "    order_id  user_id  ...  reordered  order_number_back\n",
              "29   3367565        1  ...          1                  5\n",
              "30   3367565        1  ...          1                  5\n",
              "31   3367565        1  ...          1                  5\n",
              "32   3367565        1  ...          1                  5\n",
              "33    550135        1  ...          1                  4\n",
              "\n",
              "[5 rows x 11 columns]"
            ]
          },
          "metadata": {
            "tags": []
          },
          "execution_count": 40
        }
      ]
    },
    {
      "cell_type": "code",
      "metadata": {
        "colab": {
          "base_uri": "https://localhost:8080/",
          "height": 204
        },
        "id": "ISmVtz03XhZK",
        "outputId": "505839a7-30d7-41b8-f03d-ce9b218c43e7"
      },
      "source": [
        "last_five = temp.groupby(by=['user_id', 'product_id'])['order_id'].aggregate('count').to_frame('uxp_last_five').reset_index()\n",
        "last_five.head()"
      ],
      "execution_count": 41,
      "outputs": [
        {
          "output_type": "execute_result",
          "data": {
            "text/html": [
              "<div>\n",
              "<style scoped>\n",
              "    .dataframe tbody tr th:only-of-type {\n",
              "        vertical-align: middle;\n",
              "    }\n",
              "\n",
              "    .dataframe tbody tr th {\n",
              "        vertical-align: top;\n",
              "    }\n",
              "\n",
              "    .dataframe thead th {\n",
              "        text-align: right;\n",
              "    }\n",
              "</style>\n",
              "<table border=\"1\" class=\"dataframe\">\n",
              "  <thead>\n",
              "    <tr style=\"text-align: right;\">\n",
              "      <th></th>\n",
              "      <th>user_id</th>\n",
              "      <th>product_id</th>\n",
              "      <th>uxp_last_five</th>\n",
              "    </tr>\n",
              "  </thead>\n",
              "  <tbody>\n",
              "    <tr>\n",
              "      <th>0</th>\n",
              "      <td>1</td>\n",
              "      <td>196</td>\n",
              "      <td>5</td>\n",
              "    </tr>\n",
              "    <tr>\n",
              "      <th>1</th>\n",
              "      <td>1</td>\n",
              "      <td>10258</td>\n",
              "      <td>5</td>\n",
              "    </tr>\n",
              "    <tr>\n",
              "      <th>2</th>\n",
              "      <td>1</td>\n",
              "      <td>12427</td>\n",
              "      <td>5</td>\n",
              "    </tr>\n",
              "    <tr>\n",
              "      <th>3</th>\n",
              "      <td>1</td>\n",
              "      <td>13032</td>\n",
              "      <td>2</td>\n",
              "    </tr>\n",
              "    <tr>\n",
              "      <th>4</th>\n",
              "      <td>1</td>\n",
              "      <td>25133</td>\n",
              "      <td>5</td>\n",
              "    </tr>\n",
              "  </tbody>\n",
              "</table>\n",
              "</div>"
            ],
            "text/plain": [
              "   user_id  product_id  uxp_last_five\n",
              "0        1         196              5\n",
              "1        1       10258              5\n",
              "2        1       12427              5\n",
              "3        1       13032              2\n",
              "4        1       25133              5"
            ]
          },
          "metadata": {
            "tags": []
          },
          "execution_count": 41
        }
      ]
    },
    {
      "cell_type": "code",
      "metadata": {
        "colab": {
          "base_uri": "https://localhost:8080/",
          "height": 204
        },
        "id": "ru-ayDtuXjD7",
        "outputId": "eccbdce0-aeb8-446d-9593-583fff510dd0"
      },
      "source": [
        "last_five['uxp_ratio_last_five'] = last_five.uxp_last_five / 5.0\n",
        "last_five.head()"
      ],
      "execution_count": 42,
      "outputs": [
        {
          "output_type": "execute_result",
          "data": {
            "text/html": [
              "<div>\n",
              "<style scoped>\n",
              "    .dataframe tbody tr th:only-of-type {\n",
              "        vertical-align: middle;\n",
              "    }\n",
              "\n",
              "    .dataframe tbody tr th {\n",
              "        vertical-align: top;\n",
              "    }\n",
              "\n",
              "    .dataframe thead th {\n",
              "        text-align: right;\n",
              "    }\n",
              "</style>\n",
              "<table border=\"1\" class=\"dataframe\">\n",
              "  <thead>\n",
              "    <tr style=\"text-align: right;\">\n",
              "      <th></th>\n",
              "      <th>user_id</th>\n",
              "      <th>product_id</th>\n",
              "      <th>uxp_last_five</th>\n",
              "      <th>uxp_ratio_last_five</th>\n",
              "    </tr>\n",
              "  </thead>\n",
              "  <tbody>\n",
              "    <tr>\n",
              "      <th>0</th>\n",
              "      <td>1</td>\n",
              "      <td>196</td>\n",
              "      <td>5</td>\n",
              "      <td>1.0</td>\n",
              "    </tr>\n",
              "    <tr>\n",
              "      <th>1</th>\n",
              "      <td>1</td>\n",
              "      <td>10258</td>\n",
              "      <td>5</td>\n",
              "      <td>1.0</td>\n",
              "    </tr>\n",
              "    <tr>\n",
              "      <th>2</th>\n",
              "      <td>1</td>\n",
              "      <td>12427</td>\n",
              "      <td>5</td>\n",
              "      <td>1.0</td>\n",
              "    </tr>\n",
              "    <tr>\n",
              "      <th>3</th>\n",
              "      <td>1</td>\n",
              "      <td>13032</td>\n",
              "      <td>2</td>\n",
              "      <td>0.4</td>\n",
              "    </tr>\n",
              "    <tr>\n",
              "      <th>4</th>\n",
              "      <td>1</td>\n",
              "      <td>25133</td>\n",
              "      <td>5</td>\n",
              "      <td>1.0</td>\n",
              "    </tr>\n",
              "  </tbody>\n",
              "</table>\n",
              "</div>"
            ],
            "text/plain": [
              "   user_id  product_id  uxp_last_five  uxp_ratio_last_five\n",
              "0        1         196              5                  1.0\n",
              "1        1       10258              5                  1.0\n",
              "2        1       12427              5                  1.0\n",
              "3        1       13032              2                  0.4\n",
              "4        1       25133              5                  1.0"
            ]
          },
          "metadata": {
            "tags": []
          },
          "execution_count": 42
        }
      ]
    },
    {
      "cell_type": "code",
      "metadata": {
        "colab": {
          "base_uri": "https://localhost:8080/",
          "height": 204
        },
        "id": "0j9daEuEXngt",
        "outputId": "bf7af980-8322-4d54-e01e-7d4aec1d165b"
      },
      "source": [
        "uxp = uxp.merge(last_five, on=['user_id', 'product_id'], how='left')\n",
        "\n",
        "del [last_five, temp]\n",
        "gc.collect()\n",
        "uxp.head()"
      ],
      "execution_count": 43,
      "outputs": [
        {
          "output_type": "execute_result",
          "data": {
            "text/html": [
              "<div>\n",
              "<style scoped>\n",
              "    .dataframe tbody tr th:only-of-type {\n",
              "        vertical-align: middle;\n",
              "    }\n",
              "\n",
              "    .dataframe tbody tr th {\n",
              "        vertical-align: top;\n",
              "    }\n",
              "\n",
              "    .dataframe thead th {\n",
              "        text-align: right;\n",
              "    }\n",
              "</style>\n",
              "<table border=\"1\" class=\"dataframe\">\n",
              "  <thead>\n",
              "    <tr style=\"text-align: right;\">\n",
              "      <th></th>\n",
              "      <th>user_id</th>\n",
              "      <th>product_id</th>\n",
              "      <th>uxp_times_bought</th>\n",
              "      <th>uxp_reorder_ratio</th>\n",
              "      <th>uxp_last_five</th>\n",
              "      <th>uxp_ratio_last_five</th>\n",
              "    </tr>\n",
              "  </thead>\n",
              "  <tbody>\n",
              "    <tr>\n",
              "      <th>0</th>\n",
              "      <td>1</td>\n",
              "      <td>196</td>\n",
              "      <td>10</td>\n",
              "      <td>1.000000</td>\n",
              "      <td>5.0</td>\n",
              "      <td>1.0</td>\n",
              "    </tr>\n",
              "    <tr>\n",
              "      <th>1</th>\n",
              "      <td>1</td>\n",
              "      <td>10258</td>\n",
              "      <td>9</td>\n",
              "      <td>1.000000</td>\n",
              "      <td>5.0</td>\n",
              "      <td>1.0</td>\n",
              "    </tr>\n",
              "    <tr>\n",
              "      <th>2</th>\n",
              "      <td>1</td>\n",
              "      <td>10326</td>\n",
              "      <td>1</td>\n",
              "      <td>0.166667</td>\n",
              "      <td>NaN</td>\n",
              "      <td>NaN</td>\n",
              "    </tr>\n",
              "    <tr>\n",
              "      <th>3</th>\n",
              "      <td>1</td>\n",
              "      <td>12427</td>\n",
              "      <td>10</td>\n",
              "      <td>1.000000</td>\n",
              "      <td>5.0</td>\n",
              "      <td>1.0</td>\n",
              "    </tr>\n",
              "    <tr>\n",
              "      <th>4</th>\n",
              "      <td>1</td>\n",
              "      <td>13032</td>\n",
              "      <td>3</td>\n",
              "      <td>0.333333</td>\n",
              "      <td>2.0</td>\n",
              "      <td>0.4</td>\n",
              "    </tr>\n",
              "  </tbody>\n",
              "</table>\n",
              "</div>"
            ],
            "text/plain": [
              "   user_id  product_id  ...  uxp_last_five  uxp_ratio_last_five\n",
              "0        1         196  ...            5.0                  1.0\n",
              "1        1       10258  ...            5.0                  1.0\n",
              "2        1       10326  ...            NaN                  NaN\n",
              "3        1       12427  ...            5.0                  1.0\n",
              "4        1       13032  ...            2.0                  0.4\n",
              "\n",
              "[5 rows x 6 columns]"
            ]
          },
          "metadata": {
            "tags": []
          },
          "execution_count": 43
        }
      ]
    },
    {
      "cell_type": "code",
      "metadata": {
        "colab": {
          "base_uri": "https://localhost:8080/",
          "height": 359
        },
        "id": "dqCaMb0nXqlV",
        "outputId": "966b186b-c44f-436b-b63a-89b0ec34f12f"
      },
      "source": [
        "uxp.fillna(0, inplace=True)\n",
        "uxp.head(10)"
      ],
      "execution_count": 44,
      "outputs": [
        {
          "output_type": "execute_result",
          "data": {
            "text/html": [
              "<div>\n",
              "<style scoped>\n",
              "    .dataframe tbody tr th:only-of-type {\n",
              "        vertical-align: middle;\n",
              "    }\n",
              "\n",
              "    .dataframe tbody tr th {\n",
              "        vertical-align: top;\n",
              "    }\n",
              "\n",
              "    .dataframe thead th {\n",
              "        text-align: right;\n",
              "    }\n",
              "</style>\n",
              "<table border=\"1\" class=\"dataframe\">\n",
              "  <thead>\n",
              "    <tr style=\"text-align: right;\">\n",
              "      <th></th>\n",
              "      <th>user_id</th>\n",
              "      <th>product_id</th>\n",
              "      <th>uxp_times_bought</th>\n",
              "      <th>uxp_reorder_ratio</th>\n",
              "      <th>uxp_last_five</th>\n",
              "      <th>uxp_ratio_last_five</th>\n",
              "    </tr>\n",
              "  </thead>\n",
              "  <tbody>\n",
              "    <tr>\n",
              "      <th>0</th>\n",
              "      <td>1</td>\n",
              "      <td>196</td>\n",
              "      <td>10</td>\n",
              "      <td>1.000000</td>\n",
              "      <td>5.0</td>\n",
              "      <td>1.0</td>\n",
              "    </tr>\n",
              "    <tr>\n",
              "      <th>1</th>\n",
              "      <td>1</td>\n",
              "      <td>10258</td>\n",
              "      <td>9</td>\n",
              "      <td>1.000000</td>\n",
              "      <td>5.0</td>\n",
              "      <td>1.0</td>\n",
              "    </tr>\n",
              "    <tr>\n",
              "      <th>2</th>\n",
              "      <td>1</td>\n",
              "      <td>10326</td>\n",
              "      <td>1</td>\n",
              "      <td>0.166667</td>\n",
              "      <td>0.0</td>\n",
              "      <td>0.0</td>\n",
              "    </tr>\n",
              "    <tr>\n",
              "      <th>3</th>\n",
              "      <td>1</td>\n",
              "      <td>12427</td>\n",
              "      <td>10</td>\n",
              "      <td>1.000000</td>\n",
              "      <td>5.0</td>\n",
              "      <td>1.0</td>\n",
              "    </tr>\n",
              "    <tr>\n",
              "      <th>4</th>\n",
              "      <td>1</td>\n",
              "      <td>13032</td>\n",
              "      <td>3</td>\n",
              "      <td>0.333333</td>\n",
              "      <td>2.0</td>\n",
              "      <td>0.4</td>\n",
              "    </tr>\n",
              "    <tr>\n",
              "      <th>5</th>\n",
              "      <td>1</td>\n",
              "      <td>13176</td>\n",
              "      <td>2</td>\n",
              "      <td>0.222222</td>\n",
              "      <td>0.0</td>\n",
              "      <td>0.0</td>\n",
              "    </tr>\n",
              "    <tr>\n",
              "      <th>6</th>\n",
              "      <td>1</td>\n",
              "      <td>14084</td>\n",
              "      <td>1</td>\n",
              "      <td>0.100000</td>\n",
              "      <td>0.0</td>\n",
              "      <td>0.0</td>\n",
              "    </tr>\n",
              "    <tr>\n",
              "      <th>7</th>\n",
              "      <td>1</td>\n",
              "      <td>17122</td>\n",
              "      <td>1</td>\n",
              "      <td>0.166667</td>\n",
              "      <td>0.0</td>\n",
              "      <td>0.0</td>\n",
              "    </tr>\n",
              "    <tr>\n",
              "      <th>8</th>\n",
              "      <td>1</td>\n",
              "      <td>25133</td>\n",
              "      <td>8</td>\n",
              "      <td>1.000000</td>\n",
              "      <td>5.0</td>\n",
              "      <td>1.0</td>\n",
              "    </tr>\n",
              "    <tr>\n",
              "      <th>9</th>\n",
              "      <td>1</td>\n",
              "      <td>26088</td>\n",
              "      <td>2</td>\n",
              "      <td>0.200000</td>\n",
              "      <td>0.0</td>\n",
              "      <td>0.0</td>\n",
              "    </tr>\n",
              "  </tbody>\n",
              "</table>\n",
              "</div>"
            ],
            "text/plain": [
              "   user_id  product_id  ...  uxp_last_five  uxp_ratio_last_five\n",
              "0        1         196  ...            5.0                  1.0\n",
              "1        1       10258  ...            5.0                  1.0\n",
              "2        1       10326  ...            0.0                  0.0\n",
              "3        1       12427  ...            5.0                  1.0\n",
              "4        1       13032  ...            2.0                  0.4\n",
              "5        1       13176  ...            0.0                  0.0\n",
              "6        1       14084  ...            0.0                  0.0\n",
              "7        1       17122  ...            0.0                  0.0\n",
              "8        1       25133  ...            5.0                  1.0\n",
              "9        1       26088  ...            0.0                  0.0\n",
              "\n",
              "[10 rows x 6 columns]"
            ]
          },
          "metadata": {
            "tags": []
          },
          "execution_count": 44
        }
      ]
    },
    {
      "cell_type": "code",
      "metadata": {
        "colab": {
          "base_uri": "https://localhost:8080/"
        },
        "id": "Vis8KVwXXswG",
        "outputId": "3b446bc0-d6af-4c24-d232-145f540cd1b5"
      },
      "source": [
        "uxp.info()"
      ],
      "execution_count": 45,
      "outputs": [
        {
          "output_type": "stream",
          "text": [
            "<class 'pandas.core.frame.DataFrame'>\n",
            "Int64Index: 13307953 entries, 0 to 13307952\n",
            "Data columns (total 6 columns):\n",
            " #   Column               Dtype  \n",
            "---  ------               -----  \n",
            " 0   user_id              int64  \n",
            " 1   product_id           int64  \n",
            " 2   uxp_times_bought     int64  \n",
            " 3   uxp_reorder_ratio    float64\n",
            " 4   uxp_last_five        float64\n",
            " 5   uxp_ratio_last_five  float64\n",
            "dtypes: float64(3), int64(3)\n",
            "memory usage: 710.7 MB\n"
          ],
          "name": "stdout"
        }
      ]
    },
    {
      "cell_type": "code",
      "metadata": {
        "colab": {
          "base_uri": "https://localhost:8080/"
        },
        "id": "A9ul5avC3daJ",
        "outputId": "89c47297-96a8-4a98-ea78-71822467d963"
      },
      "source": [
        "users.info()"
      ],
      "execution_count": 46,
      "outputs": [
        {
          "output_type": "stream",
          "text": [
            "<class 'pandas.core.frame.DataFrame'>\n",
            "Int64Index: 206209 entries, 0 to 206208\n",
            "Data columns (total 8 columns):\n",
            " #   Column                       Non-Null Count   Dtype  \n",
            "---  ------                       --------------   -----  \n",
            " 0   user_id                      206209 non-null  int64  \n",
            " 1   u_num_of_orders              206209 non-null  int64  \n",
            " 2   u_avg_prd                    206209 non-null  float64\n",
            " 3   dow_u_most_orders            206209 non-null  int64  \n",
            " 4   hod_u_most_orders            206209 non-null  int64  \n",
            " 5   u_reorder_ratio              206209 non-null  float16\n",
            " 6   average_days_between_orders  206209 non-null  float64\n",
            " 7   u_total_items_bought         206209 non-null  int16  \n",
            "dtypes: float16(1), float64(2), int16(1), int64(4)\n",
            "memory usage: 11.8 MB\n"
          ],
          "name": "stdout"
        }
      ]
    },
    {
      "cell_type": "code",
      "metadata": {
        "colab": {
          "base_uri": "https://localhost:8080/"
        },
        "id": "yWFxEwm93fnf",
        "outputId": "84f6a503-256a-496e-efd3-28dac30cb3ad"
      },
      "source": [
        "prd.info()"
      ],
      "execution_count": 47,
      "outputs": [
        {
          "output_type": "stream",
          "text": [
            "<class 'pandas.core.frame.DataFrame'>\n",
            "Int64Index: 49677 entries, 0 to 49676\n",
            "Data columns (total 4 columns):\n",
            " #   Column               Non-Null Count  Dtype  \n",
            "---  ------               --------------  -----  \n",
            " 0   product_id           49677 non-null  int64  \n",
            " 1   p_num_of_times       49677 non-null  int64  \n",
            " 2   p_reorder_ratio      49677 non-null  float64\n",
            " 3   p_avg_cart_position  49677 non-null  float64\n",
            "dtypes: float64(2), int64(2)\n",
            "memory usage: 1.9 MB\n"
          ],
          "name": "stdout"
        }
      ]
    },
    {
      "cell_type": "code",
      "metadata": {
        "id": "Rumn8Q644RNn"
      },
      "source": [
        "uxp.to_csv(\"uxp.csv\",index=False)"
      ],
      "execution_count": 48,
      "outputs": []
    },
    {
      "cell_type": "code",
      "metadata": {
        "id": "4Y1NhMjF4qPC"
      },
      "source": [
        "users.to_csv(\"users.csv\",index=False)\n",
        "prd.to_csv(\"prd.csv\",index=False)"
      ],
      "execution_count": 49,
      "outputs": []
    },
    {
      "cell_type": "code",
      "metadata": {
        "id": "xMt5YgjRXvhn"
      },
      "source": [
        "# Restart session"
      ],
      "execution_count": null,
      "outputs": []
    },
    {
      "cell_type": "code",
      "metadata": {
        "id": "gXHmN5RT5Lxw"
      },
      "source": [
        "import numpy as np\n",
        "import pandas as pd\n",
        "import zipfile\n",
        "import gc\n",
        "gc.enable()"
      ],
      "execution_count": 1,
      "outputs": []
    },
    {
      "cell_type": "code",
      "metadata": {
        "id": "kTu_L0c55BpS"
      },
      "source": [
        "uxp=pd.read_csv(\"uxp.csv\")\n",
        "users=pd.read_csv(\"users.csv\")\n",
        "prd=pd.read_csv(\"prd.csv\")"
      ],
      "execution_count": 2,
      "outputs": []
    },
    {
      "cell_type": "code",
      "metadata": {
        "colab": {
          "base_uri": "https://localhost:8080/",
          "height": 224
        },
        "id": "n2F_KlGr5BeB",
        "outputId": "1e83156c-a00a-45ce-c0f8-0048d14fe3fe"
      },
      "source": [
        "data = uxp.merge(users, on='user_id', how='left')\n",
        "data.head()"
      ],
      "execution_count": 3,
      "outputs": [
        {
          "output_type": "execute_result",
          "data": {
            "text/html": [
              "<div>\n",
              "<style scoped>\n",
              "    .dataframe tbody tr th:only-of-type {\n",
              "        vertical-align: middle;\n",
              "    }\n",
              "\n",
              "    .dataframe tbody tr th {\n",
              "        vertical-align: top;\n",
              "    }\n",
              "\n",
              "    .dataframe thead th {\n",
              "        text-align: right;\n",
              "    }\n",
              "</style>\n",
              "<table border=\"1\" class=\"dataframe\">\n",
              "  <thead>\n",
              "    <tr style=\"text-align: right;\">\n",
              "      <th></th>\n",
              "      <th>user_id</th>\n",
              "      <th>product_id</th>\n",
              "      <th>uxp_times_bought</th>\n",
              "      <th>uxp_reorder_ratio</th>\n",
              "      <th>uxp_last_five</th>\n",
              "      <th>uxp_ratio_last_five</th>\n",
              "      <th>u_num_of_orders</th>\n",
              "      <th>u_avg_prd</th>\n",
              "      <th>dow_u_most_orders</th>\n",
              "      <th>hod_u_most_orders</th>\n",
              "      <th>u_reorder_ratio</th>\n",
              "      <th>average_days_between_orders</th>\n",
              "      <th>u_total_items_bought</th>\n",
              "    </tr>\n",
              "  </thead>\n",
              "  <tbody>\n",
              "    <tr>\n",
              "      <th>0</th>\n",
              "      <td>1</td>\n",
              "      <td>196</td>\n",
              "      <td>10</td>\n",
              "      <td>1.000000</td>\n",
              "      <td>5.0</td>\n",
              "      <td>1.0</td>\n",
              "      <td>10</td>\n",
              "      <td>5.9</td>\n",
              "      <td>4</td>\n",
              "      <td>7</td>\n",
              "      <td>0.695</td>\n",
              "      <td>21.084746</td>\n",
              "      <td>59</td>\n",
              "    </tr>\n",
              "    <tr>\n",
              "      <th>1</th>\n",
              "      <td>1</td>\n",
              "      <td>10258</td>\n",
              "      <td>9</td>\n",
              "      <td>1.000000</td>\n",
              "      <td>5.0</td>\n",
              "      <td>1.0</td>\n",
              "      <td>10</td>\n",
              "      <td>5.9</td>\n",
              "      <td>4</td>\n",
              "      <td>7</td>\n",
              "      <td>0.695</td>\n",
              "      <td>21.084746</td>\n",
              "      <td>59</td>\n",
              "    </tr>\n",
              "    <tr>\n",
              "      <th>2</th>\n",
              "      <td>1</td>\n",
              "      <td>10326</td>\n",
              "      <td>1</td>\n",
              "      <td>0.166667</td>\n",
              "      <td>0.0</td>\n",
              "      <td>0.0</td>\n",
              "      <td>10</td>\n",
              "      <td>5.9</td>\n",
              "      <td>4</td>\n",
              "      <td>7</td>\n",
              "      <td>0.695</td>\n",
              "      <td>21.084746</td>\n",
              "      <td>59</td>\n",
              "    </tr>\n",
              "    <tr>\n",
              "      <th>3</th>\n",
              "      <td>1</td>\n",
              "      <td>12427</td>\n",
              "      <td>10</td>\n",
              "      <td>1.000000</td>\n",
              "      <td>5.0</td>\n",
              "      <td>1.0</td>\n",
              "      <td>10</td>\n",
              "      <td>5.9</td>\n",
              "      <td>4</td>\n",
              "      <td>7</td>\n",
              "      <td>0.695</td>\n",
              "      <td>21.084746</td>\n",
              "      <td>59</td>\n",
              "    </tr>\n",
              "    <tr>\n",
              "      <th>4</th>\n",
              "      <td>1</td>\n",
              "      <td>13032</td>\n",
              "      <td>3</td>\n",
              "      <td>0.333333</td>\n",
              "      <td>2.0</td>\n",
              "      <td>0.4</td>\n",
              "      <td>10</td>\n",
              "      <td>5.9</td>\n",
              "      <td>4</td>\n",
              "      <td>7</td>\n",
              "      <td>0.695</td>\n",
              "      <td>21.084746</td>\n",
              "      <td>59</td>\n",
              "    </tr>\n",
              "  </tbody>\n",
              "</table>\n",
              "</div>"
            ],
            "text/plain": [
              "   user_id  product_id  ...  average_days_between_orders  u_total_items_bought\n",
              "0        1         196  ...                    21.084746                    59\n",
              "1        1       10258  ...                    21.084746                    59\n",
              "2        1       10326  ...                    21.084746                    59\n",
              "3        1       12427  ...                    21.084746                    59\n",
              "4        1       13032  ...                    21.084746                    59\n",
              "\n",
              "[5 rows x 13 columns]"
            ]
          },
          "metadata": {
            "tags": []
          },
          "execution_count": 3
        }
      ]
    },
    {
      "cell_type": "code",
      "metadata": {
        "colab": {
          "base_uri": "https://localhost:8080/",
          "height": 224
        },
        "id": "QTQI3BVp5g9v",
        "outputId": "e783227b-c666-4be2-d67d-7bd0ec1645ab"
      },
      "source": [
        "data = data.merge(prd, on='product_id', how='left')\n",
        "data.head()"
      ],
      "execution_count": 4,
      "outputs": [
        {
          "output_type": "execute_result",
          "data": {
            "text/html": [
              "<div>\n",
              "<style scoped>\n",
              "    .dataframe tbody tr th:only-of-type {\n",
              "        vertical-align: middle;\n",
              "    }\n",
              "\n",
              "    .dataframe tbody tr th {\n",
              "        vertical-align: top;\n",
              "    }\n",
              "\n",
              "    .dataframe thead th {\n",
              "        text-align: right;\n",
              "    }\n",
              "</style>\n",
              "<table border=\"1\" class=\"dataframe\">\n",
              "  <thead>\n",
              "    <tr style=\"text-align: right;\">\n",
              "      <th></th>\n",
              "      <th>user_id</th>\n",
              "      <th>product_id</th>\n",
              "      <th>uxp_times_bought</th>\n",
              "      <th>uxp_reorder_ratio</th>\n",
              "      <th>uxp_last_five</th>\n",
              "      <th>uxp_ratio_last_five</th>\n",
              "      <th>u_num_of_orders</th>\n",
              "      <th>u_avg_prd</th>\n",
              "      <th>dow_u_most_orders</th>\n",
              "      <th>hod_u_most_orders</th>\n",
              "      <th>u_reorder_ratio</th>\n",
              "      <th>average_days_between_orders</th>\n",
              "      <th>u_total_items_bought</th>\n",
              "      <th>p_num_of_times</th>\n",
              "      <th>p_reorder_ratio</th>\n",
              "      <th>p_avg_cart_position</th>\n",
              "    </tr>\n",
              "  </thead>\n",
              "  <tbody>\n",
              "    <tr>\n",
              "      <th>0</th>\n",
              "      <td>1</td>\n",
              "      <td>196</td>\n",
              "      <td>10</td>\n",
              "      <td>1.000000</td>\n",
              "      <td>5.0</td>\n",
              "      <td>1.0</td>\n",
              "      <td>10</td>\n",
              "      <td>5.9</td>\n",
              "      <td>4</td>\n",
              "      <td>7</td>\n",
              "      <td>0.695</td>\n",
              "      <td>21.084746</td>\n",
              "      <td>59</td>\n",
              "      <td>35791</td>\n",
              "      <td>0.776480</td>\n",
              "      <td>3.721774</td>\n",
              "    </tr>\n",
              "    <tr>\n",
              "      <th>1</th>\n",
              "      <td>1</td>\n",
              "      <td>10258</td>\n",
              "      <td>9</td>\n",
              "      <td>1.000000</td>\n",
              "      <td>5.0</td>\n",
              "      <td>1.0</td>\n",
              "      <td>10</td>\n",
              "      <td>5.9</td>\n",
              "      <td>4</td>\n",
              "      <td>7</td>\n",
              "      <td>0.695</td>\n",
              "      <td>21.084746</td>\n",
              "      <td>59</td>\n",
              "      <td>1946</td>\n",
              "      <td>0.713772</td>\n",
              "      <td>4.277492</td>\n",
              "    </tr>\n",
              "    <tr>\n",
              "      <th>2</th>\n",
              "      <td>1</td>\n",
              "      <td>10326</td>\n",
              "      <td>1</td>\n",
              "      <td>0.166667</td>\n",
              "      <td>0.0</td>\n",
              "      <td>0.0</td>\n",
              "      <td>10</td>\n",
              "      <td>5.9</td>\n",
              "      <td>4</td>\n",
              "      <td>7</td>\n",
              "      <td>0.695</td>\n",
              "      <td>21.084746</td>\n",
              "      <td>59</td>\n",
              "      <td>5526</td>\n",
              "      <td>0.652009</td>\n",
              "      <td>4.191097</td>\n",
              "    </tr>\n",
              "    <tr>\n",
              "      <th>3</th>\n",
              "      <td>1</td>\n",
              "      <td>12427</td>\n",
              "      <td>10</td>\n",
              "      <td>1.000000</td>\n",
              "      <td>5.0</td>\n",
              "      <td>1.0</td>\n",
              "      <td>10</td>\n",
              "      <td>5.9</td>\n",
              "      <td>4</td>\n",
              "      <td>7</td>\n",
              "      <td>0.695</td>\n",
              "      <td>21.084746</td>\n",
              "      <td>59</td>\n",
              "      <td>6476</td>\n",
              "      <td>0.740735</td>\n",
              "      <td>4.760037</td>\n",
              "    </tr>\n",
              "    <tr>\n",
              "      <th>4</th>\n",
              "      <td>1</td>\n",
              "      <td>13032</td>\n",
              "      <td>3</td>\n",
              "      <td>0.333333</td>\n",
              "      <td>2.0</td>\n",
              "      <td>0.4</td>\n",
              "      <td>10</td>\n",
              "      <td>5.9</td>\n",
              "      <td>4</td>\n",
              "      <td>7</td>\n",
              "      <td>0.695</td>\n",
              "      <td>21.084746</td>\n",
              "      <td>59</td>\n",
              "      <td>3751</td>\n",
              "      <td>0.657158</td>\n",
              "      <td>5.622767</td>\n",
              "    </tr>\n",
              "  </tbody>\n",
              "</table>\n",
              "</div>"
            ],
            "text/plain": [
              "   user_id  product_id  ...  p_reorder_ratio  p_avg_cart_position\n",
              "0        1         196  ...         0.776480             3.721774\n",
              "1        1       10258  ...         0.713772             4.277492\n",
              "2        1       10326  ...         0.652009             4.191097\n",
              "3        1       12427  ...         0.740735             4.760037\n",
              "4        1       13032  ...         0.657158             5.622767\n",
              "\n",
              "[5 rows x 16 columns]"
            ]
          },
          "metadata": {
            "tags": []
          },
          "execution_count": 4
        }
      ]
    },
    {
      "cell_type": "code",
      "metadata": {
        "colab": {
          "base_uri": "https://localhost:8080/"
        },
        "id": "8Edk26ov5BJV",
        "outputId": "668b6ac2-7cb0-4ba4-9a8b-6ce42e872f1f"
      },
      "source": [
        "data.shape"
      ],
      "execution_count": 5,
      "outputs": [
        {
          "output_type": "execute_result",
          "data": {
            "text/plain": [
              "(13307953, 16)"
            ]
          },
          "metadata": {
            "tags": []
          },
          "execution_count": 5
        }
      ]
    },
    {
      "cell_type": "code",
      "metadata": {
        "id": "_hrlzhBqX3mm",
        "colab": {
          "base_uri": "https://localhost:8080/"
        },
        "outputId": "23aa6d82-61c3-41e7-8577-c9c284ef79bf"
      },
      "source": [
        "del [users, prd, uxp]\n",
        "gc.collect()"
      ],
      "execution_count": 6,
      "outputs": [
        {
          "output_type": "execute_result",
          "data": {
            "text/plain": [
              "23"
            ]
          },
          "metadata": {
            "tags": []
          },
          "execution_count": 6
        }
      ]
    },
    {
      "cell_type": "code",
      "metadata": {
        "id": "GhR9mprEX5cl"
      },
      "source": [
        "data.to_csv(\"data.csv\",index=False)"
      ],
      "execution_count": 8,
      "outputs": []
    },
    {
      "cell_type": "code",
      "metadata": {
        "id": "UUzDf75M7x1p"
      },
      "source": [
        "# Restart runtime\n",
        "import numpy as np\n",
        "import pandas as pd\n",
        "import zipfile\n",
        "import gc\n",
        "gc.enable()"
      ],
      "execution_count": 1,
      "outputs": []
    },
    {
      "cell_type": "code",
      "metadata": {
        "id": "MRBMscjn73bV"
      },
      "source": [
        "data=pd.read_csv(\"data.csv\")"
      ],
      "execution_count": 2,
      "outputs": []
    },
    {
      "cell_type": "code",
      "metadata": {
        "id": "Z0qGtm7MX6VX",
        "colab": {
          "base_uri": "https://localhost:8080/",
          "height": 204
        },
        "outputId": "c9332700-1c45-4b77-cac1-5d4e6ab672c1"
      },
      "source": [
        "orders_future = orders.loc[((orders.eval_set == 1) | (orders.eval_set == 2)), ['user_id', 'eval_set', 'order_id']]\n",
        "orders_future.head()"
      ],
      "execution_count": 8,
      "outputs": [
        {
          "output_type": "execute_result",
          "data": {
            "text/html": [
              "<div>\n",
              "<style scoped>\n",
              "    .dataframe tbody tr th:only-of-type {\n",
              "        vertical-align: middle;\n",
              "    }\n",
              "\n",
              "    .dataframe tbody tr th {\n",
              "        vertical-align: top;\n",
              "    }\n",
              "\n",
              "    .dataframe thead th {\n",
              "        text-align: right;\n",
              "    }\n",
              "</style>\n",
              "<table border=\"1\" class=\"dataframe\">\n",
              "  <thead>\n",
              "    <tr style=\"text-align: right;\">\n",
              "      <th></th>\n",
              "      <th>user_id</th>\n",
              "      <th>eval_set</th>\n",
              "      <th>order_id</th>\n",
              "    </tr>\n",
              "  </thead>\n",
              "  <tbody>\n",
              "    <tr>\n",
              "      <th>10</th>\n",
              "      <td>1</td>\n",
              "      <td>1</td>\n",
              "      <td>1187899</td>\n",
              "    </tr>\n",
              "    <tr>\n",
              "      <th>25</th>\n",
              "      <td>2</td>\n",
              "      <td>1</td>\n",
              "      <td>1492625</td>\n",
              "    </tr>\n",
              "    <tr>\n",
              "      <th>38</th>\n",
              "      <td>3</td>\n",
              "      <td>2</td>\n",
              "      <td>2774568</td>\n",
              "    </tr>\n",
              "    <tr>\n",
              "      <th>44</th>\n",
              "      <td>4</td>\n",
              "      <td>2</td>\n",
              "      <td>329954</td>\n",
              "    </tr>\n",
              "    <tr>\n",
              "      <th>49</th>\n",
              "      <td>5</td>\n",
              "      <td>1</td>\n",
              "      <td>2196797</td>\n",
              "    </tr>\n",
              "  </tbody>\n",
              "</table>\n",
              "</div>"
            ],
            "text/plain": [
              "    user_id  eval_set  order_id\n",
              "10        1         1   1187899\n",
              "25        2         1   1492625\n",
              "38        3         2   2774568\n",
              "44        4         2    329954\n",
              "49        5         1   2196797"
            ]
          },
          "metadata": {
            "tags": []
          },
          "execution_count": 8
        }
      ]
    },
    {
      "cell_type": "code",
      "metadata": {
        "id": "FXWaMQQXX8AR",
        "colab": {
          "base_uri": "https://localhost:8080/",
          "height": 224
        },
        "outputId": "ee24745c-b61b-4bd5-dc40-c699ff6ee720"
      },
      "source": [
        "data = data.merge(orders_future, on='user_id', how='left')\n",
        "data.tail()"
      ],
      "execution_count": 9,
      "outputs": [
        {
          "output_type": "execute_result",
          "data": {
            "text/html": [
              "<div>\n",
              "<style scoped>\n",
              "    .dataframe tbody tr th:only-of-type {\n",
              "        vertical-align: middle;\n",
              "    }\n",
              "\n",
              "    .dataframe tbody tr th {\n",
              "        vertical-align: top;\n",
              "    }\n",
              "\n",
              "    .dataframe thead th {\n",
              "        text-align: right;\n",
              "    }\n",
              "</style>\n",
              "<table border=\"1\" class=\"dataframe\">\n",
              "  <thead>\n",
              "    <tr style=\"text-align: right;\">\n",
              "      <th></th>\n",
              "      <th>user_id</th>\n",
              "      <th>product_id</th>\n",
              "      <th>uxp_times_bought</th>\n",
              "      <th>uxp_reorder_ratio</th>\n",
              "      <th>uxp_last_five</th>\n",
              "      <th>uxp_ratio_last_five</th>\n",
              "      <th>u_num_of_orders</th>\n",
              "      <th>u_avg_prd</th>\n",
              "      <th>dow_u_most_orders</th>\n",
              "      <th>hod_u_most_orders</th>\n",
              "      <th>u_reorder_ratio</th>\n",
              "      <th>average_days_between_orders</th>\n",
              "      <th>u_total_items_bought</th>\n",
              "      <th>p_num_of_times</th>\n",
              "      <th>p_reorder_ratio</th>\n",
              "      <th>p_avg_cart_position</th>\n",
              "      <th>eval_set</th>\n",
              "      <th>order_id</th>\n",
              "    </tr>\n",
              "  </thead>\n",
              "  <tbody>\n",
              "    <tr>\n",
              "      <th>13307948</th>\n",
              "      <td>206209</td>\n",
              "      <td>43961</td>\n",
              "      <td>3</td>\n",
              "      <td>0.300000</td>\n",
              "      <td>1.0</td>\n",
              "      <td>0.2</td>\n",
              "      <td>13</td>\n",
              "      <td>9.923077</td>\n",
              "      <td>1</td>\n",
              "      <td>12</td>\n",
              "      <td>0.473</td>\n",
              "      <td>21.255814</td>\n",
              "      <td>129</td>\n",
              "      <td>55371</td>\n",
              "      <td>0.630583</td>\n",
              "      <td>9.194723</td>\n",
              "      <td>1</td>\n",
              "      <td>272231</td>\n",
              "    </tr>\n",
              "    <tr>\n",
              "      <th>13307949</th>\n",
              "      <td>206209</td>\n",
              "      <td>44325</td>\n",
              "      <td>1</td>\n",
              "      <td>0.142857</td>\n",
              "      <td>0.0</td>\n",
              "      <td>0.0</td>\n",
              "      <td>13</td>\n",
              "      <td>9.923077</td>\n",
              "      <td>1</td>\n",
              "      <td>12</td>\n",
              "      <td>0.473</td>\n",
              "      <td>21.255814</td>\n",
              "      <td>129</td>\n",
              "      <td>3485</td>\n",
              "      <td>0.401148</td>\n",
              "      <td>10.109900</td>\n",
              "      <td>1</td>\n",
              "      <td>272231</td>\n",
              "    </tr>\n",
              "    <tr>\n",
              "      <th>13307950</th>\n",
              "      <td>206209</td>\n",
              "      <td>48370</td>\n",
              "      <td>1</td>\n",
              "      <td>0.333333</td>\n",
              "      <td>1.0</td>\n",
              "      <td>0.2</td>\n",
              "      <td>13</td>\n",
              "      <td>9.923077</td>\n",
              "      <td>1</td>\n",
              "      <td>12</td>\n",
              "      <td>0.473</td>\n",
              "      <td>21.255814</td>\n",
              "      <td>129</td>\n",
              "      <td>3934</td>\n",
              "      <td>0.699288</td>\n",
              "      <td>8.344942</td>\n",
              "      <td>1</td>\n",
              "      <td>272231</td>\n",
              "    </tr>\n",
              "    <tr>\n",
              "      <th>13307951</th>\n",
              "      <td>206209</td>\n",
              "      <td>48697</td>\n",
              "      <td>1</td>\n",
              "      <td>0.142857</td>\n",
              "      <td>0.0</td>\n",
              "      <td>0.0</td>\n",
              "      <td>13</td>\n",
              "      <td>9.923077</td>\n",
              "      <td>1</td>\n",
              "      <td>12</td>\n",
              "      <td>0.473</td>\n",
              "      <td>21.255814</td>\n",
              "      <td>129</td>\n",
              "      <td>9783</td>\n",
              "      <td>0.357661</td>\n",
              "      <td>8.763058</td>\n",
              "      <td>1</td>\n",
              "      <td>272231</td>\n",
              "    </tr>\n",
              "    <tr>\n",
              "      <th>13307952</th>\n",
              "      <td>206209</td>\n",
              "      <td>48742</td>\n",
              "      <td>2</td>\n",
              "      <td>0.285714</td>\n",
              "      <td>1.0</td>\n",
              "      <td>0.2</td>\n",
              "      <td>13</td>\n",
              "      <td>9.923077</td>\n",
              "      <td>1</td>\n",
              "      <td>12</td>\n",
              "      <td>0.473</td>\n",
              "      <td>21.255814</td>\n",
              "      <td>129</td>\n",
              "      <td>1723</td>\n",
              "      <td>0.498549</td>\n",
              "      <td>7.991294</td>\n",
              "      <td>1</td>\n",
              "      <td>272231</td>\n",
              "    </tr>\n",
              "  </tbody>\n",
              "</table>\n",
              "</div>"
            ],
            "text/plain": [
              "          user_id  product_id  ...  eval_set  order_id\n",
              "13307948   206209       43961  ...         1    272231\n",
              "13307949   206209       44325  ...         1    272231\n",
              "13307950   206209       48370  ...         1    272231\n",
              "13307951   206209       48697  ...         1    272231\n",
              "13307952   206209       48742  ...         1    272231\n",
              "\n",
              "[5 rows x 18 columns]"
            ]
          },
          "metadata": {
            "tags": []
          },
          "execution_count": 9
        }
      ]
    },
    {
      "cell_type": "code",
      "metadata": {
        "id": "_u_eLfM4X-k8",
        "colab": {
          "base_uri": "https://localhost:8080/",
          "height": 224
        },
        "outputId": "c4632bc4-8a2b-4a1b-af95-edffac8a4eba"
      },
      "source": [
        "data_train = data[data.eval_set == 1]\n",
        "data_train.head()"
      ],
      "execution_count": 10,
      "outputs": [
        {
          "output_type": "execute_result",
          "data": {
            "text/html": [
              "<div>\n",
              "<style scoped>\n",
              "    .dataframe tbody tr th:only-of-type {\n",
              "        vertical-align: middle;\n",
              "    }\n",
              "\n",
              "    .dataframe tbody tr th {\n",
              "        vertical-align: top;\n",
              "    }\n",
              "\n",
              "    .dataframe thead th {\n",
              "        text-align: right;\n",
              "    }\n",
              "</style>\n",
              "<table border=\"1\" class=\"dataframe\">\n",
              "  <thead>\n",
              "    <tr style=\"text-align: right;\">\n",
              "      <th></th>\n",
              "      <th>user_id</th>\n",
              "      <th>product_id</th>\n",
              "      <th>uxp_times_bought</th>\n",
              "      <th>uxp_reorder_ratio</th>\n",
              "      <th>uxp_last_five</th>\n",
              "      <th>uxp_ratio_last_five</th>\n",
              "      <th>u_num_of_orders</th>\n",
              "      <th>u_avg_prd</th>\n",
              "      <th>dow_u_most_orders</th>\n",
              "      <th>hod_u_most_orders</th>\n",
              "      <th>u_reorder_ratio</th>\n",
              "      <th>average_days_between_orders</th>\n",
              "      <th>u_total_items_bought</th>\n",
              "      <th>p_num_of_times</th>\n",
              "      <th>p_reorder_ratio</th>\n",
              "      <th>p_avg_cart_position</th>\n",
              "      <th>eval_set</th>\n",
              "      <th>order_id</th>\n",
              "    </tr>\n",
              "  </thead>\n",
              "  <tbody>\n",
              "    <tr>\n",
              "      <th>0</th>\n",
              "      <td>1</td>\n",
              "      <td>196</td>\n",
              "      <td>10</td>\n",
              "      <td>1.000000</td>\n",
              "      <td>5.0</td>\n",
              "      <td>1.0</td>\n",
              "      <td>10</td>\n",
              "      <td>5.9</td>\n",
              "      <td>4</td>\n",
              "      <td>7</td>\n",
              "      <td>0.695</td>\n",
              "      <td>21.084746</td>\n",
              "      <td>59</td>\n",
              "      <td>35791</td>\n",
              "      <td>0.776480</td>\n",
              "      <td>3.721774</td>\n",
              "      <td>1</td>\n",
              "      <td>1187899</td>\n",
              "    </tr>\n",
              "    <tr>\n",
              "      <th>1</th>\n",
              "      <td>1</td>\n",
              "      <td>10258</td>\n",
              "      <td>9</td>\n",
              "      <td>1.000000</td>\n",
              "      <td>5.0</td>\n",
              "      <td>1.0</td>\n",
              "      <td>10</td>\n",
              "      <td>5.9</td>\n",
              "      <td>4</td>\n",
              "      <td>7</td>\n",
              "      <td>0.695</td>\n",
              "      <td>21.084746</td>\n",
              "      <td>59</td>\n",
              "      <td>1946</td>\n",
              "      <td>0.713772</td>\n",
              "      <td>4.277492</td>\n",
              "      <td>1</td>\n",
              "      <td>1187899</td>\n",
              "    </tr>\n",
              "    <tr>\n",
              "      <th>2</th>\n",
              "      <td>1</td>\n",
              "      <td>10326</td>\n",
              "      <td>1</td>\n",
              "      <td>0.166667</td>\n",
              "      <td>0.0</td>\n",
              "      <td>0.0</td>\n",
              "      <td>10</td>\n",
              "      <td>5.9</td>\n",
              "      <td>4</td>\n",
              "      <td>7</td>\n",
              "      <td>0.695</td>\n",
              "      <td>21.084746</td>\n",
              "      <td>59</td>\n",
              "      <td>5526</td>\n",
              "      <td>0.652009</td>\n",
              "      <td>4.191097</td>\n",
              "      <td>1</td>\n",
              "      <td>1187899</td>\n",
              "    </tr>\n",
              "    <tr>\n",
              "      <th>3</th>\n",
              "      <td>1</td>\n",
              "      <td>12427</td>\n",
              "      <td>10</td>\n",
              "      <td>1.000000</td>\n",
              "      <td>5.0</td>\n",
              "      <td>1.0</td>\n",
              "      <td>10</td>\n",
              "      <td>5.9</td>\n",
              "      <td>4</td>\n",
              "      <td>7</td>\n",
              "      <td>0.695</td>\n",
              "      <td>21.084746</td>\n",
              "      <td>59</td>\n",
              "      <td>6476</td>\n",
              "      <td>0.740735</td>\n",
              "      <td>4.760037</td>\n",
              "      <td>1</td>\n",
              "      <td>1187899</td>\n",
              "    </tr>\n",
              "    <tr>\n",
              "      <th>4</th>\n",
              "      <td>1</td>\n",
              "      <td>13032</td>\n",
              "      <td>3</td>\n",
              "      <td>0.333333</td>\n",
              "      <td>2.0</td>\n",
              "      <td>0.4</td>\n",
              "      <td>10</td>\n",
              "      <td>5.9</td>\n",
              "      <td>4</td>\n",
              "      <td>7</td>\n",
              "      <td>0.695</td>\n",
              "      <td>21.084746</td>\n",
              "      <td>59</td>\n",
              "      <td>3751</td>\n",
              "      <td>0.657158</td>\n",
              "      <td>5.622767</td>\n",
              "      <td>1</td>\n",
              "      <td>1187899</td>\n",
              "    </tr>\n",
              "  </tbody>\n",
              "</table>\n",
              "</div>"
            ],
            "text/plain": [
              "   user_id  product_id  ...  eval_set  order_id\n",
              "0        1         196  ...         1   1187899\n",
              "1        1       10258  ...         1   1187899\n",
              "2        1       10326  ...         1   1187899\n",
              "3        1       12427  ...         1   1187899\n",
              "4        1       13032  ...         1   1187899\n",
              "\n",
              "[5 rows x 18 columns]"
            ]
          },
          "metadata": {
            "tags": []
          },
          "execution_count": 10
        }
      ]
    },
    {
      "cell_type": "code",
      "metadata": {
        "id": "gyLvJSGtYAbq",
        "colab": {
          "base_uri": "https://localhost:8080/",
          "height": 224
        },
        "outputId": "b4ca3c77-da16-4aa1-a117-fb0be91fc427"
      },
      "source": [
        "data_train = data_train.merge(train[['product_id', 'order_id', 'reordered']], on=['product_id', 'order_id'], how='left')\n",
        "data_train.head()"
      ],
      "execution_count": 11,
      "outputs": [
        {
          "output_type": "execute_result",
          "data": {
            "text/html": [
              "<div>\n",
              "<style scoped>\n",
              "    .dataframe tbody tr th:only-of-type {\n",
              "        vertical-align: middle;\n",
              "    }\n",
              "\n",
              "    .dataframe tbody tr th {\n",
              "        vertical-align: top;\n",
              "    }\n",
              "\n",
              "    .dataframe thead th {\n",
              "        text-align: right;\n",
              "    }\n",
              "</style>\n",
              "<table border=\"1\" class=\"dataframe\">\n",
              "  <thead>\n",
              "    <tr style=\"text-align: right;\">\n",
              "      <th></th>\n",
              "      <th>user_id</th>\n",
              "      <th>product_id</th>\n",
              "      <th>uxp_times_bought</th>\n",
              "      <th>uxp_reorder_ratio</th>\n",
              "      <th>uxp_last_five</th>\n",
              "      <th>uxp_ratio_last_five</th>\n",
              "      <th>u_num_of_orders</th>\n",
              "      <th>u_avg_prd</th>\n",
              "      <th>dow_u_most_orders</th>\n",
              "      <th>hod_u_most_orders</th>\n",
              "      <th>u_reorder_ratio</th>\n",
              "      <th>average_days_between_orders</th>\n",
              "      <th>u_total_items_bought</th>\n",
              "      <th>p_num_of_times</th>\n",
              "      <th>p_reorder_ratio</th>\n",
              "      <th>p_avg_cart_position</th>\n",
              "      <th>eval_set</th>\n",
              "      <th>order_id</th>\n",
              "      <th>reordered</th>\n",
              "    </tr>\n",
              "  </thead>\n",
              "  <tbody>\n",
              "    <tr>\n",
              "      <th>0</th>\n",
              "      <td>1</td>\n",
              "      <td>196</td>\n",
              "      <td>10</td>\n",
              "      <td>1.000000</td>\n",
              "      <td>5.0</td>\n",
              "      <td>1.0</td>\n",
              "      <td>10</td>\n",
              "      <td>5.9</td>\n",
              "      <td>4</td>\n",
              "      <td>7</td>\n",
              "      <td>0.695</td>\n",
              "      <td>21.084746</td>\n",
              "      <td>59</td>\n",
              "      <td>35791</td>\n",
              "      <td>0.776480</td>\n",
              "      <td>3.721774</td>\n",
              "      <td>1</td>\n",
              "      <td>1187899</td>\n",
              "      <td>1.0</td>\n",
              "    </tr>\n",
              "    <tr>\n",
              "      <th>1</th>\n",
              "      <td>1</td>\n",
              "      <td>10258</td>\n",
              "      <td>9</td>\n",
              "      <td>1.000000</td>\n",
              "      <td>5.0</td>\n",
              "      <td>1.0</td>\n",
              "      <td>10</td>\n",
              "      <td>5.9</td>\n",
              "      <td>4</td>\n",
              "      <td>7</td>\n",
              "      <td>0.695</td>\n",
              "      <td>21.084746</td>\n",
              "      <td>59</td>\n",
              "      <td>1946</td>\n",
              "      <td>0.713772</td>\n",
              "      <td>4.277492</td>\n",
              "      <td>1</td>\n",
              "      <td>1187899</td>\n",
              "      <td>1.0</td>\n",
              "    </tr>\n",
              "    <tr>\n",
              "      <th>2</th>\n",
              "      <td>1</td>\n",
              "      <td>10326</td>\n",
              "      <td>1</td>\n",
              "      <td>0.166667</td>\n",
              "      <td>0.0</td>\n",
              "      <td>0.0</td>\n",
              "      <td>10</td>\n",
              "      <td>5.9</td>\n",
              "      <td>4</td>\n",
              "      <td>7</td>\n",
              "      <td>0.695</td>\n",
              "      <td>21.084746</td>\n",
              "      <td>59</td>\n",
              "      <td>5526</td>\n",
              "      <td>0.652009</td>\n",
              "      <td>4.191097</td>\n",
              "      <td>1</td>\n",
              "      <td>1187899</td>\n",
              "      <td>NaN</td>\n",
              "    </tr>\n",
              "    <tr>\n",
              "      <th>3</th>\n",
              "      <td>1</td>\n",
              "      <td>12427</td>\n",
              "      <td>10</td>\n",
              "      <td>1.000000</td>\n",
              "      <td>5.0</td>\n",
              "      <td>1.0</td>\n",
              "      <td>10</td>\n",
              "      <td>5.9</td>\n",
              "      <td>4</td>\n",
              "      <td>7</td>\n",
              "      <td>0.695</td>\n",
              "      <td>21.084746</td>\n",
              "      <td>59</td>\n",
              "      <td>6476</td>\n",
              "      <td>0.740735</td>\n",
              "      <td>4.760037</td>\n",
              "      <td>1</td>\n",
              "      <td>1187899</td>\n",
              "      <td>NaN</td>\n",
              "    </tr>\n",
              "    <tr>\n",
              "      <th>4</th>\n",
              "      <td>1</td>\n",
              "      <td>13032</td>\n",
              "      <td>3</td>\n",
              "      <td>0.333333</td>\n",
              "      <td>2.0</td>\n",
              "      <td>0.4</td>\n",
              "      <td>10</td>\n",
              "      <td>5.9</td>\n",
              "      <td>4</td>\n",
              "      <td>7</td>\n",
              "      <td>0.695</td>\n",
              "      <td>21.084746</td>\n",
              "      <td>59</td>\n",
              "      <td>3751</td>\n",
              "      <td>0.657158</td>\n",
              "      <td>5.622767</td>\n",
              "      <td>1</td>\n",
              "      <td>1187899</td>\n",
              "      <td>1.0</td>\n",
              "    </tr>\n",
              "  </tbody>\n",
              "</table>\n",
              "</div>"
            ],
            "text/plain": [
              "   user_id  product_id  uxp_times_bought  ...  eval_set  order_id  reordered\n",
              "0        1         196                10  ...         1   1187899        1.0\n",
              "1        1       10258                 9  ...         1   1187899        1.0\n",
              "2        1       10326                 1  ...         1   1187899        NaN\n",
              "3        1       12427                10  ...         1   1187899        NaN\n",
              "4        1       13032                 3  ...         1   1187899        1.0\n",
              "\n",
              "[5 rows x 19 columns]"
            ]
          },
          "metadata": {
            "tags": []
          },
          "execution_count": 11
        }
      ]
    },
    {
      "cell_type": "code",
      "metadata": {
        "id": "9td3AqlPYCbP"
      },
      "source": [
        "data_train.reordered.fillna(0, inplace=True)"
      ],
      "execution_count": 12,
      "outputs": []
    },
    {
      "cell_type": "code",
      "metadata": {
        "id": "IplSIXYdYVt0"
      },
      "source": [
        "data_train.drop(['eval_set', 'order_id'], axis=1, inplace=True)"
      ],
      "execution_count": 13,
      "outputs": []
    },
    {
      "cell_type": "code",
      "metadata": {
        "id": "ElHbTDgIYYGy",
        "colab": {
          "base_uri": "https://localhost:8080/",
          "height": 224
        },
        "outputId": "003541f9-775c-468e-86f9-0f7faa1ee81c"
      },
      "source": [
        "data_train.head()"
      ],
      "execution_count": 14,
      "outputs": [
        {
          "output_type": "execute_result",
          "data": {
            "text/html": [
              "<div>\n",
              "<style scoped>\n",
              "    .dataframe tbody tr th:only-of-type {\n",
              "        vertical-align: middle;\n",
              "    }\n",
              "\n",
              "    .dataframe tbody tr th {\n",
              "        vertical-align: top;\n",
              "    }\n",
              "\n",
              "    .dataframe thead th {\n",
              "        text-align: right;\n",
              "    }\n",
              "</style>\n",
              "<table border=\"1\" class=\"dataframe\">\n",
              "  <thead>\n",
              "    <tr style=\"text-align: right;\">\n",
              "      <th></th>\n",
              "      <th>user_id</th>\n",
              "      <th>product_id</th>\n",
              "      <th>uxp_times_bought</th>\n",
              "      <th>uxp_reorder_ratio</th>\n",
              "      <th>uxp_last_five</th>\n",
              "      <th>uxp_ratio_last_five</th>\n",
              "      <th>u_num_of_orders</th>\n",
              "      <th>u_avg_prd</th>\n",
              "      <th>dow_u_most_orders</th>\n",
              "      <th>hod_u_most_orders</th>\n",
              "      <th>u_reorder_ratio</th>\n",
              "      <th>average_days_between_orders</th>\n",
              "      <th>u_total_items_bought</th>\n",
              "      <th>p_num_of_times</th>\n",
              "      <th>p_reorder_ratio</th>\n",
              "      <th>p_avg_cart_position</th>\n",
              "      <th>reordered</th>\n",
              "    </tr>\n",
              "  </thead>\n",
              "  <tbody>\n",
              "    <tr>\n",
              "      <th>0</th>\n",
              "      <td>1</td>\n",
              "      <td>196</td>\n",
              "      <td>10</td>\n",
              "      <td>1.000000</td>\n",
              "      <td>5.0</td>\n",
              "      <td>1.0</td>\n",
              "      <td>10</td>\n",
              "      <td>5.9</td>\n",
              "      <td>4</td>\n",
              "      <td>7</td>\n",
              "      <td>0.695</td>\n",
              "      <td>21.084746</td>\n",
              "      <td>59</td>\n",
              "      <td>35791</td>\n",
              "      <td>0.776480</td>\n",
              "      <td>3.721774</td>\n",
              "      <td>1.0</td>\n",
              "    </tr>\n",
              "    <tr>\n",
              "      <th>1</th>\n",
              "      <td>1</td>\n",
              "      <td>10258</td>\n",
              "      <td>9</td>\n",
              "      <td>1.000000</td>\n",
              "      <td>5.0</td>\n",
              "      <td>1.0</td>\n",
              "      <td>10</td>\n",
              "      <td>5.9</td>\n",
              "      <td>4</td>\n",
              "      <td>7</td>\n",
              "      <td>0.695</td>\n",
              "      <td>21.084746</td>\n",
              "      <td>59</td>\n",
              "      <td>1946</td>\n",
              "      <td>0.713772</td>\n",
              "      <td>4.277492</td>\n",
              "      <td>1.0</td>\n",
              "    </tr>\n",
              "    <tr>\n",
              "      <th>2</th>\n",
              "      <td>1</td>\n",
              "      <td>10326</td>\n",
              "      <td>1</td>\n",
              "      <td>0.166667</td>\n",
              "      <td>0.0</td>\n",
              "      <td>0.0</td>\n",
              "      <td>10</td>\n",
              "      <td>5.9</td>\n",
              "      <td>4</td>\n",
              "      <td>7</td>\n",
              "      <td>0.695</td>\n",
              "      <td>21.084746</td>\n",
              "      <td>59</td>\n",
              "      <td>5526</td>\n",
              "      <td>0.652009</td>\n",
              "      <td>4.191097</td>\n",
              "      <td>0.0</td>\n",
              "    </tr>\n",
              "    <tr>\n",
              "      <th>3</th>\n",
              "      <td>1</td>\n",
              "      <td>12427</td>\n",
              "      <td>10</td>\n",
              "      <td>1.000000</td>\n",
              "      <td>5.0</td>\n",
              "      <td>1.0</td>\n",
              "      <td>10</td>\n",
              "      <td>5.9</td>\n",
              "      <td>4</td>\n",
              "      <td>7</td>\n",
              "      <td>0.695</td>\n",
              "      <td>21.084746</td>\n",
              "      <td>59</td>\n",
              "      <td>6476</td>\n",
              "      <td>0.740735</td>\n",
              "      <td>4.760037</td>\n",
              "      <td>0.0</td>\n",
              "    </tr>\n",
              "    <tr>\n",
              "      <th>4</th>\n",
              "      <td>1</td>\n",
              "      <td>13032</td>\n",
              "      <td>3</td>\n",
              "      <td>0.333333</td>\n",
              "      <td>2.0</td>\n",
              "      <td>0.4</td>\n",
              "      <td>10</td>\n",
              "      <td>5.9</td>\n",
              "      <td>4</td>\n",
              "      <td>7</td>\n",
              "      <td>0.695</td>\n",
              "      <td>21.084746</td>\n",
              "      <td>59</td>\n",
              "      <td>3751</td>\n",
              "      <td>0.657158</td>\n",
              "      <td>5.622767</td>\n",
              "      <td>1.0</td>\n",
              "    </tr>\n",
              "  </tbody>\n",
              "</table>\n",
              "</div>"
            ],
            "text/plain": [
              "   user_id  product_id  ...  p_avg_cart_position  reordered\n",
              "0        1         196  ...             3.721774        1.0\n",
              "1        1       10258  ...             4.277492        1.0\n",
              "2        1       10326  ...             4.191097        0.0\n",
              "3        1       12427  ...             4.760037        0.0\n",
              "4        1       13032  ...             5.622767        1.0\n",
              "\n",
              "[5 rows x 17 columns]"
            ]
          },
          "metadata": {
            "tags": []
          },
          "execution_count": 14
        }
      ]
    },
    {
      "cell_type": "code",
      "metadata": {
        "id": "y4K8W0CoYZTt",
        "colab": {
          "base_uri": "https://localhost:8080/",
          "height": 224
        },
        "outputId": "845914d5-11d3-4993-9c53-d48eb83ac847"
      },
      "source": [
        "data_test = data[data.eval_set == 2]\n",
        "data_test.head()"
      ],
      "execution_count": 15,
      "outputs": [
        {
          "output_type": "execute_result",
          "data": {
            "text/html": [
              "<div>\n",
              "<style scoped>\n",
              "    .dataframe tbody tr th:only-of-type {\n",
              "        vertical-align: middle;\n",
              "    }\n",
              "\n",
              "    .dataframe tbody tr th {\n",
              "        vertical-align: top;\n",
              "    }\n",
              "\n",
              "    .dataframe thead th {\n",
              "        text-align: right;\n",
              "    }\n",
              "</style>\n",
              "<table border=\"1\" class=\"dataframe\">\n",
              "  <thead>\n",
              "    <tr style=\"text-align: right;\">\n",
              "      <th></th>\n",
              "      <th>user_id</th>\n",
              "      <th>product_id</th>\n",
              "      <th>uxp_times_bought</th>\n",
              "      <th>uxp_reorder_ratio</th>\n",
              "      <th>uxp_last_five</th>\n",
              "      <th>uxp_ratio_last_five</th>\n",
              "      <th>u_num_of_orders</th>\n",
              "      <th>u_avg_prd</th>\n",
              "      <th>dow_u_most_orders</th>\n",
              "      <th>hod_u_most_orders</th>\n",
              "      <th>u_reorder_ratio</th>\n",
              "      <th>average_days_between_orders</th>\n",
              "      <th>u_total_items_bought</th>\n",
              "      <th>p_num_of_times</th>\n",
              "      <th>p_reorder_ratio</th>\n",
              "      <th>p_avg_cart_position</th>\n",
              "      <th>eval_set</th>\n",
              "      <th>order_id</th>\n",
              "    </tr>\n",
              "  </thead>\n",
              "  <tbody>\n",
              "    <tr>\n",
              "      <th>120</th>\n",
              "      <td>3</td>\n",
              "      <td>248</td>\n",
              "      <td>1</td>\n",
              "      <td>0.090909</td>\n",
              "      <td>0.0</td>\n",
              "      <td>0.0</td>\n",
              "      <td>12</td>\n",
              "      <td>7.333333</td>\n",
              "      <td>0</td>\n",
              "      <td>16</td>\n",
              "      <td>0.625</td>\n",
              "      <td>13.590909</td>\n",
              "      <td>88</td>\n",
              "      <td>6371</td>\n",
              "      <td>0.400251</td>\n",
              "      <td>10.620782</td>\n",
              "      <td>2</td>\n",
              "      <td>2774568</td>\n",
              "    </tr>\n",
              "    <tr>\n",
              "      <th>121</th>\n",
              "      <td>3</td>\n",
              "      <td>1005</td>\n",
              "      <td>1</td>\n",
              "      <td>0.333333</td>\n",
              "      <td>1.0</td>\n",
              "      <td>0.2</td>\n",
              "      <td>12</td>\n",
              "      <td>7.333333</td>\n",
              "      <td>0</td>\n",
              "      <td>16</td>\n",
              "      <td>0.625</td>\n",
              "      <td>13.590909</td>\n",
              "      <td>88</td>\n",
              "      <td>463</td>\n",
              "      <td>0.440605</td>\n",
              "      <td>9.498920</td>\n",
              "      <td>2</td>\n",
              "      <td>2774568</td>\n",
              "    </tr>\n",
              "    <tr>\n",
              "      <th>122</th>\n",
              "      <td>3</td>\n",
              "      <td>1819</td>\n",
              "      <td>3</td>\n",
              "      <td>0.333333</td>\n",
              "      <td>0.0</td>\n",
              "      <td>0.0</td>\n",
              "      <td>12</td>\n",
              "      <td>7.333333</td>\n",
              "      <td>0</td>\n",
              "      <td>16</td>\n",
              "      <td>0.625</td>\n",
              "      <td>13.590909</td>\n",
              "      <td>88</td>\n",
              "      <td>2424</td>\n",
              "      <td>0.492162</td>\n",
              "      <td>9.287541</td>\n",
              "      <td>2</td>\n",
              "      <td>2774568</td>\n",
              "    </tr>\n",
              "    <tr>\n",
              "      <th>123</th>\n",
              "      <td>3</td>\n",
              "      <td>7503</td>\n",
              "      <td>1</td>\n",
              "      <td>0.100000</td>\n",
              "      <td>0.0</td>\n",
              "      <td>0.0</td>\n",
              "      <td>12</td>\n",
              "      <td>7.333333</td>\n",
              "      <td>0</td>\n",
              "      <td>16</td>\n",
              "      <td>0.625</td>\n",
              "      <td>13.590909</td>\n",
              "      <td>88</td>\n",
              "      <td>12474</td>\n",
              "      <td>0.553551</td>\n",
              "      <td>9.547379</td>\n",
              "      <td>2</td>\n",
              "      <td>2774568</td>\n",
              "    </tr>\n",
              "    <tr>\n",
              "      <th>124</th>\n",
              "      <td>3</td>\n",
              "      <td>8021</td>\n",
              "      <td>1</td>\n",
              "      <td>0.090909</td>\n",
              "      <td>0.0</td>\n",
              "      <td>0.0</td>\n",
              "      <td>12</td>\n",
              "      <td>7.333333</td>\n",
              "      <td>0</td>\n",
              "      <td>16</td>\n",
              "      <td>0.625</td>\n",
              "      <td>13.590909</td>\n",
              "      <td>88</td>\n",
              "      <td>27864</td>\n",
              "      <td>0.591157</td>\n",
              "      <td>8.822854</td>\n",
              "      <td>2</td>\n",
              "      <td>2774568</td>\n",
              "    </tr>\n",
              "  </tbody>\n",
              "</table>\n",
              "</div>"
            ],
            "text/plain": [
              "     user_id  product_id  ...  eval_set  order_id\n",
              "120        3         248  ...         2   2774568\n",
              "121        3        1005  ...         2   2774568\n",
              "122        3        1819  ...         2   2774568\n",
              "123        3        7503  ...         2   2774568\n",
              "124        3        8021  ...         2   2774568\n",
              "\n",
              "[5 rows x 18 columns]"
            ]
          },
          "metadata": {
            "tags": []
          },
          "execution_count": 15
        }
      ]
    },
    {
      "cell_type": "code",
      "metadata": {
        "id": "ce_Lrl3WYfTx",
        "colab": {
          "base_uri": "https://localhost:8080/"
        },
        "outputId": "73c087d3-18ce-45eb-99a5-276ff6c16291"
      },
      "source": [
        "data_test.drop(['eval_set', 'order_id'], axis=1, inplace=True)"
      ],
      "execution_count": 16,
      "outputs": [
        {
          "output_type": "stream",
          "text": [
            "/usr/local/lib/python3.6/dist-packages/pandas/core/frame.py:4174: SettingWithCopyWarning: \n",
            "A value is trying to be set on a copy of a slice from a DataFrame\n",
            "\n",
            "See the caveats in the documentation: https://pandas.pydata.org/pandas-docs/stable/user_guide/indexing.html#returning-a-view-versus-a-copy\n",
            "  errors=errors,\n"
          ],
          "name": "stderr"
        }
      ]
    },
    {
      "cell_type": "code",
      "metadata": {
        "id": "63m-PRDFaERK",
        "colab": {
          "base_uri": "https://localhost:8080/"
        },
        "outputId": "6953c38f-e110-4863-bb5b-b34704ed12ae"
      },
      "source": [
        "data_train.shape, data_test.shape"
      ],
      "execution_count": 17,
      "outputs": [
        {
          "output_type": "execute_result",
          "data": {
            "text/plain": [
              "((8474661, 17), (4833292, 16))"
            ]
          },
          "metadata": {
            "tags": []
          },
          "execution_count": 17
        }
      ]
    },
    {
      "cell_type": "code",
      "metadata": {
        "id": "nhs0Xto0aG3R"
      },
      "source": [
        "data_train.to_csv(\"data_train.csv\")\n",
        "data_test.to_csv(\"data_test.csv\")"
      ],
      "execution_count": 18,
      "outputs": []
    },
    {
      "cell_type": "code",
      "metadata": {
        "id": "TmyWnz2A8w1Y"
      },
      "source": [
        "# Restart runtime\n",
        "import numpy as np\n",
        "import pandas as pd\n",
        "import zipfile\n",
        "import gc\n",
        "gc.enable()"
      ],
      "execution_count": 1,
      "outputs": []
    },
    {
      "cell_type": "code",
      "metadata": {
        "id": "mbDwaNc19ow6"
      },
      "source": [
        "data_train=pd.read_csv(\"data_train.csv\")\n",
        "data_test=pd.read_csv(\"data_test.csv\")"
      ],
      "execution_count": 2,
      "outputs": []
    },
    {
      "cell_type": "code",
      "metadata": {
        "colab": {
          "base_uri": "https://localhost:8080/"
        },
        "id": "1HASg_se93nK",
        "outputId": "25db365e-08a3-46c3-90b1-30dcc0fc7c3d"
      },
      "source": [
        "from google.colab import drive\n",
        "drive.mount('/content/drive')"
      ],
      "execution_count": 3,
      "outputs": [
        {
          "output_type": "stream",
          "text": [
            "Drive already mounted at /content/drive; to attempt to forcibly remount, call drive.mount(\"/content/drive\", force_remount=True).\n"
          ],
          "name": "stdout"
        }
      ]
    },
    {
      "cell_type": "code",
      "metadata": {
        "id": "2vaynTLl-APh"
      },
      "source": [
        "products = 'products'\n",
        "path=\"/content/drive/MyDrive/Data_btp2/\"\n",
        "products = zipfile.ZipFile(path+products+\".zip\",\"r\")\n",
        "products = pd.read_csv(products.open('products.csv'), usecols=['product_id', 'aisle_id', 'department_id'])"
      ],
      "execution_count": 4,
      "outputs": []
    },
    {
      "cell_type": "code",
      "metadata": {
        "id": "tPW3BxXt-P5C"
      },
      "source": [
        "data_train = data_train.merge(products, on='product_id', how='left')\n",
        "data_test = data_test.merge(products, on='product_id', how='left')"
      ],
      "execution_count": 5,
      "outputs": []
    },
    {
      "cell_type": "code",
      "metadata": {
        "id": "adQhitHw-Xcj"
      },
      "source": [
        "data_train = data_train.set_index(['user_id', 'product_id'])\n",
        "data_test = data_test.set_index(['user_id', 'product_id'])"
      ],
      "execution_count": 6,
      "outputs": []
    },
    {
      "cell_type": "code",
      "metadata": {
        "id": "BECmINsL-aCr"
      },
      "source": [
        "columns_mean = ['aisle_id', 'department_id']\n",
        "for col in columns_mean:\n",
        "        mean = data_train.groupby(col).reordered.mean()\n",
        "        data_train[col] = data_train[col].map(mean)\n",
        "        data_test[col] = data_test[col].map(mean)"
      ],
      "execution_count": 7,
      "outputs": []
    },
    {
      "cell_type": "code",
      "metadata": {
        "id": "8rBuI09F-cpN"
      },
      "source": [
        "data_train.to_pickle(\"/content/drive/MyDrive/Data_btp2/data_train.zip\")\n",
        "data_test.to_pickle(\"/content/drive/MyDrive/Data_btp2/data_test.zip\")"
      ],
      "execution_count": 11,
      "outputs": []
    },
    {
      "cell_type": "code",
      "metadata": {
        "colab": {
          "base_uri": "https://localhost:8080/"
        },
        "id": "Vish5anv-e78",
        "outputId": "07ef02cc-7cd3-4259-da16-1fbbfa5651db"
      },
      "source": [
        "data_train.info()"
      ],
      "execution_count": 12,
      "outputs": [
        {
          "output_type": "stream",
          "text": [
            "<class 'pandas.core.frame.DataFrame'>\n",
            "MultiIndex: 8474661 entries, (1, 196) to (206209, 48742)\n",
            "Data columns (total 18 columns):\n",
            " #   Column                       Dtype  \n",
            "---  ------                       -----  \n",
            " 0   Unnamed: 0                   int64  \n",
            " 1   uxp_times_bought             int64  \n",
            " 2   uxp_reorder_ratio            float64\n",
            " 3   uxp_last_five                float64\n",
            " 4   uxp_ratio_last_five          float64\n",
            " 5   u_num_of_orders              int64  \n",
            " 6   u_avg_prd                    float64\n",
            " 7   dow_u_most_orders            int64  \n",
            " 8   hod_u_most_orders            int64  \n",
            " 9   u_reorder_ratio              float64\n",
            " 10  average_days_between_orders  float64\n",
            " 11  u_total_items_bought         int64  \n",
            " 12  p_num_of_times               int64  \n",
            " 13  p_reorder_ratio              float64\n",
            " 14  p_avg_cart_position          float64\n",
            " 15  reordered                    float64\n",
            " 16  aisle_id                     float64\n",
            " 17  department_id                float64\n",
            "dtypes: float64(11), int64(7)\n",
            "memory usage: 1.2 GB\n"
          ],
          "name": "stdout"
        }
      ]
    },
    {
      "cell_type": "code",
      "metadata": {
        "colab": {
          "base_uri": "https://localhost:8080/"
        },
        "id": "qK7WXd3z-pL8",
        "outputId": "8a91cc2e-e518-4e1b-95f0-bdcc3b64d2da"
      },
      "source": [
        "data_test.info()"
      ],
      "execution_count": 13,
      "outputs": [
        {
          "output_type": "stream",
          "text": [
            "<class 'pandas.core.frame.DataFrame'>\n",
            "MultiIndex: 4833292 entries, (3, 248) to (206208, 49621)\n",
            "Data columns (total 17 columns):\n",
            " #   Column                       Dtype  \n",
            "---  ------                       -----  \n",
            " 0   Unnamed: 0                   int64  \n",
            " 1   uxp_times_bought             int64  \n",
            " 2   uxp_reorder_ratio            float64\n",
            " 3   uxp_last_five                float64\n",
            " 4   uxp_ratio_last_five          float64\n",
            " 5   u_num_of_orders              int64  \n",
            " 6   u_avg_prd                    float64\n",
            " 7   dow_u_most_orders            int64  \n",
            " 8   hod_u_most_orders            int64  \n",
            " 9   u_reorder_ratio              float64\n",
            " 10  average_days_between_orders  float64\n",
            " 11  u_total_items_bought         int64  \n",
            " 12  p_num_of_times               int64  \n",
            " 13  p_reorder_ratio              float64\n",
            " 14  p_avg_cart_position          float64\n",
            " 15  aisle_id                     float64\n",
            " 16  department_id                float64\n",
            "dtypes: float64(10), int64(7)\n",
            "memory usage: 668.4 MB\n"
          ],
          "name": "stdout"
        }
      ]
    },
    {
      "cell_type": "code",
      "metadata": {
        "id": "dgL6HVwz-qe-"
      },
      "source": [
        ""
      ],
      "execution_count": null,
      "outputs": []
    }
  ]
}