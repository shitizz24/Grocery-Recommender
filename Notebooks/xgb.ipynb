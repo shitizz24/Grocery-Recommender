{
  "nbformat": 4,
  "nbformat_minor": 0,
  "metadata": {
    "colab": {
      "name": "xgb.ipynb",
      "provenance": []
    },
    "kernelspec": {
      "name": "python3",
      "display_name": "Python 3"
    }
  },
  "cells": [
    {
      "cell_type": "code",
      "metadata": {
        "id": "IcbDgC1y7c5N"
      },
      "source": [
        "import numpy as np\n",
        "import pandas as pd\n",
        "import zipfile\n",
        "import gc\n",
        "gc.enable()"
      ],
      "execution_count": 1,
      "outputs": []
    },
    {
      "cell_type": "code",
      "metadata": {
        "colab": {
          "base_uri": "https://localhost:8080/"
        },
        "id": "0JJB_DUA7dyF",
        "outputId": "d030c5e0-9704-405c-cf82-129438aa8990"
      },
      "source": [
        "from google.colab import drive\n",
        "drive.mount('/content/drive')"
      ],
      "execution_count": 2,
      "outputs": [
        {
          "output_type": "stream",
          "text": [
            "Mounted at /content/drive\n"
          ],
          "name": "stdout"
        }
      ]
    },
    {
      "cell_type": "code",
      "metadata": {
        "id": "yCH_UC3G7gW4"
      },
      "source": [
        "path=\"/content/drive/MyDrive/Data_btp2/\"\n",
        "train=zipfile.ZipFile(path+\"data_train\"+\".zip\",\"r\")\n",
        "test=zipfile.ZipFile(path+\"data_test\"+\".zip\",\"r\")"
      ],
      "execution_count": 3,
      "outputs": []
    },
    {
      "cell_type": "code",
      "metadata": {
        "id": "AgugoMOc71KB"
      },
      "source": [
        "data_train = pd.read_csv(train.open('data_train.csv'))\n",
        "data_test = pd.read_csv(test.open('data_test.csv'))\n",
        "\n"
      ],
      "execution_count": 4,
      "outputs": []
    },
    {
      "cell_type": "code",
      "metadata": {
        "id": "lpIdDuef8CfC",
        "colab": {
          "base_uri": "https://localhost:8080/"
        },
        "outputId": "a87162e3-e1f8-44a4-ceec-05e107b31e0a"
      },
      "source": [
        "data_test.info()"
      ],
      "execution_count": 5,
      "outputs": [
        {
          "output_type": "stream",
          "text": [
            "<class 'pandas.core.frame.DataFrame'>\n",
            "RangeIndex: 4833292 entries, 0 to 4833291\n",
            "Data columns (total 18 columns):\n",
            " #   Column                       Dtype  \n",
            "---  ------                       -----  \n",
            " 0   user_id                      int64  \n",
            " 1   product_id                   int64  \n",
            " 2   uxp_times_bought             int64  \n",
            " 3   uxp_reorder_ratio            float64\n",
            " 4   uxp_last_five                float64\n",
            " 5   uxp_ratio_last_five          float64\n",
            " 6   u_num_of_orders              int64  \n",
            " 7   u_avg_prd                    float64\n",
            " 8   dow_u_most_orders            int64  \n",
            " 9   hod_u_most_orders            int64  \n",
            " 10  u_reorder_ratio              float64\n",
            " 11  average_days_between_orders  float64\n",
            " 12  u_total_items_bought         int64  \n",
            " 13  p_num_of_times               int64  \n",
            " 14  p_reorder_ratio              float64\n",
            " 15  p_avg_cart_position          float64\n",
            " 16  aisle_id                     float64\n",
            " 17  department_id                float64\n",
            "dtypes: float64(10), int64(8)\n",
            "memory usage: 663.8 MB\n"
          ],
          "name": "stdout"
        }
      ]
    },
    {
      "cell_type": "code",
      "metadata": {
        "colab": {
          "base_uri": "https://localhost:8080/",
          "height": 224
        },
        "id": "blOoOwKTLmO5",
        "outputId": "751f3729-8500-4e4c-a74a-8a9d945eefde"
      },
      "source": [
        "data_test.head()"
      ],
      "execution_count": 6,
      "outputs": [
        {
          "output_type": "execute_result",
          "data": {
            "text/html": [
              "<div>\n",
              "<style scoped>\n",
              "    .dataframe tbody tr th:only-of-type {\n",
              "        vertical-align: middle;\n",
              "    }\n",
              "\n",
              "    .dataframe tbody tr th {\n",
              "        vertical-align: top;\n",
              "    }\n",
              "\n",
              "    .dataframe thead th {\n",
              "        text-align: right;\n",
              "    }\n",
              "</style>\n",
              "<table border=\"1\" class=\"dataframe\">\n",
              "  <thead>\n",
              "    <tr style=\"text-align: right;\">\n",
              "      <th></th>\n",
              "      <th>user_id</th>\n",
              "      <th>product_id</th>\n",
              "      <th>uxp_times_bought</th>\n",
              "      <th>uxp_reorder_ratio</th>\n",
              "      <th>uxp_last_five</th>\n",
              "      <th>uxp_ratio_last_five</th>\n",
              "      <th>u_num_of_orders</th>\n",
              "      <th>u_avg_prd</th>\n",
              "      <th>dow_u_most_orders</th>\n",
              "      <th>hod_u_most_orders</th>\n",
              "      <th>u_reorder_ratio</th>\n",
              "      <th>average_days_between_orders</th>\n",
              "      <th>u_total_items_bought</th>\n",
              "      <th>p_num_of_times</th>\n",
              "      <th>p_reorder_ratio</th>\n",
              "      <th>p_avg_cart_position</th>\n",
              "      <th>aisle_id</th>\n",
              "      <th>department_id</th>\n",
              "    </tr>\n",
              "  </thead>\n",
              "  <tbody>\n",
              "    <tr>\n",
              "      <th>0</th>\n",
              "      <td>3</td>\n",
              "      <td>248</td>\n",
              "      <td>1</td>\n",
              "      <td>0.090909</td>\n",
              "      <td>0.0</td>\n",
              "      <td>0.0</td>\n",
              "      <td>12</td>\n",
              "      <td>7.333333</td>\n",
              "      <td>0</td>\n",
              "      <td>16</td>\n",
              "      <td>0.625</td>\n",
              "      <td>13.590909</td>\n",
              "      <td>88</td>\n",
              "      <td>6371</td>\n",
              "      <td>0.400251</td>\n",
              "      <td>10.620782</td>\n",
              "      <td>0.070016</td>\n",
              "      <td>0.088504</td>\n",
              "    </tr>\n",
              "    <tr>\n",
              "      <th>1</th>\n",
              "      <td>3</td>\n",
              "      <td>1005</td>\n",
              "      <td>1</td>\n",
              "      <td>0.333333</td>\n",
              "      <td>1.0</td>\n",
              "      <td>0.2</td>\n",
              "      <td>12</td>\n",
              "      <td>7.333333</td>\n",
              "      <td>0</td>\n",
              "      <td>16</td>\n",
              "      <td>0.625</td>\n",
              "      <td>13.590909</td>\n",
              "      <td>88</td>\n",
              "      <td>463</td>\n",
              "      <td>0.440605</td>\n",
              "      <td>9.498920</td>\n",
              "      <td>0.066098</td>\n",
              "      <td>0.126562</td>\n",
              "    </tr>\n",
              "    <tr>\n",
              "      <th>2</th>\n",
              "      <td>3</td>\n",
              "      <td>1819</td>\n",
              "      <td>3</td>\n",
              "      <td>0.333333</td>\n",
              "      <td>0.0</td>\n",
              "      <td>0.0</td>\n",
              "      <td>12</td>\n",
              "      <td>7.333333</td>\n",
              "      <td>0</td>\n",
              "      <td>16</td>\n",
              "      <td>0.625</td>\n",
              "      <td>13.590909</td>\n",
              "      <td>88</td>\n",
              "      <td>2424</td>\n",
              "      <td>0.492162</td>\n",
              "      <td>9.287541</td>\n",
              "      <td>0.063782</td>\n",
              "      <td>0.037791</td>\n",
              "    </tr>\n",
              "    <tr>\n",
              "      <th>3</th>\n",
              "      <td>3</td>\n",
              "      <td>7503</td>\n",
              "      <td>1</td>\n",
              "      <td>0.100000</td>\n",
              "      <td>0.0</td>\n",
              "      <td>0.0</td>\n",
              "      <td>12</td>\n",
              "      <td>7.333333</td>\n",
              "      <td>0</td>\n",
              "      <td>16</td>\n",
              "      <td>0.625</td>\n",
              "      <td>13.590909</td>\n",
              "      <td>88</td>\n",
              "      <td>12474</td>\n",
              "      <td>0.553551</td>\n",
              "      <td>9.547379</td>\n",
              "      <td>0.070016</td>\n",
              "      <td>0.088504</td>\n",
              "    </tr>\n",
              "    <tr>\n",
              "      <th>4</th>\n",
              "      <td>3</td>\n",
              "      <td>8021</td>\n",
              "      <td>1</td>\n",
              "      <td>0.090909</td>\n",
              "      <td>0.0</td>\n",
              "      <td>0.0</td>\n",
              "      <td>12</td>\n",
              "      <td>7.333333</td>\n",
              "      <td>0</td>\n",
              "      <td>16</td>\n",
              "      <td>0.625</td>\n",
              "      <td>13.590909</td>\n",
              "      <td>88</td>\n",
              "      <td>27864</td>\n",
              "      <td>0.591157</td>\n",
              "      <td>8.822854</td>\n",
              "      <td>0.095193</td>\n",
              "      <td>0.054678</td>\n",
              "    </tr>\n",
              "  </tbody>\n",
              "</table>\n",
              "</div>"
            ],
            "text/plain": [
              "   user_id  product_id  ...  aisle_id  department_id\n",
              "0        3         248  ...  0.070016       0.088504\n",
              "1        3        1005  ...  0.066098       0.126562\n",
              "2        3        1819  ...  0.063782       0.037791\n",
              "3        3        7503  ...  0.070016       0.088504\n",
              "4        3        8021  ...  0.095193       0.054678\n",
              "\n",
              "[5 rows x 18 columns]"
            ]
          },
          "metadata": {
            "tags": []
          },
          "execution_count": 6
        }
      ]
    },
    {
      "cell_type": "code",
      "metadata": {
        "colab": {
          "base_uri": "https://localhost:8080/"
        },
        "id": "B9qIgrxlLwcs",
        "outputId": "de6bf0f7-3d2e-439c-c72a-38d3e4018545"
      },
      "source": [
        "data_train.info()"
      ],
      "execution_count": 7,
      "outputs": [
        {
          "output_type": "stream",
          "text": [
            "<class 'pandas.core.frame.DataFrame'>\n",
            "RangeIndex: 8474661 entries, 0 to 8474660\n",
            "Data columns (total 19 columns):\n",
            " #   Column                       Dtype  \n",
            "---  ------                       -----  \n",
            " 0   user_id                      int64  \n",
            " 1   product_id                   int64  \n",
            " 2   uxp_times_bought             int64  \n",
            " 3   uxp_reorder_ratio            float64\n",
            " 4   uxp_last_five                float64\n",
            " 5   uxp_ratio_last_five          float64\n",
            " 6   u_num_of_orders              int64  \n",
            " 7   u_avg_prd                    float64\n",
            " 8   dow_u_most_orders            int64  \n",
            " 9   hod_u_most_orders            int64  \n",
            " 10  u_reorder_ratio              float64\n",
            " 11  average_days_between_orders  float64\n",
            " 12  u_total_items_bought         int64  \n",
            " 13  p_num_of_times               int64  \n",
            " 14  p_reorder_ratio              float64\n",
            " 15  p_avg_cart_position          float64\n",
            " 16  reordered                    float64\n",
            " 17  aisle_id                     float64\n",
            " 18  department_id                float64\n",
            "dtypes: float64(11), int64(8)\n",
            "memory usage: 1.2 GB\n"
          ],
          "name": "stdout"
        }
      ]
    },
    {
      "cell_type": "code",
      "metadata": {
        "colab": {
          "base_uri": "https://localhost:8080/"
        },
        "id": "50c__-0dkjLt",
        "outputId": "f6844ba3-08ae-4f4d-b51f-ce2fa0f1c3ee"
      },
      "source": [
        "pip install scikit-plot"
      ],
      "execution_count": 13,
      "outputs": [
        {
          "output_type": "stream",
          "text": [
            "Collecting scikit-plot\n",
            "  Downloading https://files.pythonhosted.org/packages/7c/47/32520e259340c140a4ad27c1b97050dd3254fdc517b1d59974d47037510e/scikit_plot-0.3.7-py3-none-any.whl\n",
            "Requirement already satisfied: scipy>=0.9 in /usr/local/lib/python3.6/dist-packages (from scikit-plot) (1.4.1)\n",
            "Requirement already satisfied: joblib>=0.10 in /usr/local/lib/python3.6/dist-packages (from scikit-plot) (1.0.0)\n",
            "Requirement already satisfied: matplotlib>=1.4.0 in /usr/local/lib/python3.6/dist-packages (from scikit-plot) (3.2.2)\n",
            "Requirement already satisfied: scikit-learn>=0.18 in /usr/local/lib/python3.6/dist-packages (from scikit-plot) (0.22.2.post1)\n",
            "Requirement already satisfied: numpy>=1.13.3 in /usr/local/lib/python3.6/dist-packages (from scipy>=0.9->scikit-plot) (1.19.5)\n",
            "Requirement already satisfied: python-dateutil>=2.1 in /usr/local/lib/python3.6/dist-packages (from matplotlib>=1.4.0->scikit-plot) (2.8.1)\n",
            "Requirement already satisfied: pyparsing!=2.0.4,!=2.1.2,!=2.1.6,>=2.0.1 in /usr/local/lib/python3.6/dist-packages (from matplotlib>=1.4.0->scikit-plot) (2.4.7)\n",
            "Requirement already satisfied: cycler>=0.10 in /usr/local/lib/python3.6/dist-packages (from matplotlib>=1.4.0->scikit-plot) (0.10.0)\n",
            "Requirement already satisfied: kiwisolver>=1.0.1 in /usr/local/lib/python3.6/dist-packages (from matplotlib>=1.4.0->scikit-plot) (1.3.1)\n",
            "Requirement already satisfied: six>=1.5 in /usr/local/lib/python3.6/dist-packages (from python-dateutil>=2.1->matplotlib>=1.4.0->scikit-plot) (1.15.0)\n",
            "Installing collected packages: scikit-plot\n",
            "Successfully installed scikit-plot-0.3.7\n"
          ],
          "name": "stdout"
        }
      ]
    },
    {
      "cell_type": "code",
      "metadata": {
        "id": "0a78sXlIMzBi"
      },
      "source": [
        "from sklearn.model_selection import train_test_split, GridSearchCV, KFold\n",
        "from sklearn.metrics import f1_score, classification_report\n",
        "from scikitplot.metrics import plot_confusion_matrix\n",
        "from scikitplot.classifiers import plot_feature_importances"
      ],
      "execution_count": 14,
      "outputs": []
    },
    {
      "cell_type": "code",
      "metadata": {
        "id": "mPw1tdGHkE41"
      },
      "source": [
        "import xgboost as xgb\n",
        "import lightgbm as lgb"
      ],
      "execution_count": 15,
      "outputs": []
    },
    {
      "cell_type": "code",
      "metadata": {
        "id": "5bMML0hukHIZ"
      },
      "source": [
        "X = data_train.drop(['reordered', 'uxp_ratio_last_five'], axis=1)\n",
        "y = data_train.reordered"
      ],
      "execution_count": 16,
      "outputs": []
    },
    {
      "cell_type": "code",
      "metadata": {
        "id": "ycVrRKvTkKJo"
      },
      "source": [
        "X_train, X_test, y_train, y_test = train_test_split(X, y, test_size=0.3, random_state=10)"
      ],
      "execution_count": 17,
      "outputs": []
    },
    {
      "cell_type": "code",
      "metadata": {
        "colab": {
          "base_uri": "https://localhost:8080/"
        },
        "id": "KT7WwHcyk9KX",
        "outputId": "ebb42e63-0cd0-4496-b178-5670d0717666"
      },
      "source": [
        "del [data_train]\n",
        "gc.collect()"
      ],
      "execution_count": 18,
      "outputs": [
        {
          "output_type": "execute_result",
          "data": {
            "text/plain": [
              "86"
            ]
          },
          "metadata": {
            "tags": []
          },
          "execution_count": 18
        }
      ]
    },
    {
      "cell_type": "code",
      "metadata": {
        "id": "E2XJlmjPk-5P"
      },
      "source": [
        "parameters = {\n",
        "    'eavl_metric' : 'logloss',\n",
        "    'max_depth' : 5,\n",
        "    'colsample_bytree' : 0.4,\n",
        "    'subsample' : 0.8\n",
        "}"
      ],
      "execution_count": 19,
      "outputs": []
    },
    {
      "cell_type": "code",
      "metadata": {
        "colab": {
          "base_uri": "https://localhost:8080/"
        },
        "id": "SQSPWKVQlBDb",
        "outputId": "15f126ca-0589-436a-c9f6-6d2db585ec4b"
      },
      "source": [
        "xgb = xgb.XGBClassifier(objective='binary:logistic', parameters=parameters, num_boost_round=10)\n",
        "\n",
        "#fitting the model.\n",
        "xgb.fit(X_train, y_train)"
      ],
      "execution_count": 20,
      "outputs": [
        {
          "output_type": "stream",
          "text": [
            "[16:16:30] WARNING: /workspace/src/learner.cc:686: Tree method is automatically selected to be 'approx' for faster speed. To use old behavior (exact greedy algorithm on single machine), set tree_method to 'exact'.\n"
          ],
          "name": "stdout"
        },
        {
          "output_type": "execute_result",
          "data": {
            "text/plain": [
              "XGBClassifier(base_score=0.5, booster='gbtree', colsample_bylevel=1,\n",
              "              colsample_bynode=1, colsample_bytree=1, gamma=0,\n",
              "              learning_rate=0.1, max_delta_step=0, max_depth=3,\n",
              "              min_child_weight=1, missing=None, n_estimators=100, n_jobs=1,\n",
              "              nthread=None, num_boost_round=10, objective='binary:logistic',\n",
              "              parameters={'colsample_bytree': 0.4, 'eavl_metric': 'logloss',\n",
              "                          'max_depth': 5, 'subsample': 0.8},\n",
              "              random_state=0, reg_alpha=0, reg_lambda=1, scale_pos_weight=1,\n",
              "              seed=None, silent=None, subsample=1, verbosity=1)"
            ]
          },
          "metadata": {
            "tags": []
          },
          "execution_count": 20
        }
      ]
    },
    {
      "cell_type": "code",
      "metadata": {
        "id": "eXVXuL_1lGvA"
      },
      "source": [
        "y_pred = (xgb.predict_proba(X_test)[:, 1] >= 0.21).astype('int')"
      ],
      "execution_count": 21,
      "outputs": []
    },
    {
      "cell_type": "code",
      "metadata": {
        "colab": {
          "base_uri": "https://localhost:8080/",
          "height": 482
        },
        "id": "sDlQ0uWflNns",
        "outputId": "fb1c597b-a386-4863-9cf5-e70148cd2d8a"
      },
      "source": [
        "print('F1 Score: {}'.format(f1_score(y_pred, y_test)))\n",
        "print(classification_report(y_pred, y_test))\n",
        "plot_confusion_matrix(y_pred, y_test)"
      ],
      "execution_count": 22,
      "outputs": [
        {
          "output_type": "stream",
          "text": [
            "F1 Score: 0.4305825242718446\n",
            "              precision    recall  f1-score   support\n",
            "\n",
            "           0       0.91      0.94      0.93   2222006\n",
            "           1       0.49      0.38      0.43    320393\n",
            "\n",
            "    accuracy                           0.87   2542399\n",
            "   macro avg       0.70      0.66      0.68   2542399\n",
            "weighted avg       0.86      0.87      0.87   2542399\n",
            "\n"
          ],
          "name": "stdout"
        },
        {
          "output_type": "execute_result",
          "data": {
            "text/plain": [
              "<matplotlib.axes._subplots.AxesSubplot at 0x7f8e679a3780>"
            ]
          },
          "metadata": {
            "tags": []
          },
          "execution_count": 22
        },
        {
          "output_type": "display_data",
          "data": {
            "image/png": "[encoded data removed]",
            "text/plain": [
              "<Figure size 432x288 with 2 Axes>"
            ]
          },
          "metadata": {
            "tags": [],
            "needs_background": "light"
          }
        }
      ]
    },
    {
      "cell_type": "code",
      "metadata": {
        "id": "uBnUuYeblPto"
      },
      "source": [
        ""
      ],
      "execution_count": null,
      "outputs": []
    }
  ]
}