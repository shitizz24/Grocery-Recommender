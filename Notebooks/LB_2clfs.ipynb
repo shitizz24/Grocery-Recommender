{
 "cells": [
  {
   "cell_type": "code",
   "execution_count": 2,
   "metadata": {},
   "outputs": [
    {
     "name": "stdout",
     "output_type": "stream",
     "text": [
      "Collecting lightgbm\n",
      "  Downloading lightgbm-3.2.0-py3-none-win_amd64.whl (1.0 MB)\n",
      "Requirement already satisfied: scikit-learn!=0.22.0 in c:\\programdata\\anaconda3\\lib\\site-packages (from lightgbm) (0.23.2)\n",
      "Requirement already satisfied: scipy in c:\\programdata\\anaconda3\\lib\\site-packages (from lightgbm) (1.5.2)\n",
      "Requirement already satisfied: wheel in c:\\programdata\\anaconda3\\lib\\site-packages (from lightgbm) (0.35.1)\n",
      "Requirement already satisfied: numpy in c:\\programdata\\anaconda3\\lib\\site-packages (from lightgbm) (1.19.2)\n",
      "Requirement already satisfied: joblib>=0.11 in c:\\programdata\\anaconda3\\lib\\site-packages (from scikit-learn!=0.22.0->lightgbm) (0.17.0)\n",
      "Requirement already satisfied: threadpoolctl>=2.0.0 in c:\\programdata\\anaconda3\\lib\\site-packages (from scikit-learn!=0.22.0->lightgbm) (2.1.0)\n",
      "Installing collected packages: lightgbm\n",
      "Successfully installed lightgbm-3.2.0\n"
     ]
    }
   ],
   "source": [
    "!pip install lightgbm"
   ]
  },
  {
   "cell_type": "code",
   "execution_count": 3,
   "metadata": {},
   "outputs": [
    {
     "name": "stderr",
     "output_type": "stream",
     "text": [
      "Matplotlib is building the font cache; this may take a moment.\n"
     ]
    }
   ],
   "source": [
    "import pandas as pd\n",
    "import numpy as np\n",
    "import gc\n",
    "import lightgbm as lgb\n",
    "from sklearn.model_selection import train_test_split\n",
    "import matplotlib.pyplot as plt"
   ]
  },
  {
   "cell_type": "code",
   "execution_count": 4,
   "metadata": {},
   "outputs": [],
   "source": [
    "myfolder = '../Data/'"
   ]
  },
  {
   "cell_type": "code",
   "execution_count": 5,
   "metadata": {},
   "outputs": [
    {
     "name": "stdout",
     "output_type": "stream",
     "text": [
      "done loading\n"
     ]
    }
   ],
   "source": [
    "prior = pd.read_csv(myfolder + 'order_products__prior.csv', dtype={'order_id': np.uint32,\n",
    "           'product_id': np.uint16, 'reordered': np.uint8, 'add_to_cart_order': np.uint8})\n",
    "\n",
    "train_orders = pd.read_csv(myfolder + 'order_products__train.csv', dtype={'order_id': np.uint32,\n",
    "           'product_id': np.uint16, 'reordered': np.int8, 'add_to_cart_order': np.uint8 })\n",
    "\n",
    "orders = pd.read_csv(myfolder + 'orders.csv', dtype={'order_hour_of_day': np.uint8,\n",
    "           'order_number': np.uint8, 'order_id': np.uint32, 'user_id': np.uint32,\n",
    "           'order_dow': np.uint8, 'days_since_prior_order': np.float16})\n",
    "\n",
    "orders.eval_set = orders.eval_set.replace({'prior': 0, 'train': 1, 'test':2}).astype(np.uint8)\n",
    "orders.days_since_prior_order = orders.days_since_prior_order.fillna(30).astype(np.uint8)\n",
    "\n",
    "products = pd.read_csv(myfolder + 'products.csv', dtype={'product_id': np.uint16,\n",
    "            'aisle_id': np.uint8, 'department_id': np.uint8},\n",
    "             usecols=['product_id', 'aisle_id', 'department_id'])\n",
    "\n",
    "print('done loading')"
   ]
  },
  {
   "cell_type": "code",
   "execution_count": 6,
   "metadata": {},
   "outputs": [
    {
     "name": "stdout",
     "output_type": "stream",
     "text": [
      "merge prior and orders and keep train separate ...\n"
     ]
    },
    {
     "data": {
      "text/plain": [
       "0"
      ]
     },
     "execution_count": 6,
     "metadata": {},
     "output_type": "execute_result"
    }
   ],
   "source": [
    "print('merge prior and orders and keep train separate ...')\n",
    "\n",
    "orders_products = orders.merge(prior, how = 'inner', on = 'order_id')\n",
    "train_orders = train_orders.merge(orders[['user_id','order_id']], left_on = 'order_id', right_on = 'order_id', how = 'inner')\n",
    "\n",
    "del prior\n",
    "gc.collect()"
   ]
  },
  {
   "cell_type": "code",
   "execution_count": 7,
   "metadata": {},
   "outputs": [
    {
     "name": "stdout",
     "output_type": "stream",
     "text": [
      "Creating features I ...\n"
     ]
    },
    {
     "data": {
      "text/plain": [
       "0"
      ]
     },
     "execution_count": 7,
     "metadata": {},
     "output_type": "execute_result"
    }
   ],
   "source": [
    "print('Creating features I ...')\n",
    "\n",
    "# sort orders and products to get the rank or the reorder frequency\n",
    "prdss = orders_products.sort_values(['user_id', 'order_number', 'product_id'], ascending=True)\n",
    "prdss['product_time'] = prdss.groupby(['user_id', 'product_id']).cumcount()+1\n",
    "\n",
    "# getting products ordered first and second times to calculate probability later\n",
    "sub1 = prdss[prdss['product_time'] == 1].groupby('product_id').size().to_frame('prod_first_orders')\n",
    "sub2 = prdss[prdss['product_time'] == 2].groupby('product_id').size().to_frame('prod_second_orders')\n",
    "sub1['prod_orders'] = prdss.groupby('product_id')['product_id'].size()\n",
    "sub1['prod_reorders'] = prdss.groupby('product_id')['reordered'].sum()\n",
    "sub2 = sub2.reset_index().merge(sub1.reset_index())\n",
    "sub2['prod_reorder_probability'] = sub2['prod_second_orders']/sub2['prod_first_orders']\n",
    "sub2['prod_reorder_ratio'] = sub2['prod_reorders']/sub2['prod_orders']\n",
    "prd = sub2[['product_id', 'prod_orders','prod_reorder_probability', 'prod_reorder_ratio']]\n",
    "\n",
    "del sub1, sub2, prdss\n",
    "gc.collect()"
   ]
  },
  {
   "cell_type": "code",
   "execution_count": 8,
   "metadata": {},
   "outputs": [
    {
     "name": "stdout",
     "output_type": "stream",
     "text": [
      "Creating features II ...\n"
     ]
    },
    {
     "data": {
      "text/plain": [
       "0"
      ]
     },
     "execution_count": 8,
     "metadata": {},
     "output_type": "execute_result"
    }
   ],
   "source": [
    "print('Creating features II ...')\n",
    "\n",
    "# extracting prior information (features) by user\n",
    "users = orders[orders['eval_set'] == 0].groupby(['user_id'])['order_number'].max().to_frame('user_orders')\n",
    "users['user_period'] = orders[orders['eval_set'] == 0].groupby(['user_id'])['days_since_prior_order'].sum()\n",
    "users['user_mean_days_since_prior'] = orders[orders['eval_set'] == 0].groupby(['user_id'])['days_since_prior_order'].mean()\n",
    "\n",
    "# merging features about users and orders into one dataset\n",
    "us = orders_products.groupby('user_id').size().to_frame('user_total_products')\n",
    "us['eq_1'] = orders_products[orders_products['reordered'] == 1].groupby('user_id')['product_id'].size()\n",
    "us['gt_1'] = orders_products[orders_products['order_number'] > 1].groupby('user_id')['product_id'].size()\n",
    "us['user_reorder_ratio'] = us['eq_1'] / us['gt_1']\n",
    "us.drop(['eq_1', 'gt_1'], axis = 1, inplace = True)\n",
    "us['user_distinct_products'] = orders_products.groupby(['user_id'])['product_id'].nunique()\n",
    "\n",
    "# the average basket size of the user\n",
    "users = users.reset_index().merge(us.reset_index())\n",
    "users['user_average_basket'] = users['user_total_products'] / users['user_orders']\n",
    "\n",
    "us = orders[orders['eval_set'] != 0]\n",
    "us = us[['user_id', 'order_id', 'eval_set', 'days_since_prior_order']]\n",
    "users = users.merge(us)\n",
    "\n",
    "del us\n",
    "gc.collect()"
   ]
  },
  {
   "cell_type": "code",
   "execution_count": 9,
   "metadata": {},
   "outputs": [
    {
     "name": "stdout",
     "output_type": "stream",
     "text": [
      "Finalizing features and the main data file  ...\n"
     ]
    },
    {
     "data": {
      "text/plain": [
       "0"
      ]
     },
     "execution_count": 9,
     "metadata": {},
     "output_type": "execute_result"
    }
   ],
   "source": [
    "print('Finalizing features and the main data file  ...')\n",
    "# merging orders and products and grouping by user and product and calculating features for the user/product combination\n",
    "data = orders_products.groupby(['user_id', 'product_id']).size().to_frame('up_orders')\n",
    "data['up_first_order'] = orders_products.groupby(['user_id', 'product_id'])['order_number'].min()\n",
    "data['up_last_order'] = orders_products.groupby(['user_id', 'product_id'])['order_number'].max()\n",
    "data['up_average_cart_position'] = orders_products.groupby(['user_id', 'product_id'])['add_to_cart_order'].mean()\n",
    "data = data.reset_index()\n",
    "\n",
    "#merging previous data with users\n",
    "data = data.merge(prd, on = 'product_id')\n",
    "data = data.merge(users, on = 'user_id')\n",
    "\n",
    "#user/product combination features about the particular order\n",
    "data['up_order_rate'] = data['up_orders'] / data['user_orders']\n",
    "data['up_orders_since_last_order'] = data['user_orders'] - data['up_last_order']\n",
    "data = data.merge(train_orders[['user_id', 'product_id', 'reordered']], \n",
    "                  how = 'left', on = ['user_id', 'product_id'])\n",
    "data = data.merge(products, on = 'product_id')\n",
    "\n",
    "del orders_products     #, orders, train_orders\n",
    "gc.collect()"
   ]
  },
  {
   "cell_type": "code",
   "execution_count": 10,
   "metadata": {},
   "outputs": [
    {
     "name": "stdout",
     "output_type": "stream",
     "text": [
      " Training and test data for later use in F1 optimization and training  ...\n"
     ]
    },
    {
     "data": {
      "text/plain": [
       "0"
      ]
     },
     "execution_count": 10,
     "metadata": {},
     "output_type": "execute_result"
    }
   ],
   "source": [
    "print(' Training and test data for later use in F1 optimization and training  ...')\n",
    "\n",
    "#save the actual reordered products of the train set in a list format and then delete the original frames\n",
    "train_orders = train_orders[train_orders['reordered']==1].drop('reordered',axis=1)\n",
    "orders.set_index('order_id', drop=False, inplace=True)\n",
    "train1=orders[['order_id','eval_set']].loc[orders['eval_set']==1]\n",
    "train1['actual'] = train_orders.groupby('order_id').aggregate({'product_id':lambda x: list(x)})\n",
    "train1['actual']=train1['actual'].fillna('')\n",
    "n_actual = train1['actual'].apply(lambda x: len(x)).mean()   # this is the average cart size\n",
    "\n",
    "test1=orders[['order_id','eval_set']].loc[orders['eval_set']==2]\n",
    "test1['actual']=' '\n",
    "traintest1=pd.concat([train1,test1])\n",
    "traintest1.set_index('order_id', drop=False, inplace=True)\n",
    "\n",
    "del orders, train_orders, train1, test1\n",
    "gc.collect()"
   ]
  },
  {
   "cell_type": "code",
   "execution_count": 11,
   "metadata": {},
   "outputs": [
    {
     "name": "stdout",
     "output_type": "stream",
     "text": [
      "setting dtypes for data ...\n"
     ]
    },
    {
     "data": {
      "text/plain": [
       "0"
      ]
     },
     "execution_count": 11,
     "metadata": {},
     "output_type": "execute_result"
    }
   ],
   "source": [
    "print('setting dtypes for data ...')\n",
    "\n",
    "#reduce the size by setting data types\n",
    "data = data.astype(dtype= {'user_id' : np.uint32, 'product_id'  : np.uint16,\n",
    "            'up_orders'  : np.uint8, 'up_first_order' : np.uint8, 'up_last_order' : np.uint8,\n",
    "            'up_average_cart_position' : np.uint8, 'prod_orders' : np.uint16, \n",
    "            'prod_reorder_probability' : np.float16,   \n",
    "            'prod_reorder_ratio' : np.float16, 'user_orders' : np.uint8,\n",
    "            'user_period' : np.uint8, 'user_mean_days_since_prior' : np.uint8,\n",
    "            'user_total_products' : np.uint8, 'user_reorder_ratio' : np.float16, \n",
    "            'user_distinct_products' : np.uint8, 'user_average_basket' : np.uint8,\n",
    "            'order_id'  : np.uint32, 'eval_set' : np.uint8, \n",
    "            'days_since_prior_order' : np.uint8, 'up_order_rate' : np.float16, \n",
    "            'up_orders_since_last_order':np.uint8,\n",
    "            'aisle_id': np.uint8, 'department_id': np.uint8})\n",
    "\n",
    "data['reordered'].fillna(0, inplace=True)  # replace NaN with zeros (not reordered) \n",
    "data['reordered']=data['reordered'].astype(np.uint8)\n",
    "\n",
    "gc.collect()"
   ]
  },
  {
   "cell_type": "code",
   "execution_count": 12,
   "metadata": {},
   "outputs": [
    {
     "name": "stdout",
     "output_type": "stream",
     "text": [
      "Preparing Train and Test sets ...\n"
     ]
    },
    {
     "data": {
      "text/plain": [
       "20"
      ]
     },
     "execution_count": 12,
     "metadata": {},
     "output_type": "execute_result"
    }
   ],
   "source": [
    "print('Preparing Train and Test sets ...')\n",
    "\n",
    "# filter by eval_set (train=1, test=2) and dropp the id's columns (not part of training features) \n",
    "# but keep prod_id and user_id in test\n",
    "\n",
    "train = data[data['eval_set'] == 1].drop(['eval_set', 'user_id', 'product_id', 'order_id'], axis = 1)\n",
    "test =  data[data['eval_set'] == 2].drop(['eval_set', 'user_id', 'reordered'], axis = 1)\n",
    "\n",
    "check =  data.drop(['eval_set', 'user_id', 'reordered'], axis = 1)\n",
    "\n",
    "del data\n",
    "gc.collect()"
   ]
  },
  {
   "cell_type": "code",
   "execution_count": 13,
   "metadata": {},
   "outputs": [
    {
     "name": "stdout",
     "output_type": "stream",
     "text": [
      "preparing X,y for LightGBM ...\n"
     ]
    },
    {
     "data": {
      "text/plain": [
       "20"
      ]
     },
     "execution_count": 13,
     "metadata": {},
     "output_type": "execute_result"
    }
   ],
   "source": [
    "print('preparing X,y for LightGBM ...')\n",
    "\n",
    "X_train, X_eval, y_train, y_eval = train_test_split(\n",
    "    train[train.columns.difference(['reordered'])], train['reordered'], test_size=0.1, random_state=2)\n",
    "\n",
    "del train\n",
    "gc.collect()"
   ]
  },
  {
   "cell_type": "code",
   "execution_count": 14,
   "metadata": {},
   "outputs": [
    {
     "name": "stdout",
     "output_type": "stream",
     "text": [
      "formatting and training LightGBM ...\n"
     ]
    },
    {
     "name": "stderr",
     "output_type": "stream",
     "text": [
      "C:\\ProgramData\\Anaconda3\\lib\\site-packages\\lightgbm\\engine.py:148: UserWarning: Found `num_iterations` in params. Will use it instead of argument\n",
      "  _log_warning(\"Found `{}` in params. Will use it instead of argument\".format(alias))\n"
     ]
    },
    {
     "name": "stdout",
     "output_type": "stream",
     "text": [
      "[LightGBM] [Info] Number of positive: 745484, number of negative: 6864677\n",
      "[LightGBM] [Warning] Auto-choosing col-wise multi-threading, the overhead of testing was 0.967337 seconds.\n",
      "You can set `force_col_wise=true` to remove the overhead.\n",
      "[LightGBM] [Info] Total Bins 1569\n",
      "[LightGBM] [Info] Number of data points in the train set: 7610161, number of used features: 19\n",
      "[LightGBM] [Info] [binary:BoostFromScore]: pavg=0.097959 -> initscore=-2.220111\n",
      "[LightGBM] [Info] Start training from score -2.220111\n",
      "[1]\tvalid_0's binary_logloss: 0.311859\tvalid_0's auc: 0.824706\n",
      "Training until validation scores don't improve for 10 rounds\n",
      "[2]\tvalid_0's binary_logloss: 0.305051\tvalid_0's auc: 0.825159\n",
      "[3]\tvalid_0's binary_logloss: 0.298931\tvalid_0's auc: 0.82722\n",
      "[4]\tvalid_0's binary_logloss: 0.293699\tvalid_0's auc: 0.828096\n",
      "[5]\tvalid_0's binary_logloss: 0.289304\tvalid_0's auc: 0.828411\n",
      "[6]\tvalid_0's binary_logloss: 0.285422\tvalid_0's auc: 0.828953\n",
      "[7]\tvalid_0's binary_logloss: 0.28202\tvalid_0's auc: 0.829073\n",
      "[8]\tvalid_0's binary_logloss: 0.278892\tvalid_0's auc: 0.8295\n",
      "[9]\tvalid_0's binary_logloss: 0.276157\tvalid_0's auc: 0.829679\n",
      "[10]\tvalid_0's binary_logloss: 0.273826\tvalid_0's auc: 0.829736\n",
      "[11]\tvalid_0's binary_logloss: 0.271537\tvalid_0's auc: 0.829986\n",
      "[12]\tvalid_0's binary_logloss: 0.269459\tvalid_0's auc: 0.83019\n",
      "[13]\tvalid_0's binary_logloss: 0.267567\tvalid_0's auc: 0.830351\n",
      "[14]\tvalid_0's binary_logloss: 0.265856\tvalid_0's auc: 0.830483\n",
      "[15]\tvalid_0's binary_logloss: 0.264362\tvalid_0's auc: 0.830524\n",
      "[16]\tvalid_0's binary_logloss: 0.262926\tvalid_0's auc: 0.830668\n",
      "[17]\tvalid_0's binary_logloss: 0.261639\tvalid_0's auc: 0.830797\n",
      "[18]\tvalid_0's binary_logloss: 0.26044\tvalid_0's auc: 0.830915\n",
      "[19]\tvalid_0's binary_logloss: 0.259407\tvalid_0's auc: 0.831004\n",
      "[20]\tvalid_0's binary_logloss: 0.258381\tvalid_0's auc: 0.831147\n",
      "[21]\tvalid_0's binary_logloss: 0.257486\tvalid_0's auc: 0.831179\n",
      "[22]\tvalid_0's binary_logloss: 0.256691\tvalid_0's auc: 0.831243\n",
      "[23]\tvalid_0's binary_logloss: 0.255883\tvalid_0's auc: 0.83135\n",
      "[24]\tvalid_0's binary_logloss: 0.255219\tvalid_0's auc: 0.831369\n",
      "[25]\tvalid_0's binary_logloss: 0.254526\tvalid_0's auc: 0.831474\n",
      "[26]\tvalid_0's binary_logloss: 0.253885\tvalid_0's auc: 0.831564\n",
      "[27]\tvalid_0's binary_logloss: 0.253301\tvalid_0's auc: 0.831637\n",
      "[28]\tvalid_0's binary_logloss: 0.252774\tvalid_0's auc: 0.831787\n",
      "[29]\tvalid_0's binary_logloss: 0.252312\tvalid_0's auc: 0.831846\n",
      "[30]\tvalid_0's binary_logloss: 0.251839\tvalid_0's auc: 0.83194\n",
      "[31]\tvalid_0's binary_logloss: 0.25141\tvalid_0's auc: 0.832072\n",
      "[32]\tvalid_0's binary_logloss: 0.251001\tvalid_0's auc: 0.832145\n",
      "[33]\tvalid_0's binary_logloss: 0.250618\tvalid_0's auc: 0.832226\n",
      "[34]\tvalid_0's binary_logloss: 0.250265\tvalid_0's auc: 0.832292\n",
      "[35]\tvalid_0's binary_logloss: 0.249951\tvalid_0's auc: 0.832341\n",
      "[36]\tvalid_0's binary_logloss: 0.249648\tvalid_0's auc: 0.832415\n",
      "[37]\tvalid_0's binary_logloss: 0.249382\tvalid_0's auc: 0.832451\n",
      "[38]\tvalid_0's binary_logloss: 0.249121\tvalid_0's auc: 0.83251\n",
      "[39]\tvalid_0's binary_logloss: 0.248878\tvalid_0's auc: 0.832565\n",
      "[40]\tvalid_0's binary_logloss: 0.248649\tvalid_0's auc: 0.83264\n",
      "[41]\tvalid_0's binary_logloss: 0.248458\tvalid_0's auc: 0.83269\n",
      "[42]\tvalid_0's binary_logloss: 0.248272\tvalid_0's auc: 0.832733\n",
      "[43]\tvalid_0's binary_logloss: 0.248112\tvalid_0's auc: 0.832772\n",
      "[44]\tvalid_0's binary_logloss: 0.247927\tvalid_0's auc: 0.832853\n",
      "[45]\tvalid_0's binary_logloss: 0.247759\tvalid_0's auc: 0.832923\n",
      "[46]\tvalid_0's binary_logloss: 0.247624\tvalid_0's auc: 0.832967\n",
      "[47]\tvalid_0's binary_logloss: 0.247502\tvalid_0's auc: 0.833012\n",
      "[48]\tvalid_0's binary_logloss: 0.247366\tvalid_0's auc: 0.833078\n",
      "[49]\tvalid_0's binary_logloss: 0.247238\tvalid_0's auc: 0.833134\n",
      "[50]\tvalid_0's binary_logloss: 0.247118\tvalid_0's auc: 0.833195\n",
      "[51]\tvalid_0's binary_logloss: 0.247011\tvalid_0's auc: 0.833244\n",
      "[52]\tvalid_0's binary_logloss: 0.246898\tvalid_0's auc: 0.833304\n",
      "[53]\tvalid_0's binary_logloss: 0.246799\tvalid_0's auc: 0.83336\n",
      "[54]\tvalid_0's binary_logloss: 0.246703\tvalid_0's auc: 0.833419\n",
      "[55]\tvalid_0's binary_logloss: 0.246629\tvalid_0's auc: 0.833454\n",
      "[56]\tvalid_0's binary_logloss: 0.246535\tvalid_0's auc: 0.83352\n",
      "[57]\tvalid_0's binary_logloss: 0.246447\tvalid_0's auc: 0.83358\n",
      "[58]\tvalid_0's binary_logloss: 0.246381\tvalid_0's auc: 0.833619\n",
      "[59]\tvalid_0's binary_logloss: 0.246305\tvalid_0's auc: 0.833676\n",
      "[60]\tvalid_0's binary_logloss: 0.246252\tvalid_0's auc: 0.833701\n",
      "[61]\tvalid_0's binary_logloss: 0.246182\tvalid_0's auc: 0.833763\n",
      "[62]\tvalid_0's binary_logloss: 0.246118\tvalid_0's auc: 0.833817\n",
      "[63]\tvalid_0's binary_logloss: 0.246054\tvalid_0's auc: 0.833868\n",
      "[64]\tvalid_0's binary_logloss: 0.245998\tvalid_0's auc: 0.833909\n",
      "[65]\tvalid_0's binary_logloss: 0.245951\tvalid_0's auc: 0.833948\n",
      "[66]\tvalid_0's binary_logloss: 0.245887\tvalid_0's auc: 0.834006\n",
      "[67]\tvalid_0's binary_logloss: 0.245846\tvalid_0's auc: 0.834044\n",
      "[68]\tvalid_0's binary_logloss: 0.245795\tvalid_0's auc: 0.834098\n",
      "[69]\tvalid_0's binary_logloss: 0.245747\tvalid_0's auc: 0.834146\n",
      "[70]\tvalid_0's binary_logloss: 0.245706\tvalid_0's auc: 0.834186\n",
      "[71]\tvalid_0's binary_logloss: 0.245663\tvalid_0's auc: 0.83423\n",
      "[72]\tvalid_0's binary_logloss: 0.245618\tvalid_0's auc: 0.834283\n",
      "[73]\tvalid_0's binary_logloss: 0.245563\tvalid_0's auc: 0.834343\n",
      "[74]\tvalid_0's binary_logloss: 0.245527\tvalid_0's auc: 0.834384\n",
      "[75]\tvalid_0's binary_logloss: 0.245492\tvalid_0's auc: 0.834427\n",
      "[76]\tvalid_0's binary_logloss: 0.245467\tvalid_0's auc: 0.834451\n",
      "[77]\tvalid_0's binary_logloss: 0.245433\tvalid_0's auc: 0.834491\n",
      "[78]\tvalid_0's binary_logloss: 0.245389\tvalid_0's auc: 0.834552\n",
      "[79]\tvalid_0's binary_logloss: 0.245351\tvalid_0's auc: 0.8346\n",
      "[80]\tvalid_0's binary_logloss: 0.245316\tvalid_0's auc: 0.834647\n",
      "[81]\tvalid_0's binary_logloss: 0.24529\tvalid_0's auc: 0.834681\n",
      "[82]\tvalid_0's binary_logloss: 0.245271\tvalid_0's auc: 0.834704\n",
      "[83]\tvalid_0's binary_logloss: 0.245232\tvalid_0's auc: 0.834769\n",
      "[84]\tvalid_0's binary_logloss: 0.245216\tvalid_0's auc: 0.834789\n",
      "[85]\tvalid_0's binary_logloss: 0.245176\tvalid_0's auc: 0.834837\n",
      "[86]\tvalid_0's binary_logloss: 0.245136\tvalid_0's auc: 0.834885\n",
      "[87]\tvalid_0's binary_logloss: 0.245111\tvalid_0's auc: 0.834919\n",
      "[88]\tvalid_0's binary_logloss: 0.245064\tvalid_0's auc: 0.834979\n",
      "[89]\tvalid_0's binary_logloss: 0.245038\tvalid_0's auc: 0.835019\n",
      "[90]\tvalid_0's binary_logloss: 0.245009\tvalid_0's auc: 0.835059\n",
      "[91]\tvalid_0's binary_logloss: 0.244968\tvalid_0's auc: 0.835113\n",
      "[92]\tvalid_0's binary_logloss: 0.244932\tvalid_0's auc: 0.835162\n",
      "[93]\tvalid_0's binary_logloss: 0.24491\tvalid_0's auc: 0.835194\n",
      "[94]\tvalid_0's binary_logloss: 0.244882\tvalid_0's auc: 0.835229\n",
      "[95]\tvalid_0's binary_logloss: 0.244866\tvalid_0's auc: 0.835253\n",
      "[96]\tvalid_0's binary_logloss: 0.244848\tvalid_0's auc: 0.835277\n",
      "[97]\tvalid_0's binary_logloss: 0.244828\tvalid_0's auc: 0.835308\n",
      "[98]\tvalid_0's binary_logloss: 0.244799\tvalid_0's auc: 0.83535\n",
      "[99]\tvalid_0's binary_logloss: 0.244765\tvalid_0's auc: 0.8354\n",
      "[100]\tvalid_0's binary_logloss: 0.244745\tvalid_0's auc: 0.83543\n",
      "[101]\tvalid_0's binary_logloss: 0.244725\tvalid_0's auc: 0.83546\n",
      "[102]\tvalid_0's binary_logloss: 0.244708\tvalid_0's auc: 0.835483\n",
      "[103]\tvalid_0's binary_logloss: 0.244682\tvalid_0's auc: 0.835523\n",
      "[104]\tvalid_0's binary_logloss: 0.244671\tvalid_0's auc: 0.835541\n",
      "[105]\tvalid_0's binary_logloss: 0.244658\tvalid_0's auc: 0.835561\n",
      "[106]\tvalid_0's binary_logloss: 0.244617\tvalid_0's auc: 0.835622\n",
      "[107]\tvalid_0's binary_logloss: 0.244603\tvalid_0's auc: 0.835642\n",
      "[108]\tvalid_0's binary_logloss: 0.24459\tvalid_0's auc: 0.835665\n",
      "[109]\tvalid_0's binary_logloss: 0.244566\tvalid_0's auc: 0.835701\n",
      "[110]\tvalid_0's binary_logloss: 0.244527\tvalid_0's auc: 0.835755\n",
      "[111]\tvalid_0's binary_logloss: 0.24451\tvalid_0's auc: 0.835783\n",
      "[112]\tvalid_0's binary_logloss: 0.244498\tvalid_0's auc: 0.835804\n",
      "[113]\tvalid_0's binary_logloss: 0.24448\tvalid_0's auc: 0.835836\n",
      "[114]\tvalid_0's binary_logloss: 0.244462\tvalid_0's auc: 0.835861\n",
      "[115]\tvalid_0's binary_logloss: 0.244439\tvalid_0's auc: 0.835893\n",
      "[116]\tvalid_0's binary_logloss: 0.244432\tvalid_0's auc: 0.835904\n",
      "[117]\tvalid_0's binary_logloss: 0.244411\tvalid_0's auc: 0.835937\n",
      "[118]\tvalid_0's binary_logloss: 0.244405\tvalid_0's auc: 0.835947\n",
      "[119]\tvalid_0's binary_logloss: 0.244374\tvalid_0's auc: 0.835994\n",
      "[120]\tvalid_0's binary_logloss: 0.244361\tvalid_0's auc: 0.83602\n"
     ]
    },
    {
     "name": "stdout",
     "output_type": "stream",
     "text": [
      "[121]\tvalid_0's binary_logloss: 0.244342\tvalid_0's auc: 0.836053\n",
      "[122]\tvalid_0's binary_logloss: 0.244322\tvalid_0's auc: 0.836087\n",
      "[123]\tvalid_0's binary_logloss: 0.244304\tvalid_0's auc: 0.836116\n",
      "[124]\tvalid_0's binary_logloss: 0.244298\tvalid_0's auc: 0.836127\n",
      "[125]\tvalid_0's binary_logloss: 0.244281\tvalid_0's auc: 0.836153\n",
      "[126]\tvalid_0's binary_logloss: 0.244269\tvalid_0's auc: 0.836178\n",
      "[127]\tvalid_0's binary_logloss: 0.24424\tvalid_0's auc: 0.836228\n",
      "[128]\tvalid_0's binary_logloss: 0.244222\tvalid_0's auc: 0.836253\n",
      "[129]\tvalid_0's binary_logloss: 0.244203\tvalid_0's auc: 0.836286\n",
      "[130]\tvalid_0's binary_logloss: 0.244187\tvalid_0's auc: 0.836306\n",
      "[131]\tvalid_0's binary_logloss: 0.244182\tvalid_0's auc: 0.836312\n",
      "[132]\tvalid_0's binary_logloss: 0.244176\tvalid_0's auc: 0.836322\n",
      "[133]\tvalid_0's binary_logloss: 0.244163\tvalid_0's auc: 0.836346\n",
      "[134]\tvalid_0's binary_logloss: 0.244138\tvalid_0's auc: 0.83638\n",
      "[135]\tvalid_0's binary_logloss: 0.244135\tvalid_0's auc: 0.836387\n",
      "[136]\tvalid_0's binary_logloss: 0.244122\tvalid_0's auc: 0.836409\n",
      "[137]\tvalid_0's binary_logloss: 0.244107\tvalid_0's auc: 0.83643\n",
      "[138]\tvalid_0's binary_logloss: 0.244091\tvalid_0's auc: 0.836457\n",
      "[139]\tvalid_0's binary_logloss: 0.244079\tvalid_0's auc: 0.836472\n",
      "[140]\tvalid_0's binary_logloss: 0.244058\tvalid_0's auc: 0.836505\n",
      "[141]\tvalid_0's binary_logloss: 0.244043\tvalid_0's auc: 0.836533\n",
      "[142]\tvalid_0's binary_logloss: 0.244039\tvalid_0's auc: 0.836541\n",
      "[143]\tvalid_0's binary_logloss: 0.244013\tvalid_0's auc: 0.83658\n",
      "[144]\tvalid_0's binary_logloss: 0.243998\tvalid_0's auc: 0.836604\n",
      "[145]\tvalid_0's binary_logloss: 0.243982\tvalid_0's auc: 0.836632\n",
      "[146]\tvalid_0's binary_logloss: 0.24397\tvalid_0's auc: 0.836656\n",
      "[147]\tvalid_0's binary_logloss: 0.24396\tvalid_0's auc: 0.836674\n",
      "[148]\tvalid_0's binary_logloss: 0.243952\tvalid_0's auc: 0.83669\n",
      "[149]\tvalid_0's binary_logloss: 0.243933\tvalid_0's auc: 0.836723\n",
      "[150]\tvalid_0's binary_logloss: 0.243929\tvalid_0's auc: 0.83673\n",
      "[151]\tvalid_0's binary_logloss: 0.243911\tvalid_0's auc: 0.836758\n",
      "[152]\tvalid_0's binary_logloss: 0.24389\tvalid_0's auc: 0.836793\n",
      "[153]\tvalid_0's binary_logloss: 0.243878\tvalid_0's auc: 0.836814\n",
      "[154]\tvalid_0's binary_logloss: 0.243871\tvalid_0's auc: 0.836827\n",
      "[155]\tvalid_0's binary_logloss: 0.243857\tvalid_0's auc: 0.836852\n",
      "[156]\tvalid_0's binary_logloss: 0.243852\tvalid_0's auc: 0.836858\n",
      "[157]\tvalid_0's binary_logloss: 0.243836\tvalid_0's auc: 0.836888\n",
      "[158]\tvalid_0's binary_logloss: 0.243834\tvalid_0's auc: 0.836894\n",
      "[159]\tvalid_0's binary_logloss: 0.243824\tvalid_0's auc: 0.836912\n",
      "[160]\tvalid_0's binary_logloss: 0.243817\tvalid_0's auc: 0.836925\n",
      "[161]\tvalid_0's binary_logloss: 0.243799\tvalid_0's auc: 0.836952\n",
      "[162]\tvalid_0's binary_logloss: 0.243774\tvalid_0's auc: 0.836992\n",
      "[163]\tvalid_0's binary_logloss: 0.243757\tvalid_0's auc: 0.837016\n",
      "[164]\tvalid_0's binary_logloss: 0.243743\tvalid_0's auc: 0.837035\n",
      "[165]\tvalid_0's binary_logloss: 0.243726\tvalid_0's auc: 0.837057\n",
      "[166]\tvalid_0's binary_logloss: 0.243721\tvalid_0's auc: 0.837069\n",
      "[167]\tvalid_0's binary_logloss: 0.243717\tvalid_0's auc: 0.837074\n",
      "[168]\tvalid_0's binary_logloss: 0.243709\tvalid_0's auc: 0.837087\n",
      "[169]\tvalid_0's binary_logloss: 0.243697\tvalid_0's auc: 0.837108\n",
      "[170]\tvalid_0's binary_logloss: 0.243691\tvalid_0's auc: 0.837119\n",
      "[171]\tvalid_0's binary_logloss: 0.243666\tvalid_0's auc: 0.837157\n",
      "[172]\tvalid_0's binary_logloss: 0.243649\tvalid_0's auc: 0.837184\n",
      "[173]\tvalid_0's binary_logloss: 0.243638\tvalid_0's auc: 0.837204\n",
      "[174]\tvalid_0's binary_logloss: 0.243636\tvalid_0's auc: 0.837209\n",
      "[175]\tvalid_0's binary_logloss: 0.243614\tvalid_0's auc: 0.837243\n",
      "[176]\tvalid_0's binary_logloss: 0.243603\tvalid_0's auc: 0.837264\n",
      "[177]\tvalid_0's binary_logloss: 0.243604\tvalid_0's auc: 0.837259\n",
      "[178]\tvalid_0's binary_logloss: 0.243605\tvalid_0's auc: 0.837257\n",
      "[179]\tvalid_0's binary_logloss: 0.243603\tvalid_0's auc: 0.837262\n",
      "[180]\tvalid_0's binary_logloss: 0.24359\tvalid_0's auc: 0.837284\n",
      "[181]\tvalid_0's binary_logloss: 0.243588\tvalid_0's auc: 0.837289\n",
      "[182]\tvalid_0's binary_logloss: 0.243586\tvalid_0's auc: 0.837292\n",
      "[183]\tvalid_0's binary_logloss: 0.243584\tvalid_0's auc: 0.837296\n",
      "[184]\tvalid_0's binary_logloss: 0.243583\tvalid_0's auc: 0.8373\n",
      "[185]\tvalid_0's binary_logloss: 0.243577\tvalid_0's auc: 0.83731\n",
      "[186]\tvalid_0's binary_logloss: 0.243571\tvalid_0's auc: 0.837318\n",
      "[187]\tvalid_0's binary_logloss: 0.243565\tvalid_0's auc: 0.83733\n",
      "[188]\tvalid_0's binary_logloss: 0.243553\tvalid_0's auc: 0.837351\n",
      "[189]\tvalid_0's binary_logloss: 0.243546\tvalid_0's auc: 0.837362\n",
      "[190]\tvalid_0's binary_logloss: 0.243541\tvalid_0's auc: 0.837369\n",
      "[191]\tvalid_0's binary_logloss: 0.243528\tvalid_0's auc: 0.837394\n",
      "[192]\tvalid_0's binary_logloss: 0.243526\tvalid_0's auc: 0.837399\n",
      "[193]\tvalid_0's binary_logloss: 0.24352\tvalid_0's auc: 0.837409\n",
      "[194]\tvalid_0's binary_logloss: 0.243504\tvalid_0's auc: 0.837432\n",
      "[195]\tvalid_0's binary_logloss: 0.243499\tvalid_0's auc: 0.83744\n",
      "[196]\tvalid_0's binary_logloss: 0.243494\tvalid_0's auc: 0.837449\n",
      "[197]\tvalid_0's binary_logloss: 0.243491\tvalid_0's auc: 0.837454\n",
      "[198]\tvalid_0's binary_logloss: 0.243484\tvalid_0's auc: 0.837467\n",
      "[199]\tvalid_0's binary_logloss: 0.243476\tvalid_0's auc: 0.837481\n",
      "[200]\tvalid_0's binary_logloss: 0.243473\tvalid_0's auc: 0.837487\n",
      "[201]\tvalid_0's binary_logloss: 0.243469\tvalid_0's auc: 0.837494\n",
      "[202]\tvalid_0's binary_logloss: 0.243465\tvalid_0's auc: 0.837504\n",
      "[203]\tvalid_0's binary_logloss: 0.243466\tvalid_0's auc: 0.837501\n",
      "[204]\tvalid_0's binary_logloss: 0.243449\tvalid_0's auc: 0.837523\n",
      "[205]\tvalid_0's binary_logloss: 0.243446\tvalid_0's auc: 0.837527\n",
      "[206]\tvalid_0's binary_logloss: 0.243443\tvalid_0's auc: 0.837531\n",
      "[207]\tvalid_0's binary_logloss: 0.243435\tvalid_0's auc: 0.837548\n",
      "[208]\tvalid_0's binary_logloss: 0.243429\tvalid_0's auc: 0.837557\n",
      "[209]\tvalid_0's binary_logloss: 0.243427\tvalid_0's auc: 0.837561\n",
      "[210]\tvalid_0's binary_logloss: 0.243419\tvalid_0's auc: 0.837575\n",
      "[211]\tvalid_0's binary_logloss: 0.243413\tvalid_0's auc: 0.837583\n",
      "[212]\tvalid_0's binary_logloss: 0.243408\tvalid_0's auc: 0.837591\n",
      "[213]\tvalid_0's binary_logloss: 0.243406\tvalid_0's auc: 0.837598\n",
      "[214]\tvalid_0's binary_logloss: 0.243405\tvalid_0's auc: 0.837601\n",
      "[215]\tvalid_0's binary_logloss: 0.243402\tvalid_0's auc: 0.837603\n",
      "[216]\tvalid_0's binary_logloss: 0.243398\tvalid_0's auc: 0.837613\n",
      "[217]\tvalid_0's binary_logloss: 0.243385\tvalid_0's auc: 0.837637\n",
      "[218]\tvalid_0's binary_logloss: 0.24337\tvalid_0's auc: 0.83766\n",
      "[219]\tvalid_0's binary_logloss: 0.24337\tvalid_0's auc: 0.837661\n",
      "[220]\tvalid_0's binary_logloss: 0.243355\tvalid_0's auc: 0.837687\n",
      "[221]\tvalid_0's binary_logloss: 0.243353\tvalid_0's auc: 0.837693\n",
      "[222]\tvalid_0's binary_logloss: 0.243347\tvalid_0's auc: 0.837707\n",
      "[223]\tvalid_0's binary_logloss: 0.243342\tvalid_0's auc: 0.837717\n",
      "[224]\tvalid_0's binary_logloss: 0.243343\tvalid_0's auc: 0.837715\n",
      "[225]\tvalid_0's binary_logloss: 0.243338\tvalid_0's auc: 0.837727\n",
      "[226]\tvalid_0's binary_logloss: 0.243335\tvalid_0's auc: 0.837734\n",
      "[227]\tvalid_0's binary_logloss: 0.243334\tvalid_0's auc: 0.837737\n",
      "[228]\tvalid_0's binary_logloss: 0.243334\tvalid_0's auc: 0.837734\n",
      "[229]\tvalid_0's binary_logloss: 0.243328\tvalid_0's auc: 0.837747\n",
      "[230]\tvalid_0's binary_logloss: 0.243325\tvalid_0's auc: 0.837751\n",
      "[231]\tvalid_0's binary_logloss: 0.243325\tvalid_0's auc: 0.837752\n",
      "[232]\tvalid_0's binary_logloss: 0.243318\tvalid_0's auc: 0.837761\n",
      "[233]\tvalid_0's binary_logloss: 0.243304\tvalid_0's auc: 0.837779\n",
      "[234]\tvalid_0's binary_logloss: 0.243303\tvalid_0's auc: 0.837778\n",
      "[235]\tvalid_0's binary_logloss: 0.243304\tvalid_0's auc: 0.837776\n",
      "[236]\tvalid_0's binary_logloss: 0.243301\tvalid_0's auc: 0.83778\n",
      "[237]\tvalid_0's binary_logloss: 0.243297\tvalid_0's auc: 0.837788\n",
      "[238]\tvalid_0's binary_logloss: 0.243295\tvalid_0's auc: 0.83779\n",
      "[239]\tvalid_0's binary_logloss: 0.243298\tvalid_0's auc: 0.837782\n",
      "[240]\tvalid_0's binary_logloss: 0.243293\tvalid_0's auc: 0.837792\n",
      "[241]\tvalid_0's binary_logloss: 0.243292\tvalid_0's auc: 0.837794\n",
      "[242]\tvalid_0's binary_logloss: 0.243294\tvalid_0's auc: 0.837793\n",
      "[243]\tvalid_0's binary_logloss: 0.243293\tvalid_0's auc: 0.837793\n",
      "[244]\tvalid_0's binary_logloss: 0.243291\tvalid_0's auc: 0.837797\n",
      "[245]\tvalid_0's binary_logloss: 0.24329\tvalid_0's auc: 0.837798\n",
      "[246]\tvalid_0's binary_logloss: 0.243283\tvalid_0's auc: 0.837807\n",
      "[247]\tvalid_0's binary_logloss: 0.243282\tvalid_0's auc: 0.83781\n"
     ]
    },
    {
     "name": "stdout",
     "output_type": "stream",
     "text": [
      "[248]\tvalid_0's binary_logloss: 0.243282\tvalid_0's auc: 0.83781\n",
      "[249]\tvalid_0's binary_logloss: 0.243279\tvalid_0's auc: 0.837815\n",
      "[250]\tvalid_0's binary_logloss: 0.243265\tvalid_0's auc: 0.837842\n",
      "[251]\tvalid_0's binary_logloss: 0.243256\tvalid_0's auc: 0.837855\n",
      "[252]\tvalid_0's binary_logloss: 0.243245\tvalid_0's auc: 0.837874\n",
      "[253]\tvalid_0's binary_logloss: 0.243238\tvalid_0's auc: 0.837884\n",
      "[254]\tvalid_0's binary_logloss: 0.24323\tvalid_0's auc: 0.8379\n",
      "[255]\tvalid_0's binary_logloss: 0.243225\tvalid_0's auc: 0.837907\n",
      "[256]\tvalid_0's binary_logloss: 0.243215\tvalid_0's auc: 0.837927\n",
      "[257]\tvalid_0's binary_logloss: 0.243205\tvalid_0's auc: 0.837942\n",
      "[258]\tvalid_0's binary_logloss: 0.2432\tvalid_0's auc: 0.837949\n",
      "[259]\tvalid_0's binary_logloss: 0.243192\tvalid_0's auc: 0.837961\n",
      "[260]\tvalid_0's binary_logloss: 0.243182\tvalid_0's auc: 0.837977\n",
      "[261]\tvalid_0's binary_logloss: 0.243178\tvalid_0's auc: 0.837981\n",
      "[262]\tvalid_0's binary_logloss: 0.243177\tvalid_0's auc: 0.837982\n",
      "[263]\tvalid_0's binary_logloss: 0.243176\tvalid_0's auc: 0.837982\n",
      "[264]\tvalid_0's binary_logloss: 0.243175\tvalid_0's auc: 0.837983\n",
      "[265]\tvalid_0's binary_logloss: 0.243173\tvalid_0's auc: 0.837989\n",
      "[266]\tvalid_0's binary_logloss: 0.243167\tvalid_0's auc: 0.838\n",
      "[267]\tvalid_0's binary_logloss: 0.243166\tvalid_0's auc: 0.838003\n",
      "[268]\tvalid_0's binary_logloss: 0.243162\tvalid_0's auc: 0.838008\n",
      "[269]\tvalid_0's binary_logloss: 0.24316\tvalid_0's auc: 0.838008\n",
      "[270]\tvalid_0's binary_logloss: 0.243157\tvalid_0's auc: 0.838014\n",
      "[271]\tvalid_0's binary_logloss: 0.243153\tvalid_0's auc: 0.838021\n",
      "[272]\tvalid_0's binary_logloss: 0.243153\tvalid_0's auc: 0.838021\n",
      "[273]\tvalid_0's binary_logloss: 0.243153\tvalid_0's auc: 0.838022\n",
      "[274]\tvalid_0's binary_logloss: 0.243147\tvalid_0's auc: 0.838035\n",
      "[275]\tvalid_0's binary_logloss: 0.243145\tvalid_0's auc: 0.838039\n",
      "[276]\tvalid_0's binary_logloss: 0.243135\tvalid_0's auc: 0.838056\n",
      "[277]\tvalid_0's binary_logloss: 0.243132\tvalid_0's auc: 0.838063\n",
      "[278]\tvalid_0's binary_logloss: 0.24313\tvalid_0's auc: 0.838065\n",
      "[279]\tvalid_0's binary_logloss: 0.243127\tvalid_0's auc: 0.838072\n",
      "[280]\tvalid_0's binary_logloss: 0.243123\tvalid_0's auc: 0.83808\n",
      "[281]\tvalid_0's binary_logloss: 0.243112\tvalid_0's auc: 0.838096\n",
      "[282]\tvalid_0's binary_logloss: 0.243102\tvalid_0's auc: 0.838111\n",
      "[283]\tvalid_0's binary_logloss: 0.243098\tvalid_0's auc: 0.83812\n",
      "[284]\tvalid_0's binary_logloss: 0.243092\tvalid_0's auc: 0.838127\n",
      "[285]\tvalid_0's binary_logloss: 0.243087\tvalid_0's auc: 0.838134\n",
      "[286]\tvalid_0's binary_logloss: 0.243078\tvalid_0's auc: 0.838151\n",
      "[287]\tvalid_0's binary_logloss: 0.243073\tvalid_0's auc: 0.838161\n",
      "[288]\tvalid_0's binary_logloss: 0.243072\tvalid_0's auc: 0.838165\n",
      "[289]\tvalid_0's binary_logloss: 0.243066\tvalid_0's auc: 0.838178\n",
      "[290]\tvalid_0's binary_logloss: 0.24306\tvalid_0's auc: 0.838188\n",
      "[291]\tvalid_0's binary_logloss: 0.243058\tvalid_0's auc: 0.838194\n",
      "[292]\tvalid_0's binary_logloss: 0.243053\tvalid_0's auc: 0.838202\n",
      "[293]\tvalid_0's binary_logloss: 0.243052\tvalid_0's auc: 0.838204\n",
      "[294]\tvalid_0's binary_logloss: 0.24305\tvalid_0's auc: 0.838208\n",
      "[295]\tvalid_0's binary_logloss: 0.243049\tvalid_0's auc: 0.83821\n",
      "[296]\tvalid_0's binary_logloss: 0.243037\tvalid_0's auc: 0.838237\n",
      "[297]\tvalid_0's binary_logloss: 0.243031\tvalid_0's auc: 0.83825\n",
      "[298]\tvalid_0's binary_logloss: 0.24303\tvalid_0's auc: 0.838251\n",
      "[299]\tvalid_0's binary_logloss: 0.243029\tvalid_0's auc: 0.838252\n",
      "[300]\tvalid_0's binary_logloss: 0.243029\tvalid_0's auc: 0.838252\n",
      "[301]\tvalid_0's binary_logloss: 0.243027\tvalid_0's auc: 0.838257\n",
      "[302]\tvalid_0's binary_logloss: 0.243025\tvalid_0's auc: 0.83826\n",
      "[303]\tvalid_0's binary_logloss: 0.243014\tvalid_0's auc: 0.838275\n",
      "[304]\tvalid_0's binary_logloss: 0.243013\tvalid_0's auc: 0.838276\n",
      "[305]\tvalid_0's binary_logloss: 0.243005\tvalid_0's auc: 0.838288\n",
      "[306]\tvalid_0's binary_logloss: 0.242997\tvalid_0's auc: 0.838303\n",
      "[307]\tvalid_0's binary_logloss: 0.242996\tvalid_0's auc: 0.838305\n",
      "[308]\tvalid_0's binary_logloss: 0.24299\tvalid_0's auc: 0.838315\n",
      "[309]\tvalid_0's binary_logloss: 0.242987\tvalid_0's auc: 0.838321\n",
      "[310]\tvalid_0's binary_logloss: 0.242984\tvalid_0's auc: 0.838326\n",
      "[311]\tvalid_0's binary_logloss: 0.242981\tvalid_0's auc: 0.838329\n",
      "[312]\tvalid_0's binary_logloss: 0.242977\tvalid_0's auc: 0.838334\n",
      "[313]\tvalid_0's binary_logloss: 0.242974\tvalid_0's auc: 0.838338\n",
      "[314]\tvalid_0's binary_logloss: 0.242971\tvalid_0's auc: 0.838344\n",
      "[315]\tvalid_0's binary_logloss: 0.24297\tvalid_0's auc: 0.838346\n",
      "[316]\tvalid_0's binary_logloss: 0.242962\tvalid_0's auc: 0.838359\n",
      "[317]\tvalid_0's binary_logloss: 0.242956\tvalid_0's auc: 0.838371\n",
      "[318]\tvalid_0's binary_logloss: 0.242952\tvalid_0's auc: 0.838376\n",
      "[319]\tvalid_0's binary_logloss: 0.242948\tvalid_0's auc: 0.838384\n",
      "[320]\tvalid_0's binary_logloss: 0.242937\tvalid_0's auc: 0.838399\n",
      "[321]\tvalid_0's binary_logloss: 0.242934\tvalid_0's auc: 0.838407\n",
      "[322]\tvalid_0's binary_logloss: 0.242935\tvalid_0's auc: 0.838407\n",
      "[323]\tvalid_0's binary_logloss: 0.242933\tvalid_0's auc: 0.838407\n",
      "[324]\tvalid_0's binary_logloss: 0.242933\tvalid_0's auc: 0.838409\n",
      "[325]\tvalid_0's binary_logloss: 0.242933\tvalid_0's auc: 0.838408\n",
      "[326]\tvalid_0's binary_logloss: 0.242934\tvalid_0's auc: 0.838406\n",
      "[327]\tvalid_0's binary_logloss: 0.242931\tvalid_0's auc: 0.838414\n",
      "[328]\tvalid_0's binary_logloss: 0.242931\tvalid_0's auc: 0.838413\n",
      "[329]\tvalid_0's binary_logloss: 0.242929\tvalid_0's auc: 0.838417\n",
      "[330]\tvalid_0's binary_logloss: 0.242928\tvalid_0's auc: 0.838417\n",
      "[331]\tvalid_0's binary_logloss: 0.242928\tvalid_0's auc: 0.838417\n",
      "[332]\tvalid_0's binary_logloss: 0.242928\tvalid_0's auc: 0.838417\n",
      "[333]\tvalid_0's binary_logloss: 0.242924\tvalid_0's auc: 0.838424\n",
      "[334]\tvalid_0's binary_logloss: 0.242924\tvalid_0's auc: 0.838424\n",
      "[335]\tvalid_0's binary_logloss: 0.242918\tvalid_0's auc: 0.838432\n",
      "[336]\tvalid_0's binary_logloss: 0.242902\tvalid_0's auc: 0.838456\n",
      "[337]\tvalid_0's binary_logloss: 0.242896\tvalid_0's auc: 0.838462\n",
      "[338]\tvalid_0's binary_logloss: 0.242895\tvalid_0's auc: 0.838462\n",
      "[339]\tvalid_0's binary_logloss: 0.242895\tvalid_0's auc: 0.838461\n",
      "[340]\tvalid_0's binary_logloss: 0.242892\tvalid_0's auc: 0.838468\n",
      "[341]\tvalid_0's binary_logloss: 0.242891\tvalid_0's auc: 0.838469\n",
      "[342]\tvalid_0's binary_logloss: 0.242892\tvalid_0's auc: 0.838467\n",
      "[343]\tvalid_0's binary_logloss: 0.242893\tvalid_0's auc: 0.838464\n",
      "[344]\tvalid_0's binary_logloss: 0.242895\tvalid_0's auc: 0.838462\n",
      "[345]\tvalid_0's binary_logloss: 0.242895\tvalid_0's auc: 0.838462\n",
      "[346]\tvalid_0's binary_logloss: 0.242892\tvalid_0's auc: 0.838466\n",
      "[347]\tvalid_0's binary_logloss: 0.242888\tvalid_0's auc: 0.838473\n",
      "[348]\tvalid_0's binary_logloss: 0.24288\tvalid_0's auc: 0.838486\n",
      "[349]\tvalid_0's binary_logloss: 0.242877\tvalid_0's auc: 0.838492\n",
      "[350]\tvalid_0's binary_logloss: 0.242874\tvalid_0's auc: 0.838496\n",
      "[351]\tvalid_0's binary_logloss: 0.24286\tvalid_0's auc: 0.838519\n",
      "[352]\tvalid_0's binary_logloss: 0.242859\tvalid_0's auc: 0.83852\n",
      "[353]\tvalid_0's binary_logloss: 0.242856\tvalid_0's auc: 0.838521\n",
      "[354]\tvalid_0's binary_logloss: 0.242849\tvalid_0's auc: 0.838533\n",
      "[355]\tvalid_0's binary_logloss: 0.242846\tvalid_0's auc: 0.838539\n",
      "[356]\tvalid_0's binary_logloss: 0.242836\tvalid_0's auc: 0.838555\n",
      "[357]\tvalid_0's binary_logloss: 0.242827\tvalid_0's auc: 0.838571\n",
      "[358]\tvalid_0's binary_logloss: 0.242823\tvalid_0's auc: 0.83858\n",
      "[359]\tvalid_0's binary_logloss: 0.242822\tvalid_0's auc: 0.83858\n",
      "[360]\tvalid_0's binary_logloss: 0.242821\tvalid_0's auc: 0.838581\n",
      "[361]\tvalid_0's binary_logloss: 0.242821\tvalid_0's auc: 0.838583\n",
      "[362]\tvalid_0's binary_logloss: 0.242818\tvalid_0's auc: 0.838587\n",
      "[363]\tvalid_0's binary_logloss: 0.242817\tvalid_0's auc: 0.838586\n",
      "[364]\tvalid_0's binary_logloss: 0.242818\tvalid_0's auc: 0.838586\n",
      "[365]\tvalid_0's binary_logloss: 0.242817\tvalid_0's auc: 0.838587\n",
      "[366]\tvalid_0's binary_logloss: 0.242812\tvalid_0's auc: 0.838594\n",
      "[367]\tvalid_0's binary_logloss: 0.242807\tvalid_0's auc: 0.838602\n",
      "[368]\tvalid_0's binary_logloss: 0.242803\tvalid_0's auc: 0.838609\n",
      "[369]\tvalid_0's binary_logloss: 0.242801\tvalid_0's auc: 0.838613\n",
      "[370]\tvalid_0's binary_logloss: 0.2428\tvalid_0's auc: 0.838614\n",
      "[371]\tvalid_0's binary_logloss: 0.242793\tvalid_0's auc: 0.838628\n",
      "[372]\tvalid_0's binary_logloss: 0.242779\tvalid_0's auc: 0.838657\n",
      "[373]\tvalid_0's binary_logloss: 0.242776\tvalid_0's auc: 0.838662\n",
      "[374]\tvalid_0's binary_logloss: 0.242768\tvalid_0's auc: 0.838675\n"
     ]
    },
    {
     "name": "stdout",
     "output_type": "stream",
     "text": [
      "[375]\tvalid_0's binary_logloss: 0.242768\tvalid_0's auc: 0.838677\n",
      "[376]\tvalid_0's binary_logloss: 0.242758\tvalid_0's auc: 0.83869\n",
      "[377]\tvalid_0's binary_logloss: 0.242751\tvalid_0's auc: 0.838701\n",
      "[378]\tvalid_0's binary_logloss: 0.242742\tvalid_0's auc: 0.838711\n",
      "[379]\tvalid_0's binary_logloss: 0.242741\tvalid_0's auc: 0.838713\n",
      "[380]\tvalid_0's binary_logloss: 0.24274\tvalid_0's auc: 0.838713\n",
      "[381]\tvalid_0's binary_logloss: 0.242741\tvalid_0's auc: 0.838709\n",
      "[382]\tvalid_0's binary_logloss: 0.242743\tvalid_0's auc: 0.838707\n",
      "[383]\tvalid_0's binary_logloss: 0.242743\tvalid_0's auc: 0.838706\n",
      "[384]\tvalid_0's binary_logloss: 0.242741\tvalid_0's auc: 0.838709\n",
      "[385]\tvalid_0's binary_logloss: 0.242736\tvalid_0's auc: 0.838717\n",
      "[386]\tvalid_0's binary_logloss: 0.242732\tvalid_0's auc: 0.838726\n",
      "[387]\tvalid_0's binary_logloss: 0.24273\tvalid_0's auc: 0.838731\n",
      "[388]\tvalid_0's binary_logloss: 0.242721\tvalid_0's auc: 0.838742\n",
      "[389]\tvalid_0's binary_logloss: 0.24272\tvalid_0's auc: 0.838744\n",
      "[390]\tvalid_0's binary_logloss: 0.242717\tvalid_0's auc: 0.838746\n",
      "[391]\tvalid_0's binary_logloss: 0.242716\tvalid_0's auc: 0.838748\n",
      "[392]\tvalid_0's binary_logloss: 0.242716\tvalid_0's auc: 0.838747\n",
      "[393]\tvalid_0's binary_logloss: 0.242715\tvalid_0's auc: 0.838748\n",
      "[394]\tvalid_0's binary_logloss: 0.242714\tvalid_0's auc: 0.838749\n",
      "[395]\tvalid_0's binary_logloss: 0.242703\tvalid_0's auc: 0.838764\n",
      "[396]\tvalid_0's binary_logloss: 0.242693\tvalid_0's auc: 0.838787\n",
      "[397]\tvalid_0's binary_logloss: 0.242692\tvalid_0's auc: 0.838789\n",
      "[398]\tvalid_0's binary_logloss: 0.242684\tvalid_0's auc: 0.838802\n",
      "[399]\tvalid_0's binary_logloss: 0.24268\tvalid_0's auc: 0.83881\n",
      "[400]\tvalid_0's binary_logloss: 0.242673\tvalid_0's auc: 0.838823\n",
      "[401]\tvalid_0's binary_logloss: 0.242674\tvalid_0's auc: 0.838822\n",
      "[402]\tvalid_0's binary_logloss: 0.242674\tvalid_0's auc: 0.838823\n",
      "[403]\tvalid_0's binary_logloss: 0.242674\tvalid_0's auc: 0.838821\n",
      "[404]\tvalid_0's binary_logloss: 0.242674\tvalid_0's auc: 0.838821\n",
      "[405]\tvalid_0's binary_logloss: 0.242676\tvalid_0's auc: 0.838818\n",
      "[406]\tvalid_0's binary_logloss: 0.242672\tvalid_0's auc: 0.838826\n",
      "[407]\tvalid_0's binary_logloss: 0.24266\tvalid_0's auc: 0.838848\n",
      "[408]\tvalid_0's binary_logloss: 0.242651\tvalid_0's auc: 0.838864\n",
      "[409]\tvalid_0's binary_logloss: 0.242649\tvalid_0's auc: 0.838868\n",
      "[410]\tvalid_0's binary_logloss: 0.242645\tvalid_0's auc: 0.838875\n",
      "[411]\tvalid_0's binary_logloss: 0.242643\tvalid_0's auc: 0.838876\n",
      "[412]\tvalid_0's binary_logloss: 0.242643\tvalid_0's auc: 0.838876\n",
      "[413]\tvalid_0's binary_logloss: 0.242643\tvalid_0's auc: 0.838878\n",
      "[414]\tvalid_0's binary_logloss: 0.242637\tvalid_0's auc: 0.838885\n",
      "[415]\tvalid_0's binary_logloss: 0.242634\tvalid_0's auc: 0.838892\n",
      "[416]\tvalid_0's binary_logloss: 0.242634\tvalid_0's auc: 0.83889\n",
      "[417]\tvalid_0's binary_logloss: 0.242636\tvalid_0's auc: 0.838888\n",
      "[418]\tvalid_0's binary_logloss: 0.242636\tvalid_0's auc: 0.838889\n",
      "[419]\tvalid_0's binary_logloss: 0.242635\tvalid_0's auc: 0.838892\n",
      "[420]\tvalid_0's binary_logloss: 0.242636\tvalid_0's auc: 0.83889\n",
      "[421]\tvalid_0's binary_logloss: 0.242631\tvalid_0's auc: 0.838897\n",
      "[422]\tvalid_0's binary_logloss: 0.242626\tvalid_0's auc: 0.838909\n",
      "[423]\tvalid_0's binary_logloss: 0.24262\tvalid_0's auc: 0.838918\n",
      "[424]\tvalid_0's binary_logloss: 0.242617\tvalid_0's auc: 0.838926\n",
      "[425]\tvalid_0's binary_logloss: 0.242619\tvalid_0's auc: 0.838921\n",
      "[426]\tvalid_0's binary_logloss: 0.242618\tvalid_0's auc: 0.838921\n",
      "[427]\tvalid_0's binary_logloss: 0.242614\tvalid_0's auc: 0.83893\n",
      "[428]\tvalid_0's binary_logloss: 0.242612\tvalid_0's auc: 0.838935\n",
      "[429]\tvalid_0's binary_logloss: 0.242609\tvalid_0's auc: 0.838938\n",
      "[430]\tvalid_0's binary_logloss: 0.242607\tvalid_0's auc: 0.838943\n",
      "[431]\tvalid_0's binary_logloss: 0.242599\tvalid_0's auc: 0.838959\n",
      "[432]\tvalid_0's binary_logloss: 0.242599\tvalid_0's auc: 0.83896\n",
      "[433]\tvalid_0's binary_logloss: 0.242597\tvalid_0's auc: 0.838961\n",
      "[434]\tvalid_0's binary_logloss: 0.242597\tvalid_0's auc: 0.838962\n",
      "[435]\tvalid_0's binary_logloss: 0.242593\tvalid_0's auc: 0.838968\n",
      "[436]\tvalid_0's binary_logloss: 0.24259\tvalid_0's auc: 0.838975\n",
      "[437]\tvalid_0's binary_logloss: 0.242587\tvalid_0's auc: 0.838983\n",
      "[438]\tvalid_0's binary_logloss: 0.242585\tvalid_0's auc: 0.838989\n",
      "[439]\tvalid_0's binary_logloss: 0.242585\tvalid_0's auc: 0.838988\n",
      "[440]\tvalid_0's binary_logloss: 0.242584\tvalid_0's auc: 0.838991\n",
      "[441]\tvalid_0's binary_logloss: 0.242583\tvalid_0's auc: 0.838994\n",
      "[442]\tvalid_0's binary_logloss: 0.242585\tvalid_0's auc: 0.838993\n",
      "[443]\tvalid_0's binary_logloss: 0.242584\tvalid_0's auc: 0.838992\n",
      "[444]\tvalid_0's binary_logloss: 0.242585\tvalid_0's auc: 0.838992\n",
      "[445]\tvalid_0's binary_logloss: 0.242585\tvalid_0's auc: 0.838991\n",
      "[446]\tvalid_0's binary_logloss: 0.242584\tvalid_0's auc: 0.838993\n",
      "[447]\tvalid_0's binary_logloss: 0.242584\tvalid_0's auc: 0.838995\n",
      "[448]\tvalid_0's binary_logloss: 0.242581\tvalid_0's auc: 0.838999\n",
      "[449]\tvalid_0's binary_logloss: 0.242581\tvalid_0's auc: 0.838998\n",
      "[450]\tvalid_0's binary_logloss: 0.242579\tvalid_0's auc: 0.839001\n",
      "[451]\tvalid_0's binary_logloss: 0.242578\tvalid_0's auc: 0.839003\n",
      "[452]\tvalid_0's binary_logloss: 0.242575\tvalid_0's auc: 0.839008\n",
      "[453]\tvalid_0's binary_logloss: 0.242573\tvalid_0's auc: 0.839008\n",
      "[454]\tvalid_0's binary_logloss: 0.242571\tvalid_0's auc: 0.839013\n",
      "[455]\tvalid_0's binary_logloss: 0.242567\tvalid_0's auc: 0.839022\n",
      "[456]\tvalid_0's binary_logloss: 0.242565\tvalid_0's auc: 0.839025\n",
      "[457]\tvalid_0's binary_logloss: 0.242566\tvalid_0's auc: 0.839024\n",
      "[458]\tvalid_0's binary_logloss: 0.242556\tvalid_0's auc: 0.83904\n",
      "[459]\tvalid_0's binary_logloss: 0.242549\tvalid_0's auc: 0.839052\n",
      "[460]\tvalid_0's binary_logloss: 0.242548\tvalid_0's auc: 0.839054\n",
      "[461]\tvalid_0's binary_logloss: 0.242544\tvalid_0's auc: 0.839062\n",
      "[462]\tvalid_0's binary_logloss: 0.242545\tvalid_0's auc: 0.83906\n",
      "[463]\tvalid_0's binary_logloss: 0.242538\tvalid_0's auc: 0.839073\n",
      "[464]\tvalid_0's binary_logloss: 0.242536\tvalid_0's auc: 0.839077\n",
      "[465]\tvalid_0's binary_logloss: 0.242525\tvalid_0's auc: 0.839094\n",
      "[466]\tvalid_0's binary_logloss: 0.242522\tvalid_0's auc: 0.839099\n",
      "[467]\tvalid_0's binary_logloss: 0.242516\tvalid_0's auc: 0.839108\n",
      "[468]\tvalid_0's binary_logloss: 0.242513\tvalid_0's auc: 0.83911\n",
      "[469]\tvalid_0's binary_logloss: 0.242511\tvalid_0's auc: 0.839114\n",
      "[470]\tvalid_0's binary_logloss: 0.242507\tvalid_0's auc: 0.839121\n",
      "[471]\tvalid_0's binary_logloss: 0.242501\tvalid_0's auc: 0.839135\n",
      "[472]\tvalid_0's binary_logloss: 0.242502\tvalid_0's auc: 0.839135\n",
      "[473]\tvalid_0's binary_logloss: 0.2425\tvalid_0's auc: 0.839138\n",
      "[474]\tvalid_0's binary_logloss: 0.242499\tvalid_0's auc: 0.839137\n",
      "[475]\tvalid_0's binary_logloss: 0.242499\tvalid_0's auc: 0.839137\n",
      "[476]\tvalid_0's binary_logloss: 0.242494\tvalid_0's auc: 0.839147\n",
      "[477]\tvalid_0's binary_logloss: 0.242487\tvalid_0's auc: 0.839159\n",
      "[478]\tvalid_0's binary_logloss: 0.242486\tvalid_0's auc: 0.839161\n",
      "[479]\tvalid_0's binary_logloss: 0.242479\tvalid_0's auc: 0.839175\n",
      "[480]\tvalid_0's binary_logloss: 0.242475\tvalid_0's auc: 0.839182\n",
      "[481]\tvalid_0's binary_logloss: 0.24247\tvalid_0's auc: 0.83919\n",
      "[482]\tvalid_0's binary_logloss: 0.242463\tvalid_0's auc: 0.839203\n",
      "[483]\tvalid_0's binary_logloss: 0.24246\tvalid_0's auc: 0.839209\n",
      "[484]\tvalid_0's binary_logloss: 0.242457\tvalid_0's auc: 0.839212\n",
      "[485]\tvalid_0's binary_logloss: 0.242453\tvalid_0's auc: 0.839217\n",
      "[486]\tvalid_0's binary_logloss: 0.242449\tvalid_0's auc: 0.839224\n",
      "[487]\tvalid_0's binary_logloss: 0.242449\tvalid_0's auc: 0.839228\n",
      "[488]\tvalid_0's binary_logloss: 0.24245\tvalid_0's auc: 0.839226\n",
      "[489]\tvalid_0's binary_logloss: 0.242446\tvalid_0's auc: 0.83923\n",
      "[490]\tvalid_0's binary_logloss: 0.242447\tvalid_0's auc: 0.839229\n",
      "[491]\tvalid_0's binary_logloss: 0.242445\tvalid_0's auc: 0.83923\n",
      "[492]\tvalid_0's binary_logloss: 0.242441\tvalid_0's auc: 0.83924\n",
      "[493]\tvalid_0's binary_logloss: 0.242441\tvalid_0's auc: 0.839241\n",
      "[494]\tvalid_0's binary_logloss: 0.24244\tvalid_0's auc: 0.839243\n",
      "[495]\tvalid_0's binary_logloss: 0.242441\tvalid_0's auc: 0.83924\n",
      "[496]\tvalid_0's binary_logloss: 0.242439\tvalid_0's auc: 0.839244\n",
      "[497]\tvalid_0's binary_logloss: 0.242438\tvalid_0's auc: 0.839246\n",
      "[498]\tvalid_0's binary_logloss: 0.24244\tvalid_0's auc: 0.839242\n",
      "[499]\tvalid_0's binary_logloss: 0.242438\tvalid_0's auc: 0.839246\n",
      "[500]\tvalid_0's binary_logloss: 0.242434\tvalid_0's auc: 0.839254\n",
      "[501]\tvalid_0's binary_logloss: 0.242431\tvalid_0's auc: 0.839259\n"
     ]
    },
    {
     "name": "stdout",
     "output_type": "stream",
     "text": [
      "[502]\tvalid_0's binary_logloss: 0.24243\tvalid_0's auc: 0.83926\n",
      "[503]\tvalid_0's binary_logloss: 0.242426\tvalid_0's auc: 0.839267\n",
      "[504]\tvalid_0's binary_logloss: 0.242425\tvalid_0's auc: 0.839267\n",
      "[505]\tvalid_0's binary_logloss: 0.242423\tvalid_0's auc: 0.83927\n",
      "[506]\tvalid_0's binary_logloss: 0.242416\tvalid_0's auc: 0.839282\n",
      "[507]\tvalid_0's binary_logloss: 0.24241\tvalid_0's auc: 0.839293\n",
      "[508]\tvalid_0's binary_logloss: 0.242409\tvalid_0's auc: 0.839296\n",
      "[509]\tvalid_0's binary_logloss: 0.242404\tvalid_0's auc: 0.839305\n",
      "[510]\tvalid_0's binary_logloss: 0.242402\tvalid_0's auc: 0.839308\n",
      "[511]\tvalid_0's binary_logloss: 0.242403\tvalid_0's auc: 0.839306\n",
      "[512]\tvalid_0's binary_logloss: 0.2424\tvalid_0's auc: 0.839311\n",
      "[513]\tvalid_0's binary_logloss: 0.2424\tvalid_0's auc: 0.839309\n",
      "[514]\tvalid_0's binary_logloss: 0.242397\tvalid_0's auc: 0.839317\n",
      "[515]\tvalid_0's binary_logloss: 0.242394\tvalid_0's auc: 0.839323\n",
      "[516]\tvalid_0's binary_logloss: 0.242389\tvalid_0's auc: 0.839329\n",
      "[517]\tvalid_0's binary_logloss: 0.242389\tvalid_0's auc: 0.839328\n",
      "[518]\tvalid_0's binary_logloss: 0.24239\tvalid_0's auc: 0.839326\n",
      "[519]\tvalid_0's binary_logloss: 0.24239\tvalid_0's auc: 0.839326\n",
      "[520]\tvalid_0's binary_logloss: 0.242387\tvalid_0's auc: 0.839329\n",
      "[521]\tvalid_0's binary_logloss: 0.242388\tvalid_0's auc: 0.839326\n",
      "[522]\tvalid_0's binary_logloss: 0.24238\tvalid_0's auc: 0.839333\n",
      "[523]\tvalid_0's binary_logloss: 0.242374\tvalid_0's auc: 0.839342\n",
      "[524]\tvalid_0's binary_logloss: 0.242373\tvalid_0's auc: 0.839344\n",
      "[525]\tvalid_0's binary_logloss: 0.24237\tvalid_0's auc: 0.839347\n",
      "[526]\tvalid_0's binary_logloss: 0.242368\tvalid_0's auc: 0.839352\n",
      "[527]\tvalid_0's binary_logloss: 0.242361\tvalid_0's auc: 0.839364\n",
      "[528]\tvalid_0's binary_logloss: 0.242359\tvalid_0's auc: 0.839368\n",
      "[529]\tvalid_0's binary_logloss: 0.242355\tvalid_0's auc: 0.839375\n",
      "[530]\tvalid_0's binary_logloss: 0.242352\tvalid_0's auc: 0.839382\n",
      "[531]\tvalid_0's binary_logloss: 0.242341\tvalid_0's auc: 0.839395\n",
      "[532]\tvalid_0's binary_logloss: 0.242336\tvalid_0's auc: 0.839406\n",
      "[533]\tvalid_0's binary_logloss: 0.242337\tvalid_0's auc: 0.839402\n",
      "[534]\tvalid_0's binary_logloss: 0.242336\tvalid_0's auc: 0.839404\n",
      "[535]\tvalid_0's binary_logloss: 0.242332\tvalid_0's auc: 0.839413\n",
      "[536]\tvalid_0's binary_logloss: 0.242329\tvalid_0's auc: 0.839418\n",
      "[537]\tvalid_0's binary_logloss: 0.242328\tvalid_0's auc: 0.839417\n",
      "[538]\tvalid_0's binary_logloss: 0.242325\tvalid_0's auc: 0.839422\n",
      "[539]\tvalid_0's binary_logloss: 0.24232\tvalid_0's auc: 0.839429\n",
      "[540]\tvalid_0's binary_logloss: 0.242318\tvalid_0's auc: 0.839432\n",
      "[541]\tvalid_0's binary_logloss: 0.242315\tvalid_0's auc: 0.839437\n",
      "[542]\tvalid_0's binary_logloss: 0.242314\tvalid_0's auc: 0.839439\n",
      "[543]\tvalid_0's binary_logloss: 0.242315\tvalid_0's auc: 0.839438\n",
      "[544]\tvalid_0's binary_logloss: 0.242313\tvalid_0's auc: 0.839441\n",
      "[545]\tvalid_0's binary_logloss: 0.242311\tvalid_0's auc: 0.839448\n",
      "[546]\tvalid_0's binary_logloss: 0.242309\tvalid_0's auc: 0.839453\n",
      "[547]\tvalid_0's binary_logloss: 0.242308\tvalid_0's auc: 0.839455\n",
      "[548]\tvalid_0's binary_logloss: 0.242305\tvalid_0's auc: 0.839461\n",
      "[549]\tvalid_0's binary_logloss: 0.242306\tvalid_0's auc: 0.839461\n",
      "[550]\tvalid_0's binary_logloss: 0.242305\tvalid_0's auc: 0.839462\n",
      "[551]\tvalid_0's binary_logloss: 0.242305\tvalid_0's auc: 0.839464\n",
      "[552]\tvalid_0's binary_logloss: 0.242305\tvalid_0's auc: 0.839463\n",
      "[553]\tvalid_0's binary_logloss: 0.242304\tvalid_0's auc: 0.839467\n",
      "[554]\tvalid_0's binary_logloss: 0.242304\tvalid_0's auc: 0.839467\n",
      "[555]\tvalid_0's binary_logloss: 0.242296\tvalid_0's auc: 0.83948\n",
      "[556]\tvalid_0's binary_logloss: 0.242294\tvalid_0's auc: 0.839484\n",
      "[557]\tvalid_0's binary_logloss: 0.242291\tvalid_0's auc: 0.839489\n",
      "[558]\tvalid_0's binary_logloss: 0.242289\tvalid_0's auc: 0.839492\n",
      "[559]\tvalid_0's binary_logloss: 0.242287\tvalid_0's auc: 0.839496\n",
      "[560]\tvalid_0's binary_logloss: 0.242287\tvalid_0's auc: 0.839498\n",
      "[561]\tvalid_0's binary_logloss: 0.242287\tvalid_0's auc: 0.839498\n",
      "[562]\tvalid_0's binary_logloss: 0.242288\tvalid_0's auc: 0.839497\n",
      "[563]\tvalid_0's binary_logloss: 0.242288\tvalid_0's auc: 0.839498\n",
      "[564]\tvalid_0's binary_logloss: 0.242289\tvalid_0's auc: 0.839497\n",
      "[565]\tvalid_0's binary_logloss: 0.24229\tvalid_0's auc: 0.839495\n",
      "[566]\tvalid_0's binary_logloss: 0.242288\tvalid_0's auc: 0.839499\n",
      "[567]\tvalid_0's binary_logloss: 0.242286\tvalid_0's auc: 0.839502\n",
      "[568]\tvalid_0's binary_logloss: 0.242286\tvalid_0's auc: 0.839503\n",
      "[569]\tvalid_0's binary_logloss: 0.242287\tvalid_0's auc: 0.839498\n",
      "[570]\tvalid_0's binary_logloss: 0.242288\tvalid_0's auc: 0.839495\n",
      "[571]\tvalid_0's binary_logloss: 0.242289\tvalid_0's auc: 0.839496\n",
      "[572]\tvalid_0's binary_logloss: 0.242289\tvalid_0's auc: 0.839495\n",
      "[573]\tvalid_0's binary_logloss: 0.24229\tvalid_0's auc: 0.839495\n",
      "[574]\tvalid_0's binary_logloss: 0.24229\tvalid_0's auc: 0.839496\n",
      "[575]\tvalid_0's binary_logloss: 0.24229\tvalid_0's auc: 0.839495\n",
      "[576]\tvalid_0's binary_logloss: 0.242282\tvalid_0's auc: 0.839503\n",
      "[577]\tvalid_0's binary_logloss: 0.242276\tvalid_0's auc: 0.839509\n",
      "[578]\tvalid_0's binary_logloss: 0.242275\tvalid_0's auc: 0.839507\n",
      "[579]\tvalid_0's binary_logloss: 0.242277\tvalid_0's auc: 0.839505\n",
      "[580]\tvalid_0's binary_logloss: 0.242272\tvalid_0's auc: 0.839513\n",
      "[581]\tvalid_0's binary_logloss: 0.24227\tvalid_0's auc: 0.839515\n",
      "[582]\tvalid_0's binary_logloss: 0.242269\tvalid_0's auc: 0.839514\n",
      "[583]\tvalid_0's binary_logloss: 0.242269\tvalid_0's auc: 0.839515\n",
      "[584]\tvalid_0's binary_logloss: 0.242267\tvalid_0's auc: 0.839516\n",
      "[585]\tvalid_0's binary_logloss: 0.242264\tvalid_0's auc: 0.839517\n",
      "[586]\tvalid_0's binary_logloss: 0.242263\tvalid_0's auc: 0.839521\n",
      "[587]\tvalid_0's binary_logloss: 0.242256\tvalid_0's auc: 0.839532\n",
      "[588]\tvalid_0's binary_logloss: 0.242252\tvalid_0's auc: 0.839537\n",
      "[589]\tvalid_0's binary_logloss: 0.242252\tvalid_0's auc: 0.839537\n",
      "[590]\tvalid_0's binary_logloss: 0.24225\tvalid_0's auc: 0.839541\n",
      "[591]\tvalid_0's binary_logloss: 0.242247\tvalid_0's auc: 0.839547\n",
      "[592]\tvalid_0's binary_logloss: 0.242245\tvalid_0's auc: 0.83955\n",
      "[593]\tvalid_0's binary_logloss: 0.242245\tvalid_0's auc: 0.839552\n",
      "[594]\tvalid_0's binary_logloss: 0.242245\tvalid_0's auc: 0.839551\n",
      "[595]\tvalid_0's binary_logloss: 0.242242\tvalid_0's auc: 0.839558\n",
      "[596]\tvalid_0's binary_logloss: 0.242238\tvalid_0's auc: 0.839564\n",
      "[597]\tvalid_0's binary_logloss: 0.242235\tvalid_0's auc: 0.839568\n",
      "[598]\tvalid_0's binary_logloss: 0.242233\tvalid_0's auc: 0.839573\n",
      "[599]\tvalid_0's binary_logloss: 0.242227\tvalid_0's auc: 0.839582\n",
      "[600]\tvalid_0's binary_logloss: 0.242226\tvalid_0's auc: 0.839583\n",
      "[601]\tvalid_0's binary_logloss: 0.242229\tvalid_0's auc: 0.839577\n",
      "[602]\tvalid_0's binary_logloss: 0.24223\tvalid_0's auc: 0.839574\n",
      "[603]\tvalid_0's binary_logloss: 0.24223\tvalid_0's auc: 0.839575\n",
      "[604]\tvalid_0's binary_logloss: 0.24223\tvalid_0's auc: 0.839575\n",
      "[605]\tvalid_0's binary_logloss: 0.242227\tvalid_0's auc: 0.839582\n",
      "[606]\tvalid_0's binary_logloss: 0.242227\tvalid_0's auc: 0.839581\n",
      "[607]\tvalid_0's binary_logloss: 0.242228\tvalid_0's auc: 0.839578\n",
      "[608]\tvalid_0's binary_logloss: 0.242228\tvalid_0's auc: 0.839578\n",
      "[609]\tvalid_0's binary_logloss: 0.242227\tvalid_0's auc: 0.839581\n",
      "[610]\tvalid_0's binary_logloss: 0.242227\tvalid_0's auc: 0.839579\n",
      "Early stopping, best iteration is:\n",
      "[600]\tvalid_0's binary_logloss: 0.242226\tvalid_0's auc: 0.839583\n"
     ]
    },
    {
     "data": {
      "text/plain": [
       "134"
      ]
     },
     "execution_count": 14,
     "metadata": {},
     "output_type": "execute_result"
    }
   ],
   "source": [
    "print('formatting and training LightGBM ...')\n",
    "\n",
    "lgb_train = lgb.Dataset(X_train, label=y_train)\n",
    "lgb_eval = lgb.Dataset(X_eval, y_eval, reference = lgb_train)\n",
    "\n",
    "# there is some room to change the parameters and improve - I have not done it systematically\n",
    "\n",
    "params = {'task': 'train', 'boosting_type': 'gbdt',   'objective': 'binary', 'metric': {'binary_logloss', 'auc'},\n",
    "    'num_iterations' : 1000, 'max_bin' : 100, 'num_leaves': 512, 'feature_fraction': 0.8,  'bagging_fraction': 0.95,\n",
    "    'bagging_freq': 5, 'min_data_in_leaf' : 200, 'learning_rate' : 0.05}\n",
    "\n",
    "# set lower num_boost_round (I used 300 instead of 50 at home) to avoid time-out on Kaggle\n",
    "\n",
    "lgb_model = lgb.train(params, lgb_train, num_boost_round = 50, valid_sets = lgb_eval, early_stopping_rounds=10)\n",
    "\n",
    "del lgb_train, X_train, y_train\n",
    "gc.collect()"
   ]
  },
  {
   "cell_type": "code",
   "execution_count": 15,
   "metadata": {},
   "outputs": [],
   "source": [
    "# Define an auxiliary function to combine the product data into orders\n",
    "\n",
    "def combi(z,df):\n",
    "    \n",
    "    prd_bag = dict()\n",
    "    z_bag = dict()\n",
    "    for row in df.itertuples():\n",
    "        if row.reordered > z:   \n",
    "            try:\n",
    "                prd_bag[row.order_id] += ' ' + str(row.product_id)\n",
    "                z_bag[row.order_id]+= ' ' + str(int(100*row.reordered))\n",
    "            except:\n",
    "                prd_bag[row.order_id] = str(row.product_id)\n",
    "                z_bag[row.order_id]= str(int(100*row.reordered))\n",
    "\n",
    "    for order in df.order_id:\n",
    "        if order not in prd_bag:\n",
    "            prd_bag[order] = ' '\n",
    "            z_bag[order] = ' '\n",
    "\n",
    "    return prd_bag,z_bag "
   ]
  },
  {
   "cell_type": "code",
   "execution_count": 16,
   "metadata": {},
   "outputs": [],
   "source": [
    "# F1 function uses the actual products as a list in the train set and the list of predicted products\n",
    "\n",
    "def f1_score_single(x):                 #from LiLi but modified to get 1 for both empty\n",
    "\n",
    "    y_true = x.actual\n",
    "    y_pred = x.list_prod\n",
    "    if y_true == '' and y_pred ==[] : return 1.\n",
    "    y_true = set(y_true)\n",
    "    y_pred = set(y_pred)\n",
    "    cross_size = len(y_true & y_pred)\n",
    "    if cross_size == 0: return 0.\n",
    "    p = 1. * cross_size / len(y_pred)\n",
    "    r = 1. * cross_size / len(y_true)\n",
    "    return 2 * p * r / (p + r)"
   ]
  },
  {
   "cell_type": "code",
   "execution_count": 17,
   "metadata": {},
   "outputs": [
    {
     "data": {
      "image/png": "[encoded data removed]",
      "text/plain": [
       "<Figure size 504x648 with 1 Axes>"
      ]
     },
     "metadata": {
      "needs_background": "light"
     },
     "output_type": "display_data"
    }
   ],
   "source": [
    "# check feature importance\n",
    "lgb.plot_importance(lgb_model, figsize=(7,9))\n",
    "plt.show()"
   ]
  },
  {
   "cell_type": "code",
   "execution_count": 18,
   "metadata": {},
   "outputs": [
    {
     "name": "stdout",
     "output_type": "stream",
     "text": [
      " Applying model to all data - both train and test \n"
     ]
    },
    {
     "data": {
      "text/plain": [
       "5951"
      ]
     },
     "execution_count": 18,
     "metadata": {},
     "output_type": "execute_result"
    }
   ],
   "source": [
    "print(' Applying model to all data - both train and test ')\n",
    "\n",
    "\n",
    "check['reordered'] = lgb_model.predict(check[check.columns.difference(\n",
    "    ['order_id', 'product_id'])], num_iteration = lgb_model.best_iteration)\n",
    "\n",
    "gc.collect()"
   ]
  },
  {
   "cell_type": "code",
   "execution_count": 20,
   "metadata": {},
   "outputs": [
    {
     "name": "stdout",
     "output_type": "stream",
     "text": [
      " summarizing products and probabilities ...\n",
      " z,F1,n_actual,n_cart :   0.17 0.4004 6.316822778925226 10.823887415195262\n",
      " z,F1,n_actual,n_cart :   0.21 0.404 6.316822778925226 8.478296291626457\n",
      " z,F1,n_actual,n_cart :   0.25 0.3975 6.316822778925226 6.790329229083115\n",
      " f1 maximized  0.4592\n"
     ]
    },
    {
     "data": {
      "text/plain": [
       "0"
      ]
     },
     "execution_count": 20,
     "metadata": {},
     "output_type": "execute_result"
    }
   ],
   "source": [
    "print(' summarizing products and probabilities ...')\n",
    "\n",
    "# get the prediction for a range of thresholds\n",
    "\n",
    "tt=traintest1.copy()\n",
    "tt = tt.rename_axis(None)\n",
    "i=0\n",
    "\n",
    "for z in [0.17, 0.21, 0.25]:\n",
    "    \n",
    "    prd_bag,z_bag = combi(z,check)\n",
    "    ptemp = pd.DataFrame.from_dict(prd_bag, orient='index')\n",
    "    ptemp.reset_index(inplace=True)\n",
    "    ztemp = pd.DataFrame.from_dict(z_bag, orient='index')\n",
    "    ztemp.reset_index(inplace=True)\n",
    "    ptemp.columns = ['order_id', 'products']\n",
    "    ztemp.columns = ['order_id', 'zs']\n",
    "    ptemp['list_prod'] = ptemp['products'].apply(lambda x: list(map(int, x.split())))\n",
    "    ztemp['list_z'] = ztemp['zs'].apply(lambda x: list(map(int, x.split())))\n",
    "    n_cart = ptemp['products'].apply(lambda x: len(x.split())).mean()\n",
    "    tt = tt.merge(ptemp,on='order_id',how='inner')\n",
    "    tt = tt.merge(ztemp,on='order_id',how='inner')\n",
    "    tt.drop(['products','zs'],axis=1,inplace=True)\n",
    "    tt['zavg'] = tt['list_z'].apply(lambda x: 0.01*np.mean(x) if x!=[] else 0.).astype(np.float16)\n",
    "    tt['zmax'] = tt['list_z'].apply(lambda x: 0.01*np.max(x) if x!=[] else 0.).astype(np.float16)\n",
    "    tt['zmin'] = tt['list_z'].apply(lambda x: 0.01*np.min(x) if x!=[] else 0.).astype(np.float16)\n",
    "    tt['f1']=tt.apply(f1_score_single,axis=1).astype(np.float16)\n",
    "    F1 = tt['f1'].loc[tt['eval_set']==1].mean()\n",
    "    tt = tt.rename(columns={'list_prod': 'prod'+str(i), 'f1': 'f1'+str(i), 'list_z': 'z'+str(i),\n",
    "                'zavg': 'zavg'+str(i), 'zmax': 'zmax'+str(i),  'zmin': 'zmin'+str(i)})\n",
    "    print(' z,F1,n_actual,n_cart :  ', z,F1,n_actual,n_cart)\n",
    "    i=i+1\n",
    "\n",
    "tt['fm'] = tt[['f10', 'f11', 'f12']].idxmax(axis=1)\n",
    "tt['f1'] = tt[['f10', 'f11', 'f12']].max(axis=1)\n",
    "tt['fm'] = tt.fm.replace({'f10': 0,'f11': 1, 'f12':2}).astype(np.uint8)\n",
    "print(' f1 maximized ', tt['f1'].loc[tt['eval_set']==1].mean())\n",
    "    \n",
    "del prd_bag, z_bag, ptemp, ztemp\n",
    "gc.collect()"
   ]
  },
  {
   "cell_type": "code",
   "execution_count": 22,
   "metadata": {},
   "outputs": [
    {
     "name": "stdout",
     "output_type": "stream",
     "text": [
      "Fitting the second classifier for F1 ...\n",
      "GB Accuracy on training set: 0.60\n",
      "Accuracy on test set: 0.59\n"
     ]
    },
    {
     "data": {
      "text/plain": [
       "103"
      ]
     },
     "execution_count": 22,
     "metadata": {},
     "output_type": "execute_result"
    }
   ],
   "source": [
    "from sklearn.ensemble import GradientBoostingClassifier\n",
    "from sklearn import metrics\n",
    "\n",
    "print('Fitting the second classifier for F1 ...')\n",
    "\n",
    "X=tt[[ 'zavg0', 'zmax0','zmin0', 'zavg1', 'zmax1', 'zmin1', 'zavg2', 'zmax2', 'zmin2']].loc[tt['eval_set']==1]\n",
    "y=tt['fm'].loc[tt['eval_set']==1]\n",
    "X_train, X_test, y_train, y_test = train_test_split(X, y, test_size=0.1)\n",
    "\n",
    "clf = GradientBoostingClassifier().fit(X_train, y_train)\n",
    "print('GB Accuracy on training set: {:.2f}' .format(clf.score(X_train, y_train)))\n",
    "print('Accuracy on test set: {:.2f}' .format(clf.score(X_test, y_test)))\n",
    "#pd.DataFrame(clf.feature_importances_, index=X_train.columns, columns=[\"Importance\"]).plot(kind='bar')\n",
    "#plt.show()\n",
    "\n",
    "final=tt[['order_id','prod0','prod1','prod2','zavg0']].loc[tt['eval_set']==2]\n",
    "df_test=tt[[ 'zavg0', 'zmax0','zmin0', 'zavg1', 'zmax1', 'zmin1', 'zavg2', 'zmax2', 'zmin2']].loc[tt['eval_set']==2]\n",
    "final['fit']= clf.predict(df_test)\n",
    "final['best'] = final.apply(lambda row: row['prod0'] if row['fit']==0 else \n",
    "                                 ( row['prod1'] if row['fit']==1 else  row['prod2'] )  , axis=1)\n",
    "\n",
    "#final['products']=final['best'].apply(lambda x: ' '.join(str(i) for i in x) if x!=[] else 'None')\n",
    "\n",
    "# I am adding 'None' to orders with one or two products because of the bias in F1\n",
    "\n",
    "def mylist(x):\n",
    "    prodids = x.best\n",
    "    zavg = x.zavg0\n",
    "    if prodids == []: return 'None'            \n",
    "    if zavg < 0.5:\n",
    "        if len(prodids) == 1: return  str(prodids[0])+' None'\n",
    "        if len(prodids) == 2: return  str(prodids[0])+ ' '+ str(prodids[1]) +' None'\n",
    "    return ' '.join(str(i) for i in prodids)\n",
    "\n",
    "final['products']=final.apply(mylist,axis=1)\n",
    "\n",
    "final[['order_id','products']].to_csv('../Submissions/final_submission1.csv', index=False)  \n",
    "\n",
    "gc.collect()"
   ]
  },
  {
   "cell_type": "code",
   "execution_count": 25,
   "metadata": {},
   "outputs": [
    {
     "data": {
      "image/png": "[encoded data removed]",
      "text/plain": [
       "<PIL.PngImagePlugin.PngImageFile image mode=RGBA size=1174x190 at 0x1C9AD0FD640>"
      ]
     },
     "execution_count": 25,
     "metadata": {},
     "output_type": "execute_result"
    }
   ],
   "source": [
    "from PIL import Image\n",
    "img=Image.open(\"../Submissions/2clfs.png\")\n",
    "img"
   ]
  },
  {
   "cell_type": "code",
   "execution_count": null,
   "metadata": {},
   "outputs": [],
   "source": []
  }
 ],
 "metadata": {
  "kernelspec": {
   "display_name": "Python 3",
   "language": "python",
   "name": "python3"
  },
  "language_info": {
   "codemirror_mode": {
    "name": "ipython",
    "version": 3
   },
   "file_extension": ".py",
   "mimetype": "text/x-python",
   "name": "python",
   "nbconvert_exporter": "python",
   "pygments_lexer": "ipython3",
   "version": "3.8.5"
  }
 },
 "nbformat": 4,
 "nbformat_minor": 4
}
