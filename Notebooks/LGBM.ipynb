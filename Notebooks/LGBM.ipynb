{
  "nbformat": 4,
  "nbformat_minor": 0,
  "metadata": {
    "colab": {
      "name": "LGBM.ipynb",
      "provenance": []
    },
    "kernelspec": {
      "name": "python3",
      "display_name": "Python 3"
    }
  },
  "cells": [
    {
      "cell_type": "code",
      "metadata": {
        "id": "O4l-FEc_7yY1"
      },
      "source": [
        "import numpy as np\n",
        "import pandas as pd\n",
        "import zipfile\n",
        "import gc\n",
        "gc.enable()"
      ],
      "execution_count": 1,
      "outputs": []
    },
    {
      "cell_type": "code",
      "metadata": {
        "colab": {
          "base_uri": "https://localhost:8080/"
        },
        "id": "IEiQSGMN78Rt",
        "outputId": "546ac035-5648-44ed-c321-165c73157925"
      },
      "source": [
        "from google.colab import drive\n",
        "drive.mount('/content/drive')"
      ],
      "execution_count": 2,
      "outputs": [
        {
          "output_type": "stream",
          "text": [
            "Mounted at /content/drive\n"
          ],
          "name": "stdout"
        }
      ]
    },
    {
      "cell_type": "code",
      "metadata": {
        "id": "KKGrIxXZ7-Eg"
      },
      "source": [
        "path=\"/content/drive/MyDrive/Data_btp2/\"\n",
        "train=zipfile.ZipFile(path+\"data_train\"+\".zip\",\"r\")\n",
        "test=zipfile.ZipFile(path+\"data_test\"+\".zip\",\"r\")"
      ],
      "execution_count": 22,
      "outputs": []
    },
    {
      "cell_type": "code",
      "metadata": {
        "id": "FDqhBps18Jr0"
      },
      "source": [
        "data_train = pd.read_csv(train.open('data_train.csv'))\n",
        "data_test = pd.read_csv(test.open('data_test.csv'))\n",
        "\n"
      ],
      "execution_count": 23,
      "outputs": []
    },
    {
      "cell_type": "code",
      "metadata": {
        "id": "1uP6qqJ-80x6"
      },
      "source": [
        "X = data_train.drop(['reordered', 'uxp_ratio_last_five'], axis=1)\n",
        "y = data_train.reordered"
      ],
      "execution_count": 10,
      "outputs": []
    },
    {
      "cell_type": "code",
      "metadata": {
        "id": "EJAwPPV682Lm"
      },
      "source": [
        "X_train, X_test, y_train, y_test = train_test_split(X, y, test_size=0.3, random_state=10)"
      ],
      "execution_count": 11,
      "outputs": []
    },
    {
      "cell_type": "code",
      "metadata": {
        "id": "3sJU2Rg68L2g"
      },
      "source": [
        "from lightgbm import LGBMClassifier"
      ],
      "execution_count": 5,
      "outputs": []
    },
    {
      "cell_type": "code",
      "metadata": {
        "colab": {
          "base_uri": "https://localhost:8080/"
        },
        "id": "jZrZ7Eqy8dlW",
        "outputId": "a6ca05ef-d64b-4c0d-c65b-0310497fa180"
      },
      "source": [
        "pip install scikit-plot"
      ],
      "execution_count": 7,
      "outputs": [
        {
          "output_type": "stream",
          "text": [
            "Collecting scikit-plot\n",
            "  Downloading https://files.pythonhosted.org/packages/7c/47/32520e259340c140a4ad27c1b97050dd3254fdc517b1d59974d47037510e/scikit_plot-0.3.7-py3-none-any.whl\n",
            "Requirement already satisfied: scikit-learn>=0.18 in /usr/local/lib/python3.6/dist-packages (from scikit-plot) (0.22.2.post1)\n",
            "Requirement already satisfied: scipy>=0.9 in /usr/local/lib/python3.6/dist-packages (from scikit-plot) (1.4.1)\n",
            "Requirement already satisfied: matplotlib>=1.4.0 in /usr/local/lib/python3.6/dist-packages (from scikit-plot) (3.2.2)\n",
            "Requirement already satisfied: joblib>=0.10 in /usr/local/lib/python3.6/dist-packages (from scikit-plot) (1.0.0)\n",
            "Requirement already satisfied: numpy>=1.11.0 in /usr/local/lib/python3.6/dist-packages (from scikit-learn>=0.18->scikit-plot) (1.19.5)\n",
            "Requirement already satisfied: python-dateutil>=2.1 in /usr/local/lib/python3.6/dist-packages (from matplotlib>=1.4.0->scikit-plot) (2.8.1)\n",
            "Requirement already satisfied: cycler>=0.10 in /usr/local/lib/python3.6/dist-packages (from matplotlib>=1.4.0->scikit-plot) (0.10.0)\n",
            "Requirement already satisfied: pyparsing!=2.0.4,!=2.1.2,!=2.1.6,>=2.0.1 in /usr/local/lib/python3.6/dist-packages (from matplotlib>=1.4.0->scikit-plot) (2.4.7)\n",
            "Requirement already satisfied: kiwisolver>=1.0.1 in /usr/local/lib/python3.6/dist-packages (from matplotlib>=1.4.0->scikit-plot) (1.3.1)\n",
            "Requirement already satisfied: six>=1.5 in /usr/local/lib/python3.6/dist-packages (from python-dateutil>=2.1->matplotlib>=1.4.0->scikit-plot) (1.15.0)\n",
            "Installing collected packages: scikit-plot\n",
            "Successfully installed scikit-plot-0.3.7\n"
          ],
          "name": "stdout"
        }
      ]
    },
    {
      "cell_type": "code",
      "metadata": {
        "id": "j8CV73BN8Q6a"
      },
      "source": [
        "from sklearn.model_selection import train_test_split, GridSearchCV, KFold,RandomizedSearchCV\n",
        "from sklearn.metrics import f1_score, classification_report\n",
        "from scikitplot.metrics import plot_confusion_matrix\n",
        "from scikitplot.classifiers import plot_feature_importances"
      ],
      "execution_count": 8,
      "outputs": []
    },
    {
      "cell_type": "code",
      "metadata": {
        "colab": {
          "base_uri": "https://localhost:8080/"
        },
        "id": "zN9-EjoW8VyF",
        "outputId": "44fce008-0308-4566-df20-39a47b2533fd"
      },
      "source": [
        "hyperparameters = {\n",
        "                  \n",
        "                  \"max_depth\": [1,2,3,4,5,6,7,8,9,10],\n",
        "                  \"num_leaves\":[2, 4, 8, 16, 32, 64, 128, 256, 512, 1024],\n",
        "                  \"learning_rate\":[0.0001, 0.001, 0.01, 0.1, 1.0]\n",
        "                  }\n",
        "\n",
        "LGB = LGBMClassifier(random_state=10)\n",
        "\n",
        "randomizedsearch = RandomizedSearchCV(LGB, hyperparameters , n_iter=5,cv=10,scoring='f1',random_state=66 , verbose = 5)\n",
        "\n",
        "model = randomizedsearch.fit(X_train,y_train)\n",
        "\n",
        "print('mean test scores',model.cv_results_['mean_test_score'])\n",
        "print(model.best_estimator_)"
      ],
      "execution_count": 13,
      "outputs": [
        {
          "output_type": "stream",
          "text": [
            "Fitting 10 folds for each of 5 candidates, totalling 50 fits\n"
          ],
          "name": "stdout"
        },
        {
          "output_type": "stream",
          "text": [
            "[Parallel(n_jobs=1)]: Using backend SequentialBackend with 1 concurrent workers.\n"
          ],
          "name": "stderr"
        },
        {
          "output_type": "stream",
          "text": [
            "[CV] num_leaves=2, max_depth=3, learning_rate=0.0001 .................\n",
            "[CV]  num_leaves=2, max_depth=3, learning_rate=0.0001, score=0.000, total=  39.3s\n",
            "[CV] num_leaves=2, max_depth=3, learning_rate=0.0001 .................\n"
          ],
          "name": "stdout"
        },
        {
          "output_type": "stream",
          "text": [
            "[Parallel(n_jobs=1)]: Done   1 out of   1 | elapsed:   39.3s remaining:    0.0s\n"
          ],
          "name": "stderr"
        },
        {
          "output_type": "stream",
          "text": [
            "[CV]  num_leaves=2, max_depth=3, learning_rate=0.0001, score=0.000, total=  39.0s\n",
            "[CV] num_leaves=2, max_depth=3, learning_rate=0.0001 .................\n"
          ],
          "name": "stdout"
        },
        {
          "output_type": "stream",
          "text": [
            "[Parallel(n_jobs=1)]: Done   2 out of   2 | elapsed:  1.3min remaining:    0.0s\n"
          ],
          "name": "stderr"
        },
        {
          "output_type": "stream",
          "text": [
            "[CV]  num_leaves=2, max_depth=3, learning_rate=0.0001, score=0.000, total=  39.2s\n",
            "[CV] num_leaves=2, max_depth=3, learning_rate=0.0001 .................\n"
          ],
          "name": "stdout"
        },
        {
          "output_type": "stream",
          "text": [
            "[Parallel(n_jobs=1)]: Done   3 out of   3 | elapsed:  2.0min remaining:    0.0s\n"
          ],
          "name": "stderr"
        },
        {
          "output_type": "stream",
          "text": [
            "[CV]  num_leaves=2, max_depth=3, learning_rate=0.0001, score=0.000, total=  42.5s\n",
            "[CV] num_leaves=2, max_depth=3, learning_rate=0.0001 .................\n"
          ],
          "name": "stdout"
        },
        {
          "output_type": "stream",
          "text": [
            "[Parallel(n_jobs=1)]: Done   4 out of   4 | elapsed:  2.7min remaining:    0.0s\n"
          ],
          "name": "stderr"
        },
        {
          "output_type": "stream",
          "text": [
            "[CV]  num_leaves=2, max_depth=3, learning_rate=0.0001, score=0.000, total=  40.1s\n",
            "[CV] num_leaves=2, max_depth=3, learning_rate=0.0001 .................\n",
            "[CV]  num_leaves=2, max_depth=3, learning_rate=0.0001, score=0.000, total=  39.3s\n",
            "[CV] num_leaves=2, max_depth=3, learning_rate=0.0001 .................\n",
            "[CV]  num_leaves=2, max_depth=3, learning_rate=0.0001, score=0.000, total=  39.0s\n",
            "[CV] num_leaves=2, max_depth=3, learning_rate=0.0001 .................\n",
            "[CV]  num_leaves=2, max_depth=3, learning_rate=0.0001, score=0.000, total=  39.1s\n",
            "[CV] num_leaves=2, max_depth=3, learning_rate=0.0001 .................\n",
            "[CV]  num_leaves=2, max_depth=3, learning_rate=0.0001, score=0.000, total=  39.0s\n",
            "[CV] num_leaves=2, max_depth=3, learning_rate=0.0001 .................\n",
            "[CV]  num_leaves=2, max_depth=3, learning_rate=0.0001, score=0.000, total=  39.0s\n",
            "[CV] num_leaves=128, max_depth=2, learning_rate=0.1 ..................\n",
            "[CV]  num_leaves=128, max_depth=2, learning_rate=0.1, score=0.258, total=  45.0s\n",
            "[CV] num_leaves=128, max_depth=2, learning_rate=0.1 ..................\n",
            "[CV]  num_leaves=128, max_depth=2, learning_rate=0.1, score=0.260, total=  45.8s\n",
            "[CV] num_leaves=128, max_depth=2, learning_rate=0.1 ..................\n",
            "[CV]  num_leaves=128, max_depth=2, learning_rate=0.1, score=0.262, total=  45.7s\n",
            "[CV] num_leaves=128, max_depth=2, learning_rate=0.1 ..................\n",
            "[CV]  num_leaves=128, max_depth=2, learning_rate=0.1, score=0.261, total=  44.7s\n",
            "[CV] num_leaves=128, max_depth=2, learning_rate=0.1 ..................\n",
            "[CV]  num_leaves=128, max_depth=2, learning_rate=0.1, score=0.262, total=  44.9s\n",
            "[CV] num_leaves=128, max_depth=2, learning_rate=0.1 ..................\n",
            "[CV]  num_leaves=128, max_depth=2, learning_rate=0.1, score=0.261, total=  45.0s\n",
            "[CV] num_leaves=128, max_depth=2, learning_rate=0.1 ..................\n",
            "[CV]  num_leaves=128, max_depth=2, learning_rate=0.1, score=0.260, total=  45.2s\n",
            "[CV] num_leaves=128, max_depth=2, learning_rate=0.1 ..................\n",
            "[CV]  num_leaves=128, max_depth=2, learning_rate=0.1, score=0.263, total=  50.6s\n",
            "[CV] num_leaves=128, max_depth=2, learning_rate=0.1 ..................\n",
            "[CV]  num_leaves=128, max_depth=2, learning_rate=0.1, score=0.258, total=  47.5s\n",
            "[CV] num_leaves=128, max_depth=2, learning_rate=0.1 ..................\n",
            "[CV]  num_leaves=128, max_depth=2, learning_rate=0.1, score=0.260, total=  45.2s\n",
            "[CV] num_leaves=1024, max_depth=2, learning_rate=0.001 ...............\n",
            "[CV]  num_leaves=1024, max_depth=2, learning_rate=0.001, score=0.000, total=  46.4s\n",
            "[CV] num_leaves=1024, max_depth=2, learning_rate=0.001 ...............\n",
            "[CV]  num_leaves=1024, max_depth=2, learning_rate=0.001, score=0.000, total=  46.7s\n",
            "[CV] num_leaves=1024, max_depth=2, learning_rate=0.001 ...............\n",
            "[CV]  num_leaves=1024, max_depth=2, learning_rate=0.001, score=0.000, total=  46.3s\n",
            "[CV] num_leaves=1024, max_depth=2, learning_rate=0.001 ...............\n",
            "[CV]  num_leaves=1024, max_depth=2, learning_rate=0.001, score=0.000, total=  46.2s\n",
            "[CV] num_leaves=1024, max_depth=2, learning_rate=0.001 ...............\n",
            "[CV]  num_leaves=1024, max_depth=2, learning_rate=0.001, score=0.000, total=  46.3s\n",
            "[CV] num_leaves=1024, max_depth=2, learning_rate=0.001 ...............\n",
            "[CV]  num_leaves=1024, max_depth=2, learning_rate=0.001, score=0.000, total=  46.2s\n",
            "[CV] num_leaves=1024, max_depth=2, learning_rate=0.001 ...............\n",
            "[CV]  num_leaves=1024, max_depth=2, learning_rate=0.001, score=0.000, total=  46.7s\n",
            "[CV] num_leaves=1024, max_depth=2, learning_rate=0.001 ...............\n",
            "[CV]  num_leaves=1024, max_depth=2, learning_rate=0.001, score=0.000, total=  46.4s\n",
            "[CV] num_leaves=1024, max_depth=2, learning_rate=0.001 ...............\n",
            "[CV]  num_leaves=1024, max_depth=2, learning_rate=0.001, score=0.000, total=  46.5s\n",
            "[CV] num_leaves=1024, max_depth=2, learning_rate=0.001 ...............\n",
            "[CV]  num_leaves=1024, max_depth=2, learning_rate=0.001, score=0.000, total=  46.1s\n",
            "[CV] num_leaves=4, max_depth=6, learning_rate=0.0001 .................\n",
            "[CV]  num_leaves=4, max_depth=6, learning_rate=0.0001, score=0.000, total=  49.1s\n",
            "[CV] num_leaves=4, max_depth=6, learning_rate=0.0001 .................\n",
            "[CV]  num_leaves=4, max_depth=6, learning_rate=0.0001, score=0.000, total=  56.3s\n",
            "[CV] num_leaves=4, max_depth=6, learning_rate=0.0001 .................\n",
            "[CV]  num_leaves=4, max_depth=6, learning_rate=0.0001, score=0.000, total=  48.8s\n",
            "[CV] num_leaves=4, max_depth=6, learning_rate=0.0001 .................\n",
            "[CV]  num_leaves=4, max_depth=6, learning_rate=0.0001, score=0.000, total=  47.9s\n",
            "[CV] num_leaves=4, max_depth=6, learning_rate=0.0001 .................\n",
            "[CV]  num_leaves=4, max_depth=6, learning_rate=0.0001, score=0.000, total=  47.6s\n",
            "[CV] num_leaves=4, max_depth=6, learning_rate=0.0001 .................\n",
            "[CV]  num_leaves=4, max_depth=6, learning_rate=0.0001, score=0.000, total=  48.3s\n",
            "[CV] num_leaves=4, max_depth=6, learning_rate=0.0001 .................\n",
            "[CV]  num_leaves=4, max_depth=6, learning_rate=0.0001, score=0.000, total=  49.0s\n",
            "[CV] num_leaves=4, max_depth=6, learning_rate=0.0001 .................\n",
            "[CV]  num_leaves=4, max_depth=6, learning_rate=0.0001, score=0.000, total=  48.4s\n",
            "[CV] num_leaves=4, max_depth=6, learning_rate=0.0001 .................\n",
            "[CV]  num_leaves=4, max_depth=6, learning_rate=0.0001, score=0.000, total=  47.8s\n",
            "[CV] num_leaves=4, max_depth=6, learning_rate=0.0001 .................\n",
            "[CV]  num_leaves=4, max_depth=6, learning_rate=0.0001, score=0.000, total=  47.9s\n",
            "[CV] num_leaves=8, max_depth=3, learning_rate=0.001 ..................\n",
            "[CV]  num_leaves=8, max_depth=3, learning_rate=0.001, score=0.000, total=  58.3s\n",
            "[CV] num_leaves=8, max_depth=3, learning_rate=0.001 ..................\n",
            "[CV]  num_leaves=8, max_depth=3, learning_rate=0.001, score=0.000, total=  58.6s\n",
            "[CV] num_leaves=8, max_depth=3, learning_rate=0.001 ..................\n",
            "[CV]  num_leaves=8, max_depth=3, learning_rate=0.001, score=0.000, total=  58.0s\n",
            "[CV] num_leaves=8, max_depth=3, learning_rate=0.001 ..................\n",
            "[CV]  num_leaves=8, max_depth=3, learning_rate=0.001, score=0.000, total=  57.8s\n",
            "[CV] num_leaves=8, max_depth=3, learning_rate=0.001 ..................\n",
            "[CV]  num_leaves=8, max_depth=3, learning_rate=0.001, score=0.000, total=  57.8s\n",
            "[CV] num_leaves=8, max_depth=3, learning_rate=0.001 ..................\n",
            "[CV]  num_leaves=8, max_depth=3, learning_rate=0.001, score=0.000, total=  58.2s\n",
            "[CV] num_leaves=8, max_depth=3, learning_rate=0.001 ..................\n",
            "[CV]  num_leaves=8, max_depth=3, learning_rate=0.001, score=0.000, total=  58.4s\n",
            "[CV] num_leaves=8, max_depth=3, learning_rate=0.001 ..................\n",
            "[CV]  num_leaves=8, max_depth=3, learning_rate=0.001, score=0.000, total=  57.8s\n",
            "[CV] num_leaves=8, max_depth=3, learning_rate=0.001 ..................\n",
            "[CV]  num_leaves=8, max_depth=3, learning_rate=0.001, score=0.000, total=  57.9s\n",
            "[CV] num_leaves=8, max_depth=3, learning_rate=0.001 ..................\n",
            "[CV]  num_leaves=8, max_depth=3, learning_rate=0.001, score=0.000, total=  58.7s\n"
          ],
          "name": "stdout"
        },
        {
          "output_type": "stream",
          "text": [
            "[Parallel(n_jobs=1)]: Done  50 out of  50 | elapsed: 39.9min finished\n"
          ],
          "name": "stderr"
        },
        {
          "output_type": "stream",
          "text": [
            "mean test scores [0.         0.26042083 0.         0.         0.        ]\n",
            "LGBMClassifier(boosting_type='gbdt', class_weight=None, colsample_bytree=1.0,\n",
            "               importance_type='split', learning_rate=0.1, max_depth=2,\n",
            "               min_child_samples=20, min_child_weight=0.001, min_split_gain=0.0,\n",
            "               n_estimators=100, n_jobs=-1, num_leaves=128, objective=None,\n",
            "               random_state=10, reg_alpha=0.0, reg_lambda=0.0, silent=True,\n",
            "               subsample=1.0, subsample_for_bin=200000, subsample_freq=0)\n"
          ],
          "name": "stdout"
        }
      ]
    },
    {
      "cell_type": "code",
      "metadata": {
        "colab": {
          "base_uri": "https://localhost:8080/"
        },
        "id": "80YU78f38s0_",
        "outputId": "34729a11-3d5e-4bde-999e-44e243d767ed"
      },
      "source": [
        "clf = LGBMClassifier(max_depth=2, num_leaves=128, random_state=10)\n",
        "\n",
        "clf.fit(X_train,y_train)\n"
      ],
      "execution_count": 15,
      "outputs": [
        {
          "output_type": "execute_result",
          "data": {
            "text/plain": [
              "LGBMClassifier(boosting_type='gbdt', class_weight=None, colsample_bytree=1.0,\n",
              "               importance_type='split', learning_rate=0.1, max_depth=2,\n",
              "               min_child_samples=20, min_child_weight=0.001, min_split_gain=0.0,\n",
              "               n_estimators=100, n_jobs=-1, num_leaves=128, objective=None,\n",
              "               random_state=10, reg_alpha=0.0, reg_lambda=0.0, silent=True,\n",
              "               subsample=1.0, subsample_for_bin=200000, subsample_freq=0)"
            ]
          },
          "metadata": {
            "tags": []
          },
          "execution_count": 15
        }
      ]
    },
    {
      "cell_type": "code",
      "metadata": {
        "id": "VZprM9cJ_NQ3"
      },
      "source": [
        "y_pred = (clf.predict_proba(X_test)[:, 1] >= 0.21).astype('int')"
      ],
      "execution_count": 17,
      "outputs": []
    },
    {
      "cell_type": "code",
      "metadata": {
        "colab": {
          "base_uri": "https://localhost:8080/",
          "height": 482
        },
        "id": "ea2C1oXPGvBW",
        "outputId": "015c528b-8b1c-46a0-92cc-405f9f4b156e"
      },
      "source": [
        "print('F1 Score: {}'.format(f1_score(y_pred, y_test)))\n",
        "print(classification_report(y_pred, y_test))\n",
        "plot_confusion_matrix(y_pred, y_test)"
      ],
      "execution_count": 18,
      "outputs": [
        {
          "output_type": "stream",
          "text": [
            "F1 Score: 0.42823977494048904\n",
            "              precision    recall  f1-score   support\n",
            "\n",
            "           0       0.91      0.94      0.93   2212941\n",
            "           1       0.50      0.38      0.43    329458\n",
            "\n",
            "    accuracy                           0.87   2542399\n",
            "   macro avg       0.70      0.66      0.68   2542399\n",
            "weighted avg       0.86      0.87      0.86   2542399\n",
            "\n"
          ],
          "name": "stdout"
        },
        {
          "output_type": "execute_result",
          "data": {
            "text/plain": [
              "<matplotlib.axes._subplots.AxesSubplot at 0x7f5b0bf42b38>"
            ]
          },
          "metadata": {
            "tags": []
          },
          "execution_count": 18
        },
        {
          "output_type": "display_data",
          "data": {
            "image/png": "[encoded data removed]",
            "text/plain": [
              "<Figure size 432x288 with 2 Axes>"
            ]
          },
          "metadata": {
            "tags": [],
            "needs_background": "light"
          }
        }
      ]
    },
    {
      "cell_type": "code",
      "metadata": {
        "colab": {
          "base_uri": "https://localhost:8080/",
          "height": 714
        },
        "id": "MROKlS1NGyOV",
        "outputId": "30faad11-6d9f-41e5-e4b8-8b77d6e8423d"
      },
      "source": [
        "plot_feature_importances(clf, feature_names=data_test.columns, x_tick_rotation=90, max_num_features=20, figsize=(10,8))"
      ],
      "execution_count": 20,
      "outputs": [
        {
          "output_type": "stream",
          "text": [
            "/usr/local/lib/python3.6/dist-packages/sklearn/utils/deprecation.py:87: FutureWarning: Function plot_feature_importances is deprecated; This will be removed in v0.4.0. Please use scikitplot.estimators.plot_feature_importances instead.\n",
            "  warnings.warn(msg, category=FutureWarning)\n"
          ],
          "name": "stderr"
        },
        {
          "output_type": "execute_result",
          "data": {
            "text/plain": [
              "<matplotlib.axes._subplots.AxesSubplot at 0x7f5b0bdbceb8>"
            ]
          },
          "metadata": {
            "tags": []
          },
          "execution_count": 20
        },
        {
          "output_type": "display_data",
          "data": {
            "image/png": "[encoded data removed]",
            "text/plain": [
              "<Figure size 720x576 with 1 Axes>"
            ]
          },
          "metadata": {
            "tags": [],
            "needs_background": "light"
          }
        }
      ]
    },
    {
      "cell_type": "code",
      "metadata": {
        "colab": {
          "base_uri": "https://localhost:8080/",
          "height": 323
        },
        "id": "e-R4eCybG1IF",
        "outputId": "f0932498-ff96-40c5-fd72-5d35e656fa3b"
      },
      "source": [
        "# Entire Data\n",
        "# clf.fit(data_train.drop(['reordered', 'uxp_ratio_last_five'], axis=1), data_train.reordered)"
      ],
      "execution_count": 24,
      "outputs": [
        {
          "output_type": "error",
          "ename": "KeyboardInterrupt",
          "evalue": "ignored",
          "traceback": [
            "\u001b[0;31m---------------------------------------------------------------------------\u001b[0m",
            "\u001b[0;31mKeyboardInterrupt\u001b[0m                         Traceback (most recent call last)",
            "\u001b[0;32m<ipython-input-24-4a0b94744a32>\u001b[0m in \u001b[0;36m<module>\u001b[0;34m()\u001b[0m\n\u001b[1;32m      1\u001b[0m \u001b[0;31m# Entire Data\u001b[0m\u001b[0;34m\u001b[0m\u001b[0;34m\u001b[0m\u001b[0;34m\u001b[0m\u001b[0m\n\u001b[0;32m----> 2\u001b[0;31m \u001b[0mclf\u001b[0m\u001b[0;34m.\u001b[0m\u001b[0mfit\u001b[0m\u001b[0;34m(\u001b[0m\u001b[0mdata_train\u001b[0m\u001b[0;34m.\u001b[0m\u001b[0mdrop\u001b[0m\u001b[0;34m(\u001b[0m\u001b[0;34m[\u001b[0m\u001b[0;34m'reordered'\u001b[0m\u001b[0;34m,\u001b[0m \u001b[0;34m'uxp_ratio_last_five'\u001b[0m\u001b[0;34m]\u001b[0m\u001b[0;34m,\u001b[0m \u001b[0maxis\u001b[0m\u001b[0;34m=\u001b[0m\u001b[0;36m1\u001b[0m\u001b[0;34m)\u001b[0m\u001b[0;34m,\u001b[0m \u001b[0mdata_train\u001b[0m\u001b[0;34m.\u001b[0m\u001b[0mreordered\u001b[0m\u001b[0;34m)\u001b[0m\u001b[0;34m\u001b[0m\u001b[0;34m\u001b[0m\u001b[0m\n\u001b[0m",
            "\u001b[0;32m/usr/local/lib/python3.6/dist-packages/lightgbm/sklearn.py\u001b[0m in \u001b[0;36mfit\u001b[0;34m(self, X, y, sample_weight, init_score, eval_set, eval_names, eval_sample_weight, eval_class_weight, eval_init_score, eval_metric, early_stopping_rounds, verbose, feature_name, categorical_feature, callbacks)\u001b[0m\n\u001b[1;32m    742\u001b[0m                                         \u001b[0mverbose\u001b[0m\u001b[0;34m=\u001b[0m\u001b[0mverbose\u001b[0m\u001b[0;34m,\u001b[0m \u001b[0mfeature_name\u001b[0m\u001b[0;34m=\u001b[0m\u001b[0mfeature_name\u001b[0m\u001b[0;34m,\u001b[0m\u001b[0;34m\u001b[0m\u001b[0;34m\u001b[0m\u001b[0m\n\u001b[1;32m    743\u001b[0m                                         \u001b[0mcategorical_feature\u001b[0m\u001b[0;34m=\u001b[0m\u001b[0mcategorical_feature\u001b[0m\u001b[0;34m,\u001b[0m\u001b[0;34m\u001b[0m\u001b[0;34m\u001b[0m\u001b[0m\n\u001b[0;32m--> 744\u001b[0;31m                                         callbacks=callbacks)\n\u001b[0m\u001b[1;32m    745\u001b[0m         \u001b[0;32mreturn\u001b[0m \u001b[0mself\u001b[0m\u001b[0;34m\u001b[0m\u001b[0;34m\u001b[0m\u001b[0m\n\u001b[1;32m    746\u001b[0m \u001b[0;34m\u001b[0m\u001b[0m\n",
            "\u001b[0;32m/usr/local/lib/python3.6/dist-packages/lightgbm/sklearn.py\u001b[0m in \u001b[0;36mfit\u001b[0;34m(self, X, y, sample_weight, init_score, group, eval_set, eval_names, eval_sample_weight, eval_class_weight, eval_init_score, eval_group, eval_metric, early_stopping_rounds, verbose, feature_name, categorical_feature, callbacks)\u001b[0m\n\u001b[1;32m    542\u001b[0m                               \u001b[0mverbose_eval\u001b[0m\u001b[0;34m=\u001b[0m\u001b[0mverbose\u001b[0m\u001b[0;34m,\u001b[0m \u001b[0mfeature_name\u001b[0m\u001b[0;34m=\u001b[0m\u001b[0mfeature_name\u001b[0m\u001b[0;34m,\u001b[0m\u001b[0;34m\u001b[0m\u001b[0;34m\u001b[0m\u001b[0m\n\u001b[1;32m    543\u001b[0m                               \u001b[0mcategorical_feature\u001b[0m\u001b[0;34m=\u001b[0m\u001b[0mcategorical_feature\u001b[0m\u001b[0;34m,\u001b[0m\u001b[0;34m\u001b[0m\u001b[0;34m\u001b[0m\u001b[0m\n\u001b[0;32m--> 544\u001b[0;31m                               callbacks=callbacks)\n\u001b[0m\u001b[1;32m    545\u001b[0m \u001b[0;34m\u001b[0m\u001b[0m\n\u001b[1;32m    546\u001b[0m         \u001b[0;32mif\u001b[0m \u001b[0mevals_result\u001b[0m\u001b[0;34m:\u001b[0m\u001b[0;34m\u001b[0m\u001b[0;34m\u001b[0m\u001b[0m\n",
            "\u001b[0;32m/usr/local/lib/python3.6/dist-packages/lightgbm/engine.py\u001b[0m in \u001b[0;36mtrain\u001b[0;34m(params, train_set, num_boost_round, valid_sets, valid_names, fobj, feval, init_model, feature_name, categorical_feature, early_stopping_rounds, evals_result, verbose_eval, learning_rates, keep_training_booster, callbacks)\u001b[0m\n\u001b[1;32m    216\u001b[0m                                     evaluation_result_list=None))\n\u001b[1;32m    217\u001b[0m \u001b[0;34m\u001b[0m\u001b[0m\n\u001b[0;32m--> 218\u001b[0;31m         \u001b[0mbooster\u001b[0m\u001b[0;34m.\u001b[0m\u001b[0mupdate\u001b[0m\u001b[0;34m(\u001b[0m\u001b[0mfobj\u001b[0m\u001b[0;34m=\u001b[0m\u001b[0mfobj\u001b[0m\u001b[0;34m)\u001b[0m\u001b[0;34m\u001b[0m\u001b[0;34m\u001b[0m\u001b[0m\n\u001b[0m\u001b[1;32m    219\u001b[0m \u001b[0;34m\u001b[0m\u001b[0m\n\u001b[1;32m    220\u001b[0m         \u001b[0mevaluation_result_list\u001b[0m \u001b[0;34m=\u001b[0m \u001b[0;34m[\u001b[0m\u001b[0;34m]\u001b[0m\u001b[0;34m\u001b[0m\u001b[0;34m\u001b[0m\u001b[0m\n",
            "\u001b[0;32m/usr/local/lib/python3.6/dist-packages/lightgbm/basic.py\u001b[0m in \u001b[0;36mupdate\u001b[0;34m(self, train_set, fobj)\u001b[0m\n\u001b[1;32m   1800\u001b[0m             _safe_call(_LIB.LGBM_BoosterUpdateOneIter(\n\u001b[1;32m   1801\u001b[0m                 \u001b[0mself\u001b[0m\u001b[0;34m.\u001b[0m\u001b[0mhandle\u001b[0m\u001b[0;34m,\u001b[0m\u001b[0;34m\u001b[0m\u001b[0;34m\u001b[0m\u001b[0m\n\u001b[0;32m-> 1802\u001b[0;31m                 ctypes.byref(is_finished)))\n\u001b[0m\u001b[1;32m   1803\u001b[0m             \u001b[0mself\u001b[0m\u001b[0;34m.\u001b[0m\u001b[0m__is_predicted_cur_iter\u001b[0m \u001b[0;34m=\u001b[0m \u001b[0;34m[\u001b[0m\u001b[0;32mFalse\u001b[0m \u001b[0;32mfor\u001b[0m \u001b[0m_\u001b[0m \u001b[0;32min\u001b[0m \u001b[0mrange_\u001b[0m\u001b[0;34m(\u001b[0m\u001b[0mself\u001b[0m\u001b[0;34m.\u001b[0m\u001b[0m__num_dataset\u001b[0m\u001b[0;34m)\u001b[0m\u001b[0;34m]\u001b[0m\u001b[0;34m\u001b[0m\u001b[0;34m\u001b[0m\u001b[0m\n\u001b[1;32m   1804\u001b[0m             \u001b[0;32mreturn\u001b[0m \u001b[0mis_finished\u001b[0m\u001b[0;34m.\u001b[0m\u001b[0mvalue\u001b[0m \u001b[0;34m==\u001b[0m \u001b[0;36m1\u001b[0m\u001b[0;34m\u001b[0m\u001b[0;34m\u001b[0m\u001b[0m\n",
            "\u001b[0;31mKeyboardInterrupt\u001b[0m: "
          ]
        }
      ]
    },
    {
      "cell_type": "code",
      "metadata": {
        "id": "KbxtfTfRHZPQ"
      },
      "source": [
        ""
      ],
      "execution_count": null,
      "outputs": []
    }
  ]
}