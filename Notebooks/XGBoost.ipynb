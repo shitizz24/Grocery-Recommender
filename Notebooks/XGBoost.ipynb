{
  "nbformat": 4,
  "nbformat_minor": 0,
  "metadata": {
    "colab": {
      "name": "XGB.ipynb",
      "provenance": []
    },
    "kernelspec": {
      "name": "python3",
      "display_name": "Python 3"
    }
  },
  "cells": [
    {
      "cell_type": "code",
      "metadata": {
        "id": "IcbDgC1y7c5N"
      },
      "source": [
        "import numpy as np\n",
        "import pandas as pd\n",
        "import zipfile\n",
        "import gc\n",
        "gc.enable()"
      ],
      "execution_count": null,
      "outputs": []
    },
    {
      "cell_type": "code",
      "metadata": {
        "colab": {
          "base_uri": "https://localhost:8080/"
        },
        "id": "0JJB_DUA7dyF",
        "outputId": "b5ca9c73-e572-4489-c56d-3a55261b21ee"
      },
      "source": [
        "from google.colab import drive\n",
        "drive.mount('/content/drive')"
      ],
      "execution_count": null,
      "outputs": [
        {
          "output_type": "stream",
          "text": [
            "Drive already mounted at /content/drive; to attempt to forcibly remount, call drive.mount(\"/content/drive\", force_remount=True).\n"
          ],
          "name": "stdout"
        }
      ]
    },
    {
      "cell_type": "code",
      "metadata": {
        "id": "yCH_UC3G7gW4"
      },
      "source": [
        "path=\"/content/drive/MyDrive/Data_btp2/\"\n",
        "train=zipfile.ZipFile(path+\"data_train\"+\".zip\",\"r\")\n",
        "test=zipfile.ZipFile(path+\"data_test\"+\".zip\",\"r\")"
      ],
      "execution_count": null,
      "outputs": []
    },
    {
      "cell_type": "code",
      "metadata": {
        "id": "AgugoMOc71KB"
      },
      "source": [
        "data_train = pd.read_csv(train.open('data_train.csv'))\n",
        "data_test = pd.read_csv(test.open('data_test.csv'))\n",
        "\n"
      ],
      "execution_count": null,
      "outputs": []
    },
    {
      "cell_type": "code",
      "metadata": {
        "id": "lpIdDuef8CfC",
        "colab": {
          "base_uri": "https://localhost:8080/"
        },
        "outputId": "09dc7e2a-f994-4e68-c9fe-2b28f59a18ba"
      },
      "source": [
        "data_test.info()"
      ],
      "execution_count": null,
      "outputs": [
        {
          "output_type": "stream",
          "text": [
            "<class 'pandas.core.frame.DataFrame'>\n",
            "RangeIndex: 4833292 entries, 0 to 4833291\n",
            "Data columns (total 18 columns):\n",
            " #   Column                       Dtype  \n",
            "---  ------                       -----  \n",
            " 0   user_id                      int64  \n",
            " 1   product_id                   int64  \n",
            " 2   uxp_times_bought             int64  \n",
            " 3   uxp_reorder_ratio            float64\n",
            " 4   uxp_last_five                float64\n",
            " 5   uxp_ratio_last_five          float64\n",
            " 6   u_num_of_orders              int64  \n",
            " 7   u_avg_prd                    float64\n",
            " 8   dow_u_most_orders            int64  \n",
            " 9   hod_u_most_orders            int64  \n",
            " 10  u_reorder_ratio              float64\n",
            " 11  average_days_between_orders  float64\n",
            " 12  u_total_items_bought         int64  \n",
            " 13  p_num_of_times               int64  \n",
            " 14  p_reorder_ratio              float64\n",
            " 15  p_avg_cart_position          float64\n",
            " 16  aisle_id                     float64\n",
            " 17  department_id                float64\n",
            "dtypes: float64(10), int64(8)\n",
            "memory usage: 663.8 MB\n"
          ],
          "name": "stdout"
        }
      ]
    },
    {
      "cell_type": "code",
      "metadata": {
        "colab": {
          "base_uri": "https://localhost:8080/",
          "height": 224
        },
        "id": "blOoOwKTLmO5",
        "outputId": "90af2b95-145d-440f-8055-5d196bcd7170"
      },
      "source": [
        "data_test.head()"
      ],
      "execution_count": null,
      "outputs": [
        {
          "output_type": "execute_result",
          "data": {
            "text/html": [
              "<div>\n",
              "<style scoped>\n",
              "    .dataframe tbody tr th:only-of-type {\n",
              "        vertical-align: middle;\n",
              "    }\n",
              "\n",
              "    .dataframe tbody tr th {\n",
              "        vertical-align: top;\n",
              "    }\n",
              "\n",
              "    .dataframe thead th {\n",
              "        text-align: right;\n",
              "    }\n",
              "</style>\n",
              "<table border=\"1\" class=\"dataframe\">\n",
              "  <thead>\n",
              "    <tr style=\"text-align: right;\">\n",
              "      <th></th>\n",
              "      <th>user_id</th>\n",
              "      <th>product_id</th>\n",
              "      <th>uxp_times_bought</th>\n",
              "      <th>uxp_reorder_ratio</th>\n",
              "      <th>uxp_last_five</th>\n",
              "      <th>uxp_ratio_last_five</th>\n",
              "      <th>u_num_of_orders</th>\n",
              "      <th>u_avg_prd</th>\n",
              "      <th>dow_u_most_orders</th>\n",
              "      <th>hod_u_most_orders</th>\n",
              "      <th>u_reorder_ratio</th>\n",
              "      <th>average_days_between_orders</th>\n",
              "      <th>u_total_items_bought</th>\n",
              "      <th>p_num_of_times</th>\n",
              "      <th>p_reorder_ratio</th>\n",
              "      <th>p_avg_cart_position</th>\n",
              "      <th>aisle_id</th>\n",
              "      <th>department_id</th>\n",
              "    </tr>\n",
              "  </thead>\n",
              "  <tbody>\n",
              "    <tr>\n",
              "      <th>0</th>\n",
              "      <td>3</td>\n",
              "      <td>248</td>\n",
              "      <td>1</td>\n",
              "      <td>0.090909</td>\n",
              "      <td>0.0</td>\n",
              "      <td>0.0</td>\n",
              "      <td>12</td>\n",
              "      <td>7.333333</td>\n",
              "      <td>0</td>\n",
              "      <td>16</td>\n",
              "      <td>0.625</td>\n",
              "      <td>13.590909</td>\n",
              "      <td>88</td>\n",
              "      <td>6371</td>\n",
              "      <td>0.400251</td>\n",
              "      <td>10.620782</td>\n",
              "      <td>0.070016</td>\n",
              "      <td>0.088504</td>\n",
              "    </tr>\n",
              "    <tr>\n",
              "      <th>1</th>\n",
              "      <td>3</td>\n",
              "      <td>1005</td>\n",
              "      <td>1</td>\n",
              "      <td>0.333333</td>\n",
              "      <td>1.0</td>\n",
              "      <td>0.2</td>\n",
              "      <td>12</td>\n",
              "      <td>7.333333</td>\n",
              "      <td>0</td>\n",
              "      <td>16</td>\n",
              "      <td>0.625</td>\n",
              "      <td>13.590909</td>\n",
              "      <td>88</td>\n",
              "      <td>463</td>\n",
              "      <td>0.440605</td>\n",
              "      <td>9.498920</td>\n",
              "      <td>0.066098</td>\n",
              "      <td>0.126562</td>\n",
              "    </tr>\n",
              "    <tr>\n",
              "      <th>2</th>\n",
              "      <td>3</td>\n",
              "      <td>1819</td>\n",
              "      <td>3</td>\n",
              "      <td>0.333333</td>\n",
              "      <td>0.0</td>\n",
              "      <td>0.0</td>\n",
              "      <td>12</td>\n",
              "      <td>7.333333</td>\n",
              "      <td>0</td>\n",
              "      <td>16</td>\n",
              "      <td>0.625</td>\n",
              "      <td>13.590909</td>\n",
              "      <td>88</td>\n",
              "      <td>2424</td>\n",
              "      <td>0.492162</td>\n",
              "      <td>9.287541</td>\n",
              "      <td>0.063782</td>\n",
              "      <td>0.037791</td>\n",
              "    </tr>\n",
              "    <tr>\n",
              "      <th>3</th>\n",
              "      <td>3</td>\n",
              "      <td>7503</td>\n",
              "      <td>1</td>\n",
              "      <td>0.100000</td>\n",
              "      <td>0.0</td>\n",
              "      <td>0.0</td>\n",
              "      <td>12</td>\n",
              "      <td>7.333333</td>\n",
              "      <td>0</td>\n",
              "      <td>16</td>\n",
              "      <td>0.625</td>\n",
              "      <td>13.590909</td>\n",
              "      <td>88</td>\n",
              "      <td>12474</td>\n",
              "      <td>0.553551</td>\n",
              "      <td>9.547379</td>\n",
              "      <td>0.070016</td>\n",
              "      <td>0.088504</td>\n",
              "    </tr>\n",
              "    <tr>\n",
              "      <th>4</th>\n",
              "      <td>3</td>\n",
              "      <td>8021</td>\n",
              "      <td>1</td>\n",
              "      <td>0.090909</td>\n",
              "      <td>0.0</td>\n",
              "      <td>0.0</td>\n",
              "      <td>12</td>\n",
              "      <td>7.333333</td>\n",
              "      <td>0</td>\n",
              "      <td>16</td>\n",
              "      <td>0.625</td>\n",
              "      <td>13.590909</td>\n",
              "      <td>88</td>\n",
              "      <td>27864</td>\n",
              "      <td>0.591157</td>\n",
              "      <td>8.822854</td>\n",
              "      <td>0.095193</td>\n",
              "      <td>0.054678</td>\n",
              "    </tr>\n",
              "  </tbody>\n",
              "</table>\n",
              "</div>"
            ],
            "text/plain": [
              "   user_id  product_id  ...  aisle_id  department_id\n",
              "0        3         248  ...  0.070016       0.088504\n",
              "1        3        1005  ...  0.066098       0.126562\n",
              "2        3        1819  ...  0.063782       0.037791\n",
              "3        3        7503  ...  0.070016       0.088504\n",
              "4        3        8021  ...  0.095193       0.054678\n",
              "\n",
              "[5 rows x 18 columns]"
            ]
          },
          "metadata": {
            "tags": []
          },
          "execution_count": 6
        }
      ]
    },
    {
      "cell_type": "code",
      "metadata": {
        "colab": {
          "base_uri": "https://localhost:8080/"
        },
        "id": "B9qIgrxlLwcs",
        "outputId": "b5b48ac6-6f22-4d6c-cc54-7f7140c2236a"
      },
      "source": [
        "data_train.info()"
      ],
      "execution_count": null,
      "outputs": [
        {
          "output_type": "stream",
          "text": [
            "<class 'pandas.core.frame.DataFrame'>\n",
            "RangeIndex: 8474661 entries, 0 to 8474660\n",
            "Data columns (total 19 columns):\n",
            " #   Column                       Dtype  \n",
            "---  ------                       -----  \n",
            " 0   user_id                      int64  \n",
            " 1   product_id                   int64  \n",
            " 2   uxp_times_bought             int64  \n",
            " 3   uxp_reorder_ratio            float64\n",
            " 4   uxp_last_five                float64\n",
            " 5   uxp_ratio_last_five          float64\n",
            " 6   u_num_of_orders              int64  \n",
            " 7   u_avg_prd                    float64\n",
            " 8   dow_u_most_orders            int64  \n",
            " 9   hod_u_most_orders            int64  \n",
            " 10  u_reorder_ratio              float64\n",
            " 11  average_days_between_orders  float64\n",
            " 12  u_total_items_bought         int64  \n",
            " 13  p_num_of_times               int64  \n",
            " 14  p_reorder_ratio              float64\n",
            " 15  p_avg_cart_position          float64\n",
            " 16  reordered                    float64\n",
            " 17  aisle_id                     float64\n",
            " 18  department_id                float64\n",
            "dtypes: float64(11), int64(8)\n",
            "memory usage: 1.2 GB\n"
          ],
          "name": "stdout"
        }
      ]
    },
    {
      "cell_type": "code",
      "metadata": {
        "colab": {
          "base_uri": "https://localhost:8080/"
        },
        "id": "50c__-0dkjLt",
        "outputId": "40e76dd2-cc33-4d2e-dae7-82f23e6871c8"
      },
      "source": [
        "pip install scikit-plot"
      ],
      "execution_count": null,
      "outputs": [
        {
          "output_type": "stream",
          "text": [
            "Requirement already satisfied: scikit-plot in /usr/local/lib/python3.6/dist-packages (0.3.7)\n",
            "Requirement already satisfied: joblib>=0.10 in /usr/local/lib/python3.6/dist-packages (from scikit-plot) (1.0.0)\n",
            "Requirement already satisfied: scipy>=0.9 in /usr/local/lib/python3.6/dist-packages (from scikit-plot) (1.4.1)\n",
            "Requirement already satisfied: scikit-learn>=0.18 in /usr/local/lib/python3.6/dist-packages (from scikit-plot) (0.22.2.post1)\n",
            "Requirement already satisfied: matplotlib>=1.4.0 in /usr/local/lib/python3.6/dist-packages (from scikit-plot) (3.2.2)\n",
            "Requirement already satisfied: numpy>=1.13.3 in /usr/local/lib/python3.6/dist-packages (from scipy>=0.9->scikit-plot) (1.19.5)\n",
            "Requirement already satisfied: kiwisolver>=1.0.1 in /usr/local/lib/python3.6/dist-packages (from matplotlib>=1.4.0->scikit-plot) (1.3.1)\n",
            "Requirement already satisfied: python-dateutil>=2.1 in /usr/local/lib/python3.6/dist-packages (from matplotlib>=1.4.0->scikit-plot) (2.8.1)\n",
            "Requirement already satisfied: pyparsing!=2.0.4,!=2.1.2,!=2.1.6,>=2.0.1 in /usr/local/lib/python3.6/dist-packages (from matplotlib>=1.4.0->scikit-plot) (2.4.7)\n",
            "Requirement already satisfied: cycler>=0.10 in /usr/local/lib/python3.6/dist-packages (from matplotlib>=1.4.0->scikit-plot) (0.10.0)\n",
            "Requirement already satisfied: six>=1.5 in /usr/local/lib/python3.6/dist-packages (from python-dateutil>=2.1->matplotlib>=1.4.0->scikit-plot) (1.15.0)\n"
          ],
          "name": "stdout"
        }
      ]
    },
    {
      "cell_type": "code",
      "metadata": {
        "id": "0a78sXlIMzBi"
      },
      "source": [
        "from sklearn.model_selection import train_test_split, GridSearchCV, KFold\n",
        "from sklearn.metrics import f1_score, classification_report\n",
        "from scikitplot.metrics import plot_confusion_matrix\n",
        "from scikitplot.classifiers import plot_feature_importances"
      ],
      "execution_count": null,
      "outputs": []
    },
    {
      "cell_type": "code",
      "metadata": {
        "id": "mPw1tdGHkE41"
      },
      "source": [
        "import xgboost as xgb"
      ],
      "execution_count": null,
      "outputs": []
    },
    {
      "cell_type": "code",
      "metadata": {
        "id": "5bMML0hukHIZ"
      },
      "source": [
        "X = data_train.drop(['reordered', 'uxp_ratio_last_five'], axis=1)\n",
        "y = data_train.reordered"
      ],
      "execution_count": null,
      "outputs": []
    },
    {
      "cell_type": "code",
      "metadata": {
        "id": "ycVrRKvTkKJo"
      },
      "source": [
        "X_train, X_test, y_train, y_test = train_test_split(X, y, test_size=0.3, random_state=10)"
      ],
      "execution_count": null,
      "outputs": []
    },
    {
      "cell_type": "code",
      "metadata": {
        "id": "E2XJlmjPk-5P"
      },
      "source": [
        "parameters = {\n",
        "    'eavl_metric' : 'logloss',\n",
        "    'max_depth' : 5,\n",
        "    'colsample_bytree' : 0.4,\n",
        "    'subsample' : 0.8\n",
        "}"
      ],
      "execution_count": null,
      "outputs": []
    },
    {
      "cell_type": "code",
      "metadata": {
        "colab": {
          "base_uri": "https://localhost:8080/"
        },
        "id": "SQSPWKVQlBDb",
        "outputId": "550c4c47-d003-43c5-fe98-4e1c0af7190f"
      },
      "source": [
        "xgb = xgb.XGBClassifier(objective='binary:logistic', parameters=parameters, num_boost_round=10)\n",
        "\n",
        "#fitting the model.\n",
        "xgb.fit(X_train, y_train)"
      ],
      "execution_count": null,
      "outputs": [
        {
          "output_type": "stream",
          "text": [
            "[07:38:38] WARNING: /workspace/src/learner.cc:686: Tree method is automatically selected to be 'approx' for faster speed. To use old behavior (exact greedy algorithm on single machine), set tree_method to 'exact'.\n"
          ],
          "name": "stdout"
        },
        {
          "output_type": "execute_result",
          "data": {
            "text/plain": [
              "XGBClassifier(base_score=0.5, booster='gbtree', colsample_bylevel=1,\n",
              "              colsample_bynode=1, colsample_bytree=1, gamma=0,\n",
              "              learning_rate=0.1, max_delta_step=0, max_depth=3,\n",
              "              min_child_weight=1, missing=None, n_estimators=100, n_jobs=1,\n",
              "              nthread=None, num_boost_round=10, objective='binary:logistic',\n",
              "              parameters={'colsample_bytree': 0.4, 'eavl_metric': 'logloss',\n",
              "                          'max_depth': 5, 'subsample': 0.8},\n",
              "              random_state=0, reg_alpha=0, reg_lambda=1, scale_pos_weight=1,\n",
              "              seed=None, silent=None, subsample=1, verbosity=1)"
            ]
          },
          "metadata": {
            "tags": []
          },
          "execution_count": 14
        }
      ]
    },
    {
      "cell_type": "code",
      "metadata": {
        "id": "eXVXuL_1lGvA"
      },
      "source": [
        "y_pred = (xgb.predict_proba(X_test)[:, 1] >= 0.21).astype('int')"
      ],
      "execution_count": null,
      "outputs": []
    },
    {
      "cell_type": "code",
      "metadata": {
        "colab": {
          "base_uri": "https://localhost:8080/",
          "height": 482
        },
        "id": "sDlQ0uWflNns",
        "outputId": "cfc4ef15-21b7-4049-e3b0-41f980716eb5"
      },
      "source": [
        "print('F1 Score: {}'.format(f1_score(y_pred, y_test)))\n",
        "print(classification_report(y_pred, y_test))\n",
        "plot_confusion_matrix(y_pred, y_test)"
      ],
      "execution_count": null,
      "outputs": [
        {
          "output_type": "stream",
          "text": [
            "F1 Score: 0.4305825242718446\n",
            "              precision    recall  f1-score   support\n",
            "\n",
            "           0       0.91      0.94      0.93   2222006\n",
            "           1       0.49      0.38      0.43    320393\n",
            "\n",
            "    accuracy                           0.87   2542399\n",
            "   macro avg       0.70      0.66      0.68   2542399\n",
            "weighted avg       0.86      0.87      0.87   2542399\n",
            "\n"
          ],
          "name": "stdout"
        },
        {
          "output_type": "execute_result",
          "data": {
            "text/plain": [
              "<matplotlib.axes._subplots.AxesSubplot at 0x7f6a5db75550>"
            ]
          },
          "metadata": {
            "tags": []
          },
          "execution_count": 16
        },
        {
          "output_type": "display_data",
          "data": {
            "image/png": "[encoded data removed]",
            "text/plain": [
              "<Figure size 432x288 with 2 Axes>"
            ]
          },
          "metadata": {
            "tags": [],
            "needs_background": "light"
          }
        }
      ]
    },
    {
      "cell_type": "code",
      "metadata": {
        "colab": {
          "base_uri": "https://localhost:8080/",
          "height": 714
        },
        "id": "uBnUuYeblPto",
        "outputId": "1ebf0ae4-68b0-488d-e6be-5e746caa6079"
      },
      "source": [
        "plot_feature_importances(xgb, feature_names=data_test.columns, x_tick_rotation=90, max_num_features=20, figsize=(10,8))"
      ],
      "execution_count": null,
      "outputs": [
        {
          "output_type": "stream",
          "text": [
            "/usr/local/lib/python3.6/dist-packages/sklearn/utils/deprecation.py:87: FutureWarning: Function plot_feature_importances is deprecated; This will be removed in v0.4.0. Please use scikitplot.estimators.plot_feature_importances instead.\n",
            "  warnings.warn(msg, category=FutureWarning)\n"
          ],
          "name": "stderr"
        },
        {
          "output_type": "execute_result",
          "data": {
            "text/plain": [
              "<matplotlib.axes._subplots.AxesSubplot at 0x7f6a54d327b8>"
            ]
          },
          "metadata": {
            "tags": []
          },
          "execution_count": 17
        },
        {
          "output_type": "display_data",
          "data": {
            "image/png": "[encoded data removed]",
            "text/plain": [
              "<Figure size 720x576 with 1 Axes>"
            ]
          },
          "metadata": {
            "tags": [],
            "needs_background": "light"
          }
        }
      ]
    },
    {
      "cell_type": "code",
      "metadata": {
        "id": "-lKkD_Buv5l1"
      },
      "source": [
        "import pickle\n",
        "filename = 'XGB_model.sav'\n",
        "pickle.dump(xgb, open(filename, 'wb'))"
      ],
      "execution_count": null,
      "outputs": []
    },
    {
      "cell_type": "code",
      "metadata": {
        "id": "33oZ7c0F082Y",
        "colab": {
          "base_uri": "https://localhost:8080/"
        },
        "outputId": "b536eb6b-36dc-4ac2-8877-57b66f3e23c7"
      },
      "source": [
        "# Entire Data\n",
        "# xgb.fit(data_train.drop(['reordered', 'uxp_ratio_last_five'], axis=1), data_train.reordered)"
      ],
      "execution_count": null,
      "outputs": [
        {
          "output_type": "stream",
          "text": [
            "[07:34:27] WARNING: /workspace/src/learner.cc:686: Tree method is automatically selected to be 'approx' for faster speed. To use old behavior (exact greedy algorithm on single machine), set tree_method to 'exact'.\n"
          ],
          "name": "stdout"
        }
      ]
    },
    {
      "cell_type": "code",
      "metadata": {
        "id": "t0nK_6JiLAgY"
      },
      "source": [
        "y_pred_test = (xgb.predict_proba(data_test.drop('uxp_ratio_last_five', axis=1))[:, 1] >= 0.21).astype('int')"
      ],
      "execution_count": null,
      "outputs": []
    },
    {
      "cell_type": "code",
      "metadata": {
        "colab": {
          "base_uri": "https://localhost:8080/",
          "height": 224
        },
        "id": "Hm4_7es7LDpI",
        "outputId": "6673835c-82ca-43c5-a99c-49c4490de757"
      },
      "source": [
        "data_test['prediction'] = y_pred_test\n",
        "data_test.head()"
      ],
      "execution_count": null,
      "outputs": [
        {
          "output_type": "execute_result",
          "data": {
            "text/html": [
              "<div>\n",
              "<style scoped>\n",
              "    .dataframe tbody tr th:only-of-type {\n",
              "        vertical-align: middle;\n",
              "    }\n",
              "\n",
              "    .dataframe tbody tr th {\n",
              "        vertical-align: top;\n",
              "    }\n",
              "\n",
              "    .dataframe thead th {\n",
              "        text-align: right;\n",
              "    }\n",
              "</style>\n",
              "<table border=\"1\" class=\"dataframe\">\n",
              "  <thead>\n",
              "    <tr style=\"text-align: right;\">\n",
              "      <th></th>\n",
              "      <th>user_id</th>\n",
              "      <th>product_id</th>\n",
              "      <th>uxp_times_bought</th>\n",
              "      <th>uxp_reorder_ratio</th>\n",
              "      <th>uxp_last_five</th>\n",
              "      <th>uxp_ratio_last_five</th>\n",
              "      <th>u_num_of_orders</th>\n",
              "      <th>u_avg_prd</th>\n",
              "      <th>dow_u_most_orders</th>\n",
              "      <th>hod_u_most_orders</th>\n",
              "      <th>u_reorder_ratio</th>\n",
              "      <th>average_days_between_orders</th>\n",
              "      <th>u_total_items_bought</th>\n",
              "      <th>p_num_of_times</th>\n",
              "      <th>p_reorder_ratio</th>\n",
              "      <th>p_avg_cart_position</th>\n",
              "      <th>aisle_id</th>\n",
              "      <th>department_id</th>\n",
              "      <th>prediction</th>\n",
              "    </tr>\n",
              "  </thead>\n",
              "  <tbody>\n",
              "    <tr>\n",
              "      <th>0</th>\n",
              "      <td>3</td>\n",
              "      <td>248</td>\n",
              "      <td>1</td>\n",
              "      <td>0.090909</td>\n",
              "      <td>0.0</td>\n",
              "      <td>0.0</td>\n",
              "      <td>12</td>\n",
              "      <td>7.333333</td>\n",
              "      <td>0</td>\n",
              "      <td>16</td>\n",
              "      <td>0.625</td>\n",
              "      <td>13.590909</td>\n",
              "      <td>88</td>\n",
              "      <td>6371</td>\n",
              "      <td>0.400251</td>\n",
              "      <td>10.620782</td>\n",
              "      <td>0.070016</td>\n",
              "      <td>0.088504</td>\n",
              "      <td>0</td>\n",
              "    </tr>\n",
              "    <tr>\n",
              "      <th>1</th>\n",
              "      <td>3</td>\n",
              "      <td>1005</td>\n",
              "      <td>1</td>\n",
              "      <td>0.333333</td>\n",
              "      <td>1.0</td>\n",
              "      <td>0.2</td>\n",
              "      <td>12</td>\n",
              "      <td>7.333333</td>\n",
              "      <td>0</td>\n",
              "      <td>16</td>\n",
              "      <td>0.625</td>\n",
              "      <td>13.590909</td>\n",
              "      <td>88</td>\n",
              "      <td>463</td>\n",
              "      <td>0.440605</td>\n",
              "      <td>9.498920</td>\n",
              "      <td>0.066098</td>\n",
              "      <td>0.126562</td>\n",
              "      <td>0</td>\n",
              "    </tr>\n",
              "    <tr>\n",
              "      <th>2</th>\n",
              "      <td>3</td>\n",
              "      <td>1819</td>\n",
              "      <td>3</td>\n",
              "      <td>0.333333</td>\n",
              "      <td>0.0</td>\n",
              "      <td>0.0</td>\n",
              "      <td>12</td>\n",
              "      <td>7.333333</td>\n",
              "      <td>0</td>\n",
              "      <td>16</td>\n",
              "      <td>0.625</td>\n",
              "      <td>13.590909</td>\n",
              "      <td>88</td>\n",
              "      <td>2424</td>\n",
              "      <td>0.492162</td>\n",
              "      <td>9.287541</td>\n",
              "      <td>0.063782</td>\n",
              "      <td>0.037791</td>\n",
              "      <td>0</td>\n",
              "    </tr>\n",
              "    <tr>\n",
              "      <th>3</th>\n",
              "      <td>3</td>\n",
              "      <td>7503</td>\n",
              "      <td>1</td>\n",
              "      <td>0.100000</td>\n",
              "      <td>0.0</td>\n",
              "      <td>0.0</td>\n",
              "      <td>12</td>\n",
              "      <td>7.333333</td>\n",
              "      <td>0</td>\n",
              "      <td>16</td>\n",
              "      <td>0.625</td>\n",
              "      <td>13.590909</td>\n",
              "      <td>88</td>\n",
              "      <td>12474</td>\n",
              "      <td>0.553551</td>\n",
              "      <td>9.547379</td>\n",
              "      <td>0.070016</td>\n",
              "      <td>0.088504</td>\n",
              "      <td>0</td>\n",
              "    </tr>\n",
              "    <tr>\n",
              "      <th>4</th>\n",
              "      <td>3</td>\n",
              "      <td>8021</td>\n",
              "      <td>1</td>\n",
              "      <td>0.090909</td>\n",
              "      <td>0.0</td>\n",
              "      <td>0.0</td>\n",
              "      <td>12</td>\n",
              "      <td>7.333333</td>\n",
              "      <td>0</td>\n",
              "      <td>16</td>\n",
              "      <td>0.625</td>\n",
              "      <td>13.590909</td>\n",
              "      <td>88</td>\n",
              "      <td>27864</td>\n",
              "      <td>0.591157</td>\n",
              "      <td>8.822854</td>\n",
              "      <td>0.095193</td>\n",
              "      <td>0.054678</td>\n",
              "      <td>0</td>\n",
              "    </tr>\n",
              "  </tbody>\n",
              "</table>\n",
              "</div>"
            ],
            "text/plain": [
              "   user_id  product_id  uxp_times_bought  ...  aisle_id  department_id  prediction\n",
              "0        3         248                 1  ...  0.070016       0.088504           0\n",
              "1        3        1005                 1  ...  0.066098       0.126562           0\n",
              "2        3        1819                 3  ...  0.063782       0.037791           0\n",
              "3        3        7503                 1  ...  0.070016       0.088504           0\n",
              "4        3        8021                 1  ...  0.095193       0.054678           0\n",
              "\n",
              "[5 rows x 19 columns]"
            ]
          },
          "metadata": {
            "tags": []
          },
          "execution_count": 19
        }
      ]
    },
    {
      "cell_type": "code",
      "metadata": {
        "colab": {
          "base_uri": "https://localhost:8080/",
          "height": 204
        },
        "id": "kjQkcBIqLGEC",
        "outputId": "0d5fa408-12ca-41ce-a62d-fe936ab81714"
      },
      "source": [
        "final = data_test.reset_index()\n",
        "final = final[['product_id', 'user_id', 'prediction']]\n",
        "\n",
        "gc.collect()\n",
        "final.head()"
      ],
      "execution_count": null,
      "outputs": [
        {
          "output_type": "execute_result",
          "data": {
            "text/html": [
              "<div>\n",
              "<style scoped>\n",
              "    .dataframe tbody tr th:only-of-type {\n",
              "        vertical-align: middle;\n",
              "    }\n",
              "\n",
              "    .dataframe tbody tr th {\n",
              "        vertical-align: top;\n",
              "    }\n",
              "\n",
              "    .dataframe thead th {\n",
              "        text-align: right;\n",
              "    }\n",
              "</style>\n",
              "<table border=\"1\" class=\"dataframe\">\n",
              "  <thead>\n",
              "    <tr style=\"text-align: right;\">\n",
              "      <th></th>\n",
              "      <th>product_id</th>\n",
              "      <th>user_id</th>\n",
              "      <th>prediction</th>\n",
              "    </tr>\n",
              "  </thead>\n",
              "  <tbody>\n",
              "    <tr>\n",
              "      <th>0</th>\n",
              "      <td>248</td>\n",
              "      <td>3</td>\n",
              "      <td>0</td>\n",
              "    </tr>\n",
              "    <tr>\n",
              "      <th>1</th>\n",
              "      <td>1005</td>\n",
              "      <td>3</td>\n",
              "      <td>0</td>\n",
              "    </tr>\n",
              "    <tr>\n",
              "      <th>2</th>\n",
              "      <td>1819</td>\n",
              "      <td>3</td>\n",
              "      <td>0</td>\n",
              "    </tr>\n",
              "    <tr>\n",
              "      <th>3</th>\n",
              "      <td>7503</td>\n",
              "      <td>3</td>\n",
              "      <td>0</td>\n",
              "    </tr>\n",
              "    <tr>\n",
              "      <th>4</th>\n",
              "      <td>8021</td>\n",
              "      <td>3</td>\n",
              "      <td>0</td>\n",
              "    </tr>\n",
              "  </tbody>\n",
              "</table>\n",
              "</div>"
            ],
            "text/plain": [
              "   product_id  user_id  prediction\n",
              "0         248        3           0\n",
              "1        1005        3           0\n",
              "2        1819        3           0\n",
              "3        7503        3           0\n",
              "4        8021        3           0"
            ]
          },
          "metadata": {
            "tags": []
          },
          "execution_count": 20
        }
      ]
    },
    {
      "cell_type": "code",
      "metadata": {
        "id": "sUzKC6MMLH9r"
      },
      "source": [
        "orders=zipfile.ZipFile(path+\"orders\"+\".zip\",\"r\")\n",
        "orders = pd.read_csv(orders.open('orders.csv'))"
      ],
      "execution_count": null,
      "outputs": []
    },
    {
      "cell_type": "code",
      "metadata": {
        "colab": {
          "base_uri": "https://localhost:8080/",
          "height": 204
        },
        "id": "29dOi7hBLKZg",
        "outputId": "1ae9fbed-285b-4b20-a264-4748522322b4"
      },
      "source": [
        "orders_test = orders.loc[orders.eval_set == 'test', ['user_id', 'order_id']]\n",
        "orders_test.head()"
      ],
      "execution_count": null,
      "outputs": [
        {
          "output_type": "execute_result",
          "data": {
            "text/html": [
              "<div>\n",
              "<style scoped>\n",
              "    .dataframe tbody tr th:only-of-type {\n",
              "        vertical-align: middle;\n",
              "    }\n",
              "\n",
              "    .dataframe tbody tr th {\n",
              "        vertical-align: top;\n",
              "    }\n",
              "\n",
              "    .dataframe thead th {\n",
              "        text-align: right;\n",
              "    }\n",
              "</style>\n",
              "<table border=\"1\" class=\"dataframe\">\n",
              "  <thead>\n",
              "    <tr style=\"text-align: right;\">\n",
              "      <th></th>\n",
              "      <th>user_id</th>\n",
              "      <th>order_id</th>\n",
              "    </tr>\n",
              "  </thead>\n",
              "  <tbody>\n",
              "    <tr>\n",
              "      <th>38</th>\n",
              "      <td>3</td>\n",
              "      <td>2774568</td>\n",
              "    </tr>\n",
              "    <tr>\n",
              "      <th>44</th>\n",
              "      <td>4</td>\n",
              "      <td>329954</td>\n",
              "    </tr>\n",
              "    <tr>\n",
              "      <th>53</th>\n",
              "      <td>6</td>\n",
              "      <td>1528013</td>\n",
              "    </tr>\n",
              "    <tr>\n",
              "      <th>96</th>\n",
              "      <td>11</td>\n",
              "      <td>1376945</td>\n",
              "    </tr>\n",
              "    <tr>\n",
              "      <th>102</th>\n",
              "      <td>12</td>\n",
              "      <td>1356845</td>\n",
              "    </tr>\n",
              "  </tbody>\n",
              "</table>\n",
              "</div>"
            ],
            "text/plain": [
              "     user_id  order_id\n",
              "38         3   2774568\n",
              "44         4    329954\n",
              "53         6   1528013\n",
              "96        11   1376945\n",
              "102       12   1356845"
            ]
          },
          "metadata": {
            "tags": []
          },
          "execution_count": 22
        }
      ]
    },
    {
      "cell_type": "code",
      "metadata": {
        "colab": {
          "base_uri": "https://localhost:8080/",
          "height": 204
        },
        "id": "--jHQg2VLMrn",
        "outputId": "dc436ed9-3e83-4415-c7b3-0af1c97b985c"
      },
      "source": [
        "final = final.merge(orders_test, on='user_id', how='left')\n",
        "final.head()"
      ],
      "execution_count": null,
      "outputs": [
        {
          "output_type": "execute_result",
          "data": {
            "text/html": [
              "<div>\n",
              "<style scoped>\n",
              "    .dataframe tbody tr th:only-of-type {\n",
              "        vertical-align: middle;\n",
              "    }\n",
              "\n",
              "    .dataframe tbody tr th {\n",
              "        vertical-align: top;\n",
              "    }\n",
              "\n",
              "    .dataframe thead th {\n",
              "        text-align: right;\n",
              "    }\n",
              "</style>\n",
              "<table border=\"1\" class=\"dataframe\">\n",
              "  <thead>\n",
              "    <tr style=\"text-align: right;\">\n",
              "      <th></th>\n",
              "      <th>product_id</th>\n",
              "      <th>user_id</th>\n",
              "      <th>prediction</th>\n",
              "      <th>order_id</th>\n",
              "    </tr>\n",
              "  </thead>\n",
              "  <tbody>\n",
              "    <tr>\n",
              "      <th>0</th>\n",
              "      <td>248</td>\n",
              "      <td>3</td>\n",
              "      <td>0</td>\n",
              "      <td>2774568</td>\n",
              "    </tr>\n",
              "    <tr>\n",
              "      <th>1</th>\n",
              "      <td>1005</td>\n",
              "      <td>3</td>\n",
              "      <td>0</td>\n",
              "      <td>2774568</td>\n",
              "    </tr>\n",
              "    <tr>\n",
              "      <th>2</th>\n",
              "      <td>1819</td>\n",
              "      <td>3</td>\n",
              "      <td>0</td>\n",
              "      <td>2774568</td>\n",
              "    </tr>\n",
              "    <tr>\n",
              "      <th>3</th>\n",
              "      <td>7503</td>\n",
              "      <td>3</td>\n",
              "      <td>0</td>\n",
              "      <td>2774568</td>\n",
              "    </tr>\n",
              "    <tr>\n",
              "      <th>4</th>\n",
              "      <td>8021</td>\n",
              "      <td>3</td>\n",
              "      <td>0</td>\n",
              "      <td>2774568</td>\n",
              "    </tr>\n",
              "  </tbody>\n",
              "</table>\n",
              "</div>"
            ],
            "text/plain": [
              "   product_id  user_id  prediction  order_id\n",
              "0         248        3           0   2774568\n",
              "1        1005        3           0   2774568\n",
              "2        1819        3           0   2774568\n",
              "3        7503        3           0   2774568\n",
              "4        8021        3           0   2774568"
            ]
          },
          "metadata": {
            "tags": []
          },
          "execution_count": 23
        }
      ]
    },
    {
      "cell_type": "code",
      "metadata": {
        "id": "zryaRVIKLOOD"
      },
      "source": [
        "final = final.drop('user_id', axis=1)"
      ],
      "execution_count": null,
      "outputs": []
    },
    {
      "cell_type": "code",
      "metadata": {
        "colab": {
          "base_uri": "https://localhost:8080/",
          "height": 204
        },
        "id": "sdCQlLuCLP5L",
        "outputId": "3996743d-3549-4553-98d8-49a2bc02ce42"
      },
      "source": [
        "final['product_id'] = final.product_id.astype(int)\n",
        "\n",
        "del orders\n",
        "del orders_test\n",
        "gc.collect()\n",
        "\n",
        "final.head()"
      ],
      "execution_count": null,
      "outputs": [
        {
          "output_type": "execute_result",
          "data": {
            "text/html": [
              "<div>\n",
              "<style scoped>\n",
              "    .dataframe tbody tr th:only-of-type {\n",
              "        vertical-align: middle;\n",
              "    }\n",
              "\n",
              "    .dataframe tbody tr th {\n",
              "        vertical-align: top;\n",
              "    }\n",
              "\n",
              "    .dataframe thead th {\n",
              "        text-align: right;\n",
              "    }\n",
              "</style>\n",
              "<table border=\"1\" class=\"dataframe\">\n",
              "  <thead>\n",
              "    <tr style=\"text-align: right;\">\n",
              "      <th></th>\n",
              "      <th>product_id</th>\n",
              "      <th>prediction</th>\n",
              "      <th>order_id</th>\n",
              "    </tr>\n",
              "  </thead>\n",
              "  <tbody>\n",
              "    <tr>\n",
              "      <th>0</th>\n",
              "      <td>248</td>\n",
              "      <td>0</td>\n",
              "      <td>2774568</td>\n",
              "    </tr>\n",
              "    <tr>\n",
              "      <th>1</th>\n",
              "      <td>1005</td>\n",
              "      <td>0</td>\n",
              "      <td>2774568</td>\n",
              "    </tr>\n",
              "    <tr>\n",
              "      <th>2</th>\n",
              "      <td>1819</td>\n",
              "      <td>0</td>\n",
              "      <td>2774568</td>\n",
              "    </tr>\n",
              "    <tr>\n",
              "      <th>3</th>\n",
              "      <td>7503</td>\n",
              "      <td>0</td>\n",
              "      <td>2774568</td>\n",
              "    </tr>\n",
              "    <tr>\n",
              "      <th>4</th>\n",
              "      <td>8021</td>\n",
              "      <td>0</td>\n",
              "      <td>2774568</td>\n",
              "    </tr>\n",
              "  </tbody>\n",
              "</table>\n",
              "</div>"
            ],
            "text/plain": [
              "   product_id  prediction  order_id\n",
              "0         248           0   2774568\n",
              "1        1005           0   2774568\n",
              "2        1819           0   2774568\n",
              "3        7503           0   2774568\n",
              "4        8021           0   2774568"
            ]
          },
          "metadata": {
            "tags": []
          },
          "execution_count": 25
        }
      ]
    },
    {
      "cell_type": "code",
      "metadata": {
        "colab": {
          "base_uri": "https://localhost:8080/"
        },
        "id": "Feq38wveLRWN",
        "outputId": "dc51c505-92f8-4ecb-8e08-d06fdc0d4cf3"
      },
      "source": [
        "d = dict()\n",
        "for row in final.itertuples():\n",
        "    if row.prediction== 1:\n",
        "        try:\n",
        "            d[row.order_id] += ' ' + str(row.product_id)\n",
        "        except:\n",
        "            d[row.order_id] = str(row.product_id)\n",
        "\n",
        "for order in final.order_id:\n",
        "    if order not in d:\n",
        "        d[order] = 'None'\n",
        "        \n",
        "gc.collect()"
      ],
      "execution_count": null,
      "outputs": [
        {
          "output_type": "execute_result",
          "data": {
            "text/plain": [
              "148"
            ]
          },
          "metadata": {
            "tags": []
          },
          "execution_count": 26
        }
      ]
    },
    {
      "cell_type": "code",
      "metadata": {
        "colab": {
          "base_uri": "https://localhost:8080/",
          "height": 204
        },
        "id": "eH9cMXDiLTN1",
        "outputId": "12c68fd2-f309-411d-f460-b2572850dac8"
      },
      "source": [
        "sub = pd.DataFrame.from_dict(d, orient='index')\n",
        "\n",
        "#Reset index\n",
        "sub.reset_index(inplace=True)\n",
        "#Set column names\n",
        "sub.columns = ['order_id', 'products']\n",
        "\n",
        "sub.head()"
      ],
      "execution_count": null,
      "outputs": [
        {
          "output_type": "execute_result",
          "data": {
            "text/html": [
              "<div>\n",
              "<style scoped>\n",
              "    .dataframe tbody tr th:only-of-type {\n",
              "        vertical-align: middle;\n",
              "    }\n",
              "\n",
              "    .dataframe tbody tr th {\n",
              "        vertical-align: top;\n",
              "    }\n",
              "\n",
              "    .dataframe thead th {\n",
              "        text-align: right;\n",
              "    }\n",
              "</style>\n",
              "<table border=\"1\" class=\"dataframe\">\n",
              "  <thead>\n",
              "    <tr style=\"text-align: right;\">\n",
              "      <th></th>\n",
              "      <th>order_id</th>\n",
              "      <th>products</th>\n",
              "    </tr>\n",
              "  </thead>\n",
              "  <tbody>\n",
              "    <tr>\n",
              "      <th>0</th>\n",
              "      <td>2774568</td>\n",
              "      <td>17668 18599 21903 22035 39190 43961 47766</td>\n",
              "    </tr>\n",
              "    <tr>\n",
              "      <th>1</th>\n",
              "      <td>1528013</td>\n",
              "      <td>21903 38293</td>\n",
              "    </tr>\n",
              "    <tr>\n",
              "      <th>2</th>\n",
              "      <td>1376945</td>\n",
              "      <td>8309 13176 14947 27959 28465 33572 34658 35948...</td>\n",
              "    </tr>\n",
              "    <tr>\n",
              "      <th>3</th>\n",
              "      <td>1356845</td>\n",
              "      <td>7076 10863 11520 13176 14992</td>\n",
              "    </tr>\n",
              "    <tr>\n",
              "      <th>4</th>\n",
              "      <td>2161313</td>\n",
              "      <td>196 10441 11266 12427 14715 27839 37710</td>\n",
              "    </tr>\n",
              "  </tbody>\n",
              "</table>\n",
              "</div>"
            ],
            "text/plain": [
              "   order_id                                           products\n",
              "0   2774568          17668 18599 21903 22035 39190 43961 47766\n",
              "1   1528013                                        21903 38293\n",
              "2   1376945  8309 13176 14947 27959 28465 33572 34658 35948...\n",
              "3   1356845                       7076 10863 11520 13176 14992\n",
              "4   2161313            196 10441 11266 12427 14715 27839 37710"
            ]
          },
          "metadata": {
            "tags": []
          },
          "execution_count": 27
        }
      ]
    },
    {
      "cell_type": "code",
      "metadata": {
        "id": "XrCuRlh_LVAn"
      },
      "source": [
        "sub.to_csv('sub.csv', index=False, header=True)"
      ],
      "execution_count": null,
      "outputs": []
    },
    {
      "cell_type": "code",
      "metadata": {
        "id": "F0WTXtHqvQRV"
      },
      "source": [
        ""
      ],
      "execution_count": null,
      "outputs": []
    }
  ]
}