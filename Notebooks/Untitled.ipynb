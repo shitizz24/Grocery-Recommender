{
 "cells": [
  {
   "cell_type": "code",
   "execution_count": 1,
   "id": "seven-finland",
   "metadata": {},
   "outputs": [],
   "source": [
    "import pandas as pd\n",
    "import numpy as np\n",
    "import matplotlib.pyplot as plt\n",
    "from matplotlib.lines import Line2D\n",
    "import seaborn as sns; sns.set()"
   ]
  },
  {
   "cell_type": "code",
   "execution_count": 2,
   "id": "indie-confidence",
   "metadata": {},
   "outputs": [],
   "source": [
    "aisles = pd.read_csv(\"../Data/aisles.csv\")\n",
    "departments = pd.read_csv(\"../Data/departments.csv\")\n",
    "orders = pd.read_csv(\"../Data/orders.csv\")\n",
    "prior = pd.read_csv(\"../Data/order_products__prior.csv\")\n",
    "train = pd.read_csv(\"../Data/order_products__train.csv\")\n",
    "products = pd.read_csv(\"../Data/products.csv\")\n"
   ]
  },
  {
   "cell_type": "code",
   "execution_count": null,
   "id": "agricultural-archives",
   "metadata": {},
   "outputs": [],
   "source": []
  }
 ],
 "metadata": {
  "kernelspec": {
   "display_name": "Python 3",
   "language": "python",
   "name": "python3"
  },
  "language_info": {
   "codemirror_mode": {
    "name": "ipython",
    "version": 3
   },
   "file_extension": ".py",
   "mimetype": "text/x-python",
   "name": "python",
   "nbconvert_exporter": "python",
   "pygments_lexer": "ipython3",
   "version": "3.8.5"
  }
 },
 "nbformat": 4,
 "nbformat_minor": 5
}
